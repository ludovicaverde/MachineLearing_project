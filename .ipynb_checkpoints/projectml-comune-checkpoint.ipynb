{
 "cells": [
  {
   "cell_type": "code",
   "execution_count": 123,
   "metadata": {
    "execution": {
     "iopub.execute_input": "2022-12-12T16:19:12.854361Z",
     "iopub.status.busy": "2022-12-12T16:19:12.854033Z",
     "iopub.status.idle": "2022-12-12T16:19:12.858488Z",
     "shell.execute_reply": "2022-12-12T16:19:12.857883Z",
     "shell.execute_reply.started": "2022-12-12T16:19:12.854334Z"
    }
   },
   "outputs": [],
   "source": [
    "import pandas as pd\n",
    "import numpy as np\n",
    "import matplotlib.pyplot as plt\n",
    "\n",
    "from sklearn.neighbors import LocalOutlierFactor\n",
    "from sklearn.ensemble import IsolationForest"
   ]
  },
  {
   "cell_type": "code",
   "execution_count": 124,
   "metadata": {
    "execution": {
     "iopub.execute_input": "2022-12-12T16:19:12.872589Z",
     "iopub.status.busy": "2022-12-12T16:19:12.871864Z",
     "iopub.status.idle": "2022-12-12T16:19:12.885989Z",
     "shell.execute_reply": "2022-12-12T16:19:12.884870Z",
     "shell.execute_reply.started": "2022-12-12T16:19:12.872563Z"
    }
   },
   "outputs": [
    {
     "name": "stdout",
     "output_type": "stream",
     "text": [
      "/kaggle/input/d/ludovicaverde/tyres-train/tyres_train.csv\n"
     ]
    }
   ],
   "source": [
    "# This Python 3 environment comes with many helpful analytics libraries installed\n",
    "# It is defined by the kaggle/python Docker image: https://github.com/kaggle/docker-python\n",
    "# For example, here's several helpful packages to load\n",
    "\n",
    "import numpy as np # linear algebra\n",
    "import pandas as pd # data processing, CSV file I/O (e.g. pd.read_csv)\n",
    "\n",
    "# Input data files are available in the read-only \"../input/\" directory\n",
    "# For example, running this (by clicking run or pressing Shift+Enter) will list all files under the input directory\n",
    "\n",
    "import os\n",
    "for dirname, _, filenames in os.walk('/kaggle/input/'):\n",
    "    for filename in filenames:\n",
    "        print(os.path.join(dirname, filename))\n",
    "\n",
    "# You can write up to 20GB to the current directory (/kaggle/working/) that gets preserved as output when you create a version using \"Save & Run All\" \n",
    "# You can also write temporary files to /kaggle/temp/, but they won't be saved outside of the current session"
   ]
  },
  {
   "cell_type": "markdown",
   "metadata": {},
   "source": [
    "# UPLOAD DATASET"
   ]
  },
  {
   "cell_type": "code",
   "execution_count": 125,
   "metadata": {
    "execution": {
     "iopub.execute_input": "2022-12-12T16:19:12.887801Z",
     "iopub.status.busy": "2022-12-12T16:19:12.887220Z",
     "iopub.status.idle": "2022-12-12T16:19:12.896128Z",
     "shell.execute_reply": "2022-12-12T16:19:12.895251Z",
     "shell.execute_reply.started": "2022-12-12T16:19:12.887777Z"
    }
   },
   "outputs": [],
   "source": [
    "\n",
    "data = pd.read_csv(\"/kaggle/input/d/ludovicaverde/tyres-train/tyres_train.csv\", sep = \",\")\n",
    "\n",
    "data.head(30)"
   ]
  },
  {
   "cell_type": "markdown",
   "metadata": {},
   "source": [
    "# DATA OBSERVATION E PREPARATION"
   ]
  },
  {
   "cell_type": "code",
   "execution_count": 126,
   "metadata": {
    "execution": {
     "iopub.execute_input": "2022-12-12T16:19:12.900238Z",
     "iopub.status.busy": "2022-12-12T16:19:12.899702Z",
     "iopub.status.idle": "2022-12-12T16:19:12.909289Z",
     "shell.execute_reply": "2022-12-12T16:19:12.908406Z",
     "shell.execute_reply.started": "2022-12-12T16:19:12.900208Z"
    }
   },
   "outputs": [
    {
     "data": {
      "text/plain": [
       "vulc               float64\n",
       "perc_nat_rubber      int64\n",
       "wiring_strength      int64\n",
       "weather            float64\n",
       "perc_imp           float64\n",
       "temperature        float64\n",
       "tread_type           int64\n",
       "tyre_season          int64\n",
       "elevation          float64\n",
       "month                int64\n",
       "tread_depth          int64\n",
       "tyre_quality         int64\n",
       "perc_exp_comp      float64\n",
       "diameter           float64\n",
       "add_layers           int64\n",
       "failure              int64\n",
       "dtype: object"
      ]
     },
     "execution_count": 126,
     "metadata": {},
     "output_type": "execute_result"
    }
   ],
   "source": [
    "data.dtypes"
   ]
  },
  {
   "cell_type": "code",
   "execution_count": 127,
   "metadata": {
    "execution": {
     "iopub.execute_input": "2022-12-12T16:19:12.919069Z",
     "iopub.status.busy": "2022-12-12T16:19:12.918285Z",
     "iopub.status.idle": "2022-12-12T16:19:12.926018Z",
     "shell.execute_reply": "2022-12-12T16:19:12.925002Z",
     "shell.execute_reply.started": "2022-12-12T16:19:12.919039Z"
    }
   },
   "outputs": [
    {
     "data": {
      "text/plain": [
       "vulc                  0\n",
       "perc_nat_rubber       0\n",
       "wiring_strength       0\n",
       "weather               0\n",
       "perc_imp              0\n",
       "temperature           0\n",
       "tread_type            0\n",
       "tyre_season           0\n",
       "elevation             0\n",
       "month                 0\n",
       "tread_depth           0\n",
       "tyre_quality          0\n",
       "perc_exp_comp         0\n",
       "diameter           2110\n",
       "add_layers            0\n",
       "failure               0\n",
       "dtype: int64"
      ]
     },
     "execution_count": 127,
     "metadata": {},
     "output_type": "execute_result"
    }
   ],
   "source": [
    "data.isnull().sum()\n",
    "# the variable \"diameter\" is almost void --> impossible to proceed with substitution"
   ]
  },
  {
   "cell_type": "code",
   "execution_count": 128,
   "metadata": {
    "execution": {
     "iopub.execute_input": "2022-12-12T16:19:13.193931Z",
     "iopub.status.busy": "2022-12-12T16:19:13.193630Z",
     "iopub.status.idle": "2022-12-12T16:19:13.211337Z",
     "shell.execute_reply": "2022-12-12T16:19:13.210277Z",
     "shell.execute_reply.started": "2022-12-12T16:19:13.193907Z"
    }
   },
   "outputs": [
    {
     "data": {
      "text/html": [
       "<div>\n",
       "<style scoped>\n",
       "    .dataframe tbody tr th:only-of-type {\n",
       "        vertical-align: middle;\n",
       "    }\n",
       "\n",
       "    .dataframe tbody tr th {\n",
       "        vertical-align: top;\n",
       "    }\n",
       "\n",
       "    .dataframe thead th {\n",
       "        text-align: right;\n",
       "    }\n",
       "</style>\n",
       "<table border=\"1\" class=\"dataframe\">\n",
       "  <thead>\n",
       "    <tr style=\"text-align: right;\">\n",
       "      <th></th>\n",
       "      <th>vulc</th>\n",
       "      <th>perc_nat_rubber</th>\n",
       "      <th>wiring_strength</th>\n",
       "      <th>weather</th>\n",
       "      <th>perc_imp</th>\n",
       "      <th>temperature</th>\n",
       "      <th>tread_type</th>\n",
       "      <th>tyre_season</th>\n",
       "      <th>elevation</th>\n",
       "      <th>month</th>\n",
       "      <th>tread_depth</th>\n",
       "      <th>tyre_quality</th>\n",
       "      <th>perc_exp_comp</th>\n",
       "      <th>add_layers</th>\n",
       "      <th>failure</th>\n",
       "    </tr>\n",
       "  </thead>\n",
       "  <tbody>\n",
       "    <tr>\n",
       "      <th>0</th>\n",
       "      <td>17.990</td>\n",
       "      <td>26</td>\n",
       "      <td>1</td>\n",
       "      <td>0.16</td>\n",
       "      <td>0.01</td>\n",
       "      <td>-8.12</td>\n",
       "      <td>0</td>\n",
       "      <td>1</td>\n",
       "      <td>332.5</td>\n",
       "      <td>8</td>\n",
       "      <td>0</td>\n",
       "      <td>1</td>\n",
       "      <td>5.13</td>\n",
       "      <td>1</td>\n",
       "      <td>0</td>\n",
       "    </tr>\n",
       "    <tr>\n",
       "      <th>1</th>\n",
       "      <td>20.704</td>\n",
       "      <td>36</td>\n",
       "      <td>1</td>\n",
       "      <td>0.30</td>\n",
       "      <td>0.01</td>\n",
       "      <td>-4.52</td>\n",
       "      <td>2</td>\n",
       "      <td>0</td>\n",
       "      <td>328.0</td>\n",
       "      <td>11</td>\n",
       "      <td>1</td>\n",
       "      <td>0</td>\n",
       "      <td>6.15</td>\n",
       "      <td>1</td>\n",
       "      <td>0</td>\n",
       "    </tr>\n",
       "    <tr>\n",
       "      <th>2</th>\n",
       "      <td>19.156</td>\n",
       "      <td>34</td>\n",
       "      <td>1</td>\n",
       "      <td>0.30</td>\n",
       "      <td>0.01</td>\n",
       "      <td>-1.08</td>\n",
       "      <td>0</td>\n",
       "      <td>0</td>\n",
       "      <td>247.0</td>\n",
       "      <td>0</td>\n",
       "      <td>1</td>\n",
       "      <td>0</td>\n",
       "      <td>6.36</td>\n",
       "      <td>1</td>\n",
       "      <td>0</td>\n",
       "    </tr>\n",
       "    <tr>\n",
       "      <th>3</th>\n",
       "      <td>16.802</td>\n",
       "      <td>35</td>\n",
       "      <td>1</td>\n",
       "      <td>0.19</td>\n",
       "      <td>0.02</td>\n",
       "      <td>7.44</td>\n",
       "      <td>1</td>\n",
       "      <td>0</td>\n",
       "      <td>408.0</td>\n",
       "      <td>7</td>\n",
       "      <td>3</td>\n",
       "      <td>1</td>\n",
       "      <td>6.62</td>\n",
       "      <td>1</td>\n",
       "      <td>0</td>\n",
       "    </tr>\n",
       "    <tr>\n",
       "      <th>4</th>\n",
       "      <td>17.140</td>\n",
       "      <td>23</td>\n",
       "      <td>2</td>\n",
       "      <td>0.39</td>\n",
       "      <td>0.01</td>\n",
       "      <td>30.52</td>\n",
       "      <td>0</td>\n",
       "      <td>1</td>\n",
       "      <td>308.0</td>\n",
       "      <td>2</td>\n",
       "      <td>2</td>\n",
       "      <td>0</td>\n",
       "      <td>6.15</td>\n",
       "      <td>1</td>\n",
       "      <td>0</td>\n",
       "    </tr>\n",
       "  </tbody>\n",
       "</table>\n",
       "</div>"
      ],
      "text/plain": [
       "     vulc  perc_nat_rubber  wiring_strength  weather  perc_imp  temperature  \\\n",
       "0  17.990               26                1     0.16      0.01        -8.12   \n",
       "1  20.704               36                1     0.30      0.01        -4.52   \n",
       "2  19.156               34                1     0.30      0.01        -1.08   \n",
       "3  16.802               35                1     0.19      0.02         7.44   \n",
       "4  17.140               23                2     0.39      0.01        30.52   \n",
       "\n",
       "   tread_type  tyre_season  elevation  month  tread_depth  tyre_quality  \\\n",
       "0           0            1      332.5      8            0             1   \n",
       "1           2            0      328.0     11            1             0   \n",
       "2           0            0      247.0      0            1             0   \n",
       "3           1            0      408.0      7            3             1   \n",
       "4           0            1      308.0      2            2             0   \n",
       "\n",
       "   perc_exp_comp  add_layers  failure  \n",
       "0           5.13           1        0  \n",
       "1           6.15           1        0  \n",
       "2           6.36           1        0  \n",
       "3           6.62           1        0  \n",
       "4           6.15           1        0  "
      ]
     },
     "execution_count": 128,
     "metadata": {},
     "output_type": "execute_result"
    }
   ],
   "source": [
    "#dropping all column \"diameter\"\n",
    "d=\"diameter\"\n",
    "data_dropped = data.drop(columns=d)\n",
    "\n",
    "data_dropped.head()"
   ]
  },
  {
   "cell_type": "code",
   "execution_count": 129,
   "metadata": {
    "execution": {
     "iopub.execute_input": "2022-12-12T16:19:13.213253Z",
     "iopub.status.busy": "2022-12-12T16:19:13.212592Z",
     "iopub.status.idle": "2022-12-12T16:19:13.223557Z",
     "shell.execute_reply": "2022-12-12T16:19:13.222473Z",
     "shell.execute_reply.started": "2022-12-12T16:19:13.213228Z"
    }
   },
   "outputs": [
    {
     "data": {
      "text/plain": [
       "vulc               0\n",
       "perc_nat_rubber    0\n",
       "wiring_strength    0\n",
       "weather            0\n",
       "perc_imp           0\n",
       "temperature        0\n",
       "tread_type         0\n",
       "tyre_season        0\n",
       "elevation          0\n",
       "month              0\n",
       "tread_depth        0\n",
       "tyre_quality       0\n",
       "perc_exp_comp      0\n",
       "add_layers         0\n",
       "failure            0\n",
       "dtype: int64"
      ]
     },
     "execution_count": 129,
     "metadata": {},
     "output_type": "execute_result"
    }
   ],
   "source": [
    "data_dropped.isnull().sum()\n",
    "# no more NaN observations"
   ]
  },
  {
   "cell_type": "code",
   "execution_count": 210,
   "metadata": {
    "execution": {
     "iopub.execute_input": "2022-12-12T16:45:21.267209Z",
     "iopub.status.busy": "2022-12-12T16:45:21.266837Z",
     "iopub.status.idle": "2022-12-12T16:45:21.401070Z",
     "shell.execute_reply": "2022-12-12T16:45:21.400295Z",
     "shell.execute_reply.started": "2022-12-12T16:45:21.267178Z"
    }
   },
   "outputs": [
    {
     "name": "stdout",
     "output_type": "stream",
     "text": [
      "failure\n",
      "0    1992\n",
      "1    1008\n",
      "dtype: int64\n"
     ]
    },
    {
     "data": {
      "image/png": "[encoded data removed]",
      "text/plain": [
       "<Figure size 432x288 with 1 Axes>"
      ]
     },
     "metadata": {},
     "output_type": "display_data"
    }
   ],
   "source": [
    "#Print class freq. through pandas \n",
    "print(data_dropped.groupby('failure').size())\n",
    "\n",
    "#some imports to plot \n",
    "import matplotlib.pyplot as plt\n",
    "import seaborn as sns\n",
    "%matplotlib inline\n",
    "plt.style.use('ggplot')\n",
    "\n",
    "#Visualize Class Counts\n",
    "sns.countplot(y=data_dropped.failure ,data=data_dropped)\n",
    "plt.xlabel(\"count of each class\")\n",
    "plt.ylabel(\"classes\")\n",
    "plt.show()"
   ]
  },
  {
   "cell_type": "code",
   "execution_count": 130,
   "metadata": {
    "execution": {
     "iopub.execute_input": "2022-12-12T16:19:13.491495Z",
     "iopub.status.busy": "2022-12-12T16:19:13.491163Z",
     "iopub.status.idle": "2022-12-12T16:19:13.502760Z",
     "shell.execute_reply": "2022-12-12T16:19:13.501880Z",
     "shell.execute_reply.started": "2022-12-12T16:19:13.491465Z"
    }
   },
   "outputs": [
    {
     "data": {
      "text/html": [
       "<div>\n",
       "<style scoped>\n",
       "    .dataframe tbody tr th:only-of-type {\n",
       "        vertical-align: middle;\n",
       "    }\n",
       "\n",
       "    .dataframe tbody tr th {\n",
       "        vertical-align: top;\n",
       "    }\n",
       "\n",
       "    .dataframe thead th {\n",
       "        text-align: right;\n",
       "    }\n",
       "</style>\n",
       "<table border=\"1\" class=\"dataframe\">\n",
       "  <thead>\n",
       "    <tr style=\"text-align: right;\">\n",
       "      <th></th>\n",
       "      <th>tread_type</th>\n",
       "      <th>tyre_season</th>\n",
       "      <th>month</th>\n",
       "      <th>tread_depth</th>\n",
       "      <th>wiring_strength</th>\n",
       "      <th>tyre_quality</th>\n",
       "      <th>add_layers</th>\n",
       "    </tr>\n",
       "  </thead>\n",
       "  <tbody>\n",
       "    <tr>\n",
       "      <th>0</th>\n",
       "      <td>0</td>\n",
       "      <td>1</td>\n",
       "      <td>8</td>\n",
       "      <td>0</td>\n",
       "      <td>1</td>\n",
       "      <td>1</td>\n",
       "      <td>1</td>\n",
       "    </tr>\n",
       "    <tr>\n",
       "      <th>1</th>\n",
       "      <td>2</td>\n",
       "      <td>0</td>\n",
       "      <td>11</td>\n",
       "      <td>1</td>\n",
       "      <td>1</td>\n",
       "      <td>0</td>\n",
       "      <td>1</td>\n",
       "    </tr>\n",
       "    <tr>\n",
       "      <th>2</th>\n",
       "      <td>0</td>\n",
       "      <td>0</td>\n",
       "      <td>0</td>\n",
       "      <td>1</td>\n",
       "      <td>1</td>\n",
       "      <td>0</td>\n",
       "      <td>1</td>\n",
       "    </tr>\n",
       "    <tr>\n",
       "      <th>3</th>\n",
       "      <td>1</td>\n",
       "      <td>0</td>\n",
       "      <td>7</td>\n",
       "      <td>3</td>\n",
       "      <td>1</td>\n",
       "      <td>1</td>\n",
       "      <td>1</td>\n",
       "    </tr>\n",
       "    <tr>\n",
       "      <th>4</th>\n",
       "      <td>0</td>\n",
       "      <td>1</td>\n",
       "      <td>2</td>\n",
       "      <td>2</td>\n",
       "      <td>2</td>\n",
       "      <td>0</td>\n",
       "      <td>1</td>\n",
       "    </tr>\n",
       "  </tbody>\n",
       "</table>\n",
       "</div>"
      ],
      "text/plain": [
       "   tread_type  tyre_season  month  tread_depth  wiring_strength  tyre_quality  \\\n",
       "0           0            1      8            0                1             1   \n",
       "1           2            0     11            1                1             0   \n",
       "2           0            0      0            1                1             0   \n",
       "3           1            0      7            3                1             1   \n",
       "4           0            1      2            2                2             0   \n",
       "\n",
       "   add_layers  \n",
       "0           1  \n",
       "1           1  \n",
       "2           1  \n",
       "3           1  \n",
       "4           1  "
      ]
     },
     "execution_count": 130,
     "metadata": {},
     "output_type": "execute_result"
    }
   ],
   "source": [
    "selection_categorical=['tread_type', 'tyre_season', 'month', 'tread_depth', 'wiring_strength', 'tyre_quality',\n",
    "       'add_layers']\n",
    "data_categorical=data_dropped[selection_categorical]\n",
    "data_categorical.head()"
   ]
  },
  {
   "cell_type": "code",
   "execution_count": 131,
   "metadata": {
    "execution": {
     "iopub.execute_input": "2022-12-12T16:19:13.516397Z",
     "iopub.status.busy": "2022-12-12T16:19:13.516157Z",
     "iopub.status.idle": "2022-12-12T16:19:14.787103Z",
     "shell.execute_reply": "2022-12-12T16:19:14.785981Z",
     "shell.execute_reply.started": "2022-12-12T16:19:13.516366Z"
    }
   },
   "outputs": [
    {
     "data": {
      "image/png": "[encoded data removed]",
      "text/plain": [
       "<Figure size 1080x504 with 8 Axes>"
      ]
     },
     "metadata": {
      "needs_background": "light"
     },
     "output_type": "display_data"
    }
   ],
   "source": [
    "from matplotlib.patches import Rectangle\n",
    "\n",
    "data_0 = data_categorical[data_dropped['failure']==0] # records wih target==0\n",
    "data_1 = data_categorical[data_dropped['failure']==1] # records wih target==1\n",
    "\n",
    "cmap = plt.get_cmap('jet')\n",
    "col=[cmap(0.8),cmap(0.25)]\n",
    "fig, axes = plt.subplots(2, 4,figsize=[15,7])\n",
    "axes = axes.flatten()\n",
    "fig.tight_layout(h_pad=10)\n",
    "\n",
    "i=0\n",
    "for x in data_categorical.columns:\n",
    "    plt.sca(axes[i]) # set the current Axes\n",
    "    plt.hist([data_0[x],data_1[x]],density=True,color=col)\n",
    "    plt.xticks(rotation = 90) # Rotates X-Axis Ticks by 45-degrees\n",
    "    plt.title(x)\n",
    "    handles = [Rectangle((0,0),1,1,color=c)for c in col]\n",
    "    labels= [\"0\",\"1\"]\n",
    "    plt.legend(handles, labels)\n",
    "    i+=1\n",
    "plt.show()"
   ]
  },
  {
   "cell_type": "markdown",
   "metadata": {},
   "source": [
    "# Create dummies with the OneHotEncoder method"
   ]
  },
  {
   "cell_type": "code",
   "execution_count": 133,
   "metadata": {
    "execution": {
     "iopub.execute_input": "2022-12-12T16:19:14.794928Z",
     "iopub.status.busy": "2022-12-12T16:19:14.794562Z",
     "iopub.status.idle": "2022-12-12T16:19:14.870464Z",
     "shell.execute_reply": "2022-12-12T16:19:14.869463Z",
     "shell.execute_reply.started": "2022-12-12T16:19:14.794898Z"
    }
   },
   "outputs": [
    {
     "data": {
      "text/html": [
       "<div>\n",
       "<style scoped>\n",
       "    .dataframe tbody tr th:only-of-type {\n",
       "        vertical-align: middle;\n",
       "    }\n",
       "\n",
       "    .dataframe tbody tr th {\n",
       "        vertical-align: top;\n",
       "    }\n",
       "\n",
       "    .dataframe thead th {\n",
       "        text-align: right;\n",
       "    }\n",
       "</style>\n",
       "<table border=\"1\" class=\"dataframe\">\n",
       "  <thead>\n",
       "    <tr style=\"text-align: right;\">\n",
       "      <th></th>\n",
       "      <th>tread_type_0</th>\n",
       "      <th>tread_type_1</th>\n",
       "      <th>tread_type_2</th>\n",
       "      <th>tread_type_3</th>\n",
       "      <th>tread_type_4</th>\n",
       "      <th>tyre_season_0</th>\n",
       "      <th>tyre_season_1</th>\n",
       "      <th>month_0</th>\n",
       "      <th>month_1</th>\n",
       "      <th>month_10</th>\n",
       "      <th>...</th>\n",
       "      <th>tread_depth_2</th>\n",
       "      <th>tread_depth_3</th>\n",
       "      <th>wiring_strength_0</th>\n",
       "      <th>wiring_strength_1</th>\n",
       "      <th>wiring_strength_2</th>\n",
       "      <th>tyre_quality_0</th>\n",
       "      <th>tyre_quality_1</th>\n",
       "      <th>add_layers_0</th>\n",
       "      <th>add_layers_1</th>\n",
       "      <th>add_layers_2</th>\n",
       "    </tr>\n",
       "  </thead>\n",
       "  <tbody>\n",
       "    <tr>\n",
       "      <th>0</th>\n",
       "      <td>1.0</td>\n",
       "      <td>0.0</td>\n",
       "      <td>0.0</td>\n",
       "      <td>0.0</td>\n",
       "      <td>0.0</td>\n",
       "      <td>0.0</td>\n",
       "      <td>1.0</td>\n",
       "      <td>0.0</td>\n",
       "      <td>0.0</td>\n",
       "      <td>0.0</td>\n",
       "      <td>...</td>\n",
       "      <td>0.0</td>\n",
       "      <td>0.0</td>\n",
       "      <td>0.0</td>\n",
       "      <td>1.0</td>\n",
       "      <td>0.0</td>\n",
       "      <td>0.0</td>\n",
       "      <td>1.0</td>\n",
       "      <td>0.0</td>\n",
       "      <td>1.0</td>\n",
       "      <td>0.0</td>\n",
       "    </tr>\n",
       "    <tr>\n",
       "      <th>1</th>\n",
       "      <td>0.0</td>\n",
       "      <td>0.0</td>\n",
       "      <td>1.0</td>\n",
       "      <td>0.0</td>\n",
       "      <td>0.0</td>\n",
       "      <td>1.0</td>\n",
       "      <td>0.0</td>\n",
       "      <td>0.0</td>\n",
       "      <td>0.0</td>\n",
       "      <td>0.0</td>\n",
       "      <td>...</td>\n",
       "      <td>0.0</td>\n",
       "      <td>0.0</td>\n",
       "      <td>0.0</td>\n",
       "      <td>1.0</td>\n",
       "      <td>0.0</td>\n",
       "      <td>1.0</td>\n",
       "      <td>0.0</td>\n",
       "      <td>0.0</td>\n",
       "      <td>1.0</td>\n",
       "      <td>0.0</td>\n",
       "    </tr>\n",
       "    <tr>\n",
       "      <th>2</th>\n",
       "      <td>1.0</td>\n",
       "      <td>0.0</td>\n",
       "      <td>0.0</td>\n",
       "      <td>0.0</td>\n",
       "      <td>0.0</td>\n",
       "      <td>1.0</td>\n",
       "      <td>0.0</td>\n",
       "      <td>1.0</td>\n",
       "      <td>0.0</td>\n",
       "      <td>0.0</td>\n",
       "      <td>...</td>\n",
       "      <td>0.0</td>\n",
       "      <td>0.0</td>\n",
       "      <td>0.0</td>\n",
       "      <td>1.0</td>\n",
       "      <td>0.0</td>\n",
       "      <td>1.0</td>\n",
       "      <td>0.0</td>\n",
       "      <td>0.0</td>\n",
       "      <td>1.0</td>\n",
       "      <td>0.0</td>\n",
       "    </tr>\n",
       "    <tr>\n",
       "      <th>3</th>\n",
       "      <td>0.0</td>\n",
       "      <td>1.0</td>\n",
       "      <td>0.0</td>\n",
       "      <td>0.0</td>\n",
       "      <td>0.0</td>\n",
       "      <td>1.0</td>\n",
       "      <td>0.0</td>\n",
       "      <td>0.0</td>\n",
       "      <td>0.0</td>\n",
       "      <td>0.0</td>\n",
       "      <td>...</td>\n",
       "      <td>0.0</td>\n",
       "      <td>1.0</td>\n",
       "      <td>0.0</td>\n",
       "      <td>1.0</td>\n",
       "      <td>0.0</td>\n",
       "      <td>0.0</td>\n",
       "      <td>1.0</td>\n",
       "      <td>0.0</td>\n",
       "      <td>1.0</td>\n",
       "      <td>0.0</td>\n",
       "    </tr>\n",
       "    <tr>\n",
       "      <th>4</th>\n",
       "      <td>1.0</td>\n",
       "      <td>0.0</td>\n",
       "      <td>0.0</td>\n",
       "      <td>0.0</td>\n",
       "      <td>0.0</td>\n",
       "      <td>0.0</td>\n",
       "      <td>1.0</td>\n",
       "      <td>0.0</td>\n",
       "      <td>0.0</td>\n",
       "      <td>0.0</td>\n",
       "      <td>...</td>\n",
       "      <td>1.0</td>\n",
       "      <td>0.0</td>\n",
       "      <td>0.0</td>\n",
       "      <td>0.0</td>\n",
       "      <td>1.0</td>\n",
       "      <td>1.0</td>\n",
       "      <td>0.0</td>\n",
       "      <td>0.0</td>\n",
       "      <td>1.0</td>\n",
       "      <td>0.0</td>\n",
       "    </tr>\n",
       "  </tbody>\n",
       "</table>\n",
       "<p>5 rows × 31 columns</p>\n",
       "</div>"
      ],
      "text/plain": [
       "   tread_type_0  tread_type_1  tread_type_2  tread_type_3  tread_type_4  \\\n",
       "0           1.0           0.0           0.0           0.0           0.0   \n",
       "1           0.0           0.0           1.0           0.0           0.0   \n",
       "2           1.0           0.0           0.0           0.0           0.0   \n",
       "3           0.0           1.0           0.0           0.0           0.0   \n",
       "4           1.0           0.0           0.0           0.0           0.0   \n",
       "\n",
       "   tyre_season_0  tyre_season_1  month_0  month_1  month_10  ...  \\\n",
       "0            0.0            1.0      0.0      0.0       0.0  ...   \n",
       "1            1.0            0.0      0.0      0.0       0.0  ...   \n",
       "2            1.0            0.0      1.0      0.0       0.0  ...   \n",
       "3            1.0            0.0      0.0      0.0       0.0  ...   \n",
       "4            0.0            1.0      0.0      0.0       0.0  ...   \n",
       "\n",
       "   tread_depth_2  tread_depth_3  wiring_strength_0  wiring_strength_1  \\\n",
       "0            0.0            0.0                0.0                1.0   \n",
       "1            0.0            0.0                0.0                1.0   \n",
       "2            0.0            0.0                0.0                1.0   \n",
       "3            0.0            1.0                0.0                1.0   \n",
       "4            1.0            0.0                0.0                0.0   \n",
       "\n",
       "   wiring_strength_2  tyre_quality_0  tyre_quality_1  add_layers_0  \\\n",
       "0                0.0             0.0             1.0           0.0   \n",
       "1                0.0             1.0             0.0           0.0   \n",
       "2                0.0             1.0             0.0           0.0   \n",
       "3                0.0             0.0             1.0           0.0   \n",
       "4                1.0             1.0             0.0           0.0   \n",
       "\n",
       "   add_layers_1  add_layers_2  \n",
       "0           1.0           0.0  \n",
       "1           1.0           0.0  \n",
       "2           1.0           0.0  \n",
       "3           1.0           0.0  \n",
       "4           1.0           0.0  \n",
       "\n",
       "[5 rows x 31 columns]"
      ]
     },
     "execution_count": 133,
     "metadata": {},
     "output_type": "execute_result"
    }
   ],
   "source": [
    "from sklearn.preprocessing import OneHotEncoder\n",
    "encod = OneHotEncoder(handle_unknown='ignore')\n",
    "\n",
    "data_dummies=pd.DataFrame()\n",
    "for i in range(len(selection_categorical)):\n",
    "    encod.fit(data_dropped[[selection_categorical[i]]].astype(str))\n",
    "    dummies = encod.transform(data_dropped[[selection_categorical[i]]].astype(str)).toarray()\n",
    "    for k in range(len(encod.categories_[0])):\n",
    "        encod.categories_[0][k]=selection_categorical[i]+\"_\"+str(encod.categories_[0][k])\n",
    "    data_dummies=pd.concat([data_dummies,pd.DataFrame(dummies,columns=encod.categories_[0])],axis=1)\n",
    "    \n",
    "data_dummies.head()"
   ]
  },
  {
   "cell_type": "code",
   "execution_count": 134,
   "metadata": {
    "execution": {
     "iopub.execute_input": "2022-12-12T16:19:14.873254Z",
     "iopub.status.busy": "2022-12-12T16:19:14.872564Z",
     "iopub.status.idle": "2022-12-12T16:19:14.880180Z",
     "shell.execute_reply": "2022-12-12T16:19:14.879168Z",
     "shell.execute_reply.started": "2022-12-12T16:19:14.873223Z"
    }
   },
   "outputs": [
    {
     "data": {
      "text/plain": [
       "tread_type_0         float64\n",
       "tread_type_1         float64\n",
       "tread_type_2         float64\n",
       "tread_type_3         float64\n",
       "tread_type_4         float64\n",
       "tyre_season_0        float64\n",
       "tyre_season_1        float64\n",
       "month_0              float64\n",
       "month_1              float64\n",
       "month_10             float64\n",
       "month_11             float64\n",
       "month_2              float64\n",
       "month_3              float64\n",
       "month_4              float64\n",
       "month_5              float64\n",
       "month_6              float64\n",
       "month_7              float64\n",
       "month_8              float64\n",
       "month_9              float64\n",
       "tread_depth_0        float64\n",
       "tread_depth_1        float64\n",
       "tread_depth_2        float64\n",
       "tread_depth_3        float64\n",
       "wiring_strength_0    float64\n",
       "wiring_strength_1    float64\n",
       "wiring_strength_2    float64\n",
       "tyre_quality_0       float64\n",
       "tyre_quality_1       float64\n",
       "add_layers_0         float64\n",
       "add_layers_1         float64\n",
       "add_layers_2         float64\n",
       "dtype: object"
      ]
     },
     "execution_count": 134,
     "metadata": {},
     "output_type": "execute_result"
    }
   ],
   "source": [
    "data_dummies.dtypes"
   ]
  },
  {
   "cell_type": "code",
   "execution_count": 135,
   "metadata": {
    "execution": {
     "iopub.execute_input": "2022-12-12T16:19:14.881804Z",
     "iopub.status.busy": "2022-12-12T16:19:14.881572Z",
     "iopub.status.idle": "2022-12-12T16:19:14.899181Z",
     "shell.execute_reply": "2022-12-12T16:19:14.898326Z",
     "shell.execute_reply.started": "2022-12-12T16:19:14.881777Z"
    }
   },
   "outputs": [
    {
     "data": {
      "text/html": [
       "<div>\n",
       "<style scoped>\n",
       "    .dataframe tbody tr th:only-of-type {\n",
       "        vertical-align: middle;\n",
       "    }\n",
       "\n",
       "    .dataframe tbody tr th {\n",
       "        vertical-align: top;\n",
       "    }\n",
       "\n",
       "    .dataframe thead th {\n",
       "        text-align: right;\n",
       "    }\n",
       "</style>\n",
       "<table border=\"1\" class=\"dataframe\">\n",
       "  <thead>\n",
       "    <tr style=\"text-align: right;\">\n",
       "      <th></th>\n",
       "      <th>vulc</th>\n",
       "      <th>perc_nat_rubber</th>\n",
       "      <th>weather</th>\n",
       "      <th>perc_imp</th>\n",
       "      <th>temperature</th>\n",
       "      <th>elevation</th>\n",
       "      <th>perc_exp_comp</th>\n",
       "      <th>failure</th>\n",
       "    </tr>\n",
       "  </thead>\n",
       "  <tbody>\n",
       "    <tr>\n",
       "      <th>0</th>\n",
       "      <td>17.990</td>\n",
       "      <td>26</td>\n",
       "      <td>0.16</td>\n",
       "      <td>0.01</td>\n",
       "      <td>-8.12</td>\n",
       "      <td>332.5</td>\n",
       "      <td>5.13</td>\n",
       "      <td>0</td>\n",
       "    </tr>\n",
       "    <tr>\n",
       "      <th>1</th>\n",
       "      <td>20.704</td>\n",
       "      <td>36</td>\n",
       "      <td>0.30</td>\n",
       "      <td>0.01</td>\n",
       "      <td>-4.52</td>\n",
       "      <td>328.0</td>\n",
       "      <td>6.15</td>\n",
       "      <td>0</td>\n",
       "    </tr>\n",
       "    <tr>\n",
       "      <th>2</th>\n",
       "      <td>19.156</td>\n",
       "      <td>34</td>\n",
       "      <td>0.30</td>\n",
       "      <td>0.01</td>\n",
       "      <td>-1.08</td>\n",
       "      <td>247.0</td>\n",
       "      <td>6.36</td>\n",
       "      <td>0</td>\n",
       "    </tr>\n",
       "    <tr>\n",
       "      <th>3</th>\n",
       "      <td>16.802</td>\n",
       "      <td>35</td>\n",
       "      <td>0.19</td>\n",
       "      <td>0.02</td>\n",
       "      <td>7.44</td>\n",
       "      <td>408.0</td>\n",
       "      <td>6.62</td>\n",
       "      <td>0</td>\n",
       "    </tr>\n",
       "    <tr>\n",
       "      <th>4</th>\n",
       "      <td>17.140</td>\n",
       "      <td>23</td>\n",
       "      <td>0.39</td>\n",
       "      <td>0.01</td>\n",
       "      <td>30.52</td>\n",
       "      <td>308.0</td>\n",
       "      <td>6.15</td>\n",
       "      <td>0</td>\n",
       "    </tr>\n",
       "  </tbody>\n",
       "</table>\n",
       "</div>"
      ],
      "text/plain": [
       "     vulc  perc_nat_rubber  weather  perc_imp  temperature  elevation  \\\n",
       "0  17.990               26     0.16      0.01        -8.12      332.5   \n",
       "1  20.704               36     0.30      0.01        -4.52      328.0   \n",
       "2  19.156               34     0.30      0.01        -1.08      247.0   \n",
       "3  16.802               35     0.19      0.02         7.44      408.0   \n",
       "4  17.140               23     0.39      0.01        30.52      308.0   \n",
       "\n",
       "   perc_exp_comp  failure  \n",
       "0           5.13        0  \n",
       "1           6.15        0  \n",
       "2           6.36        0  \n",
       "3           6.62        0  \n",
       "4           6.15        0  "
      ]
     },
     "execution_count": 135,
     "metadata": {},
     "output_type": "execute_result"
    }
   ],
   "source": [
    "selection_numerical=['vulc', 'perc_nat_rubber', 'weather', 'perc_imp', 'temperature', 'elevation',\n",
    "       'perc_exp_comp','failure']\n",
    "data_numerical=data_dropped[selection_numerical]\n",
    "data_numerical.head()"
   ]
  },
  {
   "cell_type": "code",
   "execution_count": null,
   "metadata": {},
   "outputs": [],
   "source": [
    "data_numerical.boxplot(rot=90)\n",
    "# the scale of numerical variables is too different"
   ]
  },
  {
   "cell_type": "code",
   "execution_count": 136,
   "metadata": {
    "execution": {
     "iopub.execute_input": "2022-12-12T16:19:14.900583Z",
     "iopub.status.busy": "2022-12-12T16:19:14.900335Z",
     "iopub.status.idle": "2022-12-12T16:19:16.009767Z",
     "shell.execute_reply": "2022-12-12T16:19:16.008881Z",
     "shell.execute_reply.started": "2022-12-12T16:19:14.900562Z"
    }
   },
   "outputs": [
    {
     "data": {
      "image/png": "[encoded data removed]",
      "text/plain": [
       "<Figure size 1080x864 with 16 Axes>"
      ]
     },
     "metadata": {
      "needs_background": "light"
     },
     "output_type": "display_data"
    }
   ],
   "source": [
    "data_hist=data_numerical.hist(layout=(4,4), figsize=(15,12))\n",
    "# we can try to normalize vulc, temperature and elevation"
   ]
  },
  {
   "cell_type": "code",
   "execution_count": 137,
   "metadata": {
    "execution": {
     "iopub.execute_input": "2022-12-12T16:19:16.010886Z",
     "iopub.status.busy": "2022-12-12T16:19:16.010635Z",
     "iopub.status.idle": "2022-12-12T16:19:16.017288Z",
     "shell.execute_reply": "2022-12-12T16:19:16.016325Z",
     "shell.execute_reply.started": "2022-12-12T16:19:16.010862Z"
    }
   },
   "outputs": [
    {
     "data": {
      "text/plain": [
       "'\\n\\nimport math\\npd.options.mode.chained_assignment = None # no warning on creating a new column\\n\\ndata_numerical[\\'logvulc\\']=data_numerical[\\'vulc\\'].apply(lambda x: math.log(x+1))\\ndata_numerical[\\'logtemp\\']=data_numerical[\\'temperature\\'].apply(lambda x: math.log(x+20)) #translate negative values\\n#mettere + 20 non corretto magari utilizziamo min sennò cambiamo peso\\ndata_numerical[\\'logelev\\']=data_numerical[\\'elevation\\'].apply(lambda x: math.log(x+1))\\n\\nselection_numerical_log=[\"logvulc\", \"perc_nat_rubber\", \"weather\", \"perc_imp\", \"logtemp\", \"logelev\",\\n       \"perc_exp_comp\",\"failure\"]\\ndata_numerical_log=data_numerical[selection_numerical_log]\\ndata_numerical_2=data_numerical[selection_numerical]\\n\\n'"
      ]
     },
     "execution_count": 137,
     "metadata": {},
     "output_type": "execute_result"
    }
   ],
   "source": [
    "'''\n",
    "\n",
    "import math\n",
    "pd.options.mode.chained_assignment = None # no warning on creating a new column\n",
    "\n",
    "data_numerical['logvulc']=data_numerical['vulc'].apply(lambda x: math.log(x+1))\n",
    "data_numerical['logtemp']=data_numerical['temperature'].apply(lambda x: math.log(x+20)) #translate negative values\n",
    "#mettere + 20 non corretto magari utilizziamo min sennò cambiamo peso\n",
    "data_numerical['logelev']=data_numerical['elevation'].apply(lambda x: math.log(x+1))\n",
    "\n",
    "selection_numerical_log=[\"logvulc\", \"perc_nat_rubber\", \"weather\", \"perc_imp\", \"logtemp\", \"logelev\",\n",
    "       \"perc_exp_comp\",\"failure\"]\n",
    "data_numerical_log=data_numerical[selection_numerical_log]\n",
    "data_numerical_2=data_numerical[selection_numerical]\n",
    "\n",
    "'''"
   ]
  },
  {
   "cell_type": "code",
   "execution_count": 138,
   "metadata": {
    "execution": {
     "iopub.execute_input": "2022-12-12T16:19:16.019948Z",
     "iopub.status.busy": "2022-12-12T16:19:16.019091Z",
     "iopub.status.idle": "2022-12-12T16:19:16.029697Z",
     "shell.execute_reply": "2022-12-12T16:19:16.028905Z",
     "shell.execute_reply.started": "2022-12-12T16:19:16.019895Z"
    }
   },
   "outputs": [],
   "source": [
    "#data_hist=data_numerical_log.hist(layout=(4,4), figsize=(15,12))"
   ]
  },
  {
   "cell_type": "code",
   "execution_count": 139,
   "metadata": {
    "execution": {
     "iopub.execute_input": "2022-12-12T16:19:16.031635Z",
     "iopub.status.busy": "2022-12-12T16:19:16.031032Z",
     "iopub.status.idle": "2022-12-12T16:19:16.037464Z",
     "shell.execute_reply": "2022-12-12T16:19:16.036809Z",
     "shell.execute_reply.started": "2022-12-12T16:19:16.031600Z"
    }
   },
   "outputs": [],
   "source": [
    "#data_hist=data_numerical.hist(layout=(4,4), figsize=(15,12))"
   ]
  },
  {
   "cell_type": "code",
   "execution_count": 140,
   "metadata": {
    "execution": {
     "iopub.execute_input": "2022-12-12T16:19:16.042215Z",
     "iopub.status.busy": "2022-12-12T16:19:16.041771Z",
     "iopub.status.idle": "2022-12-12T16:19:16.048146Z",
     "shell.execute_reply": "2022-12-12T16:19:16.047261Z",
     "shell.execute_reply.started": "2022-12-12T16:19:16.042184Z"
    }
   },
   "outputs": [
    {
     "data": {
      "text/plain": [
       "'\\nselect=[\"vulc\", \"perc_nat_rubber\", \"weather\", \"perc_imp\", \"logtemp\", \"logelev\",\\n       \"perc_exp_comp\",\"failure\"]\\ndata_chosen= data_numerical[select]\\n'"
      ]
     },
     "execution_count": 140,
     "metadata": {},
     "output_type": "execute_result"
    }
   ],
   "source": [
    "'''\n",
    "select=[\"vulc\", \"perc_nat_rubber\", \"weather\", \"perc_imp\", \"logtemp\", \"logelev\",\n",
    "       \"perc_exp_comp\",\"failure\"]\n",
    "data_chosen= data_numerical[select]\n",
    "'''"
   ]
  },
  {
   "cell_type": "code",
   "execution_count": null,
   "metadata": {},
   "outputs": [],
   "source": [
    "import seaborn as sns\n",
    "import matplotlib.pyplot as plt\n",
    "\n",
    "X0 = data_numerical[data_numerical['failure']==0]\n",
    "X1 = data_numerical[data_numerical['failure']==1]\n",
    "print(X0.shape)\n",
    "print(X1.shape)\n",
    "fig, axes = plt.subplots(ncols=7, nrows=1, figsize=(20,8))\n",
    "fig.tight_layout()\n",
    "\n",
    "data_num = data_numerical.iloc[:,0:-1]\n",
    "\n",
    "for i, ax in zip(range(data_num.columns.size), axes.flat):\n",
    "    sns.histplot(X0.iloc[:,i], color=\"blue\", ax=ax, stat='density', element=\"step\",  alpha=0.3)\n",
    "    sns.histplot(X1.iloc[:,i], color=\"red\", ax=ax,stat='density', element=\"step\",  alpha=0.3)\n",
    "plt.show()"
   ]
  },
  {
   "cell_type": "code",
   "execution_count": 142,
   "metadata": {
    "execution": {
     "iopub.execute_input": "2022-12-12T16:19:16.056921Z",
     "iopub.status.busy": "2022-12-12T16:19:16.056647Z",
     "iopub.status.idle": "2022-12-12T16:19:16.069150Z",
     "shell.execute_reply": "2022-12-12T16:19:16.068258Z",
     "shell.execute_reply.started": "2022-12-12T16:19:16.056900Z"
    }
   },
   "outputs": [],
   "source": [
    "from sklearn.preprocessing import StandardScaler\n",
    "\n",
    "independent_variables=data_numerical.iloc[:,:-1] #no target\n",
    "\n",
    "scaler = StandardScaler().fit(independent_variables) \n",
    "scaled_data = pd.DataFrame(scaler.transform(independent_variables))\n",
    "scaled_data.columns = independent_variables.columns\n",
    "\n"
   ]
  },
  {
   "cell_type": "code",
   "execution_count": null,
   "metadata": {},
   "outputs": [],
   "source": [
    "# Save the scaler\n",
    "import pickle\n",
    "pickle.dump(scaler, open('scaler.pkl', 'wb'))"
   ]
  },
  {
   "cell_type": "code",
   "execution_count": 143,
   "metadata": {
    "execution": {
     "iopub.execute_input": "2022-12-12T16:19:16.071023Z",
     "iopub.status.busy": "2022-12-12T16:19:16.070462Z",
     "iopub.status.idle": "2022-12-12T16:19:16.286643Z",
     "shell.execute_reply": "2022-12-12T16:19:16.285645Z",
     "shell.execute_reply.started": "2022-12-12T16:19:16.070995Z"
    }
   },
   "outputs": [
    {
     "data": {
      "text/plain": [
       "<AxesSubplot:>"
      ]
     },
     "execution_count": 143,
     "metadata": {},
     "output_type": "execute_result"
    },
    {
     "data": {
      "image/png": "[encoded data removed]",
      "text/plain": [
       "<Figure size 432x288 with 1 Axes>"
      ]
     },
     "metadata": {
      "needs_background": "light"
     },
     "output_type": "display_data"
    }
   ],
   "source": [
    "scaled_data.boxplot(rot=90)"
   ]
  },
  {
   "cell_type": "code",
   "execution_count": 146,
   "metadata": {
    "execution": {
     "iopub.execute_input": "2022-12-12T16:19:35.095085Z",
     "iopub.status.busy": "2022-12-12T16:19:35.094846Z",
     "iopub.status.idle": "2022-12-12T16:19:35.120383Z",
     "shell.execute_reply": "2022-12-12T16:19:35.119603Z",
     "shell.execute_reply.started": "2022-12-12T16:19:35.095061Z"
    }
   },
   "outputs": [
    {
     "data": {
      "text/html": [
       "<div>\n",
       "<style scoped>\n",
       "    .dataframe tbody tr th:only-of-type {\n",
       "        vertical-align: middle;\n",
       "    }\n",
       "\n",
       "    .dataframe tbody tr th {\n",
       "        vertical-align: top;\n",
       "    }\n",
       "\n",
       "    .dataframe thead th {\n",
       "        text-align: right;\n",
       "    }\n",
       "</style>\n",
       "<table border=\"1\" class=\"dataframe\">\n",
       "  <thead>\n",
       "    <tr style=\"text-align: right;\">\n",
       "      <th></th>\n",
       "      <th>tread_type_0</th>\n",
       "      <th>tread_type_1</th>\n",
       "      <th>tread_type_2</th>\n",
       "      <th>tread_type_3</th>\n",
       "      <th>tread_type_4</th>\n",
       "      <th>tyre_season_0</th>\n",
       "      <th>tyre_season_1</th>\n",
       "      <th>month_0</th>\n",
       "      <th>month_1</th>\n",
       "      <th>month_10</th>\n",
       "      <th>...</th>\n",
       "      <th>add_layers_1</th>\n",
       "      <th>add_layers_2</th>\n",
       "      <th>vulc</th>\n",
       "      <th>perc_nat_rubber</th>\n",
       "      <th>weather</th>\n",
       "      <th>perc_imp</th>\n",
       "      <th>temperature</th>\n",
       "      <th>elevation</th>\n",
       "      <th>perc_exp_comp</th>\n",
       "      <th>failure</th>\n",
       "    </tr>\n",
       "  </thead>\n",
       "  <tbody>\n",
       "    <tr>\n",
       "      <th>2995</th>\n",
       "      <td>0.0</td>\n",
       "      <td>1.0</td>\n",
       "      <td>0.0</td>\n",
       "      <td>0.0</td>\n",
       "      <td>0.0</td>\n",
       "      <td>0.0</td>\n",
       "      <td>1.0</td>\n",
       "      <td>0.0</td>\n",
       "      <td>0.0</td>\n",
       "      <td>1.0</td>\n",
       "      <td>...</td>\n",
       "      <td>1.0</td>\n",
       "      <td>0.0</td>\n",
       "      <td>-0.231083</td>\n",
       "      <td>-0.456093</td>\n",
       "      <td>0.584065</td>\n",
       "      <td>-0.319087</td>\n",
       "      <td>1.702514</td>\n",
       "      <td>-0.586827</td>\n",
       "      <td>-0.271809</td>\n",
       "      <td>1</td>\n",
       "    </tr>\n",
       "    <tr>\n",
       "      <th>2996</th>\n",
       "      <td>0.0</td>\n",
       "      <td>1.0</td>\n",
       "      <td>0.0</td>\n",
       "      <td>0.0</td>\n",
       "      <td>0.0</td>\n",
       "      <td>0.0</td>\n",
       "      <td>1.0</td>\n",
       "      <td>0.0</td>\n",
       "      <td>0.0</td>\n",
       "      <td>0.0</td>\n",
       "      <td>...</td>\n",
       "      <td>1.0</td>\n",
       "      <td>0.0</td>\n",
       "      <td>-0.698653</td>\n",
       "      <td>-0.253355</td>\n",
       "      <td>-0.343773</td>\n",
       "      <td>-1.020379</td>\n",
       "      <td>0.164930</td>\n",
       "      <td>-1.480129</td>\n",
       "      <td>0.045070</td>\n",
       "      <td>1</td>\n",
       "    </tr>\n",
       "    <tr>\n",
       "      <th>2997</th>\n",
       "      <td>0.0</td>\n",
       "      <td>1.0</td>\n",
       "      <td>0.0</td>\n",
       "      <td>0.0</td>\n",
       "      <td>0.0</td>\n",
       "      <td>1.0</td>\n",
       "      <td>0.0</td>\n",
       "      <td>0.0</td>\n",
       "      <td>0.0</td>\n",
       "      <td>0.0</td>\n",
       "      <td>...</td>\n",
       "      <td>0.0</td>\n",
       "      <td>0.0</td>\n",
       "      <td>-1.269567</td>\n",
       "      <td>0.354859</td>\n",
       "      <td>0.584065</td>\n",
       "      <td>-0.319087</td>\n",
       "      <td>-0.187726</td>\n",
       "      <td>-0.934222</td>\n",
       "      <td>-0.539937</td>\n",
       "      <td>0</td>\n",
       "    </tr>\n",
       "    <tr>\n",
       "      <th>2998</th>\n",
       "      <td>0.0</td>\n",
       "      <td>0.0</td>\n",
       "      <td>0.0</td>\n",
       "      <td>0.0</td>\n",
       "      <td>1.0</td>\n",
       "      <td>1.0</td>\n",
       "      <td>0.0</td>\n",
       "      <td>0.0</td>\n",
       "      <td>0.0</td>\n",
       "      <td>0.0</td>\n",
       "      <td>...</td>\n",
       "      <td>0.0</td>\n",
       "      <td>0.0</td>\n",
       "      <td>0.433093</td>\n",
       "      <td>1.165810</td>\n",
       "      <td>-1.380768</td>\n",
       "      <td>-1.020379</td>\n",
       "      <td>0.284834</td>\n",
       "      <td>-0.570284</td>\n",
       "      <td>0.240072</td>\n",
       "      <td>0</td>\n",
       "    </tr>\n",
       "    <tr>\n",
       "      <th>2999</th>\n",
       "      <td>0.0</td>\n",
       "      <td>1.0</td>\n",
       "      <td>0.0</td>\n",
       "      <td>0.0</td>\n",
       "      <td>0.0</td>\n",
       "      <td>1.0</td>\n",
       "      <td>0.0</td>\n",
       "      <td>0.0</td>\n",
       "      <td>0.0</td>\n",
       "      <td>0.0</td>\n",
       "      <td>...</td>\n",
       "      <td>0.0</td>\n",
       "      <td>0.0</td>\n",
       "      <td>1.315301</td>\n",
       "      <td>0.354859</td>\n",
       "      <td>-1.217032</td>\n",
       "      <td>-1.020379</td>\n",
       "      <td>0.912563</td>\n",
       "      <td>0.190677</td>\n",
       "      <td>0.508200</td>\n",
       "      <td>0</td>\n",
       "    </tr>\n",
       "  </tbody>\n",
       "</table>\n",
       "<p>5 rows × 39 columns</p>\n",
       "</div>"
      ],
      "text/plain": [
       "      tread_type_0  tread_type_1  tread_type_2  tread_type_3  tread_type_4  \\\n",
       "2995           0.0           1.0           0.0           0.0           0.0   \n",
       "2996           0.0           1.0           0.0           0.0           0.0   \n",
       "2997           0.0           1.0           0.0           0.0           0.0   \n",
       "2998           0.0           0.0           0.0           0.0           1.0   \n",
       "2999           0.0           1.0           0.0           0.0           0.0   \n",
       "\n",
       "      tyre_season_0  tyre_season_1  month_0  month_1  month_10  ...  \\\n",
       "2995            0.0            1.0      0.0      0.0       1.0  ...   \n",
       "2996            0.0            1.0      0.0      0.0       0.0  ...   \n",
       "2997            1.0            0.0      0.0      0.0       0.0  ...   \n",
       "2998            1.0            0.0      0.0      0.0       0.0  ...   \n",
       "2999            1.0            0.0      0.0      0.0       0.0  ...   \n",
       "\n",
       "      add_layers_1  add_layers_2      vulc  perc_nat_rubber   weather  \\\n",
       "2995           1.0           0.0 -0.231083        -0.456093  0.584065   \n",
       "2996           1.0           0.0 -0.698653        -0.253355 -0.343773   \n",
       "2997           0.0           0.0 -1.269567         0.354859  0.584065   \n",
       "2998           0.0           0.0  0.433093         1.165810 -1.380768   \n",
       "2999           0.0           0.0  1.315301         0.354859 -1.217032   \n",
       "\n",
       "      perc_imp  temperature  elevation  perc_exp_comp  failure  \n",
       "2995 -0.319087     1.702514  -0.586827      -0.271809        1  \n",
       "2996 -1.020379     0.164930  -1.480129       0.045070        1  \n",
       "2997 -0.319087    -0.187726  -0.934222      -0.539937        0  \n",
       "2998 -1.020379     0.284834  -0.570284       0.240072        0  \n",
       "2999 -1.020379     0.912563   0.190677       0.508200        0  \n",
       "\n",
       "[5 rows x 39 columns]"
      ]
     },
     "execution_count": 146,
     "metadata": {},
     "output_type": "execute_result"
    }
   ],
   "source": [
    "# Create final dataset with all modifications and target variable included\n",
    "\n",
    "\n",
    "df=pd.concat([data_dummies,scaled_data],axis=1)\n",
    "\n",
    "df['failure']=data_dropped['failure']\n",
    "\n",
    "df.tail()\n"
   ]
  },
  {
   "cell_type": "markdown",
   "metadata": {},
   "source": [
    "# MODELS"
   ]
  },
  {
   "cell_type": "markdown",
   "metadata": {},
   "source": [
    "## Separate train/test set"
   ]
  },
  {
   "cell_type": "code",
   "execution_count": 147,
   "metadata": {
    "execution": {
     "iopub.execute_input": "2022-12-12T16:19:35.122088Z",
     "iopub.status.busy": "2022-12-12T16:19:35.121602Z",
     "iopub.status.idle": "2022-12-12T16:19:35.284756Z",
     "shell.execute_reply": "2022-12-12T16:19:35.283862Z",
     "shell.execute_reply.started": "2022-12-12T16:19:35.122047Z"
    }
   },
   "outputs": [
    {
     "data": {
      "image/png": "[encoded data removed]",
      "text/plain": [
       "<Figure size 432x288 with 1 Axes>"
      ]
     },
     "metadata": {
      "needs_background": "light"
     },
     "output_type": "display_data"
    },
    {
     "data": {
      "text/plain": [
       "0    1992\n",
       "1    1008\n",
       "Name: failure, dtype: int64"
      ]
     },
     "execution_count": 147,
     "metadata": {},
     "output_type": "execute_result"
    }
   ],
   "source": [
    "X = df.iloc[:,0:-1]\n",
    "y = df.iloc[:,-1] \n",
    "\n",
    "#Visualize Class Counts\n",
    "plt.hist(y)\n",
    "plt.xlabel(\"count of each class\")\n",
    "plt.ylabel(\"classes\")\n",
    "plt.show()\n",
    "df.failure.value_counts()\n",
    "# the dataset is umbalanced --> we perform oversampling on the class 1 (oversampling because we have few rows)"
   ]
  },
  {
   "cell_type": "code",
   "execution_count": 148,
   "metadata": {
    "execution": {
     "iopub.execute_input": "2022-12-12T16:19:35.286726Z",
     "iopub.status.busy": "2022-12-12T16:19:35.286195Z",
     "iopub.status.idle": "2022-12-12T16:19:35.300518Z",
     "shell.execute_reply": "2022-12-12T16:19:35.299317Z",
     "shell.execute_reply.started": "2022-12-12T16:19:35.286693Z"
    }
   },
   "outputs": [
    {
     "data": {
      "text/plain": [
       "1    1992\n",
       "0    1992\n",
       "Name: failure, dtype: int64"
      ]
     },
     "execution_count": 148,
     "metadata": {},
     "output_type": "execute_result"
    }
   ],
   "source": [
    "# quetso è oversampling su tutto il dataset \n",
    "\n",
    "from sklearn.utils import resample\n",
    "\n",
    "df_majority = df[df.failure==0]\n",
    "df_minority = df[df.failure==1] \n",
    " \n",
    "df_minority_oversampled = resample(df_minority, \n",
    "                                   replace=True,\n",
    "                                   n_samples=1992,     \n",
    "                                   random_state=123)  \n",
    "\n",
    "df_oversampled = pd.concat([df_minority_oversampled, df_majority])\n",
    "\n",
    "df_oversampled.failure.value_counts()\n"
   ]
  },
  {
   "cell_type": "code",
   "execution_count": 149,
   "metadata": {
    "execution": {
     "iopub.execute_input": "2022-12-12T16:19:35.302314Z",
     "iopub.status.busy": "2022-12-12T16:19:35.301925Z",
     "iopub.status.idle": "2022-12-12T16:19:35.309015Z",
     "shell.execute_reply": "2022-12-12T16:19:35.307962Z",
     "shell.execute_reply.started": "2022-12-12T16:19:35.302280Z"
    }
   },
   "outputs": [
    {
     "name": "stdout",
     "output_type": "stream",
     "text": [
      "1502    1\n",
      "1055    1\n",
      "1097    1\n",
      "935     1\n",
      "2944    1\n",
      "Name: failure, dtype: int64\n"
     ]
    }
   ],
   "source": [
    "#Separate X and y on the new DataFrame\n",
    "X = df_oversampled.iloc[:,0:-1]\n",
    "y = df_oversampled.iloc[:,-1]\n",
    "\n",
    "#print(X.head())\n",
    "#print(y.head())"
   ]
  },
  {
   "cell_type": "code",
   "execution_count": 150,
   "metadata": {
    "execution": {
     "iopub.execute_input": "2022-12-12T16:19:35.310709Z",
     "iopub.status.busy": "2022-12-12T16:19:35.310316Z",
     "iopub.status.idle": "2022-12-12T16:19:35.475726Z",
     "shell.execute_reply": "2022-12-12T16:19:35.474698Z",
     "shell.execute_reply.started": "2022-12-12T16:19:35.310677Z"
    }
   },
   "outputs": [
    {
     "data": {
      "image/png": "[encoded data removed]",
      "text/plain": [
       "<Figure size 432x288 with 1 Axes>"
      ]
     },
     "metadata": {
      "needs_background": "light"
     },
     "output_type": "display_data"
    },
    {
     "data": {
      "text/plain": [
       "0    1992\n",
       "1    1008\n",
       "Name: failure, dtype: int64"
      ]
     },
     "execution_count": 150,
     "metadata": {},
     "output_type": "execute_result"
    }
   ],
   "source": [
    "plt.hist(y)\n",
    "plt.xlabel(\"count of each class\")\n",
    "plt.ylabel(\"classes\")\n",
    "plt.show()\n",
    "df.failure.value_counts()"
   ]
  },
  {
   "cell_type": "code",
   "execution_count": 174,
   "metadata": {
    "execution": {
     "iopub.execute_input": "2022-12-12T16:26:28.672643Z",
     "iopub.status.busy": "2022-12-12T16:26:28.671302Z",
     "iopub.status.idle": "2022-12-12T16:26:28.683256Z",
     "shell.execute_reply": "2022-12-12T16:26:28.682180Z",
     "shell.execute_reply.started": "2022-12-12T16:26:28.672583Z"
    }
   },
   "outputs": [
    {
     "name": "stdout",
     "output_type": "stream",
     "text": [
      "(2788, 38) (1196, 38)\n"
     ]
    }
   ],
   "source": [
    "from sklearn.model_selection import train_test_split\n",
    "\n",
    "#SPLIT DATA INTO TRAIN AND TEST SET\n",
    "X_train, X_test, y_train, y_test = train_test_split(X, y, \n",
    "                                                    test_size =0.30, #by default is 75%-25%\n",
    "                                                    #shuffle is set True by default,\n",
    "                                                    stratify=y, #preserve target proportions \n",
    "                                                    random_state= 112) #fix random seed for replicability\n",
    "\n",
    "print(X_train.shape, X_test.shape)"
   ]
  },
  {
   "cell_type": "markdown",
   "metadata": {},
   "source": [
    "## Funzione per iperparametri\n"
   ]
  },
  {
   "cell_type": "code",
   "execution_count": 175,
   "metadata": {
    "execution": {
     "iopub.execute_input": "2022-12-12T16:26:35.716104Z",
     "iopub.status.busy": "2022-12-12T16:26:35.715762Z",
     "iopub.status.idle": "2022-12-12T16:26:35.721783Z",
     "shell.execute_reply": "2022-12-12T16:26:35.720850Z",
     "shell.execute_reply.started": "2022-12-12T16:26:35.716077Z"
    }
   },
   "outputs": [],
   "source": [
    "from sklearn.model_selection import GridSearchCV\n",
    "from sklearn.metrics import confusion_matrix\n",
    "from sklearn.metrics import classification_report\n",
    "from sklearn import metrics \n",
    "from sklearn.metrics import f1_score\n",
    "from sklearn.metrics import precision_score"
   ]
  },
  {
   "cell_type": "code",
   "execution_count": 187,
   "metadata": {
    "execution": {
     "iopub.execute_input": "2022-12-12T16:27:34.250790Z",
     "iopub.status.busy": "2022-12-12T16:27:34.250487Z",
     "iopub.status.idle": "2022-12-12T16:27:34.257357Z",
     "shell.execute_reply": "2022-12-12T16:27:34.256349Z",
     "shell.execute_reply.started": "2022-12-12T16:27:34.250767Z"
    }
   },
   "outputs": [],
   "source": [
    "def hyperp_search(classifier, parameters):\n",
    "    gs = GridSearchCV(classifier, parameters, cv=3, scoring = 'f1', verbose=0, n_jobs=-1)\n",
    "    gs = gs.fit(X_train, y_train)\n",
    "    print(\"f1_train: %f using %s\" % (gs.best_score_, gs.best_params_))\n",
    "\n",
    "    best_model = gs.best_estimator_\n",
    "    y_pred = best_model.predict(X_test)\n",
    "    y_pred_train = best_model.predict(X_train)\n",
    "\n",
    "    print(\"f1         train %.3f   test %.3f\" % (f1_score(y_train, y_pred_train), f1_score(y_test, y_pred)))\n",
    "    #print(\"precision  train %.3f   test %.3f\" % (precision_score(y_train, y_pred_train), precision_score(y_test, y_pred) )) \n",
    "    print(\"\")\n",
    "    print(confusion_matrix(y_test, y_pred))\n",
    "    #print(classification_report(y_test, y_pred))"
   ]
  },
  {
   "cell_type": "markdown",
   "metadata": {},
   "source": [
    "## Curva ROC"
   ]
  },
  {
   "cell_type": "code",
   "execution_count": 177,
   "metadata": {
    "execution": {
     "iopub.execute_input": "2022-12-12T16:26:35.735433Z",
     "iopub.status.busy": "2022-12-12T16:26:35.735152Z",
     "iopub.status.idle": "2022-12-12T16:26:35.744344Z",
     "shell.execute_reply": "2022-12-12T16:26:35.743402Z",
     "shell.execute_reply.started": "2022-12-12T16:26:35.735401Z"
    }
   },
   "outputs": [],
   "source": [
    "def roc(model,X_train,y_train,X_test,y_test):\n",
    "    model.fit(X_train, y_train)\n",
    "    y_pred = model.predict(X_test)\n",
    "\n",
    "    y_probs = model.predict_proba(X_test) #predict_proba gives the probabilities for the target (0 and 1 in your case) \n",
    "\n",
    "    fpr, tpr, thresholds1=metrics.roc_curve(y_test,  y_probs[:,1])\n",
    "\n",
    "    import matplotlib.pyplot as plt\n",
    "    plt.plot(fpr, tpr, label='ROC')\n",
    "    plt.plot([0, 1], [0, 1], color='darkblue', linestyle='--')\n",
    "    plt.xlabel('False Positive Rate')\n",
    "    plt.ylabel('True Positive Rate')\n",
    "    plt.title('Receiver Operating Characteristic (ROC) Curve')\n",
    "    plt.legend()\n",
    "    plt.show()\n",
    "\n",
    "    auc = metrics.roc_auc_score(y_test, y_probs[:,1])\n",
    "    print('AUC: %.2f' % auc)\n",
    "    return (fpr, tpr)"
   ]
  },
  {
   "cell_type": "markdown",
   "metadata": {},
   "source": [
    "## TREE"
   ]
  },
  {
   "cell_type": "code",
   "execution_count": 1,
   "metadata": {
    "execution": {
     "iopub.execute_input": "2022-12-12T21:29:36.715291Z",
     "iopub.status.busy": "2022-12-12T21:29:36.714707Z",
     "iopub.status.idle": "2022-12-12T21:29:37.621801Z",
     "shell.execute_reply": "2022-12-12T21:29:37.618932Z",
     "shell.execute_reply.started": "2022-12-12T21:29:36.715177Z"
    }
   },
   "outputs": [
    {
     "ename": "NameError",
     "evalue": "name 'hyperp_search' is not defined",
     "output_type": "error",
     "traceback": [
      "\u001b[0;31m---------------------------------------------------------------------------\u001b[0m",
      "\u001b[0;31mNameError\u001b[0m                                 Traceback (most recent call last)",
      "\u001b[0;32m/tmp/ipykernel_27/288881213.py\u001b[0m in \u001b[0;36m<module>\u001b[0;34m\u001b[0m\n\u001b[1;32m      6\u001b[0m               'min_samples_leaf': [10,15,20]}\n\u001b[1;32m      7\u001b[0m \u001b[0;34m\u001b[0m\u001b[0m\n\u001b[0;32m----> 8\u001b[0;31m \u001b[0mhyperp_search\u001b[0m\u001b[0;34m(\u001b[0m\u001b[0mclassifier\u001b[0m\u001b[0;34m,\u001b[0m\u001b[0mparameters\u001b[0m\u001b[0;34m)\u001b[0m\u001b[0;34m\u001b[0m\u001b[0;34m\u001b[0m\u001b[0m\n\u001b[0m",
      "\u001b[0;31mNameError\u001b[0m: name 'hyperp_search' is not defined"
     ]
    }
   ],
   "source": [
    "from sklearn.tree import DecisionTreeClassifier\n",
    "classifier = DecisionTreeClassifier()\n",
    "parameters = {'criterion': ['gini','entropy'], \n",
    "              'max_depth': [3, 4, 5,6,7],\n",
    "              'min_samples_split': [5,10,15,20],\n",
    "              'min_samples_leaf': [10,15,20]}\n",
    "\n",
    "hyperp_search(classifier,parameters)"
   ]
  },
  {
   "cell_type": "code",
   "execution_count": 199,
   "metadata": {
    "execution": {
     "iopub.execute_input": "2022-12-12T16:29:23.020042Z",
     "iopub.status.busy": "2022-12-12T16:29:23.019724Z",
     "iopub.status.idle": "2022-12-12T16:29:23.025632Z",
     "shell.execute_reply": "2022-12-12T16:29:23.024497Z",
     "shell.execute_reply.started": "2022-12-12T16:29:23.020017Z"
    }
   },
   "outputs": [],
   "source": [
    "model_Tree= DecisionTreeClassifier(criterion= 'entropy', max_depth= 7, min_samples_leaf= 10, min_samples_split= 5)\n"
   ]
  },
  {
   "cell_type": "code",
   "execution_count": 200,
   "metadata": {
    "execution": {
     "iopub.execute_input": "2022-12-12T16:29:24.675861Z",
     "iopub.status.busy": "2022-12-12T16:29:24.675495Z",
     "iopub.status.idle": "2022-12-12T16:29:24.831115Z",
     "shell.execute_reply": "2022-12-12T16:29:24.830189Z",
     "shell.execute_reply.started": "2022-12-12T16:29:24.675832Z"
    }
   },
   "outputs": [
    {
     "data": {
      "image/png": "[encoded data removed]",
      "text/plain": [
       "<Figure size 432x288 with 1 Axes>"
      ]
     },
     "metadata": {
      "needs_background": "light"
     },
     "output_type": "display_data"
    },
    {
     "name": "stdout",
     "output_type": "stream",
     "text": [
      "AUC: 0.81\n"
     ]
    }
   ],
   "source": [
    "#curva ROC\n",
    "fpr1,tpr1=roc(model_Tree,X_train,y_train,X_test,y_test)"
   ]
  },
  {
   "cell_type": "markdown",
   "metadata": {},
   "source": [
    "# Plotting tree\n"
   ]
  },
  {
   "cell_type": "code",
   "execution_count": 201,
   "metadata": {
    "execution": {
     "iopub.execute_input": "2022-12-12T16:29:27.803834Z",
     "iopub.status.busy": "2022-12-12T16:29:27.803496Z",
     "iopub.status.idle": "2022-12-12T16:29:27.812273Z",
     "shell.execute_reply": "2022-12-12T16:29:27.811501Z",
     "shell.execute_reply.started": "2022-12-12T16:29:27.803809Z"
    }
   },
   "outputs": [
    {
     "name": "stdout",
     "output_type": "stream",
     "text": [
      "|--- weather <= -0.56\n",
      "|   |--- month_8 <= 0.50\n",
      "|   |   |--- weather <= -1.24\n",
      "|   |   |   |--- wiring_strength_0 <= 0.50\n",
      "|   |   |   |   |--- temperature <= 0.25\n",
      "|   |   |   |   |   |--- perc_exp_comp <= -0.02\n",
      "|   |   |   |   |   |   |--- class: 0\n",
      "|   |   |   |   |   |--- perc_exp_comp >  -0.02\n",
      "|   |   |   |   |   |   |--- class: 0\n",
      "|   |   |   |   |--- temperature >  0.25\n",
      "|   |   |   |   |   |--- vulc <= -0.25\n",
      "|   |   |   |   |   |   |--- class: 1\n",
      "|   |   |   |   |   |--- vulc >  -0.25\n",
      "|   |   |   |   |   |   |--- class: 0\n",
      "|   |   |   |--- wiring_strength_0 >  0.50\n",
      "|   |   |   |   |--- perc_nat_rubber <= -0.15\n",
      "|   |   |   |   |   |--- class: 0\n",
      "|   |   |   |   |--- perc_nat_rubber >  -0.15\n",
      "|   |   |   |   |   |--- class: 0\n",
      "|   |   |--- weather >  -1.24\n",
      "|   |   |   |--- vulc <= 0.66\n",
      "|   |   |   |   |--- vulc <= -1.35\n",
      "|   |   |   |   |   |--- class: 1\n",
      "|   |   |   |   |--- vulc >  -1.35\n",
      "|   |   |   |   |   |--- vulc <= -0.42\n",
      "|   |   |   |   |   |   |--- weather <= -0.73\n",
      "|   |   |   |   |   |   |   |--- class: 0\n",
      "|   |   |   |   |   |   |--- weather >  -0.73\n",
      "|   |   |   |   |   |   |   |--- class: 1\n",
      "|   |   |   |   |   |--- vulc >  -0.42\n",
      "|   |   |   |   |   |   |--- perc_nat_rubber <= 0.25\n",
      "|   |   |   |   |   |   |   |--- class: 1\n",
      "|   |   |   |   |   |   |--- perc_nat_rubber >  0.25\n",
      "|   |   |   |   |   |   |   |--- class: 0\n",
      "|   |   |   |--- vulc >  0.66\n",
      "|   |   |   |   |--- perc_exp_comp <= -0.53\n",
      "|   |   |   |   |   |--- elevation <= -1.03\n",
      "|   |   |   |   |   |   |--- class: 0\n",
      "|   |   |   |   |   |--- elevation >  -1.03\n",
      "|   |   |   |   |   |   |--- class: 0\n",
      "|   |   |   |   |--- perc_exp_comp >  -0.53\n",
      "|   |   |   |   |   |--- temperature <= -1.30\n",
      "|   |   |   |   |   |   |--- class: 1\n",
      "|   |   |   |   |   |--- temperature >  -1.30\n",
      "|   |   |   |   |   |   |--- weather <= -0.89\n",
      "|   |   |   |   |   |   |   |--- class: 0\n",
      "|   |   |   |   |   |   |--- weather >  -0.89\n",
      "|   |   |   |   |   |   |   |--- class: 0\n",
      "|   |--- month_8 >  0.50\n",
      "|   |   |--- tread_depth_0 <= 0.50\n",
      "|   |   |   |--- perc_nat_rubber <= 0.76\n",
      "|   |   |   |   |--- elevation <= 0.50\n",
      "|   |   |   |   |   |--- class: 0\n",
      "|   |   |   |   |--- elevation >  0.50\n",
      "|   |   |   |   |   |--- class: 0\n",
      "|   |   |   |--- perc_nat_rubber >  0.76\n",
      "|   |   |   |   |--- class: 1\n",
      "|   |   |--- tread_depth_0 >  0.50\n",
      "|   |   |   |--- vulc <= 0.04\n",
      "|   |   |   |   |--- vulc <= -0.48\n",
      "|   |   |   |   |   |--- class: 0\n",
      "|   |   |   |   |--- vulc >  -0.48\n",
      "|   |   |   |   |   |--- class: 0\n",
      "|   |   |   |--- vulc >  0.04\n",
      "|   |   |   |   |--- class: 0\n",
      "|--- weather >  -0.56\n",
      "|   |--- temperature <= 0.55\n",
      "|   |   |--- vulc <= 0.30\n",
      "|   |   |   |--- weather <= 1.21\n",
      "|   |   |   |   |--- perc_nat_rubber <= 1.27\n",
      "|   |   |   |   |   |--- perc_nat_rubber <= -1.17\n",
      "|   |   |   |   |   |   |--- vulc <= -0.75\n",
      "|   |   |   |   |   |   |   |--- class: 1\n",
      "|   |   |   |   |   |   |--- vulc >  -0.75\n",
      "|   |   |   |   |   |   |   |--- class: 1\n",
      "|   |   |   |   |   |--- perc_nat_rubber >  -1.17\n",
      "|   |   |   |   |   |   |--- weather <= -0.45\n",
      "|   |   |   |   |   |   |   |--- class: 0\n",
      "|   |   |   |   |   |   |--- weather >  -0.45\n",
      "|   |   |   |   |   |   |   |--- class: 1\n",
      "|   |   |   |   |--- perc_nat_rubber >  1.27\n",
      "|   |   |   |   |   |--- temperature <= -0.36\n",
      "|   |   |   |   |   |   |--- class: 1\n",
      "|   |   |   |   |   |--- temperature >  -0.36\n",
      "|   |   |   |   |   |   |--- perc_nat_rubber <= 2.08\n",
      "|   |   |   |   |   |   |   |--- class: 0\n",
      "|   |   |   |   |   |   |--- perc_nat_rubber >  2.08\n",
      "|   |   |   |   |   |   |   |--- class: 1\n",
      "|   |   |   |--- weather >  1.21\n",
      "|   |   |   |   |--- vulc <= -0.45\n",
      "|   |   |   |   |   |--- perc_exp_comp <= 1.15\n",
      "|   |   |   |   |   |   |--- month_11 <= 0.50\n",
      "|   |   |   |   |   |   |   |--- class: 1\n",
      "|   |   |   |   |   |   |--- month_11 >  0.50\n",
      "|   |   |   |   |   |   |   |--- class: 1\n",
      "|   |   |   |   |   |--- perc_exp_comp >  1.15\n",
      "|   |   |   |   |   |   |--- elevation <= 0.99\n",
      "|   |   |   |   |   |   |   |--- class: 1\n",
      "|   |   |   |   |   |   |--- elevation >  0.99\n",
      "|   |   |   |   |   |   |   |--- class: 1\n",
      "|   |   |   |   |--- vulc >  -0.45\n",
      "|   |   |   |   |   |--- temperature <= 0.26\n",
      "|   |   |   |   |   |   |--- class: 1\n",
      "|   |   |   |   |   |--- temperature >  0.26\n",
      "|   |   |   |   |   |   |--- elevation <= -0.39\n",
      "|   |   |   |   |   |   |   |--- class: 1\n",
      "|   |   |   |   |   |   |--- elevation >  -0.39\n",
      "|   |   |   |   |   |   |   |--- class: 1\n",
      "|   |   |--- vulc >  0.30\n",
      "|   |   |   |--- tread_type_2 <= 0.50\n",
      "|   |   |   |   |--- perc_nat_rubber <= -0.35\n",
      "|   |   |   |   |   |--- elevation <= 0.17\n",
      "|   |   |   |   |   |   |--- tread_type_0 <= 0.50\n",
      "|   |   |   |   |   |   |   |--- class: 1\n",
      "|   |   |   |   |   |   |--- tread_type_0 >  0.50\n",
      "|   |   |   |   |   |   |   |--- class: 1\n",
      "|   |   |   |   |   |--- elevation >  0.17\n",
      "|   |   |   |   |   |   |--- class: 0\n",
      "|   |   |   |   |--- perc_nat_rubber >  -0.35\n",
      "|   |   |   |   |   |--- temperature <= 0.09\n",
      "|   |   |   |   |   |   |--- tread_depth_2 <= 0.50\n",
      "|   |   |   |   |   |   |   |--- class: 0\n",
      "|   |   |   |   |   |   |--- tread_depth_2 >  0.50\n",
      "|   |   |   |   |   |   |   |--- class: 0\n",
      "|   |   |   |   |   |--- temperature >  0.09\n",
      "|   |   |   |   |   |   |--- elevation <= 0.76\n",
      "|   |   |   |   |   |   |   |--- class: 0\n",
      "|   |   |   |   |   |   |--- elevation >  0.76\n",
      "|   |   |   |   |   |   |   |--- class: 1\n",
      "|   |   |   |--- tread_type_2 >  0.50\n",
      "|   |   |   |   |--- elevation <= -0.82\n",
      "|   |   |   |   |   |--- vulc <= 0.93\n",
      "|   |   |   |   |   |   |--- class: 0\n",
      "|   |   |   |   |   |--- vulc >  0.93\n",
      "|   |   |   |   |   |   |--- class: 0\n",
      "|   |   |   |   |--- elevation >  -0.82\n",
      "|   |   |   |   |   |--- month_11 <= 0.50\n",
      "|   |   |   |   |   |   |--- perc_imp <= 0.03\n",
      "|   |   |   |   |   |   |   |--- class: 1\n",
      "|   |   |   |   |   |   |--- perc_imp >  0.03\n",
      "|   |   |   |   |   |   |   |--- class: 0\n",
      "|   |   |   |   |   |--- month_11 >  0.50\n",
      "|   |   |   |   |   |   |--- class: 1\n",
      "|   |--- temperature >  0.55\n",
      "|   |   |--- weather <= 1.21\n",
      "|   |   |   |--- perc_nat_rubber <= 0.46\n",
      "|   |   |   |   |--- perc_nat_rubber <= -0.96\n",
      "|   |   |   |   |   |--- temperature <= 2.47\n",
      "|   |   |   |   |   |   |--- class: 1\n",
      "|   |   |   |   |   |--- temperature >  2.47\n",
      "|   |   |   |   |   |   |--- class: 1\n",
      "|   |   |   |   |--- perc_nat_rubber >  -0.96\n",
      "|   |   |   |   |   |--- tread_type_3 <= 0.50\n",
      "|   |   |   |   |   |   |--- tread_depth_0 <= 0.50\n",
      "|   |   |   |   |   |   |   |--- class: 1\n",
      "|   |   |   |   |   |   |--- tread_depth_0 >  0.50\n",
      "|   |   |   |   |   |   |   |--- class: 0\n",
      "|   |   |   |   |   |--- tread_type_3 >  0.50\n",
      "|   |   |   |   |   |   |--- perc_exp_comp <= 0.29\n",
      "|   |   |   |   |   |   |   |--- class: 1\n",
      "|   |   |   |   |   |   |--- perc_exp_comp >  0.29\n",
      "|   |   |   |   |   |   |   |--- class: 1\n",
      "|   |   |   |--- perc_nat_rubber >  0.46\n",
      "|   |   |   |   |--- weather <= -0.37\n",
      "|   |   |   |   |   |--- class: 0\n",
      "|   |   |   |   |--- weather >  -0.37\n",
      "|   |   |   |   |   |--- perc_imp <= -0.67\n",
      "|   |   |   |   |   |   |--- class: 1\n",
      "|   |   |   |   |   |--- perc_imp >  -0.67\n",
      "|   |   |   |   |   |   |--- elevation <= -1.05\n",
      "|   |   |   |   |   |   |   |--- class: 0\n",
      "|   |   |   |   |   |   |--- elevation >  -1.05\n",
      "|   |   |   |   |   |   |   |--- class: 1\n",
      "|   |   |--- weather >  1.21\n",
      "|   |   |   |--- vulc <= 0.12\n",
      "|   |   |   |   |--- vulc <= -0.44\n",
      "|   |   |   |   |   |--- temperature <= 0.85\n",
      "|   |   |   |   |   |   |--- temperature <= 0.60\n",
      "|   |   |   |   |   |   |   |--- class: 1\n",
      "|   |   |   |   |   |   |--- temperature >  0.60\n",
      "|   |   |   |   |   |   |   |--- class: 0\n",
      "|   |   |   |   |   |--- temperature >  0.85\n",
      "|   |   |   |   |   |   |--- vulc <= -1.03\n",
      "|   |   |   |   |   |   |   |--- class: 1\n",
      "|   |   |   |   |   |   |--- vulc >  -1.03\n",
      "|   |   |   |   |   |   |   |--- class: 1\n",
      "|   |   |   |   |--- vulc >  -0.44\n",
      "|   |   |   |   |   |--- class: 1\n",
      "|   |   |   |--- vulc >  0.12\n",
      "|   |   |   |   |--- class: 1\n",
      "\n"
     ]
    }
   ],
   "source": [
    "from sklearn import tree\n",
    "r = tree.export_text(model_Tree,feature_names=X_test.columns.tolist(),max_depth = 6 )\n",
    "print(r)"
   ]
  },
  {
   "cell_type": "code",
   "execution_count": 202,
   "metadata": {
    "execution": {
     "iopub.execute_input": "2022-12-12T16:29:31.468995Z",
     "iopub.status.busy": "2022-12-12T16:29:31.468462Z",
     "iopub.status.idle": "2022-12-12T16:29:37.608256Z",
     "shell.execute_reply": "2022-12-12T16:29:37.607491Z",
     "shell.execute_reply.started": "2022-12-12T16:29:31.468970Z"
    }
   },
   "outputs": [
    {
     "data": {
      "image/png": "[encoded data removed]",
      "text/plain": [
       "<Figure size 1800x1440 with 1 Axes>"
      ]
     },
     "metadata": {
      "needs_background": "light"
     },
     "output_type": "display_data"
    }
   ],
   "source": [
    "fig = plt.figure(figsize=(25,20))\n",
    "_ = tree.plot_tree(model_Tree, \n",
    "                   feature_names=X_test.columns.tolist(),  \n",
    "                   class_names=['0','1'],\n",
    "                   filled=True)"
   ]
  },
  {
   "cell_type": "markdown",
   "metadata": {},
   "source": [
    "# Random Forest"
   ]
  },
  {
   "cell_type": "code",
   "execution_count": 208,
   "metadata": {
    "execution": {
     "iopub.execute_input": "2022-12-12T16:42:25.131932Z",
     "iopub.status.busy": "2022-12-12T16:42:25.131625Z",
     "iopub.status.idle": "2022-12-12T16:44:28.263181Z",
     "shell.execute_reply": "2022-12-12T16:44:28.262324Z",
     "shell.execute_reply.started": "2022-12-12T16:42:25.131908Z"
    }
   },
   "outputs": [
    {
     "name": "stdout",
     "output_type": "stream",
     "text": [
      "f1_train: 0.767359 using {'criterion': 'gini', 'max_depth': 5, 'min_samples_leaf': 4, 'min_samples_split': 9, 'n_estimators': 14}\n",
      "f1         train 0.784   test 0.778\n",
      "\n",
      "[[390 208]\n",
      " [ 85 513]]\n"
     ]
    }
   ],
   "source": [
    "from sklearn.ensemble import RandomForestClassifier\n",
    "\n",
    "\n",
    "classifier= RandomForestClassifier()\n",
    "parameters = {'n_estimators' :     np.arange(1,15,1),\n",
    "              'criterion' :        ['entropy', 'gini'],\n",
    "              'max_depth' :        np.arange(2,6,1), \n",
    "              'min_samples_split': np.arange(3,10,1),\n",
    "              'min_samples_leaf' : np.arange(3,10,1)\n",
    "             };\n",
    "\n",
    "hyperp_search(classifier,parameters)"
   ]
  },
  {
   "cell_type": "markdown",
   "metadata": {
    "execution": {
     "iopub.execute_input": "2022-12-08T12:41:45.127176Z",
     "iopub.status.busy": "2022-12-08T12:41:45.126669Z",
     "iopub.status.idle": "2022-12-08T12:41:45.175253Z",
     "shell.execute_reply": "2022-12-08T12:41:45.173423Z",
     "shell.execute_reply.started": "2022-12-08T12:41:45.127135Z"
    }
   },
   "source": [
    "## KNN"
   ]
  },
  {
   "cell_type": "code",
   "execution_count": 214,
   "metadata": {
    "execution": {
     "iopub.execute_input": "2022-12-12T16:48:33.383676Z",
     "iopub.status.busy": "2022-12-12T16:48:33.382870Z",
     "iopub.status.idle": "2022-12-12T16:48:33.388521Z",
     "shell.execute_reply": "2022-12-12T16:48:33.387752Z",
     "shell.execute_reply.started": "2022-12-12T16:48:33.383643Z"
    }
   },
   "outputs": [],
   "source": [
    "\n",
    "from sklearn.neighbors import KNeighborsClassifier\n",
    "\n",
    "classifier = KNeighborsClassifier()\n",
    "parameters = {'n_neighbors':np.arange(10,500,10)}\n"
   ]
  },
  {
   "cell_type": "code",
   "execution_count": 213,
   "metadata": {
    "execution": {
     "iopub.execute_input": "2022-12-12T16:48:27.101530Z",
     "iopub.status.busy": "2022-12-12T16:48:27.101006Z",
     "iopub.status.idle": "2022-12-12T16:48:31.253217Z",
     "shell.execute_reply": "2022-12-12T16:48:31.252211Z",
     "shell.execute_reply.started": "2022-12-12T16:48:27.101505Z"
    }
   },
   "outputs": [
    {
     "name": "stdout",
     "output_type": "stream",
     "text": [
      "f1_train: 0.724719 using {'n_neighbors': 30}\n",
      "f1         train 0.745   test 0.738\n",
      "\n",
      "[[418 180]\n",
      " [143 455]]\n"
     ]
    }
   ],
   "source": [
    "hyperp_search(classifier,parameters)"
   ]
  },
  {
   "cell_type": "code",
   "execution_count": 215,
   "metadata": {
    "execution": {
     "iopub.execute_input": "2022-12-12T16:48:38.518176Z",
     "iopub.status.busy": "2022-12-12T16:48:38.517821Z",
     "iopub.status.idle": "2022-12-12T16:48:38.853716Z",
     "shell.execute_reply": "2022-12-12T16:48:38.852573Z",
     "shell.execute_reply.started": "2022-12-12T16:48:38.518149Z"
    }
   },
   "outputs": [
    {
     "data": {
      "image/png": "[encoded data removed]",
      "text/plain": [
       "<Figure size 432x288 with 1 Axes>"
      ]
     },
     "metadata": {},
     "output_type": "display_data"
    },
    {
     "name": "stdout",
     "output_type": "stream",
     "text": [
      "AUC: 0.81\n"
     ]
    }
   ],
   "source": [
    "model_knn = KNeighborsClassifier(n_neighbors=20)\n",
    "\n",
    "#curva ROC\n",
    "fpr2,tpr2=roc(model_knn,X_train,y_train,X_test,y_test)"
   ]
  },
  {
   "cell_type": "markdown",
   "metadata": {},
   "source": [
    "## NAYVE BAYES"
   ]
  },
  {
   "cell_type": "code",
   "execution_count": 217,
   "metadata": {
    "execution": {
     "iopub.execute_input": "2022-12-12T16:49:04.031891Z",
     "iopub.status.busy": "2022-12-12T16:49:04.030858Z",
     "iopub.status.idle": "2022-12-12T16:49:04.049942Z",
     "shell.execute_reply": "2022-12-12T16:49:04.048848Z",
     "shell.execute_reply.started": "2022-12-12T16:49:04.031859Z"
    }
   },
   "outputs": [
    {
     "name": "stdout",
     "output_type": "stream",
     "text": [
      "f1_score_train:  0.7017886178861789\n",
      "f1_score_test:  0.71580547112462\n",
      "[[351 247]\n",
      " [127 471]]\n"
     ]
    }
   ],
   "source": [
    "from sklearn.naive_bayes import GaussianNB # or alternative NB implementations\n",
    "\n",
    "model = GaussianNB()\n",
    "model.fit(X_train, y_train)\n",
    "y_pred=model.predict(X_test)\n",
    "\n",
    "y_pred_train=model.predict(X_train)\n",
    "\n",
    "from sklearn.metrics import f1_score\n",
    "\n",
    "print(\"f1_score_train: \", f1_score(y_train, y_pred_train))\n",
    "print(\"f1_score_test: \", f1_score(y_test, y_pred))\n",
    "\n",
    "\n",
    "print(confusion_matrix(y_test, y_pred))"
   ]
  },
  {
   "cell_type": "code",
   "execution_count": null,
   "metadata": {
    "execution": {
     "iopub.status.busy": "2022-12-12T16:26:54.180111Z",
     "iopub.status.idle": "2022-12-12T16:26:54.180411Z",
     "shell.execute_reply": "2022-12-12T16:26:54.180277Z",
     "shell.execute_reply.started": "2022-12-12T16:26:54.180262Z"
    }
   },
   "outputs": [],
   "source": [
    "fpr3,tpr3=roc(model,X_train,y_train,X_test,y_test)"
   ]
  },
  {
   "cell_type": "markdown",
   "metadata": {},
   "source": [
    "## LOGISTIC REGRESSION"
   ]
  },
  {
   "cell_type": "code",
   "execution_count": 218,
   "metadata": {
    "execution": {
     "iopub.execute_input": "2022-12-12T16:49:10.330629Z",
     "iopub.status.busy": "2022-12-12T16:49:10.330206Z",
     "iopub.status.idle": "2022-12-12T16:49:11.042591Z",
     "shell.execute_reply": "2022-12-12T16:49:11.041641Z",
     "shell.execute_reply.started": "2022-12-12T16:49:10.330597Z"
    }
   },
   "outputs": [
    {
     "name": "stdout",
     "output_type": "stream",
     "text": [
      "f1_train: 0.717786 using {'C': 0.0001, 'max_iter': 500, 'penalty': 'none'}\n",
      "f1         train 0.727   test 0.734\n",
      "\n",
      "[[427 171]\n",
      " [152 446]]\n"
     ]
    },
    {
     "name": "stderr",
     "output_type": "stream",
     "text": [
      "/opt/conda/lib/python3.7/site-packages/sklearn/linear_model/_logistic.py:1484: UserWarning: Setting penalty='none' will ignore the C and l1_ratio parameters\n",
      "  \"Setting penalty='none' will ignore the C and l1_ratio parameters\"\n",
      "/opt/conda/lib/python3.7/site-packages/sklearn/linear_model/_logistic.py:1484: UserWarning: Setting penalty='none' will ignore the C and l1_ratio parameters\n",
      "  \"Setting penalty='none' will ignore the C and l1_ratio parameters\"\n",
      "/opt/conda/lib/python3.7/site-packages/sklearn/linear_model/_logistic.py:1484: UserWarning: Setting penalty='none' will ignore the C and l1_ratio parameters\n",
      "  \"Setting penalty='none' will ignore the C and l1_ratio parameters\"\n",
      "/opt/conda/lib/python3.7/site-packages/sklearn/linear_model/_logistic.py:1484: UserWarning: Setting penalty='none' will ignore the C and l1_ratio parameters\n",
      "  \"Setting penalty='none' will ignore the C and l1_ratio parameters\"\n",
      "/opt/conda/lib/python3.7/site-packages/sklearn/linear_model/_logistic.py:1484: UserWarning: Setting penalty='none' will ignore the C and l1_ratio parameters\n",
      "  \"Setting penalty='none' will ignore the C and l1_ratio parameters\"\n",
      "/opt/conda/lib/python3.7/site-packages/sklearn/linear_model/_logistic.py:1484: UserWarning: Setting penalty='none' will ignore the C and l1_ratio parameters\n",
      "  \"Setting penalty='none' will ignore the C and l1_ratio parameters\"\n",
      "/opt/conda/lib/python3.7/site-packages/sklearn/linear_model/_logistic.py:1484: UserWarning: Setting penalty='none' will ignore the C and l1_ratio parameters\n",
      "  \"Setting penalty='none' will ignore the C and l1_ratio parameters\"\n",
      "/opt/conda/lib/python3.7/site-packages/sklearn/linear_model/_logistic.py:1484: UserWarning: Setting penalty='none' will ignore the C and l1_ratio parameters\n",
      "  \"Setting penalty='none' will ignore the C and l1_ratio parameters\"\n",
      "/opt/conda/lib/python3.7/site-packages/sklearn/linear_model/_logistic.py:1484: UserWarning: Setting penalty='none' will ignore the C and l1_ratio parameters\n",
      "  \"Setting penalty='none' will ignore the C and l1_ratio parameters\"\n",
      "/opt/conda/lib/python3.7/site-packages/sklearn/linear_model/_logistic.py:1484: UserWarning: Setting penalty='none' will ignore the C and l1_ratio parameters\n",
      "  \"Setting penalty='none' will ignore the C and l1_ratio parameters\"\n",
      "/opt/conda/lib/python3.7/site-packages/sklearn/linear_model/_logistic.py:1484: UserWarning: Setting penalty='none' will ignore the C and l1_ratio parameters\n",
      "  \"Setting penalty='none' will ignore the C and l1_ratio parameters\"\n",
      "/opt/conda/lib/python3.7/site-packages/sklearn/linear_model/_logistic.py:1484: UserWarning: Setting penalty='none' will ignore the C and l1_ratio parameters\n",
      "  \"Setting penalty='none' will ignore the C and l1_ratio parameters\"\n",
      "/opt/conda/lib/python3.7/site-packages/sklearn/linear_model/_logistic.py:1484: UserWarning: Setting penalty='none' will ignore the C and l1_ratio parameters\n",
      "  \"Setting penalty='none' will ignore the C and l1_ratio parameters\"\n",
      "/opt/conda/lib/python3.7/site-packages/sklearn/linear_model/_logistic.py:1484: UserWarning: Setting penalty='none' will ignore the C and l1_ratio parameters\n",
      "  \"Setting penalty='none' will ignore the C and l1_ratio parameters\"\n",
      "/opt/conda/lib/python3.7/site-packages/sklearn/linear_model/_logistic.py:1484: UserWarning: Setting penalty='none' will ignore the C and l1_ratio parameters\n",
      "  \"Setting penalty='none' will ignore the C and l1_ratio parameters\"\n",
      "/opt/conda/lib/python3.7/site-packages/sklearn/linear_model/_logistic.py:1484: UserWarning: Setting penalty='none' will ignore the C and l1_ratio parameters\n",
      "  \"Setting penalty='none' will ignore the C and l1_ratio parameters\"\n",
      "/opt/conda/lib/python3.7/site-packages/sklearn/linear_model/_logistic.py:1484: UserWarning: Setting penalty='none' will ignore the C and l1_ratio parameters\n",
      "  \"Setting penalty='none' will ignore the C and l1_ratio parameters\"\n",
      "/opt/conda/lib/python3.7/site-packages/sklearn/linear_model/_logistic.py:1484: UserWarning: Setting penalty='none' will ignore the C and l1_ratio parameters\n",
      "  \"Setting penalty='none' will ignore the C and l1_ratio parameters\"\n",
      "/opt/conda/lib/python3.7/site-packages/sklearn/linear_model/_logistic.py:1484: UserWarning: Setting penalty='none' will ignore the C and l1_ratio parameters\n",
      "  \"Setting penalty='none' will ignore the C and l1_ratio parameters\"\n",
      "/opt/conda/lib/python3.7/site-packages/sklearn/linear_model/_logistic.py:1484: UserWarning: Setting penalty='none' will ignore the C and l1_ratio parameters\n",
      "  \"Setting penalty='none' will ignore the C and l1_ratio parameters\"\n",
      "/opt/conda/lib/python3.7/site-packages/sklearn/linear_model/_logistic.py:1484: UserWarning: Setting penalty='none' will ignore the C and l1_ratio parameters\n",
      "  \"Setting penalty='none' will ignore the C and l1_ratio parameters\"\n",
      "/opt/conda/lib/python3.7/site-packages/sklearn/linear_model/_logistic.py:1484: UserWarning: Setting penalty='none' will ignore the C and l1_ratio parameters\n",
      "  \"Setting penalty='none' will ignore the C and l1_ratio parameters\"\n",
      "/opt/conda/lib/python3.7/site-packages/sklearn/linear_model/_logistic.py:1484: UserWarning: Setting penalty='none' will ignore the C and l1_ratio parameters\n",
      "  \"Setting penalty='none' will ignore the C and l1_ratio parameters\"\n",
      "/opt/conda/lib/python3.7/site-packages/sklearn/linear_model/_logistic.py:1484: UserWarning: Setting penalty='none' will ignore the C and l1_ratio parameters\n",
      "  \"Setting penalty='none' will ignore the C and l1_ratio parameters\"\n",
      "/opt/conda/lib/python3.7/site-packages/sklearn/linear_model/_logistic.py:1484: UserWarning: Setting penalty='none' will ignore the C and l1_ratio parameters\n",
      "  \"Setting penalty='none' will ignore the C and l1_ratio parameters\"\n",
      "/opt/conda/lib/python3.7/site-packages/sklearn/linear_model/_logistic.py:1484: UserWarning: Setting penalty='none' will ignore the C and l1_ratio parameters\n",
      "  \"Setting penalty='none' will ignore the C and l1_ratio parameters\"\n",
      "/opt/conda/lib/python3.7/site-packages/sklearn/linear_model/_logistic.py:1484: UserWarning: Setting penalty='none' will ignore the C and l1_ratio parameters\n",
      "  \"Setting penalty='none' will ignore the C and l1_ratio parameters\"\n",
      "/opt/conda/lib/python3.7/site-packages/sklearn/linear_model/_logistic.py:1484: UserWarning: Setting penalty='none' will ignore the C and l1_ratio parameters\n",
      "  \"Setting penalty='none' will ignore the C and l1_ratio parameters\"\n",
      "/opt/conda/lib/python3.7/site-packages/sklearn/linear_model/_logistic.py:1484: UserWarning: Setting penalty='none' will ignore the C and l1_ratio parameters\n",
      "  \"Setting penalty='none' will ignore the C and l1_ratio parameters\"\n",
      "/opt/conda/lib/python3.7/site-packages/sklearn/linear_model/_logistic.py:1484: UserWarning: Setting penalty='none' will ignore the C and l1_ratio parameters\n",
      "  \"Setting penalty='none' will ignore the C and l1_ratio parameters\"\n",
      "/opt/conda/lib/python3.7/site-packages/sklearn/linear_model/_logistic.py:1484: UserWarning: Setting penalty='none' will ignore the C and l1_ratio parameters\n",
      "  \"Setting penalty='none' will ignore the C and l1_ratio parameters\"\n",
      "/opt/conda/lib/python3.7/site-packages/sklearn/linear_model/_logistic.py:1484: UserWarning: Setting penalty='none' will ignore the C and l1_ratio parameters\n",
      "  \"Setting penalty='none' will ignore the C and l1_ratio parameters\"\n",
      "/opt/conda/lib/python3.7/site-packages/sklearn/linear_model/_logistic.py:1484: UserWarning: Setting penalty='none' will ignore the C and l1_ratio parameters\n",
      "  \"Setting penalty='none' will ignore the C and l1_ratio parameters\"\n",
      "/opt/conda/lib/python3.7/site-packages/sklearn/linear_model/_logistic.py:1484: UserWarning: Setting penalty='none' will ignore the C and l1_ratio parameters\n",
      "  \"Setting penalty='none' will ignore the C and l1_ratio parameters\"\n",
      "/opt/conda/lib/python3.7/site-packages/sklearn/linear_model/_logistic.py:1484: UserWarning: Setting penalty='none' will ignore the C and l1_ratio parameters\n",
      "  \"Setting penalty='none' will ignore the C and l1_ratio parameters\"\n",
      "/opt/conda/lib/python3.7/site-packages/sklearn/linear_model/_logistic.py:1484: UserWarning: Setting penalty='none' will ignore the C and l1_ratio parameters\n",
      "  \"Setting penalty='none' will ignore the C and l1_ratio parameters\"\n",
      "/opt/conda/lib/python3.7/site-packages/sklearn/linear_model/_logistic.py:1484: UserWarning: Setting penalty='none' will ignore the C and l1_ratio parameters\n",
      "  \"Setting penalty='none' will ignore the C and l1_ratio parameters\"\n",
      "/opt/conda/lib/python3.7/site-packages/sklearn/linear_model/_logistic.py:1484: UserWarning: Setting penalty='none' will ignore the C and l1_ratio parameters\n",
      "  \"Setting penalty='none' will ignore the C and l1_ratio parameters\"\n",
      "/opt/conda/lib/python3.7/site-packages/sklearn/linear_model/_logistic.py:1484: UserWarning: Setting penalty='none' will ignore the C and l1_ratio parameters\n",
      "  \"Setting penalty='none' will ignore the C and l1_ratio parameters\"\n",
      "/opt/conda/lib/python3.7/site-packages/sklearn/linear_model/_logistic.py:1484: UserWarning: Setting penalty='none' will ignore the C and l1_ratio parameters\n",
      "  \"Setting penalty='none' will ignore the C and l1_ratio parameters\"\n",
      "/opt/conda/lib/python3.7/site-packages/sklearn/linear_model/_logistic.py:1484: UserWarning: Setting penalty='none' will ignore the C and l1_ratio parameters\n",
      "  \"Setting penalty='none' will ignore the C and l1_ratio parameters\"\n",
      "/opt/conda/lib/python3.7/site-packages/sklearn/linear_model/_logistic.py:1484: UserWarning: Setting penalty='none' will ignore the C and l1_ratio parameters\n",
      "  \"Setting penalty='none' will ignore the C and l1_ratio parameters\"\n",
      "/opt/conda/lib/python3.7/site-packages/sklearn/linear_model/_logistic.py:1484: UserWarning: Setting penalty='none' will ignore the C and l1_ratio parameters\n",
      "  \"Setting penalty='none' will ignore the C and l1_ratio parameters\"\n",
      "/opt/conda/lib/python3.7/site-packages/sklearn/linear_model/_logistic.py:1484: UserWarning: Setting penalty='none' will ignore the C and l1_ratio parameters\n",
      "  \"Setting penalty='none' will ignore the C and l1_ratio parameters\"\n",
      "/opt/conda/lib/python3.7/site-packages/sklearn/linear_model/_logistic.py:1484: UserWarning: Setting penalty='none' will ignore the C and l1_ratio parameters\n",
      "  \"Setting penalty='none' will ignore the C and l1_ratio parameters\"\n",
      "/opt/conda/lib/python3.7/site-packages/sklearn/linear_model/_logistic.py:1484: UserWarning: Setting penalty='none' will ignore the C and l1_ratio parameters\n",
      "  \"Setting penalty='none' will ignore the C and l1_ratio parameters\"\n"
     ]
    }
   ],
   "source": [
    "from sklearn.linear_model import LogisticRegression\n",
    "\n",
    "classifier = LogisticRegression()\n",
    "parameters = {\"C\":[1e-4,1e-3,1e-2,1e-1,1,10], \"penalty\":['l2','none'], \"max_iter\":[500,1000,10000] }\n",
    "\n",
    "\n",
    "hyperp_search(classifier,parameters)"
   ]
  },
  {
   "cell_type": "code",
   "execution_count": null,
   "metadata": {
    "execution": {
     "iopub.status.busy": "2022-12-12T16:26:54.182978Z",
     "iopub.status.idle": "2022-12-12T16:26:54.183391Z",
     "shell.execute_reply": "2022-12-12T16:26:54.183200Z",
     "shell.execute_reply.started": "2022-12-12T16:26:54.183180Z"
    }
   },
   "outputs": [],
   "source": [
    "model_Log = LogisticRegression(C=0.1, max_iter=500)\n",
    "\n",
    "fpr4,tpr4=roc(model_Log,X_train,y_train,X_test,y_test)"
   ]
  },
  {
   "cell_type": "markdown",
   "metadata": {},
   "source": [
    "## SVM\n",
    "--> pay attention: it takes a long time to run"
   ]
  },
  {
   "cell_type": "code",
   "execution_count": null,
   "metadata": {
    "execution": {
     "iopub.status.busy": "2022-12-12T16:26:54.184996Z",
     "iopub.status.idle": "2022-12-12T16:26:54.185422Z",
     "shell.execute_reply": "2022-12-12T16:26:54.185223Z",
     "shell.execute_reply.started": "2022-12-12T16:26:54.185203Z"
    }
   },
   "outputs": [],
   "source": [
    "from sklearn.svm import SVC\n",
    "\n",
    "classifier = SVC()\n",
    "parameters = {\"kernel\":['linear','rbf'], \"C\":[0.01,0.1,1]}\n",
    "\n",
    "hyperp_search(classifier,parameters)"
   ]
  },
  {
   "cell_type": "code",
   "execution_count": null,
   "metadata": {
    "execution": {
     "iopub.status.busy": "2022-12-12T16:26:54.186736Z",
     "iopub.status.idle": "2022-12-12T16:26:54.187194Z",
     "shell.execute_reply": "2022-12-12T16:26:54.186989Z",
     "shell.execute_reply.started": "2022-12-12T16:26:54.186969Z"
    }
   },
   "outputs": [],
   "source": [
    "model = SVC(C=1, kernel='rbf',probability=True)\n",
    "\n",
    "fpr5,tpr5=roc(model,X_train,y_train,X_test,y_test)"
   ]
  },
  {
   "cell_type": "markdown",
   "metadata": {},
   "source": [
    "## NEURAL NETWORK"
   ]
  },
  {
   "cell_type": "code",
   "execution_count": null,
   "metadata": {
    "execution": {
     "iopub.status.busy": "2022-12-12T16:26:54.188663Z",
     "iopub.status.idle": "2022-12-12T16:26:54.189118Z",
     "shell.execute_reply": "2022-12-12T16:26:54.188914Z",
     "shell.execute_reply.started": "2022-12-12T16:26:54.188893Z"
    }
   },
   "outputs": [],
   "source": [
    "from sklearn.neural_network import MLPClassifier\n",
    "\n",
    "classifier = MLPClassifier()\n",
    "parameters = {\"hidden_layer_sizes\":[(5,3,2),(5,3),(10, 5)],  \"max_iter\": [1000,2000,5000,10000], \"alpha\": [0.001,0.1,10]}\n",
    "\n",
    "hyperp_search(classifier,parameters)"
   ]
  },
  {
   "cell_type": "code",
   "execution_count": null,
   "metadata": {
    "execution": {
     "iopub.status.busy": "2022-12-12T16:26:54.190326Z",
     "iopub.status.idle": "2022-12-12T16:26:54.190755Z",
     "shell.execute_reply": "2022-12-12T16:26:54.190561Z",
     "shell.execute_reply.started": "2022-12-12T16:26:54.190540Z"
    }
   },
   "outputs": [],
   "source": [
    "model_MLP=MLPClassifier(hidden_layer_sizes=(10,5), alpha=0.001, max_iter=5000)\n",
    "\n",
    "fpr6,tpr6=roc(model_MLP,X_train,y_train,X_test,y_test)"
   ]
  },
  {
   "cell_type": "markdown",
   "metadata": {},
   "source": [
    "# CHOICE OF THE MODEL"
   ]
  },
  {
   "cell_type": "code",
   "execution_count": null,
   "metadata": {
    "execution": {
     "iopub.status.busy": "2022-12-12T16:26:54.191733Z",
     "iopub.status.idle": "2022-12-12T16:26:54.192145Z",
     "shell.execute_reply": "2022-12-12T16:26:54.191942Z",
     "shell.execute_reply.started": "2022-12-12T16:26:54.191923Z"
    }
   },
   "outputs": [],
   "source": [
    "plt.plot(fpr1, tpr1, label= \"KNN\")\n",
    "plt.plot(fpr2, tpr2, label= \"Tree\")\n",
    "plt.plot(fpr3, tpr3, label= \"NB\")\n",
    "plt.plot(fpr4, tpr4, label= \"Logistic\")    \n",
    "plt.plot(fpr5, tpr5, label= \"SVM\")\n",
    "plt.plot(fpr6, tpr6, label= \"NeuralNet\")\n",
    "plt.plot([0, 1], [0, 1], color='darkblue', linestyle='--')\n",
    "plt.xlabel('False Positive Rate')\n",
    "plt.ylabel('True Positive Rate')\n",
    "plt.title('Receiver Operating Characteristic (ROC) Curve')\n",
    "plt.legend()\n",
    "plt.show()"
   ]
  },
  {
   "cell_type": "markdown",
   "metadata": {},
   "source": [
    "# PREDICTIONS"
   ]
  },
  {
   "cell_type": "code",
   "execution_count": null,
   "metadata": {},
   "outputs": [],
   "source": []
  },
  {
   "cell_type": "code",
   "execution_count": null,
   "metadata": {
    "execution": {
     "iopub.status.busy": "2022-12-12T16:26:54.193336Z",
     "iopub.status.idle": "2022-12-12T16:26:54.193764Z",
     "shell.execute_reply": "2022-12-12T16:26:54.193570Z",
     "shell.execute_reply.started": "2022-12-12T16:26:54.193551Z"
    }
   },
   "outputs": [],
   "source": [
    "from sklearn.metrics import confusion_matrix, ConfusionMatrixDisplay\n",
    "\n",
    "cm = confusion_matrix(y_test, y_pred)\n",
    "print(cm)\n",
    "disp = ConfusionMatrixDisplay(confusion_matrix=cm, display_labels=model.classes_)\n",
    "disp.plot()\n",
    "plt.show()"
   ]
  },
  {
   "cell_type": "markdown",
   "metadata": {},
   "source": []
  }
 ],
 "metadata": {
  "kernelspec": {
   "display_name": "Python 3 (ipykernel)",
   "language": "python",
   "name": "python3"
  },
  "language_info": {
   "codemirror_mode": {
    "name": "ipython",
    "version": 3
   },
   "file_extension": ".py",
   "mimetype": "text/x-python",
   "name": "python",
   "nbconvert_exporter": "python",
   "pygments_lexer": "ipython3",
   "version": "3.9.12"
  }
 },
 "nbformat": 4,
 "nbformat_minor": 4
}
