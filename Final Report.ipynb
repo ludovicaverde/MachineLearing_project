{
 "cells": [
  {
   "cell_type": "code",
   "execution_count": 1,
   "id": "be3378aa",
   "metadata": {},
   "outputs": [],
   "source": [
    "import pandas as pd\n",
    "import numpy as np\n",
    "import matplotlib.pyplot as plt\n",
    "import seaborn as sns\n",
    "\n",
    "from sklearn.utils import resample\n",
    "from sklearn.preprocessing import StandardScaler\n",
    "from sklearn.model_selection import train_test_split\n",
    "from matplotlib.patches import Rectangle\n",
    "from sklearn.neighbors import LocalOutlierFactor\n",
    "from sklearn.ensemble import IsolationForest"
   ]
  },
  {
   "cell_type": "markdown",
   "id": "dc98d76f",
   "metadata": {},
   "source": [
    "# UPLOAD DATASET"
   ]
  },
  {
   "cell_type": "code",
   "execution_count": 2,
   "id": "291c4f63",
   "metadata": {},
   "outputs": [
    {
     "data": {
      "text/html": [
       "<div>\n",
       "<style scoped>\n",
       "    .dataframe tbody tr th:only-of-type {\n",
       "        vertical-align: middle;\n",
       "    }\n",
       "\n",
       "    .dataframe tbody tr th {\n",
       "        vertical-align: top;\n",
       "    }\n",
       "\n",
       "    .dataframe thead th {\n",
       "        text-align: right;\n",
       "    }\n",
       "</style>\n",
       "<table border=\"1\" class=\"dataframe\">\n",
       "  <thead>\n",
       "    <tr style=\"text-align: right;\">\n",
       "      <th></th>\n",
       "      <th>vulc</th>\n",
       "      <th>perc_nat_rubber</th>\n",
       "      <th>wiring_strength</th>\n",
       "      <th>weather</th>\n",
       "      <th>perc_imp</th>\n",
       "      <th>temperature</th>\n",
       "      <th>tread_type</th>\n",
       "      <th>tyre_season</th>\n",
       "      <th>elevation</th>\n",
       "      <th>month</th>\n",
       "      <th>tread_depth</th>\n",
       "      <th>tyre_quality</th>\n",
       "      <th>perc_exp_comp</th>\n",
       "      <th>diameter</th>\n",
       "      <th>add_layers</th>\n",
       "      <th>failure</th>\n",
       "    </tr>\n",
       "  </thead>\n",
       "  <tbody>\n",
       "    <tr>\n",
       "      <th>0</th>\n",
       "      <td>17.990</td>\n",
       "      <td>26</td>\n",
       "      <td>1</td>\n",
       "      <td>0.16</td>\n",
       "      <td>0.01</td>\n",
       "      <td>-8.12</td>\n",
       "      <td>0</td>\n",
       "      <td>1</td>\n",
       "      <td>332.5</td>\n",
       "      <td>8</td>\n",
       "      <td>0</td>\n",
       "      <td>1</td>\n",
       "      <td>5.13</td>\n",
       "      <td>55.0</td>\n",
       "      <td>1</td>\n",
       "      <td>0</td>\n",
       "    </tr>\n",
       "    <tr>\n",
       "      <th>1</th>\n",
       "      <td>20.704</td>\n",
       "      <td>36</td>\n",
       "      <td>1</td>\n",
       "      <td>0.30</td>\n",
       "      <td>0.01</td>\n",
       "      <td>-4.52</td>\n",
       "      <td>2</td>\n",
       "      <td>0</td>\n",
       "      <td>328.0</td>\n",
       "      <td>11</td>\n",
       "      <td>1</td>\n",
       "      <td>0</td>\n",
       "      <td>6.15</td>\n",
       "      <td>NaN</td>\n",
       "      <td>1</td>\n",
       "      <td>0</td>\n",
       "    </tr>\n",
       "    <tr>\n",
       "      <th>2</th>\n",
       "      <td>19.156</td>\n",
       "      <td>34</td>\n",
       "      <td>1</td>\n",
       "      <td>0.30</td>\n",
       "      <td>0.01</td>\n",
       "      <td>-1.08</td>\n",
       "      <td>0</td>\n",
       "      <td>0</td>\n",
       "      <td>247.0</td>\n",
       "      <td>0</td>\n",
       "      <td>1</td>\n",
       "      <td>0</td>\n",
       "      <td>6.36</td>\n",
       "      <td>NaN</td>\n",
       "      <td>1</td>\n",
       "      <td>0</td>\n",
       "    </tr>\n",
       "    <tr>\n",
       "      <th>3</th>\n",
       "      <td>16.802</td>\n",
       "      <td>35</td>\n",
       "      <td>1</td>\n",
       "      <td>0.19</td>\n",
       "      <td>0.02</td>\n",
       "      <td>7.44</td>\n",
       "      <td>1</td>\n",
       "      <td>0</td>\n",
       "      <td>408.0</td>\n",
       "      <td>7</td>\n",
       "      <td>3</td>\n",
       "      <td>1</td>\n",
       "      <td>6.62</td>\n",
       "      <td>54.5</td>\n",
       "      <td>1</td>\n",
       "      <td>0</td>\n",
       "    </tr>\n",
       "    <tr>\n",
       "      <th>4</th>\n",
       "      <td>17.140</td>\n",
       "      <td>23</td>\n",
       "      <td>2</td>\n",
       "      <td>0.39</td>\n",
       "      <td>0.01</td>\n",
       "      <td>30.52</td>\n",
       "      <td>0</td>\n",
       "      <td>1</td>\n",
       "      <td>308.0</td>\n",
       "      <td>2</td>\n",
       "      <td>2</td>\n",
       "      <td>0</td>\n",
       "      <td>6.15</td>\n",
       "      <td>76.3</td>\n",
       "      <td>1</td>\n",
       "      <td>0</td>\n",
       "    </tr>\n",
       "    <tr>\n",
       "      <th>5</th>\n",
       "      <td>20.042</td>\n",
       "      <td>38</td>\n",
       "      <td>0</td>\n",
       "      <td>0.04</td>\n",
       "      <td>0.01</td>\n",
       "      <td>-0.20</td>\n",
       "      <td>2</td>\n",
       "      <td>1</td>\n",
       "      <td>160.5</td>\n",
       "      <td>0</td>\n",
       "      <td>0</td>\n",
       "      <td>0</td>\n",
       "      <td>5.96</td>\n",
       "      <td>NaN</td>\n",
       "      <td>1</td>\n",
       "      <td>0</td>\n",
       "    </tr>\n",
       "    <tr>\n",
       "      <th>6</th>\n",
       "      <td>21.172</td>\n",
       "      <td>33</td>\n",
       "      <td>1</td>\n",
       "      <td>0.39</td>\n",
       "      <td>0.01</td>\n",
       "      <td>-2.28</td>\n",
       "      <td>0</td>\n",
       "      <td>0</td>\n",
       "      <td>470.0</td>\n",
       "      <td>3</td>\n",
       "      <td>0</td>\n",
       "      <td>0</td>\n",
       "      <td>6.47</td>\n",
       "      <td>NaN</td>\n",
       "      <td>1</td>\n",
       "      <td>0</td>\n",
       "    </tr>\n",
       "    <tr>\n",
       "      <th>7</th>\n",
       "      <td>16.706</td>\n",
       "      <td>32</td>\n",
       "      <td>0</td>\n",
       "      <td>0.62</td>\n",
       "      <td>0.05</td>\n",
       "      <td>-3.96</td>\n",
       "      <td>3</td>\n",
       "      <td>1</td>\n",
       "      <td>148.5</td>\n",
       "      <td>7</td>\n",
       "      <td>2</td>\n",
       "      <td>0</td>\n",
       "      <td>5.39</td>\n",
       "      <td>NaN</td>\n",
       "      <td>1</td>\n",
       "      <td>0</td>\n",
       "    </tr>\n",
       "    <tr>\n",
       "      <th>8</th>\n",
       "      <td>17.616</td>\n",
       "      <td>25</td>\n",
       "      <td>1</td>\n",
       "      <td>0.16</td>\n",
       "      <td>0.01</td>\n",
       "      <td>-6.88</td>\n",
       "      <td>0</td>\n",
       "      <td>1</td>\n",
       "      <td>103.5</td>\n",
       "      <td>8</td>\n",
       "      <td>0</td>\n",
       "      <td>1</td>\n",
       "      <td>5.32</td>\n",
       "      <td>63.6</td>\n",
       "      <td>1</td>\n",
       "      <td>0</td>\n",
       "    </tr>\n",
       "    <tr>\n",
       "      <th>9</th>\n",
       "      <td>17.370</td>\n",
       "      <td>34</td>\n",
       "      <td>0</td>\n",
       "      <td>0.27</td>\n",
       "      <td>0.01</td>\n",
       "      <td>-1.28</td>\n",
       "      <td>2</td>\n",
       "      <td>0</td>\n",
       "      <td>345.5</td>\n",
       "      <td>5</td>\n",
       "      <td>2</td>\n",
       "      <td>0</td>\n",
       "      <td>6.31</td>\n",
       "      <td>NaN</td>\n",
       "      <td>0</td>\n",
       "      <td>0</td>\n",
       "    </tr>\n",
       "  </tbody>\n",
       "</table>\n",
       "</div>"
      ],
      "text/plain": [
       "     vulc  perc_nat_rubber  wiring_strength  weather  perc_imp  temperature  \\\n",
       "0  17.990               26                1     0.16      0.01        -8.12   \n",
       "1  20.704               36                1     0.30      0.01        -4.52   \n",
       "2  19.156               34                1     0.30      0.01        -1.08   \n",
       "3  16.802               35                1     0.19      0.02         7.44   \n",
       "4  17.140               23                2     0.39      0.01        30.52   \n",
       "5  20.042               38                0     0.04      0.01        -0.20   \n",
       "6  21.172               33                1     0.39      0.01        -2.28   \n",
       "7  16.706               32                0     0.62      0.05        -3.96   \n",
       "8  17.616               25                1     0.16      0.01        -6.88   \n",
       "9  17.370               34                0     0.27      0.01        -1.28   \n",
       "\n",
       "   tread_type  tyre_season  elevation  month  tread_depth  tyre_quality  \\\n",
       "0           0            1      332.5      8            0             1   \n",
       "1           2            0      328.0     11            1             0   \n",
       "2           0            0      247.0      0            1             0   \n",
       "3           1            0      408.0      7            3             1   \n",
       "4           0            1      308.0      2            2             0   \n",
       "5           2            1      160.5      0            0             0   \n",
       "6           0            0      470.0      3            0             0   \n",
       "7           3            1      148.5      7            2             0   \n",
       "8           0            1      103.5      8            0             1   \n",
       "9           2            0      345.5      5            2             0   \n",
       "\n",
       "   perc_exp_comp  diameter  add_layers  failure  \n",
       "0           5.13      55.0           1        0  \n",
       "1           6.15       NaN           1        0  \n",
       "2           6.36       NaN           1        0  \n",
       "3           6.62      54.5           1        0  \n",
       "4           6.15      76.3           1        0  \n",
       "5           5.96       NaN           1        0  \n",
       "6           6.47       NaN           1        0  \n",
       "7           5.39       NaN           1        0  \n",
       "8           5.32      63.6           1        0  \n",
       "9           6.31       NaN           0        0  "
      ]
     },
     "execution_count": 2,
     "metadata": {},
     "output_type": "execute_result"
    }
   ],
   "source": [
    "data = pd.read_csv(\"tyres_train.csv\", sep = \",\")\n",
    "\n",
    "data.head(10)"
   ]
  },
  {
   "cell_type": "markdown",
   "id": "bed8cdf4",
   "metadata": {},
   "source": [
    "# DATA OBSERVATION AND PREPARATION"
   ]
  },
  {
   "cell_type": "code",
   "execution_count": 3,
   "id": "e187991a",
   "metadata": {},
   "outputs": [
    {
     "data": {
      "text/plain": [
       "vulc               float64\n",
       "perc_nat_rubber      int64\n",
       "wiring_strength      int64\n",
       "weather            float64\n",
       "perc_imp           float64\n",
       "temperature        float64\n",
       "tread_type           int64\n",
       "tyre_season          int64\n",
       "elevation          float64\n",
       "month                int64\n",
       "tread_depth          int64\n",
       "tyre_quality         int64\n",
       "perc_exp_comp      float64\n",
       "diameter           float64\n",
       "add_layers           int64\n",
       "failure              int64\n",
       "dtype: object"
      ]
     },
     "execution_count": 3,
     "metadata": {},
     "output_type": "execute_result"
    }
   ],
   "source": [
    "data.dtypes"
   ]
  },
  {
   "cell_type": "markdown",
   "id": "03908770",
   "metadata": {},
   "source": [
    "Categorical variables are no \"object\" type, but need to be transformed anyway in Dummies "
   ]
  },
  {
   "cell_type": "code",
   "execution_count": 4,
   "id": "268d80c5",
   "metadata": {},
   "outputs": [
    {
     "data": {
      "text/plain": [
       "vulc                  0\n",
       "perc_nat_rubber       0\n",
       "wiring_strength       0\n",
       "weather               0\n",
       "perc_imp              0\n",
       "temperature           0\n",
       "tread_type            0\n",
       "tyre_season           0\n",
       "elevation             0\n",
       "month                 0\n",
       "tread_depth           0\n",
       "tyre_quality          0\n",
       "perc_exp_comp         0\n",
       "diameter           2110\n",
       "add_layers            0\n",
       "failure               0\n",
       "dtype: int64"
      ]
     },
     "execution_count": 4,
     "metadata": {},
     "output_type": "execute_result"
    }
   ],
   "source": [
    "data.isnull().sum()"
   ]
  },
  {
   "cell_type": "markdown",
   "id": "bc557e67",
   "metadata": {},
   "source": [
    "The variable \"diameter\" contains in majority NaN values, so it is impossible to proceed with the method of substitution.\n",
    "\n",
    "It is better to drop the entire column."
   ]
  },
  {
   "cell_type": "code",
   "execution_count": 5,
   "id": "e6be0492",
   "metadata": {},
   "outputs": [
    {
     "data": {
      "text/html": [
       "<div>\n",
       "<style scoped>\n",
       "    .dataframe tbody tr th:only-of-type {\n",
       "        vertical-align: middle;\n",
       "    }\n",
       "\n",
       "    .dataframe tbody tr th {\n",
       "        vertical-align: top;\n",
       "    }\n",
       "\n",
       "    .dataframe thead th {\n",
       "        text-align: right;\n",
       "    }\n",
       "</style>\n",
       "<table border=\"1\" class=\"dataframe\">\n",
       "  <thead>\n",
       "    <tr style=\"text-align: right;\">\n",
       "      <th></th>\n",
       "      <th>vulc</th>\n",
       "      <th>perc_nat_rubber</th>\n",
       "      <th>wiring_strength</th>\n",
       "      <th>weather</th>\n",
       "      <th>perc_imp</th>\n",
       "      <th>temperature</th>\n",
       "      <th>tread_type</th>\n",
       "      <th>tyre_season</th>\n",
       "      <th>elevation</th>\n",
       "      <th>month</th>\n",
       "      <th>tread_depth</th>\n",
       "      <th>tyre_quality</th>\n",
       "      <th>perc_exp_comp</th>\n",
       "      <th>add_layers</th>\n",
       "      <th>failure</th>\n",
       "    </tr>\n",
       "  </thead>\n",
       "  <tbody>\n",
       "    <tr>\n",
       "      <th>0</th>\n",
       "      <td>17.990</td>\n",
       "      <td>26</td>\n",
       "      <td>1</td>\n",
       "      <td>0.16</td>\n",
       "      <td>0.01</td>\n",
       "      <td>-8.12</td>\n",
       "      <td>0</td>\n",
       "      <td>1</td>\n",
       "      <td>332.5</td>\n",
       "      <td>8</td>\n",
       "      <td>0</td>\n",
       "      <td>1</td>\n",
       "      <td>5.13</td>\n",
       "      <td>1</td>\n",
       "      <td>0</td>\n",
       "    </tr>\n",
       "    <tr>\n",
       "      <th>1</th>\n",
       "      <td>20.704</td>\n",
       "      <td>36</td>\n",
       "      <td>1</td>\n",
       "      <td>0.30</td>\n",
       "      <td>0.01</td>\n",
       "      <td>-4.52</td>\n",
       "      <td>2</td>\n",
       "      <td>0</td>\n",
       "      <td>328.0</td>\n",
       "      <td>11</td>\n",
       "      <td>1</td>\n",
       "      <td>0</td>\n",
       "      <td>6.15</td>\n",
       "      <td>1</td>\n",
       "      <td>0</td>\n",
       "    </tr>\n",
       "    <tr>\n",
       "      <th>2</th>\n",
       "      <td>19.156</td>\n",
       "      <td>34</td>\n",
       "      <td>1</td>\n",
       "      <td>0.30</td>\n",
       "      <td>0.01</td>\n",
       "      <td>-1.08</td>\n",
       "      <td>0</td>\n",
       "      <td>0</td>\n",
       "      <td>247.0</td>\n",
       "      <td>0</td>\n",
       "      <td>1</td>\n",
       "      <td>0</td>\n",
       "      <td>6.36</td>\n",
       "      <td>1</td>\n",
       "      <td>0</td>\n",
       "    </tr>\n",
       "    <tr>\n",
       "      <th>3</th>\n",
       "      <td>16.802</td>\n",
       "      <td>35</td>\n",
       "      <td>1</td>\n",
       "      <td>0.19</td>\n",
       "      <td>0.02</td>\n",
       "      <td>7.44</td>\n",
       "      <td>1</td>\n",
       "      <td>0</td>\n",
       "      <td>408.0</td>\n",
       "      <td>7</td>\n",
       "      <td>3</td>\n",
       "      <td>1</td>\n",
       "      <td>6.62</td>\n",
       "      <td>1</td>\n",
       "      <td>0</td>\n",
       "    </tr>\n",
       "    <tr>\n",
       "      <th>4</th>\n",
       "      <td>17.140</td>\n",
       "      <td>23</td>\n",
       "      <td>2</td>\n",
       "      <td>0.39</td>\n",
       "      <td>0.01</td>\n",
       "      <td>30.52</td>\n",
       "      <td>0</td>\n",
       "      <td>1</td>\n",
       "      <td>308.0</td>\n",
       "      <td>2</td>\n",
       "      <td>2</td>\n",
       "      <td>0</td>\n",
       "      <td>6.15</td>\n",
       "      <td>1</td>\n",
       "      <td>0</td>\n",
       "    </tr>\n",
       "  </tbody>\n",
       "</table>\n",
       "</div>"
      ],
      "text/plain": [
       "     vulc  perc_nat_rubber  wiring_strength  weather  perc_imp  temperature  \\\n",
       "0  17.990               26                1     0.16      0.01        -8.12   \n",
       "1  20.704               36                1     0.30      0.01        -4.52   \n",
       "2  19.156               34                1     0.30      0.01        -1.08   \n",
       "3  16.802               35                1     0.19      0.02         7.44   \n",
       "4  17.140               23                2     0.39      0.01        30.52   \n",
       "\n",
       "   tread_type  tyre_season  elevation  month  tread_depth  tyre_quality  \\\n",
       "0           0            1      332.5      8            0             1   \n",
       "1           2            0      328.0     11            1             0   \n",
       "2           0            0      247.0      0            1             0   \n",
       "3           1            0      408.0      7            3             1   \n",
       "4           0            1      308.0      2            2             0   \n",
       "\n",
       "   perc_exp_comp  add_layers  failure  \n",
       "0           5.13           1        0  \n",
       "1           6.15           1        0  \n",
       "2           6.36           1        0  \n",
       "3           6.62           1        0  \n",
       "4           6.15           1        0  "
      ]
     },
     "execution_count": 5,
     "metadata": {},
     "output_type": "execute_result"
    }
   ],
   "source": [
    "#dropping all column \"diameter\"\n",
    "d=\"diameter\"\n",
    "data_dropped = data.drop(columns=d)\n",
    "\n",
    "data_dropped.head()"
   ]
  },
  {
   "cell_type": "code",
   "execution_count": 6,
   "id": "9dcdfc82",
   "metadata": {},
   "outputs": [
    {
     "data": {
      "text/plain": [
       "vulc               0\n",
       "perc_nat_rubber    0\n",
       "wiring_strength    0\n",
       "weather            0\n",
       "perc_imp           0\n",
       "temperature        0\n",
       "tread_type         0\n",
       "tyre_season        0\n",
       "elevation          0\n",
       "month              0\n",
       "tread_depth        0\n",
       "tyre_quality       0\n",
       "perc_exp_comp      0\n",
       "add_layers         0\n",
       "failure            0\n",
       "dtype: int64"
      ]
     },
     "execution_count": 6,
     "metadata": {},
     "output_type": "execute_result"
    }
   ],
   "source": [
    "data_dropped.isnull().sum()\n",
    "# no more NaN observations"
   ]
  },
  {
   "cell_type": "markdown",
   "id": "349d67d8",
   "metadata": {},
   "source": [
    "The dataset now doesn't contain any NaN values, so we can start to visualize the data and apply the required transformation."
   ]
  },
  {
   "cell_type": "code",
   "execution_count": 7,
   "id": "6b2b788d",
   "metadata": {},
   "outputs": [
    {
     "name": "stdout",
     "output_type": "stream",
     "text": [
      "failure\n",
      "0    1992\n",
      "1    1008\n",
      "dtype: int64\n"
     ]
    },
    {
     "data": {
      "image/png": "[encoded data removed]",
      "text/plain": [
       "<Figure size 432x288 with 1 Axes>"
      ]
     },
     "metadata": {},
     "output_type": "display_data"
    }
   ],
   "source": [
    "print(data_dropped.groupby('failure').size())\n",
    "\n",
    "%matplotlib inline\n",
    "plt.style.use('ggplot')\n",
    "\n",
    "#Visualize Class Counts\n",
    "sns.countplot(y=data_dropped.failure ,data=data_dropped)\n",
    "plt.xlabel(\"count of each class\")\n",
    "plt.ylabel(\"classes\")\n",
    "plt.show()"
   ]
  },
  {
   "cell_type": "markdown",
   "id": "d591376a",
   "metadata": {},
   "source": [
    "The dataset is unbalanced, so we will try to perform oversampling on the training set in the next phase of identification of the best model."
   ]
  },
  {
   "cell_type": "markdown",
   "id": "98faf65d",
   "metadata": {},
   "source": [
    "## Categorical variables"
   ]
  },
  {
   "cell_type": "markdown",
   "id": "6a7e6706",
   "metadata": {},
   "source": [
    "We select the categorical variables based on the Dataset description."
   ]
  },
  {
   "cell_type": "code",
   "execution_count": 8,
   "id": "8fdb9e53",
   "metadata": {},
   "outputs": [
    {
     "data": {
      "text/html": [
       "<div>\n",
       "<style scoped>\n",
       "    .dataframe tbody tr th:only-of-type {\n",
       "        vertical-align: middle;\n",
       "    }\n",
       "\n",
       "    .dataframe tbody tr th {\n",
       "        vertical-align: top;\n",
       "    }\n",
       "\n",
       "    .dataframe thead th {\n",
       "        text-align: right;\n",
       "    }\n",
       "</style>\n",
       "<table border=\"1\" class=\"dataframe\">\n",
       "  <thead>\n",
       "    <tr style=\"text-align: right;\">\n",
       "      <th></th>\n",
       "      <th>tread_type</th>\n",
       "      <th>tyre_season</th>\n",
       "      <th>month</th>\n",
       "      <th>tread_depth</th>\n",
       "      <th>wiring_strength</th>\n",
       "      <th>tyre_quality</th>\n",
       "      <th>add_layers</th>\n",
       "    </tr>\n",
       "  </thead>\n",
       "  <tbody>\n",
       "    <tr>\n",
       "      <th>0</th>\n",
       "      <td>0</td>\n",
       "      <td>1</td>\n",
       "      <td>8</td>\n",
       "      <td>0</td>\n",
       "      <td>1</td>\n",
       "      <td>1</td>\n",
       "      <td>1</td>\n",
       "    </tr>\n",
       "    <tr>\n",
       "      <th>1</th>\n",
       "      <td>2</td>\n",
       "      <td>0</td>\n",
       "      <td>11</td>\n",
       "      <td>1</td>\n",
       "      <td>1</td>\n",
       "      <td>0</td>\n",
       "      <td>1</td>\n",
       "    </tr>\n",
       "    <tr>\n",
       "      <th>2</th>\n",
       "      <td>0</td>\n",
       "      <td>0</td>\n",
       "      <td>0</td>\n",
       "      <td>1</td>\n",
       "      <td>1</td>\n",
       "      <td>0</td>\n",
       "      <td>1</td>\n",
       "    </tr>\n",
       "    <tr>\n",
       "      <th>3</th>\n",
       "      <td>1</td>\n",
       "      <td>0</td>\n",
       "      <td>7</td>\n",
       "      <td>3</td>\n",
       "      <td>1</td>\n",
       "      <td>1</td>\n",
       "      <td>1</td>\n",
       "    </tr>\n",
       "    <tr>\n",
       "      <th>4</th>\n",
       "      <td>0</td>\n",
       "      <td>1</td>\n",
       "      <td>2</td>\n",
       "      <td>2</td>\n",
       "      <td>2</td>\n",
       "      <td>0</td>\n",
       "      <td>1</td>\n",
       "    </tr>\n",
       "  </tbody>\n",
       "</table>\n",
       "</div>"
      ],
      "text/plain": [
       "   tread_type  tyre_season  month  tread_depth  wiring_strength  tyre_quality  \\\n",
       "0           0            1      8            0                1             1   \n",
       "1           2            0     11            1                1             0   \n",
       "2           0            0      0            1                1             0   \n",
       "3           1            0      7            3                1             1   \n",
       "4           0            1      2            2                2             0   \n",
       "\n",
       "   add_layers  \n",
       "0           1  \n",
       "1           1  \n",
       "2           1  \n",
       "3           1  \n",
       "4           1  "
      ]
     },
     "execution_count": 8,
     "metadata": {},
     "output_type": "execute_result"
    }
   ],
   "source": [
    "selection_categorical=['tread_type', 'tyre_season','month', 'tread_depth', 'wiring_strength', 'tyre_quality',\n",
    "       'add_layers']\n",
    "data_categorical=data_dropped[selection_categorical]\n",
    "data_categorical.head()"
   ]
  },
  {
   "cell_type": "code",
   "execution_count": 9,
   "id": "4b8f9575",
   "metadata": {},
   "outputs": [
    {
     "data": {
      "image/png": "[encoded data removed]",
      "text/plain": [
       "<Figure size 1080x504 with 8 Axes>"
      ]
     },
     "metadata": {},
     "output_type": "display_data"
    }
   ],
   "source": [
    "# Visualize categorical variables\n",
    "data_0=data_categorical[data_dropped['failure']==0] # records wih target==0\n",
    "data_1=data_categorical[data_dropped['failure']==1] # records wih target==1\n",
    "\n",
    "cmap = plt.get_cmap('jet')\n",
    "col=[cmap(0.8),cmap(0.25)]\n",
    "fig, axes = plt.subplots(2, 4,figsize=[15,7])\n",
    "axes = axes.flatten()\n",
    "fig.tight_layout(h_pad=10)\n",
    "\n",
    "i=0\n",
    "for x in data_categorical.columns:\n",
    "    plt.sca(axes[i]) # set the current Axes\n",
    "    plt.hist([data_0[x],data_1[x]],density=True,color=col)\n",
    "    plt.xticks(rotation = 90) # Rotates X-Axis Ticks by 45-degrees\n",
    "    plt.title(x)\n",
    "    handles = [Rectangle((0,0),1,1,color=c)for c in col]\n",
    "    labels= [\"0\",\"1\"]\n",
    "    plt.legend(handles, labels)\n",
    "    i+=1\n",
    "plt.show()"
   ]
  },
  {
   "cell_type": "markdown",
   "id": "5cac87e0",
   "metadata": {},
   "source": [
    "The variable \"add_layers\" has the same distibution on the observation with target 0 and 1, so we eliminate it because it is not influent in the the analysis of the classification task."
   ]
  },
  {
   "cell_type": "code",
   "execution_count": 10,
   "id": "69176755",
   "metadata": {},
   "outputs": [],
   "source": [
    "ad=\"add_layers\"\n",
    "data_categorical = data_categorical.drop(columns=ad)\n",
    "selection_categorical = ['tread_type', 'tyre_season', 'tread_depth','month', 'wiring_strength', 'tyre_quality']"
   ]
  },
  {
   "cell_type": "markdown",
   "id": "1b1fb3de",
   "metadata": {},
   "source": [
    "### Create dummies with the OneHotEncoder method"
   ]
  },
  {
   "cell_type": "markdown",
   "id": "87470198",
   "metadata": {},
   "source": [
    "Now that we have selected the categorical variables in our Dataset, we can transorm them in dummies, trough the OneHotEncoder method; we decided to use this mehod to increase the robustness int he analysis, in case the new dataset contains new values of in the variables."
   ]
  },
  {
   "cell_type": "code",
   "execution_count": 11,
   "id": "48a35ae6",
   "metadata": {},
   "outputs": [
    {
     "data": {
      "text/html": [
       "<div>\n",
       "<style scoped>\n",
       "    .dataframe tbody tr th:only-of-type {\n",
       "        vertical-align: middle;\n",
       "    }\n",
       "\n",
       "    .dataframe tbody tr th {\n",
       "        vertical-align: top;\n",
       "    }\n",
       "\n",
       "    .dataframe thead th {\n",
       "        text-align: right;\n",
       "    }\n",
       "</style>\n",
       "<table border=\"1\" class=\"dataframe\">\n",
       "  <thead>\n",
       "    <tr style=\"text-align: right;\">\n",
       "      <th></th>\n",
       "      <th>tread_type_0</th>\n",
       "      <th>tread_type_1</th>\n",
       "      <th>tread_type_2</th>\n",
       "      <th>tread_type_3</th>\n",
       "      <th>tread_type_4</th>\n",
       "      <th>tyre_season_0</th>\n",
       "      <th>tyre_season_1</th>\n",
       "      <th>tread_depth_0</th>\n",
       "      <th>tread_depth_1</th>\n",
       "      <th>tread_depth_2</th>\n",
       "      <th>...</th>\n",
       "      <th>month_5</th>\n",
       "      <th>month_6</th>\n",
       "      <th>month_7</th>\n",
       "      <th>month_8</th>\n",
       "      <th>month_9</th>\n",
       "      <th>wiring_strength_0</th>\n",
       "      <th>wiring_strength_1</th>\n",
       "      <th>wiring_strength_2</th>\n",
       "      <th>tyre_quality_0</th>\n",
       "      <th>tyre_quality_1</th>\n",
       "    </tr>\n",
       "  </thead>\n",
       "  <tbody>\n",
       "    <tr>\n",
       "      <th>0</th>\n",
       "      <td>1.0</td>\n",
       "      <td>0.0</td>\n",
       "      <td>0.0</td>\n",
       "      <td>0.0</td>\n",
       "      <td>0.0</td>\n",
       "      <td>0.0</td>\n",
       "      <td>1.0</td>\n",
       "      <td>1.0</td>\n",
       "      <td>0.0</td>\n",
       "      <td>0.0</td>\n",
       "      <td>...</td>\n",
       "      <td>0.0</td>\n",
       "      <td>0.0</td>\n",
       "      <td>0.0</td>\n",
       "      <td>1.0</td>\n",
       "      <td>0.0</td>\n",
       "      <td>0.0</td>\n",
       "      <td>1.0</td>\n",
       "      <td>0.0</td>\n",
       "      <td>0.0</td>\n",
       "      <td>1.0</td>\n",
       "    </tr>\n",
       "    <tr>\n",
       "      <th>1</th>\n",
       "      <td>0.0</td>\n",
       "      <td>0.0</td>\n",
       "      <td>1.0</td>\n",
       "      <td>0.0</td>\n",
       "      <td>0.0</td>\n",
       "      <td>1.0</td>\n",
       "      <td>0.0</td>\n",
       "      <td>0.0</td>\n",
       "      <td>1.0</td>\n",
       "      <td>0.0</td>\n",
       "      <td>...</td>\n",
       "      <td>0.0</td>\n",
       "      <td>0.0</td>\n",
       "      <td>0.0</td>\n",
       "      <td>0.0</td>\n",
       "      <td>0.0</td>\n",
       "      <td>0.0</td>\n",
       "      <td>1.0</td>\n",
       "      <td>0.0</td>\n",
       "      <td>1.0</td>\n",
       "      <td>0.0</td>\n",
       "    </tr>\n",
       "    <tr>\n",
       "      <th>2</th>\n",
       "      <td>1.0</td>\n",
       "      <td>0.0</td>\n",
       "      <td>0.0</td>\n",
       "      <td>0.0</td>\n",
       "      <td>0.0</td>\n",
       "      <td>1.0</td>\n",
       "      <td>0.0</td>\n",
       "      <td>0.0</td>\n",
       "      <td>1.0</td>\n",
       "      <td>0.0</td>\n",
       "      <td>...</td>\n",
       "      <td>0.0</td>\n",
       "      <td>0.0</td>\n",
       "      <td>0.0</td>\n",
       "      <td>0.0</td>\n",
       "      <td>0.0</td>\n",
       "      <td>0.0</td>\n",
       "      <td>1.0</td>\n",
       "      <td>0.0</td>\n",
       "      <td>1.0</td>\n",
       "      <td>0.0</td>\n",
       "    </tr>\n",
       "    <tr>\n",
       "      <th>3</th>\n",
       "      <td>0.0</td>\n",
       "      <td>1.0</td>\n",
       "      <td>0.0</td>\n",
       "      <td>0.0</td>\n",
       "      <td>0.0</td>\n",
       "      <td>1.0</td>\n",
       "      <td>0.0</td>\n",
       "      <td>0.0</td>\n",
       "      <td>0.0</td>\n",
       "      <td>0.0</td>\n",
       "      <td>...</td>\n",
       "      <td>0.0</td>\n",
       "      <td>0.0</td>\n",
       "      <td>1.0</td>\n",
       "      <td>0.0</td>\n",
       "      <td>0.0</td>\n",
       "      <td>0.0</td>\n",
       "      <td>1.0</td>\n",
       "      <td>0.0</td>\n",
       "      <td>0.0</td>\n",
       "      <td>1.0</td>\n",
       "    </tr>\n",
       "    <tr>\n",
       "      <th>4</th>\n",
       "      <td>1.0</td>\n",
       "      <td>0.0</td>\n",
       "      <td>0.0</td>\n",
       "      <td>0.0</td>\n",
       "      <td>0.0</td>\n",
       "      <td>0.0</td>\n",
       "      <td>1.0</td>\n",
       "      <td>0.0</td>\n",
       "      <td>0.0</td>\n",
       "      <td>1.0</td>\n",
       "      <td>...</td>\n",
       "      <td>0.0</td>\n",
       "      <td>0.0</td>\n",
       "      <td>0.0</td>\n",
       "      <td>0.0</td>\n",
       "      <td>0.0</td>\n",
       "      <td>0.0</td>\n",
       "      <td>0.0</td>\n",
       "      <td>1.0</td>\n",
       "      <td>1.0</td>\n",
       "      <td>0.0</td>\n",
       "    </tr>\n",
       "  </tbody>\n",
       "</table>\n",
       "<p>5 rows × 28 columns</p>\n",
       "</div>"
      ],
      "text/plain": [
       "   tread_type_0  tread_type_1  tread_type_2  tread_type_3  tread_type_4  \\\n",
       "0           1.0           0.0           0.0           0.0           0.0   \n",
       "1           0.0           0.0           1.0           0.0           0.0   \n",
       "2           1.0           0.0           0.0           0.0           0.0   \n",
       "3           0.0           1.0           0.0           0.0           0.0   \n",
       "4           1.0           0.0           0.0           0.0           0.0   \n",
       "\n",
       "   tyre_season_0  tyre_season_1  tread_depth_0  tread_depth_1  tread_depth_2  \\\n",
       "0            0.0            1.0            1.0            0.0            0.0   \n",
       "1            1.0            0.0            0.0            1.0            0.0   \n",
       "2            1.0            0.0            0.0            1.0            0.0   \n",
       "3            1.0            0.0            0.0            0.0            0.0   \n",
       "4            0.0            1.0            0.0            0.0            1.0   \n",
       "\n",
       "   ...  month_5  month_6  month_7  month_8  month_9  wiring_strength_0  \\\n",
       "0  ...      0.0      0.0      0.0      1.0      0.0                0.0   \n",
       "1  ...      0.0      0.0      0.0      0.0      0.0                0.0   \n",
       "2  ...      0.0      0.0      0.0      0.0      0.0                0.0   \n",
       "3  ...      0.0      0.0      1.0      0.0      0.0                0.0   \n",
       "4  ...      0.0      0.0      0.0      0.0      0.0                0.0   \n",
       "\n",
       "   wiring_strength_1  wiring_strength_2  tyre_quality_0  tyre_quality_1  \n",
       "0                1.0                0.0             0.0             1.0  \n",
       "1                1.0                0.0             1.0             0.0  \n",
       "2                1.0                0.0             1.0             0.0  \n",
       "3                1.0                0.0             0.0             1.0  \n",
       "4                0.0                1.0             1.0             0.0  \n",
       "\n",
       "[5 rows x 28 columns]"
      ]
     },
     "execution_count": 11,
     "metadata": {},
     "output_type": "execute_result"
    }
   ],
   "source": [
    "from sklearn.preprocessing import OneHotEncoder\n",
    "encod = OneHotEncoder(handle_unknown='ignore')\n",
    "\n",
    "data_dummies=pd.DataFrame()\n",
    "for i in range(len(selection_categorical)):\n",
    "    encod.fit(data_dropped[[selection_categorical[i]]].astype(str))\n",
    "    dummies = encod.transform(data_dropped[[selection_categorical[i]]].astype(str)).toarray()\n",
    "    for k in range(len(encod.categories_[0])):\n",
    "        encod.categories_[0][k]=selection_categorical[i]+\"_\"+str(encod.categories_[0][k])\n",
    "    data_dummies=pd.concat([data_dummies,pd.DataFrame(dummies,columns=encod.categories_[0])],axis=1)\n",
    "    \n",
    "data_dummies.head()"
   ]
  },
  {
   "cell_type": "markdown",
   "id": "ecd90de4",
   "metadata": {},
   "source": [
    "## Numerical Variables"
   ]
  },
  {
   "cell_type": "markdown",
   "id": "eeb8e7b8",
   "metadata": {},
   "source": [
    "We select the numerical variables based on the Dataset description, without the variable \"diameter\" that has been eliminated previously."
   ]
  },
  {
   "cell_type": "code",
   "execution_count": 12,
   "id": "d416d10d",
   "metadata": {},
   "outputs": [
    {
     "data": {
      "text/html": [
       "<div>\n",
       "<style scoped>\n",
       "    .dataframe tbody tr th:only-of-type {\n",
       "        vertical-align: middle;\n",
       "    }\n",
       "\n",
       "    .dataframe tbody tr th {\n",
       "        vertical-align: top;\n",
       "    }\n",
       "\n",
       "    .dataframe thead th {\n",
       "        text-align: right;\n",
       "    }\n",
       "</style>\n",
       "<table border=\"1\" class=\"dataframe\">\n",
       "  <thead>\n",
       "    <tr style=\"text-align: right;\">\n",
       "      <th></th>\n",
       "      <th>vulc</th>\n",
       "      <th>perc_nat_rubber</th>\n",
       "      <th>weather</th>\n",
       "      <th>perc_imp</th>\n",
       "      <th>temperature</th>\n",
       "      <th>elevation</th>\n",
       "      <th>perc_exp_comp</th>\n",
       "      <th>failure</th>\n",
       "    </tr>\n",
       "  </thead>\n",
       "  <tbody>\n",
       "    <tr>\n",
       "      <th>0</th>\n",
       "      <td>17.990</td>\n",
       "      <td>26</td>\n",
       "      <td>0.16</td>\n",
       "      <td>0.01</td>\n",
       "      <td>-8.12</td>\n",
       "      <td>332.5</td>\n",
       "      <td>5.13</td>\n",
       "      <td>0</td>\n",
       "    </tr>\n",
       "    <tr>\n",
       "      <th>1</th>\n",
       "      <td>20.704</td>\n",
       "      <td>36</td>\n",
       "      <td>0.30</td>\n",
       "      <td>0.01</td>\n",
       "      <td>-4.52</td>\n",
       "      <td>328.0</td>\n",
       "      <td>6.15</td>\n",
       "      <td>0</td>\n",
       "    </tr>\n",
       "    <tr>\n",
       "      <th>2</th>\n",
       "      <td>19.156</td>\n",
       "      <td>34</td>\n",
       "      <td>0.30</td>\n",
       "      <td>0.01</td>\n",
       "      <td>-1.08</td>\n",
       "      <td>247.0</td>\n",
       "      <td>6.36</td>\n",
       "      <td>0</td>\n",
       "    </tr>\n",
       "    <tr>\n",
       "      <th>3</th>\n",
       "      <td>16.802</td>\n",
       "      <td>35</td>\n",
       "      <td>0.19</td>\n",
       "      <td>0.02</td>\n",
       "      <td>7.44</td>\n",
       "      <td>408.0</td>\n",
       "      <td>6.62</td>\n",
       "      <td>0</td>\n",
       "    </tr>\n",
       "    <tr>\n",
       "      <th>4</th>\n",
       "      <td>17.140</td>\n",
       "      <td>23</td>\n",
       "      <td>0.39</td>\n",
       "      <td>0.01</td>\n",
       "      <td>30.52</td>\n",
       "      <td>308.0</td>\n",
       "      <td>6.15</td>\n",
       "      <td>0</td>\n",
       "    </tr>\n",
       "  </tbody>\n",
       "</table>\n",
       "</div>"
      ],
      "text/plain": [
       "     vulc  perc_nat_rubber  weather  perc_imp  temperature  elevation  \\\n",
       "0  17.990               26     0.16      0.01        -8.12      332.5   \n",
       "1  20.704               36     0.30      0.01        -4.52      328.0   \n",
       "2  19.156               34     0.30      0.01        -1.08      247.0   \n",
       "3  16.802               35     0.19      0.02         7.44      408.0   \n",
       "4  17.140               23     0.39      0.01        30.52      308.0   \n",
       "\n",
       "   perc_exp_comp  failure  \n",
       "0           5.13        0  \n",
       "1           6.15        0  \n",
       "2           6.36        0  \n",
       "3           6.62        0  \n",
       "4           6.15        0  "
      ]
     },
     "execution_count": 12,
     "metadata": {},
     "output_type": "execute_result"
    }
   ],
   "source": [
    "selection_numerical=['vulc', 'perc_nat_rubber', 'weather', 'perc_imp', 'temperature', 'elevation',\n",
    "       'perc_exp_comp','failure']\n",
    "data_numerical=data_dropped[selection_numerical]\n",
    "data_numerical.head()"
   ]
  },
  {
   "cell_type": "code",
   "execution_count": 13,
   "id": "609639ec",
   "metadata": {},
   "outputs": [
    {
     "name": "stdout",
     "output_type": "stream",
     "text": [
      "(1992, 8)\n",
      "(1008, 8)\n"
     ]
    },
    {
     "data": {
      "image/png": "[encoded data removed]",
      "text/plain": [
       "<Figure size 1440x576 with 7 Axes>"
      ]
     },
     "metadata": {},
     "output_type": "display_data"
    }
   ],
   "source": [
    "# Visualize numerical variables\n",
    "X0 = data_numerical[data_numerical['failure']==0]\n",
    "X1 = data_numerical[data_numerical['failure']==1]\n",
    "print(X0.shape)\n",
    "print(X1.shape)\n",
    "fig, axes = plt.subplots(ncols=7, nrows=1, figsize=(20,8))\n",
    "fig.tight_layout()\n",
    "\n",
    "data_num = data_numerical.iloc[:,0:-1]\n",
    "\n",
    "for i, ax in zip(range(data_num.columns.size), axes.flat):\n",
    "    sns.histplot(X0.iloc[:,i], color=\"blue\", ax=ax, stat='density', element=\"step\",  alpha=0.3)\n",
    "    sns.histplot(X1.iloc[:,i], color=\"red\", ax=ax,stat='density', element=\"step\",  alpha=0.3)\n",
    "plt.show()\n"
   ]
  },
  {
   "cell_type": "markdown",
   "id": "d298f1f8",
   "metadata": {},
   "source": [
    "The variable \"elevation\" has the same distibution on the observations with target 0 and 1, so we eliminate it because it is not influent in the the analysis of the classification task."
   ]
  },
  {
   "cell_type": "code",
   "execution_count": null,
   "id": "6674b6d7",
   "metadata": {},
   "outputs": [],
   "source": [
    "# elevation has the same distibution on target 0 and 1 --> we eliminate it because not important for the analysis\n",
    "#e=\"elevation\"\n",
    "#data_numerical = data_numerical.drop(columns=e)"
   ]
  },
  {
   "cell_type": "code",
   "execution_count": 14,
   "id": "d2ed4fd5",
   "metadata": {},
   "outputs": [
    {
     "data": {
      "image/png": "[encoded data removed]",
      "text/plain": [
       "<Figure size 1080x864 with 16 Axes>"
      ]
     },
     "metadata": {},
     "output_type": "display_data"
    }
   ],
   "source": [
    "data_hist=data_numerical.hist(layout=(4,4), figsize=(15,12))"
   ]
  },
  {
   "cell_type": "markdown",
   "id": "9fa074a8",
   "metadata": {},
   "source": [
    "The variables present a quite symmetric distribution; some of them is slighy right skewed but does not present an exponential decrease, so we try take the original distribution without applying any logaritmic distribution."
   ]
  },
  {
   "cell_type": "code",
   "execution_count": 15,
   "id": "5f3dde36",
   "metadata": {},
   "outputs": [
    {
     "data": {
      "text/plain": [
       "<AxesSubplot:>"
      ]
     },
     "execution_count": 15,
     "metadata": {},
     "output_type": "execute_result"
    },
    {
     "data": {
      "image/png": "[encoded data removed]",
      "text/plain": [
       "<Figure size 432x288 with 1 Axes>"
      ]
     },
     "metadata": {},
     "output_type": "display_data"
    }
   ],
   "source": [
    "data_numerical.boxplot(rot=90)"
   ]
  },
  {
   "cell_type": "markdown",
   "id": "68abe646",
   "metadata": {},
   "source": [
    "The scale of numerical variables is too different, so we will scale the train set in a next step and apply the same scaler on the test set."
   ]
  },
  {
   "cell_type": "markdown",
   "id": "35562120",
   "metadata": {},
   "source": [
    "Now that all the transormation on the original Dataset are concluded, we can create the final Dataset with all the modifications and target variable included"
   ]
  },
  {
   "cell_type": "code",
   "execution_count": 16,
   "id": "94a8559e",
   "metadata": {},
   "outputs": [
    {
     "data": {
      "text/html": [
       "<div>\n",
       "<style scoped>\n",
       "    .dataframe tbody tr th:only-of-type {\n",
       "        vertical-align: middle;\n",
       "    }\n",
       "\n",
       "    .dataframe tbody tr th {\n",
       "        vertical-align: top;\n",
       "    }\n",
       "\n",
       "    .dataframe thead th {\n",
       "        text-align: right;\n",
       "    }\n",
       "</style>\n",
       "<table border=\"1\" class=\"dataframe\">\n",
       "  <thead>\n",
       "    <tr style=\"text-align: right;\">\n",
       "      <th></th>\n",
       "      <th>tread_type_0</th>\n",
       "      <th>tread_type_1</th>\n",
       "      <th>tread_type_2</th>\n",
       "      <th>tread_type_3</th>\n",
       "      <th>tread_type_4</th>\n",
       "      <th>tyre_season_0</th>\n",
       "      <th>tyre_season_1</th>\n",
       "      <th>tread_depth_0</th>\n",
       "      <th>tread_depth_1</th>\n",
       "      <th>tread_depth_2</th>\n",
       "      <th>...</th>\n",
       "      <th>tyre_quality_0</th>\n",
       "      <th>tyre_quality_1</th>\n",
       "      <th>vulc</th>\n",
       "      <th>perc_nat_rubber</th>\n",
       "      <th>weather</th>\n",
       "      <th>perc_imp</th>\n",
       "      <th>temperature</th>\n",
       "      <th>elevation</th>\n",
       "      <th>perc_exp_comp</th>\n",
       "      <th>failure</th>\n",
       "    </tr>\n",
       "  </thead>\n",
       "  <tbody>\n",
       "    <tr>\n",
       "      <th>2995</th>\n",
       "      <td>0.0</td>\n",
       "      <td>1.0</td>\n",
       "      <td>0.0</td>\n",
       "      <td>0.0</td>\n",
       "      <td>0.0</td>\n",
       "      <td>0.0</td>\n",
       "      <td>1.0</td>\n",
       "      <td>0.0</td>\n",
       "      <td>1.0</td>\n",
       "      <td>0.0</td>\n",
       "      <td>...</td>\n",
       "      <td>0.0</td>\n",
       "      <td>1.0</td>\n",
       "      <td>17.818</td>\n",
       "      <td>29</td>\n",
       "      <td>0.39</td>\n",
       "      <td>0.01</td>\n",
       "      <td>7.28</td>\n",
       "      <td>287.5</td>\n",
       "      <td>5.68</td>\n",
       "      <td>1</td>\n",
       "    </tr>\n",
       "    <tr>\n",
       "      <th>2996</th>\n",
       "      <td>0.0</td>\n",
       "      <td>1.0</td>\n",
       "      <td>0.0</td>\n",
       "      <td>0.0</td>\n",
       "      <td>0.0</td>\n",
       "      <td>0.0</td>\n",
       "      <td>1.0</td>\n",
       "      <td>0.0</td>\n",
       "      <td>1.0</td>\n",
       "      <td>0.0</td>\n",
       "      <td>...</td>\n",
       "      <td>1.0</td>\n",
       "      <td>0.0</td>\n",
       "      <td>17.076</td>\n",
       "      <td>30</td>\n",
       "      <td>0.22</td>\n",
       "      <td>0.00</td>\n",
       "      <td>-1.44</td>\n",
       "      <td>152.5</td>\n",
       "      <td>5.81</td>\n",
       "      <td>1</td>\n",
       "    </tr>\n",
       "    <tr>\n",
       "      <th>2997</th>\n",
       "      <td>0.0</td>\n",
       "      <td>1.0</td>\n",
       "      <td>0.0</td>\n",
       "      <td>0.0</td>\n",
       "      <td>0.0</td>\n",
       "      <td>1.0</td>\n",
       "      <td>0.0</td>\n",
       "      <td>0.0</td>\n",
       "      <td>0.0</td>\n",
       "      <td>0.0</td>\n",
       "      <td>...</td>\n",
       "      <td>0.0</td>\n",
       "      <td>1.0</td>\n",
       "      <td>16.170</td>\n",
       "      <td>33</td>\n",
       "      <td>0.39</td>\n",
       "      <td>0.01</td>\n",
       "      <td>-3.44</td>\n",
       "      <td>235.0</td>\n",
       "      <td>5.57</td>\n",
       "      <td>0</td>\n",
       "    </tr>\n",
       "    <tr>\n",
       "      <th>2998</th>\n",
       "      <td>0.0</td>\n",
       "      <td>0.0</td>\n",
       "      <td>0.0</td>\n",
       "      <td>0.0</td>\n",
       "      <td>1.0</td>\n",
       "      <td>1.0</td>\n",
       "      <td>0.0</td>\n",
       "      <td>1.0</td>\n",
       "      <td>0.0</td>\n",
       "      <td>0.0</td>\n",
       "      <td>...</td>\n",
       "      <td>1.0</td>\n",
       "      <td>0.0</td>\n",
       "      <td>18.872</td>\n",
       "      <td>37</td>\n",
       "      <td>0.03</td>\n",
       "      <td>0.00</td>\n",
       "      <td>-0.76</td>\n",
       "      <td>290.0</td>\n",
       "      <td>5.89</td>\n",
       "      <td>0</td>\n",
       "    </tr>\n",
       "    <tr>\n",
       "      <th>2999</th>\n",
       "      <td>0.0</td>\n",
       "      <td>1.0</td>\n",
       "      <td>0.0</td>\n",
       "      <td>0.0</td>\n",
       "      <td>0.0</td>\n",
       "      <td>1.0</td>\n",
       "      <td>0.0</td>\n",
       "      <td>0.0</td>\n",
       "      <td>1.0</td>\n",
       "      <td>0.0</td>\n",
       "      <td>...</td>\n",
       "      <td>1.0</td>\n",
       "      <td>0.0</td>\n",
       "      <td>20.272</td>\n",
       "      <td>33</td>\n",
       "      <td>0.06</td>\n",
       "      <td>0.00</td>\n",
       "      <td>2.80</td>\n",
       "      <td>405.0</td>\n",
       "      <td>6.00</td>\n",
       "      <td>0</td>\n",
       "    </tr>\n",
       "  </tbody>\n",
       "</table>\n",
       "<p>5 rows × 36 columns</p>\n",
       "</div>"
      ],
      "text/plain": [
       "      tread_type_0  tread_type_1  tread_type_2  tread_type_3  tread_type_4  \\\n",
       "2995           0.0           1.0           0.0           0.0           0.0   \n",
       "2996           0.0           1.0           0.0           0.0           0.0   \n",
       "2997           0.0           1.0           0.0           0.0           0.0   \n",
       "2998           0.0           0.0           0.0           0.0           1.0   \n",
       "2999           0.0           1.0           0.0           0.0           0.0   \n",
       "\n",
       "      tyre_season_0  tyre_season_1  tread_depth_0  tread_depth_1  \\\n",
       "2995            0.0            1.0            0.0            1.0   \n",
       "2996            0.0            1.0            0.0            1.0   \n",
       "2997            1.0            0.0            0.0            0.0   \n",
       "2998            1.0            0.0            1.0            0.0   \n",
       "2999            1.0            0.0            0.0            1.0   \n",
       "\n",
       "      tread_depth_2  ...  tyre_quality_0  tyre_quality_1    vulc  \\\n",
       "2995            0.0  ...             0.0             1.0  17.818   \n",
       "2996            0.0  ...             1.0             0.0  17.076   \n",
       "2997            0.0  ...             0.0             1.0  16.170   \n",
       "2998            0.0  ...             1.0             0.0  18.872   \n",
       "2999            0.0  ...             1.0             0.0  20.272   \n",
       "\n",
       "      perc_nat_rubber  weather  perc_imp  temperature  elevation  \\\n",
       "2995               29     0.39      0.01         7.28      287.5   \n",
       "2996               30     0.22      0.00        -1.44      152.5   \n",
       "2997               33     0.39      0.01        -3.44      235.0   \n",
       "2998               37     0.03      0.00        -0.76      290.0   \n",
       "2999               33     0.06      0.00         2.80      405.0   \n",
       "\n",
       "      perc_exp_comp  failure  \n",
       "2995           5.68        1  \n",
       "2996           5.81        1  \n",
       "2997           5.57        0  \n",
       "2998           5.89        0  \n",
       "2999           6.00        0  \n",
       "\n",
       "[5 rows x 36 columns]"
      ]
     },
     "execution_count": 16,
     "metadata": {},
     "output_type": "execute_result"
    }
   ],
   "source": [
    "df=pd.concat([data_dummies,data_numerical],axis=1)\n",
    "df['failure']=data_dropped['failure']\n",
    "\n",
    "df.tail()"
   ]
  },
  {
   "cell_type": "markdown",
   "id": "b91c40dc",
   "metadata": {},
   "source": [
    "# Creation of Train and Test Sets"
   ]
  },
  {
   "cell_type": "code",
   "execution_count": 17,
   "id": "f6cc237e",
   "metadata": {},
   "outputs": [],
   "source": [
    "X = df.iloc[:,0:-1]\n",
    "y = df.iloc[:,-1] #[-1]]"
   ]
  },
  {
   "cell_type": "code",
   "execution_count": 18,
   "id": "70e7cd12",
   "metadata": {},
   "outputs": [
    {
     "name": "stdout",
     "output_type": "stream",
     "text": [
      "(2400, 35) (600, 35)\n"
     ]
    }
   ],
   "source": [
    "#SPLIT DATA INTO TRAIN AND TEST SET\n",
    "X_train1, X_test1, y_train1, y_test1 = train_test_split(X, y, \n",
    "                                                    test_size =0.20, \n",
    "                                                    #shuffle is set True by default,\n",
    "                                                    stratify=y, #preserve target proportions \n",
    "                                                    random_state= 42) \n",
    "\n",
    "print(X_train1.shape, X_test1.shape)"
   ]
  },
  {
   "cell_type": "markdown",
   "id": "4bcaf295",
   "metadata": {},
   "source": [
    "Now that the train set and the test set are separated we can scale tha numerical data on the train set and then apply the same scaler to the test set.\n",
    "\n",
    "Once we have the new data scaled, we drop the previous numerical data and substitute them with the new once."
   ]
  },
  {
   "cell_type": "code",
   "execution_count": 19,
   "id": "61b23c38",
   "metadata": {},
   "outputs": [
    {
     "name": "stdout",
     "output_type": "stream",
     "text": [
      "(600, 7) (2400, 7)\n"
     ]
    },
    {
     "data": {
      "text/html": [
       "<div>\n",
       "<style scoped>\n",
       "    .dataframe tbody tr th:only-of-type {\n",
       "        vertical-align: middle;\n",
       "    }\n",
       "\n",
       "    .dataframe tbody tr th {\n",
       "        vertical-align: top;\n",
       "    }\n",
       "\n",
       "    .dataframe thead th {\n",
       "        text-align: right;\n",
       "    }\n",
       "</style>\n",
       "<table border=\"1\" class=\"dataframe\">\n",
       "  <thead>\n",
       "    <tr style=\"text-align: right;\">\n",
       "      <th></th>\n",
       "      <th>vulc</th>\n",
       "      <th>perc_nat_rubber</th>\n",
       "      <th>weather</th>\n",
       "      <th>perc_imp</th>\n",
       "      <th>elevation</th>\n",
       "      <th>temperature</th>\n",
       "      <th>perc_exp_comp</th>\n",
       "    </tr>\n",
       "  </thead>\n",
       "  <tbody>\n",
       "    <tr>\n",
       "      <th>0</th>\n",
       "      <td>-0.299530</td>\n",
       "      <td>-1.644094</td>\n",
       "      <td>-0.656931</td>\n",
       "      <td>-0.316066</td>\n",
       "      <td>-0.627192</td>\n",
       "      <td>-0.877116</td>\n",
       "      <td>-1.436695</td>\n",
       "    </tr>\n",
       "    <tr>\n",
       "      <th>1</th>\n",
       "      <td>-0.266915</td>\n",
       "      <td>-1.241992</td>\n",
       "      <td>1.828084</td>\n",
       "      <td>2.514375</td>\n",
       "      <td>1.044878</td>\n",
       "      <td>1.782521</td>\n",
       "      <td>1.039006</td>\n",
       "    </tr>\n",
       "    <tr>\n",
       "      <th>2</th>\n",
       "      <td>-0.312074</td>\n",
       "      <td>-1.241992</td>\n",
       "      <td>-0.656931</td>\n",
       "      <td>-0.316066</td>\n",
       "      <td>0.239807</td>\n",
       "      <td>-0.945488</td>\n",
       "      <td>-1.703683</td>\n",
       "    </tr>\n",
       "    <tr>\n",
       "      <th>3</th>\n",
       "      <td>-0.818857</td>\n",
       "      <td>0.969568</td>\n",
       "      <td>0.585577</td>\n",
       "      <td>-0.316066</td>\n",
       "      <td>0.044244</td>\n",
       "      <td>0.339890</td>\n",
       "      <td>1.184635</td>\n",
       "    </tr>\n",
       "    <tr>\n",
       "      <th>4</th>\n",
       "      <td>-0.461349</td>\n",
       "      <td>-1.040941</td>\n",
       "      <td>0.585577</td>\n",
       "      <td>-0.316066</td>\n",
       "      <td>-0.529410</td>\n",
       "      <td>0.025383</td>\n",
       "      <td>-0.708548</td>\n",
       "    </tr>\n",
       "    <tr>\n",
       "      <th>5</th>\n",
       "      <td>-0.217993</td>\n",
       "      <td>-1.241992</td>\n",
       "      <td>-0.656931</td>\n",
       "      <td>-0.316066</td>\n",
       "      <td>-0.659786</td>\n",
       "      <td>-1.034370</td>\n",
       "      <td>-0.902721</td>\n",
       "    </tr>\n",
       "    <tr>\n",
       "      <th>6</th>\n",
       "      <td>-1.521328</td>\n",
       "      <td>1.773772</td>\n",
       "      <td>3.502768</td>\n",
       "      <td>1.806765</td>\n",
       "      <td>-0.620673</td>\n",
       "      <td>1.078299</td>\n",
       "      <td>2.252585</td>\n",
       "    </tr>\n",
       "    <tr>\n",
       "      <th>7</th>\n",
       "      <td>-0.151509</td>\n",
       "      <td>-1.443043</td>\n",
       "      <td>-0.656931</td>\n",
       "      <td>-0.316066</td>\n",
       "      <td>-0.236064</td>\n",
       "      <td>-1.061719</td>\n",
       "      <td>-1.752226</td>\n",
       "    </tr>\n",
       "    <tr>\n",
       "      <th>8</th>\n",
       "      <td>0.714036</td>\n",
       "      <td>0.969568</td>\n",
       "      <td>-1.305195</td>\n",
       "      <td>-0.316066</td>\n",
       "      <td>1.729350</td>\n",
       "      <td>0.189474</td>\n",
       "      <td>0.820561</td>\n",
       "    </tr>\n",
       "    <tr>\n",
       "      <th>9</th>\n",
       "      <td>-0.663310</td>\n",
       "      <td>-0.638839</td>\n",
       "      <td>0.477532</td>\n",
       "      <td>0.391544</td>\n",
       "      <td>0.565747</td>\n",
       "      <td>2.103866</td>\n",
       "      <td>2.592387</td>\n",
       "    </tr>\n",
       "  </tbody>\n",
       "</table>\n",
       "</div>"
      ],
      "text/plain": [
       "       vulc  perc_nat_rubber   weather  perc_imp  elevation  temperature  \\\n",
       "0 -0.299530        -1.644094 -0.656931 -0.316066  -0.627192    -0.877116   \n",
       "1 -0.266915        -1.241992  1.828084  2.514375   1.044878     1.782521   \n",
       "2 -0.312074        -1.241992 -0.656931 -0.316066   0.239807    -0.945488   \n",
       "3 -0.818857         0.969568  0.585577 -0.316066   0.044244     0.339890   \n",
       "4 -0.461349        -1.040941  0.585577 -0.316066  -0.529410     0.025383   \n",
       "5 -0.217993        -1.241992 -0.656931 -0.316066  -0.659786    -1.034370   \n",
       "6 -1.521328         1.773772  3.502768  1.806765  -0.620673     1.078299   \n",
       "7 -0.151509        -1.443043 -0.656931 -0.316066  -0.236064    -1.061719   \n",
       "8  0.714036         0.969568 -1.305195 -0.316066   1.729350     0.189474   \n",
       "9 -0.663310        -0.638839  0.477532  0.391544   0.565747     2.103866   \n",
       "\n",
       "   perc_exp_comp  \n",
       "0      -1.436695  \n",
       "1       1.039006  \n",
       "2      -1.703683  \n",
       "3       1.184635  \n",
       "4      -0.708548  \n",
       "5      -0.902721  \n",
       "6       2.252585  \n",
       "7      -1.752226  \n",
       "8       0.820561  \n",
       "9       2.592387  "
      ]
     },
     "execution_count": 19,
     "metadata": {},
     "output_type": "execute_result"
    }
   ],
   "source": [
    "# we have to scale the numerical variables of the train set --> then we apply the same scaler to the numerical variables of the test set\n",
    "numerical=['vulc','perc_nat_rubber', 'weather', 'perc_imp', 'elevation','temperature', 'perc_exp_comp']\n",
    "\n",
    "\n",
    "independent_variablesA=X_train1[numerical] #no target\n",
    "independent_variablesB=X_test1[numerical] #no target\n",
    "\n",
    "scaler_train = StandardScaler().fit(independent_variablesA) \n",
    "scaled_train = pd.DataFrame(scaler_train.transform(independent_variablesA))\n",
    "scaled_train.columns = independent_variablesA.columns\n",
    "\n",
    "scaled_test = pd.DataFrame(scaler_train.transform(independent_variablesB))\n",
    "scaled_test.columns = independent_variablesB.columns\n",
    "print(scaled_test.shape, scaled_train.shape)\n",
    "scaled_test.head(10)"
   ]
  },
  {
   "cell_type": "code",
   "execution_count": 20,
   "id": "d10fb51f",
   "metadata": {},
   "outputs": [
    {
     "data": {
      "text/plain": [
       "<AxesSubplot:>"
      ]
     },
     "execution_count": 20,
     "metadata": {},
     "output_type": "execute_result"
    },
    {
     "data": {
      "image/png": "[encoded data removed]",
      "text/plain": [
       "<Figure size 1080x360 with 2 Axes>"
      ]
     },
     "metadata": {},
     "output_type": "display_data"
    }
   ],
   "source": [
    "f, axes = plt.subplots(1, 2, figsize=(15,5))\n",
    "\n",
    "scaled_train.boxplot(rot=90,ax=axes[0])\n",
    "scaled_test.boxplot(rot=90,ax=axes[1])"
   ]
  },
  {
   "cell_type": "markdown",
   "id": "b49bdd8b",
   "metadata": {},
   "source": [
    "The two sets have been scaled correctly, so we can merge them with the categorical variables."
   ]
  },
  {
   "cell_type": "code",
   "execution_count": 21,
   "id": "4a7e0f2e",
   "metadata": {},
   "outputs": [
    {
     "name": "stdout",
     "output_type": "stream",
     "text": [
      "(600, 28) (2400, 28)\n"
     ]
    }
   ],
   "source": [
    "# subsitute original numerical variables with scaled numerical variables\n",
    "scaled_train.index= independent_variablesA.index\n",
    "scaled_test.index= independent_variablesB.index\n",
    "\n",
    "train_dropped = X_train1.drop(columns=numerical)\n",
    "test_dropped = X_test1.drop(columns=numerical)\n",
    "print(test_dropped.shape, train_dropped.shape)\n",
    "\n",
    "Xtrain2=pd.concat([train_dropped,scaled_train],axis=1)\n",
    "Xtest2=pd.concat([test_dropped,scaled_test],axis=1)\n"
   ]
  },
  {
   "cell_type": "code",
   "execution_count": 22,
   "id": "478e31dc",
   "metadata": {},
   "outputs": [
    {
     "name": "stdout",
     "output_type": "stream",
     "text": [
      "tread_type_0         0\n",
      "tread_type_1         0\n",
      "tread_type_2         0\n",
      "tread_type_3         0\n",
      "tread_type_4         0\n",
      "tyre_season_0        0\n",
      "tyre_season_1        0\n",
      "tread_depth_0        0\n",
      "tread_depth_1        0\n",
      "tread_depth_2        0\n",
      "tread_depth_3        0\n",
      "month_0              0\n",
      "month_1              0\n",
      "month_10             0\n",
      "month_11             0\n",
      "month_2              0\n",
      "month_3              0\n",
      "month_4              0\n",
      "month_5              0\n",
      "month_6              0\n",
      "month_7              0\n",
      "month_8              0\n",
      "month_9              0\n",
      "wiring_strength_0    0\n",
      "wiring_strength_1    0\n",
      "wiring_strength_2    0\n",
      "tyre_quality_0       0\n",
      "tyre_quality_1       0\n",
      "vulc                 0\n",
      "perc_nat_rubber      0\n",
      "weather              0\n",
      "perc_imp             0\n",
      "elevation            0\n",
      "temperature          0\n",
      "perc_exp_comp        0\n",
      "dtype: int64 tread_type_0         0\n",
      "tread_type_1         0\n",
      "tread_type_2         0\n",
      "tread_type_3         0\n",
      "tread_type_4         0\n",
      "tyre_season_0        0\n",
      "tyre_season_1        0\n",
      "tread_depth_0        0\n",
      "tread_depth_1        0\n",
      "tread_depth_2        0\n",
      "tread_depth_3        0\n",
      "month_0              0\n",
      "month_1              0\n",
      "month_10             0\n",
      "month_11             0\n",
      "month_2              0\n",
      "month_3              0\n",
      "month_4              0\n",
      "month_5              0\n",
      "month_6              0\n",
      "month_7              0\n",
      "month_8              0\n",
      "month_9              0\n",
      "wiring_strength_0    0\n",
      "wiring_strength_1    0\n",
      "wiring_strength_2    0\n",
      "tyre_quality_0       0\n",
      "tyre_quality_1       0\n",
      "vulc                 0\n",
      "perc_nat_rubber      0\n",
      "weather              0\n",
      "perc_imp             0\n",
      "elevation            0\n",
      "temperature          0\n",
      "perc_exp_comp        0\n",
      "dtype: int64\n"
     ]
    }
   ],
   "source": [
    "# check correct substitution\n",
    "print(Xtest2.isnull().sum(), Xtrain2.isnull().sum())"
   ]
  },
  {
   "cell_type": "markdown",
   "id": "c09e4d8c",
   "metadata": {},
   "source": [
    "The substitution has been executed correctly so we can create the new scaled train and test sets."
   ]
  },
  {
   "cell_type": "code",
   "execution_count": 23,
   "id": "78603925",
   "metadata": {},
   "outputs": [
    {
     "data": {
      "text/html": [
       "<div>\n",
       "<style scoped>\n",
       "    .dataframe tbody tr th:only-of-type {\n",
       "        vertical-align: middle;\n",
       "    }\n",
       "\n",
       "    .dataframe tbody tr th {\n",
       "        vertical-align: top;\n",
       "    }\n",
       "\n",
       "    .dataframe thead th {\n",
       "        text-align: right;\n",
       "    }\n",
       "</style>\n",
       "<table border=\"1\" class=\"dataframe\">\n",
       "  <thead>\n",
       "    <tr style=\"text-align: right;\">\n",
       "      <th></th>\n",
       "      <th>tread_type_0</th>\n",
       "      <th>tread_type_1</th>\n",
       "      <th>tread_type_2</th>\n",
       "      <th>tread_type_3</th>\n",
       "      <th>tread_type_4</th>\n",
       "      <th>tyre_season_0</th>\n",
       "      <th>tyre_season_1</th>\n",
       "      <th>tread_depth_0</th>\n",
       "      <th>tread_depth_1</th>\n",
       "      <th>tread_depth_2</th>\n",
       "      <th>...</th>\n",
       "      <th>tyre_quality_0</th>\n",
       "      <th>tyre_quality_1</th>\n",
       "      <th>vulc</th>\n",
       "      <th>perc_nat_rubber</th>\n",
       "      <th>weather</th>\n",
       "      <th>perc_imp</th>\n",
       "      <th>elevation</th>\n",
       "      <th>temperature</th>\n",
       "      <th>perc_exp_comp</th>\n",
       "      <th>failure</th>\n",
       "    </tr>\n",
       "  </thead>\n",
       "  <tbody>\n",
       "    <tr>\n",
       "      <th>2448</th>\n",
       "      <td>1.0</td>\n",
       "      <td>0.0</td>\n",
       "      <td>0.0</td>\n",
       "      <td>0.0</td>\n",
       "      <td>0.0</td>\n",
       "      <td>0.0</td>\n",
       "      <td>1.0</td>\n",
       "      <td>1.0</td>\n",
       "      <td>0.0</td>\n",
       "      <td>0.0</td>\n",
       "      <td>...</td>\n",
       "      <td>0.0</td>\n",
       "      <td>1.0</td>\n",
       "      <td>-0.299530</td>\n",
       "      <td>-1.644094</td>\n",
       "      <td>-0.656931</td>\n",
       "      <td>-0.316066</td>\n",
       "      <td>-0.627192</td>\n",
       "      <td>-0.877116</td>\n",
       "      <td>-1.436695</td>\n",
       "      <td>0</td>\n",
       "    </tr>\n",
       "    <tr>\n",
       "      <th>982</th>\n",
       "      <td>0.0</td>\n",
       "      <td>0.0</td>\n",
       "      <td>0.0</td>\n",
       "      <td>0.0</td>\n",
       "      <td>1.0</td>\n",
       "      <td>0.0</td>\n",
       "      <td>1.0</td>\n",
       "      <td>1.0</td>\n",
       "      <td>0.0</td>\n",
       "      <td>0.0</td>\n",
       "      <td>...</td>\n",
       "      <td>1.0</td>\n",
       "      <td>0.0</td>\n",
       "      <td>-0.266915</td>\n",
       "      <td>-1.241992</td>\n",
       "      <td>1.828084</td>\n",
       "      <td>2.514375</td>\n",
       "      <td>1.044878</td>\n",
       "      <td>1.782521</td>\n",
       "      <td>1.039006</td>\n",
       "      <td>1</td>\n",
       "    </tr>\n",
       "    <tr>\n",
       "      <th>773</th>\n",
       "      <td>1.0</td>\n",
       "      <td>0.0</td>\n",
       "      <td>0.0</td>\n",
       "      <td>0.0</td>\n",
       "      <td>0.0</td>\n",
       "      <td>0.0</td>\n",
       "      <td>1.0</td>\n",
       "      <td>1.0</td>\n",
       "      <td>0.0</td>\n",
       "      <td>0.0</td>\n",
       "      <td>...</td>\n",
       "      <td>0.0</td>\n",
       "      <td>1.0</td>\n",
       "      <td>-0.312074</td>\n",
       "      <td>-1.241992</td>\n",
       "      <td>-0.656931</td>\n",
       "      <td>-0.316066</td>\n",
       "      <td>0.239807</td>\n",
       "      <td>-0.945488</td>\n",
       "      <td>-1.703683</td>\n",
       "      <td>0</td>\n",
       "    </tr>\n",
       "    <tr>\n",
       "      <th>901</th>\n",
       "      <td>0.0</td>\n",
       "      <td>0.0</td>\n",
       "      <td>0.0</td>\n",
       "      <td>0.0</td>\n",
       "      <td>1.0</td>\n",
       "      <td>1.0</td>\n",
       "      <td>0.0</td>\n",
       "      <td>0.0</td>\n",
       "      <td>0.0</td>\n",
       "      <td>0.0</td>\n",
       "      <td>...</td>\n",
       "      <td>1.0</td>\n",
       "      <td>0.0</td>\n",
       "      <td>-0.818857</td>\n",
       "      <td>0.969568</td>\n",
       "      <td>0.585577</td>\n",
       "      <td>-0.316066</td>\n",
       "      <td>0.044244</td>\n",
       "      <td>0.339890</td>\n",
       "      <td>1.184635</td>\n",
       "      <td>1</td>\n",
       "    </tr>\n",
       "    <tr>\n",
       "      <th>399</th>\n",
       "      <td>1.0</td>\n",
       "      <td>0.0</td>\n",
       "      <td>0.0</td>\n",
       "      <td>0.0</td>\n",
       "      <td>0.0</td>\n",
       "      <td>0.0</td>\n",
       "      <td>1.0</td>\n",
       "      <td>1.0</td>\n",
       "      <td>0.0</td>\n",
       "      <td>0.0</td>\n",
       "      <td>...</td>\n",
       "      <td>1.0</td>\n",
       "      <td>0.0</td>\n",
       "      <td>-0.461349</td>\n",
       "      <td>-1.040941</td>\n",
       "      <td>0.585577</td>\n",
       "      <td>-0.316066</td>\n",
       "      <td>-0.529410</td>\n",
       "      <td>0.025383</td>\n",
       "      <td>-0.708548</td>\n",
       "      <td>1</td>\n",
       "    </tr>\n",
       "    <tr>\n",
       "      <th>2297</th>\n",
       "      <td>1.0</td>\n",
       "      <td>0.0</td>\n",
       "      <td>0.0</td>\n",
       "      <td>0.0</td>\n",
       "      <td>0.0</td>\n",
       "      <td>0.0</td>\n",
       "      <td>1.0</td>\n",
       "      <td>1.0</td>\n",
       "      <td>0.0</td>\n",
       "      <td>0.0</td>\n",
       "      <td>...</td>\n",
       "      <td>0.0</td>\n",
       "      <td>1.0</td>\n",
       "      <td>-0.217993</td>\n",
       "      <td>-1.241992</td>\n",
       "      <td>-0.656931</td>\n",
       "      <td>-0.316066</td>\n",
       "      <td>-0.659786</td>\n",
       "      <td>-1.034370</td>\n",
       "      <td>-0.902721</td>\n",
       "      <td>0</td>\n",
       "    </tr>\n",
       "    <tr>\n",
       "      <th>1615</th>\n",
       "      <td>0.0</td>\n",
       "      <td>0.0</td>\n",
       "      <td>1.0</td>\n",
       "      <td>0.0</td>\n",
       "      <td>0.0</td>\n",
       "      <td>1.0</td>\n",
       "      <td>0.0</td>\n",
       "      <td>0.0</td>\n",
       "      <td>0.0</td>\n",
       "      <td>0.0</td>\n",
       "      <td>...</td>\n",
       "      <td>1.0</td>\n",
       "      <td>0.0</td>\n",
       "      <td>-1.521328</td>\n",
       "      <td>1.773772</td>\n",
       "      <td>3.502768</td>\n",
       "      <td>1.806765</td>\n",
       "      <td>-0.620673</td>\n",
       "      <td>1.078299</td>\n",
       "      <td>2.252585</td>\n",
       "      <td>1</td>\n",
       "    </tr>\n",
       "    <tr>\n",
       "      <th>2109</th>\n",
       "      <td>1.0</td>\n",
       "      <td>0.0</td>\n",
       "      <td>0.0</td>\n",
       "      <td>0.0</td>\n",
       "      <td>0.0</td>\n",
       "      <td>0.0</td>\n",
       "      <td>1.0</td>\n",
       "      <td>1.0</td>\n",
       "      <td>0.0</td>\n",
       "      <td>0.0</td>\n",
       "      <td>...</td>\n",
       "      <td>0.0</td>\n",
       "      <td>1.0</td>\n",
       "      <td>-0.151509</td>\n",
       "      <td>-1.443043</td>\n",
       "      <td>-0.656931</td>\n",
       "      <td>-0.316066</td>\n",
       "      <td>-0.236064</td>\n",
       "      <td>-1.061719</td>\n",
       "      <td>-1.752226</td>\n",
       "      <td>0</td>\n",
       "    </tr>\n",
       "    <tr>\n",
       "      <th>1042</th>\n",
       "      <td>0.0</td>\n",
       "      <td>1.0</td>\n",
       "      <td>0.0</td>\n",
       "      <td>0.0</td>\n",
       "      <td>0.0</td>\n",
       "      <td>0.0</td>\n",
       "      <td>1.0</td>\n",
       "      <td>0.0</td>\n",
       "      <td>0.0</td>\n",
       "      <td>0.0</td>\n",
       "      <td>...</td>\n",
       "      <td>1.0</td>\n",
       "      <td>0.0</td>\n",
       "      <td>0.714036</td>\n",
       "      <td>0.969568</td>\n",
       "      <td>-1.305195</td>\n",
       "      <td>-0.316066</td>\n",
       "      <td>1.729350</td>\n",
       "      <td>0.189474</td>\n",
       "      <td>0.820561</td>\n",
       "      <td>0</td>\n",
       "    </tr>\n",
       "    <tr>\n",
       "      <th>17</th>\n",
       "      <td>0.0</td>\n",
       "      <td>0.0</td>\n",
       "      <td>1.0</td>\n",
       "      <td>0.0</td>\n",
       "      <td>0.0</td>\n",
       "      <td>0.0</td>\n",
       "      <td>1.0</td>\n",
       "      <td>0.0</td>\n",
       "      <td>0.0</td>\n",
       "      <td>1.0</td>\n",
       "      <td>...</td>\n",
       "      <td>1.0</td>\n",
       "      <td>0.0</td>\n",
       "      <td>-0.663310</td>\n",
       "      <td>-0.638839</td>\n",
       "      <td>0.477532</td>\n",
       "      <td>0.391544</td>\n",
       "      <td>0.565747</td>\n",
       "      <td>2.103866</td>\n",
       "      <td>2.592387</td>\n",
       "      <td>1</td>\n",
       "    </tr>\n",
       "  </tbody>\n",
       "</table>\n",
       "<p>10 rows × 36 columns</p>\n",
       "</div>"
      ],
      "text/plain": [
       "      tread_type_0  tread_type_1  tread_type_2  tread_type_3  tread_type_4  \\\n",
       "2448           1.0           0.0           0.0           0.0           0.0   \n",
       "982            0.0           0.0           0.0           0.0           1.0   \n",
       "773            1.0           0.0           0.0           0.0           0.0   \n",
       "901            0.0           0.0           0.0           0.0           1.0   \n",
       "399            1.0           0.0           0.0           0.0           0.0   \n",
       "2297           1.0           0.0           0.0           0.0           0.0   \n",
       "1615           0.0           0.0           1.0           0.0           0.0   \n",
       "2109           1.0           0.0           0.0           0.0           0.0   \n",
       "1042           0.0           1.0           0.0           0.0           0.0   \n",
       "17             0.0           0.0           1.0           0.0           0.0   \n",
       "\n",
       "      tyre_season_0  tyre_season_1  tread_depth_0  tread_depth_1  \\\n",
       "2448            0.0            1.0            1.0            0.0   \n",
       "982             0.0            1.0            1.0            0.0   \n",
       "773             0.0            1.0            1.0            0.0   \n",
       "901             1.0            0.0            0.0            0.0   \n",
       "399             0.0            1.0            1.0            0.0   \n",
       "2297            0.0            1.0            1.0            0.0   \n",
       "1615            1.0            0.0            0.0            0.0   \n",
       "2109            0.0            1.0            1.0            0.0   \n",
       "1042            0.0            1.0            0.0            0.0   \n",
       "17              0.0            1.0            0.0            0.0   \n",
       "\n",
       "      tread_depth_2  ...  tyre_quality_0  tyre_quality_1      vulc  \\\n",
       "2448            0.0  ...             0.0             1.0 -0.299530   \n",
       "982             0.0  ...             1.0             0.0 -0.266915   \n",
       "773             0.0  ...             0.0             1.0 -0.312074   \n",
       "901             0.0  ...             1.0             0.0 -0.818857   \n",
       "399             0.0  ...             1.0             0.0 -0.461349   \n",
       "2297            0.0  ...             0.0             1.0 -0.217993   \n",
       "1615            0.0  ...             1.0             0.0 -1.521328   \n",
       "2109            0.0  ...             0.0             1.0 -0.151509   \n",
       "1042            0.0  ...             1.0             0.0  0.714036   \n",
       "17              1.0  ...             1.0             0.0 -0.663310   \n",
       "\n",
       "      perc_nat_rubber   weather  perc_imp  elevation  temperature  \\\n",
       "2448        -1.644094 -0.656931 -0.316066  -0.627192    -0.877116   \n",
       "982         -1.241992  1.828084  2.514375   1.044878     1.782521   \n",
       "773         -1.241992 -0.656931 -0.316066   0.239807    -0.945488   \n",
       "901          0.969568  0.585577 -0.316066   0.044244     0.339890   \n",
       "399         -1.040941  0.585577 -0.316066  -0.529410     0.025383   \n",
       "2297        -1.241992 -0.656931 -0.316066  -0.659786    -1.034370   \n",
       "1615         1.773772  3.502768  1.806765  -0.620673     1.078299   \n",
       "2109        -1.443043 -0.656931 -0.316066  -0.236064    -1.061719   \n",
       "1042         0.969568 -1.305195 -0.316066   1.729350     0.189474   \n",
       "17          -0.638839  0.477532  0.391544   0.565747     2.103866   \n",
       "\n",
       "      perc_exp_comp  failure  \n",
       "2448      -1.436695        0  \n",
       "982        1.039006        1  \n",
       "773       -1.703683        0  \n",
       "901        1.184635        1  \n",
       "399       -0.708548        1  \n",
       "2297      -0.902721        0  \n",
       "1615       2.252585        1  \n",
       "2109      -1.752226        0  \n",
       "1042       0.820561        0  \n",
       "17         2.592387        1  \n",
       "\n",
       "[10 rows x 36 columns]"
      ]
     },
     "execution_count": 23,
     "metadata": {},
     "output_type": "execute_result"
    }
   ],
   "source": [
    "# create new scaled datasets\n",
    "df_train=pd.concat([Xtrain2,y_train1],axis=1)\n",
    "df_test=pd.concat([Xtest2,y_test1], axis=1)\n",
    "\n",
    "df_test.head(10)"
   ]
  },
  {
   "cell_type": "code",
   "execution_count": 24,
   "id": "25d798d0",
   "metadata": {},
   "outputs": [
    {
     "data": {
      "image/png": "[encoded data removed]",
      "text/plain": [
       "<Figure size 432x288 with 1 Axes>"
      ]
     },
     "metadata": {},
     "output_type": "display_data"
    },
    {
     "data": {
      "text/plain": [
       "0    1594\n",
       "1     806\n",
       "Name: failure, dtype: int64"
      ]
     },
     "execution_count": 24,
     "metadata": {},
     "output_type": "execute_result"
    }
   ],
   "source": [
    "plt.hist(y_train1)\n",
    "plt.xlabel(\"count of each class\")\n",
    "plt.ylabel(\"classes\")\n",
    "plt.show()\n",
    "df_train.failure.value_counts()"
   ]
  },
  {
   "cell_type": "markdown",
   "id": "8ed14c62",
   "metadata": {},
   "source": [
    "The original Dataset was unbalanced and the train set (randomly generated from the original one) remains unbalanced, so we can try to perform oversampling on target 1 to see if the F1 score gets better during identificaiton of the best model."
   ]
  },
  {
   "cell_type": "code",
   "execution_count": 25,
   "id": "ef12c24a",
   "metadata": {},
   "outputs": [
    {
     "name": "stdout",
     "output_type": "stream",
     "text": [
      "1594 806\n"
     ]
    },
    {
     "data": {
      "text/plain": [
       "0    1594\n",
       "1    1300\n",
       "Name: failure, dtype: int64"
      ]
     },
     "execution_count": 25,
     "metadata": {},
     "output_type": "execute_result"
    }
   ],
   "source": [
    "#resample train set\n",
    "df_majority = df_train[df_train.failure==0]\n",
    "df_minority = df_train[df_train.failure==1] \n",
    "print(df_majority.shape[0],df_minority.shape[0])\n",
    "\n",
    "df_minority_overs = resample(df_minority, \n",
    "                                replace=True,\n",
    "                                n_samples=1300, # not complete oversampling\n",
    "                                random_state=42)  \n",
    "\n",
    "df_overs_train = pd.concat([df_minority_overs, df_majority])\n",
    "\n",
    "df_overs_train.failure.value_counts()\n"
   ]
  },
  {
   "cell_type": "code",
   "execution_count": 26,
   "id": "5ac08052",
   "metadata": {},
   "outputs": [],
   "source": [
    "from sklearn.utils import shuffle\n",
    "df_oversampled_train = shuffle(df_overs_train)"
   ]
  },
  {
   "cell_type": "markdown",
   "id": "049fc32c",
   "metadata": {},
   "source": [
    "We will try to perform the identification of the best model of the oversampled data and the non-oversampled data, to compare the 2 F1 score; so we idenfify 2 different DataFrames to be used as train and 1 single DataFrame to be used as Test set. "
   ]
  },
  {
   "cell_type": "code",
   "execution_count": 27,
   "id": "8ab41adb",
   "metadata": {},
   "outputs": [
    {
     "name": "stdout",
     "output_type": "stream",
     "text": [
      "(2894, 35) (2400, 35) (600, 35)\n"
     ]
    }
   ],
   "source": [
    "#Separate X and y on the new DataFrames\n",
    "# Dataframes with oversample\n",
    "X2_train=df_overs_train.iloc[:,0:-1]\n",
    "y2_train=df_overs_train.iloc[:,-1]\n",
    "\n",
    "#DataFrames without oversample\n",
    "X_train=df_train.iloc[:,0:-1]\n",
    "y_train=df_train.iloc[:,-1]\n",
    "\n",
    "X_test = df_test.iloc[:,0:-1]\n",
    "y_test = df_test.iloc[:,-1]\n",
    "\n",
    "print(X2_train.shape,X_train.shape,X_test.shape)"
   ]
  },
  {
   "cell_type": "markdown",
   "id": "3f9257db",
   "metadata": {},
   "source": [
    "# Models "
   ]
  },
  {
   "cell_type": "markdown",
   "id": "d5ec164b",
   "metadata": {},
   "source": [
    "## Needed functions "
   ]
  },
  {
   "cell_type": "markdown",
   "id": "bb1dd49f",
   "metadata": {},
   "source": [
    "Here we define some functions that will be used in the following analysis to perform the search of the best parameters and the visualization of the ROC curve"
   ]
  },
  {
   "cell_type": "code",
   "execution_count": 28,
   "id": "d638e694",
   "metadata": {},
   "outputs": [],
   "source": [
    "from sklearn.model_selection import GridSearchCV\n",
    "from sklearn.metrics import confusion_matrix\n",
    "from sklearn.metrics import classification_report\n",
    "from sklearn import metrics \n",
    "from sklearn.metrics import f1_score\n",
    "from sklearn.metrics import precision_score"
   ]
  },
  {
   "cell_type": "code",
   "execution_count": 52,
   "id": "91d357df",
   "metadata": {},
   "outputs": [],
   "source": [
    "def hyperp_search(classifier, parameters):\n",
    "    gs = GridSearchCV(classifier, parameters, cv=3, scoring = 'f1', verbose=0, n_jobs=-1)\n",
    "    gs = gs.fit(X_train, y_train)\n",
    "    print(\"f1_train: %f using %s\" % (gs.best_score_, gs.best_params_))\n",
    "\n",
    "    best_model = gs.best_estimator_\n",
    "    y_pred = best_model.predict(X_test)\n",
    "    y_pred_train = best_model.predict(X_train)\n",
    "\n",
    "    print(\"f1         train %.3f   test %.3f\" % (f1_score(y_train, y_pred_train), f1_score(y_test, y_pred)))\n",
    "    print(\"precision  train %.3f   test %.3f\" % (precision_score(y_train, y_pred_train), precision_score(y_test, y_pred)))\n",
    "    print(\"\")\n",
    "    print(confusion_matrix(y_test, y_pred))\n",
    "    print(classification_report(y_test, y_pred))\n",
    " "
   ]
  },
  {
   "cell_type": "code",
   "execution_count": 53,
   "id": "9087c4ad",
   "metadata": {},
   "outputs": [],
   "source": [
    "def hyperp_search_over(classifier, parameters):\n",
    "    gs = GridSearchCV(classifier, parameters, cv=3, scoring = 'f1', verbose=0, n_jobs=-1)\n",
    "    gs = gs.fit(X2_train, y2_train)\n",
    "    print(\"f1_train: %f using %s\" % (gs.best_score_, gs.best_params_))\n",
    "\n",
    "    best_model = gs.best_estimator_\n",
    "    y_pred = best_model.predict(X_test)\n",
    "    y_pred_train = best_model.predict(X2_train)\n",
    "\n",
    "    print(\"f1         train %.3f   test %.3f\" % (f1_score(y2_train, y_pred_train), f1_score(y_test, y_pred)))\n",
    "    print(\"precision  train %.3f   test %.3f\" % (precision_score(y2_train, y_pred_train), precision_score(y_test, y_pred)))\n",
    "    print(\"\")\n",
    "    print(confusion_matrix(y_test, y_pred))\n",
    "    print(classification_report(y_test, y_pred))\n",
    " "
   ]
  },
  {
   "cell_type": "code",
   "execution_count": 37,
   "id": "93175eea",
   "metadata": {},
   "outputs": [],
   "source": [
    "def roc(model,X_train,y_train,X_test,y_test):\n",
    "    model.fit(X_train, y_train)\n",
    "    y_pred = model.predict(X_test)\n",
    "\n",
    "    y_probs = model.predict_proba(X_test)\n",
    "\n",
    "    fpr, tpr, thresholds1=metrics.roc_curve(y_test,  y_probs[:,1])\n",
    "\n",
    "    import matplotlib.pyplot as plt\n",
    "    plt.plot(fpr, tpr, label='ROC')\n",
    "    plt.plot([0, 1], [0, 1], color='darkblue', linestyle='--')\n",
    "    plt.xlabel('False Positive Rate')\n",
    "    plt.ylabel('True Positive Rate')\n",
    "    plt.title('Receiver Operating Characteristic (ROC) Curve')\n",
    "    plt.legend()\n",
    "    plt.show()\n",
    "\n",
    "    auc = metrics.roc_auc_score(y_test, y_probs[:,1])\n",
    "    print('AUC: %.2f' % auc)\n",
    "    return (fpr, tpr)"
   ]
  },
  {
   "cell_type": "markdown",
   "id": "941ff326",
   "metadata": {},
   "source": [
    "## Research of the best model"
   ]
  },
  {
   "cell_type": "markdown",
   "id": "6217a747",
   "metadata": {},
   "source": [
    "For every model family of model, we search for the best model using the non-oversampled train set and the oversampled train set, then compare the F1 score with the same test set.\n",
    "\n",
    "If the values of F1 score obtained with the oversampled train will result better, we will try to fit the best model found with the non-oversampled data."
   ]
  },
  {
   "cell_type": "markdown",
   "id": "629d0cf7",
   "metadata": {},
   "source": [
    "### TREE"
   ]
  },
  {
   "cell_type": "code",
   "execution_count": 38,
   "id": "31c5353c",
   "metadata": {},
   "outputs": [],
   "source": [
    "from sklearn.tree import DecisionTreeClassifier\n",
    "classifier = DecisionTreeClassifier()\n",
    "parameters = {'criterion': ['gini','entropy'], \n",
    "              'max_depth': [2,3,4],\n",
    "              'min_samples_split': [2,4,6,8,12,16,18,20],\n",
    "              'min_samples_leaf': [4,6,8,12,16,18,20]}"
   ]
  },
  {
   "cell_type": "code",
   "execution_count": 54,
   "id": "19f4af26",
   "metadata": {},
   "outputs": [
    {
     "name": "stdout",
     "output_type": "stream",
     "text": [
      "f1_train: 0.523424 using {'criterion': 'gini', 'max_depth': 4, 'min_samples_leaf': 4, 'min_samples_split': 2}\n",
      "f1         train 0.635   test 0.592\n",
      "precision  train 0.675   test 0.611\n",
      "\n",
      "[[324  74]\n",
      " [ 86 116]]\n",
      "              precision    recall  f1-score   support\n",
      "\n",
      "           0       0.79      0.81      0.80       398\n",
      "           1       0.61      0.57      0.59       202\n",
      "\n",
      "    accuracy                           0.73       600\n",
      "   macro avg       0.70      0.69      0.70       600\n",
      "weighted avg       0.73      0.73      0.73       600\n",
      "\n"
     ]
    }
   ],
   "source": [
    "hyperp_search(classifier,parameters)"
   ]
  },
  {
   "cell_type": "code",
   "execution_count": 55,
   "id": "79850f67",
   "metadata": {},
   "outputs": [
    {
     "name": "stdout",
     "output_type": "stream",
     "text": [
      "f1_train: 0.711945 using {'criterion': 'entropy', 'max_depth': 3, 'min_samples_leaf': 4, 'min_samples_split': 2}\n",
      "f1         train 0.723   test 0.617\n",
      "precision  train 0.643   test 0.497\n",
      "\n",
      "[[232 166]\n",
      " [ 38 164]]\n",
      "              precision    recall  f1-score   support\n",
      "\n",
      "           0       0.86      0.58      0.69       398\n",
      "           1       0.50      0.81      0.62       202\n",
      "\n",
      "    accuracy                           0.66       600\n",
      "   macro avg       0.68      0.70      0.66       600\n",
      "weighted avg       0.74      0.66      0.67       600\n",
      "\n"
     ]
    }
   ],
   "source": [
    "hyperp_search_over(classifier,parameters)"
   ]
  },
  {
   "cell_type": "code",
   "execution_count": 71,
   "id": "6845adc1",
   "metadata": {},
   "outputs": [],
   "source": [
    "model_Tree= DecisionTreeClassifier(criterion= 'entropy', max_depth= 3, min_samples_leaf= 4, min_samples_split= 2)"
   ]
  },
  {
   "cell_type": "code",
   "execution_count": 72,
   "id": "462515d2",
   "metadata": {},
   "outputs": [
    {
     "name": "stdout",
     "output_type": "stream",
     "text": [
      "f1_train:  0.4161434977578475\n",
      "f1_test:  0.40433212996389895\n"
     ]
    }
   ],
   "source": [
    "model_Tree.fit(X_train, y_train)\n",
    "y_pred_train=model_Tree.predict(X_train)\n",
    "y_pred=model_Tree.predict(X_test)\n",
    "\n",
    "print(\"f1_train: \", f1_score(y_train, y_pred_train))\n",
    "print(\"f1_test: \", f1_score(y_test, y_pred))"
   ]
  },
  {
   "cell_type": "code",
   "execution_count": 83,
   "id": "c1369767",
   "metadata": {},
   "outputs": [
    {
     "data": {
      "image/png": "[encoded data removed]",
      "text/plain": [
       "<Figure size 432x288 with 1 Axes>"
      ]
     },
     "metadata": {},
     "output_type": "display_data"
    },
    {
     "name": "stdout",
     "output_type": "stream",
     "text": [
      "AUC: 0.75\n"
     ]
    }
   ],
   "source": [
    "#curva ROC\n",
    "fpr1,tpr1=roc(model_Tree,X_train,y_train,X_test,y_test)"
   ]
  },
  {
   "cell_type": "markdown",
   "id": "954c1e30",
   "metadata": {},
   "source": [
    "#### Plotting tree"
   ]
  },
  {
   "cell_type": "code",
   "execution_count": null,
   "id": "40fffd18",
   "metadata": {},
   "outputs": [],
   "source": [
    "from sklearn import tree\n",
    "r = tree.export_text(model_Tree,feature_names=X_test.columns.tolist(),max_depth = 6 )\n",
    "print(r)"
   ]
  },
  {
   "cell_type": "code",
   "execution_count": null,
   "id": "bea6b7f5",
   "metadata": {},
   "outputs": [],
   "source": [
    "fig = plt.figure(figsize=(25,20))\n",
    "_ = tree.plot_tree(model_Tree, \n",
    "                   feature_names=X_test.columns.tolist(),  \n",
    "                   class_names=['0','1'],\n",
    "                   filled=True)"
   ]
  },
  {
   "cell_type": "markdown",
   "id": "b6456e90",
   "metadata": {},
   "source": [
    "### KNN"
   ]
  },
  {
   "cell_type": "code",
   "execution_count": 57,
   "id": "2e5bf8c7",
   "metadata": {},
   "outputs": [],
   "source": [
    "from sklearn.neighbors import KNeighborsClassifier\n",
    "\n",
    "classifier = KNeighborsClassifier()\n",
    "parameters = {'n_neighbors':np.arange(50,120,2)}\n"
   ]
  },
  {
   "cell_type": "code",
   "execution_count": 58,
   "id": "1b46e0c4",
   "metadata": {},
   "outputs": [
    {
     "name": "stdout",
     "output_type": "stream",
     "text": [
      "f1_train: 0.527614 using {'n_neighbors': 52}\n",
      "f1         train 0.557   test 0.537\n",
      "precision  train 0.705   test 0.677\n",
      "\n",
      "[[355  43]\n",
      " [112  90]]\n",
      "              precision    recall  f1-score   support\n",
      "\n",
      "           0       0.76      0.89      0.82       398\n",
      "           1       0.68      0.45      0.54       202\n",
      "\n",
      "    accuracy                           0.74       600\n",
      "   macro avg       0.72      0.67      0.68       600\n",
      "weighted avg       0.73      0.74      0.73       600\n",
      "\n"
     ]
    }
   ],
   "source": [
    "hyperp_search(classifier,parameters)"
   ]
  },
  {
   "cell_type": "code",
   "execution_count": 59,
   "id": "6444fea9",
   "metadata": {},
   "outputs": [
    {
     "name": "stdout",
     "output_type": "stream",
     "text": [
      "f1_train: 0.689664 using {'n_neighbors': 92}\n",
      "f1         train 0.699   test 0.591\n",
      "precision  train 0.721   test 0.578\n",
      "\n",
      "[[309  89]\n",
      " [ 80 122]]\n",
      "              precision    recall  f1-score   support\n",
      "\n",
      "           0       0.79      0.78      0.79       398\n",
      "           1       0.58      0.60      0.59       202\n",
      "\n",
      "    accuracy                           0.72       600\n",
      "   macro avg       0.69      0.69      0.69       600\n",
      "weighted avg       0.72      0.72      0.72       600\n",
      "\n"
     ]
    }
   ],
   "source": [
    "hyperp_search_over(classifier,parameters)"
   ]
  },
  {
   "cell_type": "code",
   "execution_count": 73,
   "id": "83ae256d",
   "metadata": {},
   "outputs": [],
   "source": [
    "model_knn = KNeighborsClassifier(n_neighbors=92)"
   ]
  },
  {
   "cell_type": "code",
   "execution_count": 74,
   "id": "a0bc1e5a",
   "metadata": {},
   "outputs": [
    {
     "name": "stdout",
     "output_type": "stream",
     "text": [
      "f1_train:  0.5241809672386896\n",
      "f1_test:  0.5125000000000001\n"
     ]
    }
   ],
   "source": [
    "model_knn.fit(X_train, y_train)\n",
    "y_pred_train=model_knn.predict(X_train)\n",
    "y_pred=model_knn.predict(X_test)\n",
    "\n",
    "print(\"f1_train: \", f1_score(y_train, y_pred_train))\n",
    "print(\"f1_test: \", f1_score(y_test, y_pred))"
   ]
  },
  {
   "cell_type": "code",
   "execution_count": null,
   "id": "3d3ecd09",
   "metadata": {},
   "outputs": [],
   "source": [
    "#curva ROC\n",
    "fpr2,tpr2=roc(model_knn,X_train,y_train,X_test,y_test)"
   ]
  },
  {
   "cell_type": "markdown",
   "id": "9f275c27",
   "metadata": {},
   "source": [
    "### NAYVE BAYES"
   ]
  },
  {
   "cell_type": "code",
   "execution_count": 60,
   "id": "6a6cf677",
   "metadata": {},
   "outputs": [
    {
     "name": "stdout",
     "output_type": "stream",
     "text": [
      "f1_train:  0.5921625544267054\n",
      "f1_test:  0.6073500967117988\n",
      "[[240 158]\n",
      " [ 45 157]]\n",
      "              precision    recall  f1-score   support\n",
      "\n",
      "           0       0.84      0.60      0.70       398\n",
      "           1       0.50      0.78      0.61       202\n",
      "\n",
      "    accuracy                           0.66       600\n",
      "   macro avg       0.67      0.69      0.66       600\n",
      "weighted avg       0.73      0.66      0.67       600\n",
      "\n"
     ]
    }
   ],
   "source": [
    "from sklearn.naive_bayes import GaussianNB\n",
    "\n",
    "model = GaussianNB()\n",
    "model.fit(X_train, y_train)\n",
    "y_pred_train=model.predict(X_train)\n",
    "\n",
    "y_pred=model.predict(X_test)\n",
    "\n",
    "from sklearn.metrics import f1_score\n",
    "print(\"f1_train: \", f1_score(y_train, y_pred_train))\n",
    "\n",
    "\n",
    "print(\"f1_test: \", f1_score(y_test, y_pred))\n",
    "\n",
    "\n",
    "print(confusion_matrix(y_test, y_pred))\n",
    "print(classification_report(y_test, y_pred))"
   ]
  },
  {
   "cell_type": "code",
   "execution_count": 76,
   "id": "fa3cc8e3",
   "metadata": {},
   "outputs": [
    {
     "name": "stdout",
     "output_type": "stream",
     "text": [
      "f1_train:  0.673421141506248\n",
      "f1_test:  0.6142034548944337\n",
      "[[239 159]\n",
      " [ 42 160]]\n",
      "              precision    recall  f1-score   support\n",
      "\n",
      "           0       0.85      0.60      0.70       398\n",
      "           1       0.50      0.79      0.61       202\n",
      "\n",
      "    accuracy                           0.67       600\n",
      "   macro avg       0.68      0.70      0.66       600\n",
      "weighted avg       0.73      0.67      0.67       600\n",
      "\n"
     ]
    }
   ],
   "source": [
    "model.fit(X2_train, y2_train)\n",
    "y_pred_train=model.predict(X2_train)\n",
    "\n",
    "y_pred=model.predict(X_test)\n",
    "\n",
    "from sklearn.metrics import f1_score\n",
    "print(\"f1_train: \", f1_score(y2_train, y_pred_train))\n",
    "\n",
    "\n",
    "print(\"f1_test: \", f1_score(y_test, y_pred))\n",
    "\n",
    "\n",
    "print(confusion_matrix(y_test, y_pred))\n",
    "print(classification_report(y_test, y_pred))"
   ]
  },
  {
   "cell_type": "code",
   "execution_count": null,
   "id": "80dff2c2",
   "metadata": {},
   "outputs": [],
   "source": [
    "#curva ROC\n",
    "fpr3,tpr3=roc(model,X_train,y_train,X_test,y_test)"
   ]
  },
  {
   "cell_type": "markdown",
   "id": "d03015fc",
   "metadata": {},
   "source": [
    "### LOGISTIC REGRESSION"
   ]
  },
  {
   "cell_type": "code",
   "execution_count": 61,
   "id": "cd188953",
   "metadata": {},
   "outputs": [],
   "source": [
    "from sklearn.linear_model import LogisticRegression\n",
    "\n",
    "classifier = LogisticRegression()\n",
    "parameters = {\"C\":[1e-4,1e-3,1e-2,1e-1,1,10], \"penalty\":['l2'], \"max_iter\":[500,1000,10000] }"
   ]
  },
  {
   "cell_type": "code",
   "execution_count": 62,
   "id": "7122a7d8",
   "metadata": {},
   "outputs": [
    {
     "name": "stdout",
     "output_type": "stream",
     "text": [
      "f1_train: 0.562911 using {'C': 0.1, 'max_iter': 500, 'penalty': 'l2'}\n",
      "f1         train 0.586   test 0.581\n",
      "precision  train 0.688   test 0.712\n",
      "\n",
      "[[358  40]\n",
      " [103  99]]\n",
      "              precision    recall  f1-score   support\n",
      "\n",
      "           0       0.78      0.90      0.83       398\n",
      "           1       0.71      0.49      0.58       202\n",
      "\n",
      "    accuracy                           0.76       600\n",
      "   macro avg       0.74      0.69      0.71       600\n",
      "weighted avg       0.75      0.76      0.75       600\n",
      "\n"
     ]
    }
   ],
   "source": [
    "hyperp_search(classifier,parameters)"
   ]
  },
  {
   "cell_type": "code",
   "execution_count": 63,
   "id": "5c85da5f",
   "metadata": {},
   "outputs": [
    {
     "name": "stdout",
     "output_type": "stream",
     "text": [
      "f1_train: 0.681710 using {'C': 10, 'max_iter': 500, 'penalty': 'l2'}\n",
      "f1         train 0.690   test 0.667\n",
      "precision  train 0.706   test 0.619\n",
      "\n",
      "[[308  90]\n",
      " [ 56 146]]\n",
      "              precision    recall  f1-score   support\n",
      "\n",
      "           0       0.85      0.77      0.81       398\n",
      "           1       0.62      0.72      0.67       202\n",
      "\n",
      "    accuracy                           0.76       600\n",
      "   macro avg       0.73      0.75      0.74       600\n",
      "weighted avg       0.77      0.76      0.76       600\n",
      "\n"
     ]
    }
   ],
   "source": [
    "hyperp_search_over(classifier,parameters)"
   ]
  },
  {
   "cell_type": "code",
   "execution_count": 64,
   "id": "5a5869a2",
   "metadata": {},
   "outputs": [],
   "source": [
    "model_Log = LogisticRegression(C=10, max_iter=500,penalty='l2')"
   ]
  },
  {
   "cell_type": "code",
   "execution_count": 65,
   "id": "f3433349",
   "metadata": {},
   "outputs": [
    {
     "name": "stdout",
     "output_type": "stream",
     "text": [
      "f1_train:  0.5890603085553997\n",
      "f1_test:  0.5919540229885059\n"
     ]
    }
   ],
   "source": [
    "model_Log.fit(X_train, y_train)\n",
    "y_pred_train=model_Log.predict(X_train)\n",
    "y_pred=model_Log.predict(X_test)\n",
    "\n",
    "print(\"f1_train: \", f1_score(y_train, y_pred_train))\n",
    "print(\"f1_test: \", f1_score(y_test, y_pred))\n",
    "\n"
   ]
  },
  {
   "cell_type": "code",
   "execution_count": 84,
   "id": "34c1bdc6",
   "metadata": {},
   "outputs": [
    {
     "data": {
      "image/png": "[encoded data removed]",
      "text/plain": [
       "<Figure size 432x288 with 1 Axes>"
      ]
     },
     "metadata": {},
     "output_type": "display_data"
    },
    {
     "name": "stdout",
     "output_type": "stream",
     "text": [
      "AUC: 0.82\n"
     ]
    }
   ],
   "source": [
    "#curva ROC\n",
    "fpr4,tpr4=roc(model_Log,X_train,y_train,X_test,y_test)"
   ]
  },
  {
   "cell_type": "markdown",
   "id": "0f406b40",
   "metadata": {},
   "source": [
    "### SVM"
   ]
  },
  {
   "cell_type": "code",
   "execution_count": 66,
   "id": "b1e8eda4",
   "metadata": {},
   "outputs": [],
   "source": [
    "from sklearn.svm import SVC\n",
    "\n",
    "classifier = SVC()\n",
    "parameters = {\"kernel\":['linear','rbf','poly','sigmoid'], \"C\":[0.001,0.005,0.009],\"gamma\":[0.01,0.1,1], \"degree\":[2,3]}\n"
   ]
  },
  {
   "cell_type": "code",
   "execution_count": 67,
   "id": "1947d707",
   "metadata": {},
   "outputs": [
    {
     "name": "stdout",
     "output_type": "stream",
     "text": [
      "f1_train: 0.550773 using {'C': 0.009, 'degree': 2, 'gamma': 1, 'kernel': 'poly'}\n",
      "f1         train 0.612   test 0.511\n",
      "precision  train 0.768   test 0.649\n",
      "\n",
      "[[352  46]\n",
      " [117  85]]\n",
      "              precision    recall  f1-score   support\n",
      "\n",
      "           0       0.75      0.88      0.81       398\n",
      "           1       0.65      0.42      0.51       202\n",
      "\n",
      "    accuracy                           0.73       600\n",
      "   macro avg       0.70      0.65      0.66       600\n",
      "weighted avg       0.72      0.73      0.71       600\n",
      "\n"
     ]
    }
   ],
   "source": [
    "hyperp_search(classifier,parameters)"
   ]
  },
  {
   "cell_type": "code",
   "execution_count": 68,
   "id": "543b4970",
   "metadata": {},
   "outputs": [
    {
     "name": "stdout",
     "output_type": "stream",
     "text": [
      "f1_train: 0.804750 using {'C': 0.009, 'degree': 3, 'gamma': 1, 'kernel': 'poly'}\n",
      "f1         train 0.978   test 0.480\n",
      "precision  train 0.973   test 0.520\n",
      "\n",
      "[[315  83]\n",
      " [112  90]]\n",
      "              precision    recall  f1-score   support\n",
      "\n",
      "           0       0.74      0.79      0.76       398\n",
      "           1       0.52      0.45      0.48       202\n",
      "\n",
      "    accuracy                           0.68       600\n",
      "   macro avg       0.63      0.62      0.62       600\n",
      "weighted avg       0.66      0.68      0.67       600\n",
      "\n"
     ]
    }
   ],
   "source": [
    "hyperp_search_over(classifier,parameters)"
   ]
  },
  {
   "cell_type": "code",
   "execution_count": null,
   "id": "51c83fac",
   "metadata": {},
   "outputs": [],
   "source": [
    "model = SVC(C=0.009, kernel='poly',degree=2,gamma=1,probability=True)"
   ]
  },
  {
   "cell_type": "code",
   "execution_count": null,
   "id": "b3540184",
   "metadata": {},
   "outputs": [],
   "source": [
    "fpr5,tpr5=roc(model,X_train,y_train,X_test,y_test)"
   ]
  },
  {
   "cell_type": "markdown",
   "id": "eedbbeea",
   "metadata": {},
   "source": [
    "### NEURAL NETWORK"
   ]
  },
  {
   "cell_type": "code",
   "execution_count": 80,
   "id": "28418477",
   "metadata": {},
   "outputs": [],
   "source": [
    "from sklearn.neural_network import MLPClassifier\n",
    "\n",
    "classifier = MLPClassifier()\n",
    "parameters = {\"hidden_layer_sizes\":[(7,5,3,2),(7,5,3),(10, 5),(10, 5,2)],  \"max_iter\": [1000,5000,10000], \"alpha\": [0.001,0.009,0.1,0.9,1]}\n"
   ]
  },
  {
   "cell_type": "code",
   "execution_count": 81,
   "id": "006e3bd6",
   "metadata": {},
   "outputs": [
    {
     "name": "stdout",
     "output_type": "stream",
     "text": [
      "f1_train: 0.594354 using {'alpha': 0.001, 'hidden_layer_sizes': (7, 5, 3, 2), 'max_iter': 5000}\n",
      "f1         train 0.710   test 0.589\n",
      "precision  train 0.732   test 0.566\n",
      "\n",
      "[[303  95]\n",
      " [ 78 124]]\n",
      "              precision    recall  f1-score   support\n",
      "\n",
      "           0       0.80      0.76      0.78       398\n",
      "           1       0.57      0.61      0.59       202\n",
      "\n",
      "    accuracy                           0.71       600\n",
      "   macro avg       0.68      0.69      0.68       600\n",
      "weighted avg       0.72      0.71      0.71       600\n",
      "\n"
     ]
    }
   ],
   "source": [
    "hyperp_search(classifier,parameters)"
   ]
  },
  {
   "cell_type": "code",
   "execution_count": 82,
   "id": "9730ed75",
   "metadata": {},
   "outputs": [
    {
     "name": "stdout",
     "output_type": "stream",
     "text": [
      "f1_train: 0.765088 using {'alpha': 0.009, 'hidden_layer_sizes': (7, 5, 3, 2), 'max_iter': 5000}\n",
      "f1         train 0.798   test 0.603\n",
      "precision  train 0.668   test 0.480\n",
      "\n",
      "[[220 178]\n",
      " [ 38 164]]\n",
      "              precision    recall  f1-score   support\n",
      "\n",
      "           0       0.85      0.55      0.67       398\n",
      "           1       0.48      0.81      0.60       202\n",
      "\n",
      "    accuracy                           0.64       600\n",
      "   macro avg       0.67      0.68      0.64       600\n",
      "weighted avg       0.73      0.64      0.65       600\n",
      "\n"
     ]
    }
   ],
   "source": [
    "hyperp_search_over(classifier,parameters)"
   ]
  },
  {
   "cell_type": "code",
   "execution_count": null,
   "id": "8e84a61a",
   "metadata": {},
   "outputs": [],
   "source": [
    "model_MLP=MLPClassifier(hidden_layer_sizes=(10,5,2), alpha=0.09, max_iter=5000)\n"
   ]
  },
  {
   "cell_type": "code",
   "execution_count": null,
   "id": "a07b37cf",
   "metadata": {},
   "outputs": [],
   "source": [
    "#curva ROC\n",
    "fpr6,tpr6=roc(model_MLP,X_train,y_train,X_test,y_test)"
   ]
  },
  {
   "cell_type": "markdown",
   "id": "dfe0c00d",
   "metadata": {},
   "source": [
    "### RANDOM FOREST"
   ]
  },
  {
   "cell_type": "code",
   "execution_count": 77,
   "id": "82d79eec",
   "metadata": {},
   "outputs": [],
   "source": [
    "from sklearn.ensemble import RandomForestClassifier\n",
    "\n",
    "\n",
    "classifier= RandomForestClassifier()\n",
    "parameters = {'n_estimators' :     np.arange(2,8,1),\n",
    "              'criterion' :        ['entropy', 'gini'],\n",
    "              'max_depth' :        np.arange(2,5,1), \n",
    "              'min_samples_split': np.arange(4,18,1),\n",
    "              'min_samples_leaf' : np.arange(4,18,1),\n",
    "              'class_weight' : [\"balanced\"]\n",
    "             };\n",
    "\n"
   ]
  },
  {
   "cell_type": "code",
   "execution_count": 78,
   "id": "7c89a502",
   "metadata": {},
   "outputs": [
    {
     "name": "stdout",
     "output_type": "stream",
     "text": [
      "f1_train: 0.643343 using {'class_weight': 'balanced', 'criterion': 'entropy', 'max_depth': 4, 'min_samples_leaf': 8, 'min_samples_split': 14, 'n_estimators': 6}\n",
      "f1         train 0.652   test 0.618\n",
      "precision  train 0.525   test 0.497\n",
      "\n",
      "[[231 167]\n",
      " [ 37 165]]\n",
      "              precision    recall  f1-score   support\n",
      "\n",
      "           0       0.86      0.58      0.69       398\n",
      "           1       0.50      0.82      0.62       202\n",
      "\n",
      "    accuracy                           0.66       600\n",
      "   macro avg       0.68      0.70      0.66       600\n",
      "weighted avg       0.74      0.66      0.67       600\n",
      "\n"
     ]
    }
   ],
   "source": [
    "hyperp_search(classifier,parameters)"
   ]
  },
  {
   "cell_type": "code",
   "execution_count": 79,
   "id": "1fe35dea",
   "metadata": {},
   "outputs": [
    {
     "name": "stdout",
     "output_type": "stream",
     "text": [
      "f1_train: 0.736852 using {'class_weight': 'balanced', 'criterion': 'entropy', 'max_depth': 4, 'min_samples_leaf': 4, 'min_samples_split': 17, 'n_estimators': 7}\n",
      "f1         train 0.743   test 0.579\n",
      "precision  train 0.634   test 0.456\n",
      "\n",
      "[[207 191]\n",
      " [ 42 160]]\n",
      "              precision    recall  f1-score   support\n",
      "\n",
      "           0       0.83      0.52      0.64       398\n",
      "           1       0.46      0.79      0.58       202\n",
      "\n",
      "    accuracy                           0.61       600\n",
      "   macro avg       0.64      0.66      0.61       600\n",
      "weighted avg       0.70      0.61      0.62       600\n",
      "\n"
     ]
    }
   ],
   "source": [
    "hyperp_search_over(classifier,parameters)"
   ]
  },
  {
   "cell_type": "code",
   "execution_count": null,
   "id": "fa2a70cf",
   "metadata": {},
   "outputs": [],
   "source": [
    "model_RandomForest=RandomForestClassifier(class_weight= 'balanced', criterion='entropy', max_depth=4,min_samples_leaf = 12, min_samples_split= 4, n_estimators= 7)\n"
   ]
  },
  {
   "cell_type": "code",
   "execution_count": null,
   "id": "9d550041",
   "metadata": {},
   "outputs": [],
   "source": [
    "#curva ROC\n",
    "fpr7,tpr7=roc(model_RandomForest,X_train,y_train,X_test,y_test)"
   ]
  },
  {
   "cell_type": "markdown",
   "id": "694edb21",
   "metadata": {},
   "source": [
    "# CHOICE OF THE MODEL"
   ]
  },
  {
   "cell_type": "code",
   "execution_count": null,
   "id": "47e3b97e",
   "metadata": {},
   "outputs": [],
   "source": []
  }
 ],
 "metadata": {
  "kernelspec": {
   "display_name": "Python 3 (ipykernel)",
   "language": "python",
   "name": "python3"
  },
  "language_info": {
   "codemirror_mode": {
    "name": "ipython",
    "version": 3
   },
   "file_extension": ".py",
   "mimetype": "text/x-python",
   "name": "python",
   "nbconvert_exporter": "python",
   "pygments_lexer": "ipython3",
   "version": "3.9.12"
  }
 },
 "nbformat": 4,
 "nbformat_minor": 5
}
