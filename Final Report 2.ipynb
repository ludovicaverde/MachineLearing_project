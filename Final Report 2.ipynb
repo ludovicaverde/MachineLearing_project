{
 "cells": [
  {
   "cell_type": "code",
   "execution_count": 2,
   "metadata": {
    "execution": {
     "iopub.execute_input": "2022-12-19T20:43:20.356276Z",
     "iopub.status.busy": "2022-12-19T20:43:20.355497Z",
     "iopub.status.idle": "2022-12-19T20:43:21.613688Z",
     "shell.execute_reply": "2022-12-19T20:43:21.612520Z",
     "shell.execute_reply.started": "2022-12-19T20:43:20.356187Z"
    }
   },
   "outputs": [],
   "source": [
    "import pandas as pd\n",
    "import numpy as np\n",
    "import matplotlib.pyplot as plt\n",
    "import seaborn as sns\n",
    "\n",
    "from sklearn.utils import resample\n",
    "from sklearn.preprocessing import StandardScaler\n",
    "from sklearn.model_selection import train_test_split\n",
    "from matplotlib.patches import Rectangle\n",
    "from sklearn.neighbors import LocalOutlierFactor\n",
    "from sklearn.ensemble import IsolationForest"
   ]
  },
  {
   "cell_type": "markdown",
   "metadata": {},
   "source": [
    "# UPLOAD DATASET"
   ]
  },
  {
   "cell_type": "code",
   "execution_count": 3,
   "metadata": {
    "execution": {
     "iopub.execute_input": "2022-12-19T20:43:21.616240Z",
     "iopub.status.busy": "2022-12-19T20:43:21.615850Z",
     "iopub.status.idle": "2022-12-19T20:43:21.669717Z",
     "shell.execute_reply": "2022-12-19T20:43:21.668596Z",
     "shell.execute_reply.started": "2022-12-19T20:43:21.616210Z"
    }
   },
   "outputs": [],
   "source": [
    "#data = pd.read_csv(\"/kaggle/input/tyres-train/tyres_train.csv\", sep = \",\")\n",
    "\n",
    "#data.head(10)"
   ]
  },
  {
   "cell_type": "code",
   "execution_count": 4,
   "metadata": {
    "execution": {
     "iopub.execute_input": "2022-12-19T20:47:29.277009Z",
     "iopub.status.busy": "2022-12-19T20:47:29.276569Z",
     "iopub.status.idle": "2022-12-19T20:47:29.302375Z",
     "shell.execute_reply": "2022-12-19T20:47:29.301010Z",
     "shell.execute_reply.started": "2022-12-19T20:47:29.276977Z"
    }
   },
   "outputs": [
    {
     "data": {
      "text/html": [
       "<div>\n",
       "<style scoped>\n",
       "    .dataframe tbody tr th:only-of-type {\n",
       "        vertical-align: middle;\n",
       "    }\n",
       "\n",
       "    .dataframe tbody tr th {\n",
       "        vertical-align: top;\n",
       "    }\n",
       "\n",
       "    .dataframe thead th {\n",
       "        text-align: right;\n",
       "    }\n",
       "</style>\n",
       "<table border=\"1\" class=\"dataframe\">\n",
       "  <thead>\n",
       "    <tr style=\"text-align: right;\">\n",
       "      <th></th>\n",
       "      <th>vulc</th>\n",
       "      <th>perc_nat_rubber</th>\n",
       "      <th>wiring_strength</th>\n",
       "      <th>weather</th>\n",
       "      <th>perc_imp</th>\n",
       "      <th>temperature</th>\n",
       "      <th>tread_type</th>\n",
       "      <th>tyre_season</th>\n",
       "      <th>elevation</th>\n",
       "      <th>month</th>\n",
       "      <th>tread_depth</th>\n",
       "      <th>tyre_quality</th>\n",
       "      <th>perc_exp_comp</th>\n",
       "      <th>diameter</th>\n",
       "      <th>add_layers</th>\n",
       "      <th>failure</th>\n",
       "    </tr>\n",
       "  </thead>\n",
       "  <tbody>\n",
       "    <tr>\n",
       "      <th>0</th>\n",
       "      <td>17.990</td>\n",
       "      <td>26</td>\n",
       "      <td>1</td>\n",
       "      <td>0.16</td>\n",
       "      <td>0.01</td>\n",
       "      <td>-8.12</td>\n",
       "      <td>0</td>\n",
       "      <td>1</td>\n",
       "      <td>332.5</td>\n",
       "      <td>8</td>\n",
       "      <td>0</td>\n",
       "      <td>1</td>\n",
       "      <td>5.13</td>\n",
       "      <td>55.0</td>\n",
       "      <td>1</td>\n",
       "      <td>0</td>\n",
       "    </tr>\n",
       "    <tr>\n",
       "      <th>1</th>\n",
       "      <td>20.704</td>\n",
       "      <td>36</td>\n",
       "      <td>1</td>\n",
       "      <td>0.30</td>\n",
       "      <td>0.01</td>\n",
       "      <td>-4.52</td>\n",
       "      <td>2</td>\n",
       "      <td>0</td>\n",
       "      <td>328.0</td>\n",
       "      <td>11</td>\n",
       "      <td>1</td>\n",
       "      <td>0</td>\n",
       "      <td>6.15</td>\n",
       "      <td>NaN</td>\n",
       "      <td>1</td>\n",
       "      <td>0</td>\n",
       "    </tr>\n",
       "    <tr>\n",
       "      <th>2</th>\n",
       "      <td>19.156</td>\n",
       "      <td>34</td>\n",
       "      <td>1</td>\n",
       "      <td>0.30</td>\n",
       "      <td>0.01</td>\n",
       "      <td>-1.08</td>\n",
       "      <td>0</td>\n",
       "      <td>0</td>\n",
       "      <td>247.0</td>\n",
       "      <td>0</td>\n",
       "      <td>1</td>\n",
       "      <td>0</td>\n",
       "      <td>6.36</td>\n",
       "      <td>NaN</td>\n",
       "      <td>1</td>\n",
       "      <td>0</td>\n",
       "    </tr>\n",
       "    <tr>\n",
       "      <th>3</th>\n",
       "      <td>16.802</td>\n",
       "      <td>35</td>\n",
       "      <td>1</td>\n",
       "      <td>0.19</td>\n",
       "      <td>0.02</td>\n",
       "      <td>7.44</td>\n",
       "      <td>1</td>\n",
       "      <td>0</td>\n",
       "      <td>408.0</td>\n",
       "      <td>7</td>\n",
       "      <td>3</td>\n",
       "      <td>1</td>\n",
       "      <td>6.62</td>\n",
       "      <td>54.5</td>\n",
       "      <td>1</td>\n",
       "      <td>0</td>\n",
       "    </tr>\n",
       "    <tr>\n",
       "      <th>4</th>\n",
       "      <td>17.140</td>\n",
       "      <td>23</td>\n",
       "      <td>2</td>\n",
       "      <td>0.39</td>\n",
       "      <td>0.01</td>\n",
       "      <td>30.52</td>\n",
       "      <td>0</td>\n",
       "      <td>1</td>\n",
       "      <td>308.0</td>\n",
       "      <td>2</td>\n",
       "      <td>2</td>\n",
       "      <td>0</td>\n",
       "      <td>6.15</td>\n",
       "      <td>76.3</td>\n",
       "      <td>1</td>\n",
       "      <td>0</td>\n",
       "    </tr>\n",
       "    <tr>\n",
       "      <th>5</th>\n",
       "      <td>20.042</td>\n",
       "      <td>38</td>\n",
       "      <td>0</td>\n",
       "      <td>0.04</td>\n",
       "      <td>0.01</td>\n",
       "      <td>-0.20</td>\n",
       "      <td>2</td>\n",
       "      <td>1</td>\n",
       "      <td>160.5</td>\n",
       "      <td>0</td>\n",
       "      <td>0</td>\n",
       "      <td>0</td>\n",
       "      <td>5.96</td>\n",
       "      <td>NaN</td>\n",
       "      <td>1</td>\n",
       "      <td>0</td>\n",
       "    </tr>\n",
       "    <tr>\n",
       "      <th>6</th>\n",
       "      <td>21.172</td>\n",
       "      <td>33</td>\n",
       "      <td>1</td>\n",
       "      <td>0.39</td>\n",
       "      <td>0.01</td>\n",
       "      <td>-2.28</td>\n",
       "      <td>0</td>\n",
       "      <td>0</td>\n",
       "      <td>470.0</td>\n",
       "      <td>3</td>\n",
       "      <td>0</td>\n",
       "      <td>0</td>\n",
       "      <td>6.47</td>\n",
       "      <td>NaN</td>\n",
       "      <td>1</td>\n",
       "      <td>0</td>\n",
       "    </tr>\n",
       "    <tr>\n",
       "      <th>7</th>\n",
       "      <td>16.706</td>\n",
       "      <td>32</td>\n",
       "      <td>0</td>\n",
       "      <td>0.62</td>\n",
       "      <td>0.05</td>\n",
       "      <td>-3.96</td>\n",
       "      <td>3</td>\n",
       "      <td>1</td>\n",
       "      <td>148.5</td>\n",
       "      <td>7</td>\n",
       "      <td>2</td>\n",
       "      <td>0</td>\n",
       "      <td>5.39</td>\n",
       "      <td>NaN</td>\n",
       "      <td>1</td>\n",
       "      <td>0</td>\n",
       "    </tr>\n",
       "    <tr>\n",
       "      <th>8</th>\n",
       "      <td>17.616</td>\n",
       "      <td>25</td>\n",
       "      <td>1</td>\n",
       "      <td>0.16</td>\n",
       "      <td>0.01</td>\n",
       "      <td>-6.88</td>\n",
       "      <td>0</td>\n",
       "      <td>1</td>\n",
       "      <td>103.5</td>\n",
       "      <td>8</td>\n",
       "      <td>0</td>\n",
       "      <td>1</td>\n",
       "      <td>5.32</td>\n",
       "      <td>63.6</td>\n",
       "      <td>1</td>\n",
       "      <td>0</td>\n",
       "    </tr>\n",
       "    <tr>\n",
       "      <th>9</th>\n",
       "      <td>17.370</td>\n",
       "      <td>34</td>\n",
       "      <td>0</td>\n",
       "      <td>0.27</td>\n",
       "      <td>0.01</td>\n",
       "      <td>-1.28</td>\n",
       "      <td>2</td>\n",
       "      <td>0</td>\n",
       "      <td>345.5</td>\n",
       "      <td>5</td>\n",
       "      <td>2</td>\n",
       "      <td>0</td>\n",
       "      <td>6.31</td>\n",
       "      <td>NaN</td>\n",
       "      <td>0</td>\n",
       "      <td>0</td>\n",
       "    </tr>\n",
       "  </tbody>\n",
       "</table>\n",
       "</div>"
      ],
      "text/plain": [
       "     vulc  perc_nat_rubber  wiring_strength  weather  perc_imp  temperature  \\\n",
       "0  17.990               26                1     0.16      0.01        -8.12   \n",
       "1  20.704               36                1     0.30      0.01        -4.52   \n",
       "2  19.156               34                1     0.30      0.01        -1.08   \n",
       "3  16.802               35                1     0.19      0.02         7.44   \n",
       "4  17.140               23                2     0.39      0.01        30.52   \n",
       "5  20.042               38                0     0.04      0.01        -0.20   \n",
       "6  21.172               33                1     0.39      0.01        -2.28   \n",
       "7  16.706               32                0     0.62      0.05        -3.96   \n",
       "8  17.616               25                1     0.16      0.01        -6.88   \n",
       "9  17.370               34                0     0.27      0.01        -1.28   \n",
       "\n",
       "   tread_type  tyre_season  elevation  month  tread_depth  tyre_quality  \\\n",
       "0           0            1      332.5      8            0             1   \n",
       "1           2            0      328.0     11            1             0   \n",
       "2           0            0      247.0      0            1             0   \n",
       "3           1            0      408.0      7            3             1   \n",
       "4           0            1      308.0      2            2             0   \n",
       "5           2            1      160.5      0            0             0   \n",
       "6           0            0      470.0      3            0             0   \n",
       "7           3            1      148.5      7            2             0   \n",
       "8           0            1      103.5      8            0             1   \n",
       "9           2            0      345.5      5            2             0   \n",
       "\n",
       "   perc_exp_comp  diameter  add_layers  failure  \n",
       "0           5.13      55.0           1        0  \n",
       "1           6.15       NaN           1        0  \n",
       "2           6.36       NaN           1        0  \n",
       "3           6.62      54.5           1        0  \n",
       "4           6.15      76.3           1        0  \n",
       "5           5.96       NaN           1        0  \n",
       "6           6.47       NaN           1        0  \n",
       "7           5.39       NaN           1        0  \n",
       "8           5.32      63.6           1        0  \n",
       "9           6.31       NaN           0        0  "
      ]
     },
     "execution_count": 4,
     "metadata": {},
     "output_type": "execute_result"
    }
   ],
   "source": [
    "data = pd.read_csv(\"tyres_train.csv\", sep = \",\")\n",
    "\n",
    "data.head(10)"
   ]
  },
  {
   "cell_type": "markdown",
   "metadata": {},
   "source": [
    "# DATA OBSERVATION AND PREPARATION"
   ]
  },
  {
   "cell_type": "code",
   "execution_count": 5,
   "metadata": {
    "execution": {
     "iopub.execute_input": "2022-12-19T20:47:35.302662Z",
     "iopub.status.busy": "2022-12-19T20:47:35.302185Z",
     "iopub.status.idle": "2022-12-19T20:47:35.311711Z",
     "shell.execute_reply": "2022-12-19T20:47:35.310731Z",
     "shell.execute_reply.started": "2022-12-19T20:47:35.302620Z"
    }
   },
   "outputs": [
    {
     "data": {
      "text/plain": [
       "vulc               float64\n",
       "perc_nat_rubber      int64\n",
       "wiring_strength      int64\n",
       "weather            float64\n",
       "perc_imp           float64\n",
       "temperature        float64\n",
       "tread_type           int64\n",
       "tyre_season          int64\n",
       "elevation          float64\n",
       "month                int64\n",
       "tread_depth          int64\n",
       "tyre_quality         int64\n",
       "perc_exp_comp      float64\n",
       "diameter           float64\n",
       "add_layers           int64\n",
       "failure              int64\n",
       "dtype: object"
      ]
     },
     "execution_count": 5,
     "metadata": {},
     "output_type": "execute_result"
    }
   ],
   "source": [
    "data.dtypes\n",
    "# categorical variables are no \"object\" type"
   ]
  },
  {
   "cell_type": "code",
   "execution_count": 6,
   "metadata": {
    "execution": {
     "iopub.execute_input": "2022-12-19T20:47:35.314268Z",
     "iopub.status.busy": "2022-12-19T20:47:35.313921Z",
     "iopub.status.idle": "2022-12-19T20:47:35.324232Z",
     "shell.execute_reply": "2022-12-19T20:47:35.322887Z",
     "shell.execute_reply.started": "2022-12-19T20:47:35.314237Z"
    }
   },
   "outputs": [
    {
     "data": {
      "text/plain": [
       "(3000, 16)"
      ]
     },
     "execution_count": 6,
     "metadata": {},
     "output_type": "execute_result"
    }
   ],
   "source": [
    "data.shape"
   ]
  },
  {
   "cell_type": "code",
   "execution_count": 7,
   "metadata": {
    "execution": {
     "iopub.execute_input": "2022-12-19T20:47:35.326388Z",
     "iopub.status.busy": "2022-12-19T20:47:35.325996Z",
     "iopub.status.idle": "2022-12-19T20:47:35.341656Z",
     "shell.execute_reply": "2022-12-19T20:47:35.340447Z",
     "shell.execute_reply.started": "2022-12-19T20:47:35.326353Z"
    }
   },
   "outputs": [
    {
     "data": {
      "text/plain": [
       "vulc                  0\n",
       "perc_nat_rubber       0\n",
       "wiring_strength       0\n",
       "weather               0\n",
       "perc_imp              0\n",
       "temperature           0\n",
       "tread_type            0\n",
       "tyre_season           0\n",
       "elevation             0\n",
       "month                 0\n",
       "tread_depth           0\n",
       "tyre_quality          0\n",
       "perc_exp_comp         0\n",
       "diameter           2110\n",
       "add_layers            0\n",
       "failure               0\n",
       "dtype: int64"
      ]
     },
     "execution_count": 7,
     "metadata": {},
     "output_type": "execute_result"
    }
   ],
   "source": [
    "data.isnull().sum()\n",
    "# the variable \"diameter\" is almost empty --> impossible to proceed with substitution"
   ]
  },
  {
   "cell_type": "markdown",
   "metadata": {},
   "source": [
    "Through the observation of the dataset we can see that most of the data don't have a numeric value in the column \"diameter\". For this reason, we have decided to drop that column as it does not provide any relevant information."
   ]
  },
  {
   "cell_type": "code",
   "execution_count": 8,
   "metadata": {
    "execution": {
     "iopub.execute_input": "2022-12-19T20:47:35.345670Z",
     "iopub.status.busy": "2022-12-19T20:47:35.345258Z",
     "iopub.status.idle": "2022-12-19T20:47:35.375424Z",
     "shell.execute_reply": "2022-12-19T20:47:35.374165Z",
     "shell.execute_reply.started": "2022-12-19T20:47:35.345631Z"
    }
   },
   "outputs": [
    {
     "data": {
      "text/html": [
       "<div>\n",
       "<style scoped>\n",
       "    .dataframe tbody tr th:only-of-type {\n",
       "        vertical-align: middle;\n",
       "    }\n",
       "\n",
       "    .dataframe tbody tr th {\n",
       "        vertical-align: top;\n",
       "    }\n",
       "\n",
       "    .dataframe thead th {\n",
       "        text-align: right;\n",
       "    }\n",
       "</style>\n",
       "<table border=\"1\" class=\"dataframe\">\n",
       "  <thead>\n",
       "    <tr style=\"text-align: right;\">\n",
       "      <th></th>\n",
       "      <th>vulc</th>\n",
       "      <th>perc_nat_rubber</th>\n",
       "      <th>wiring_strength</th>\n",
       "      <th>weather</th>\n",
       "      <th>perc_imp</th>\n",
       "      <th>temperature</th>\n",
       "      <th>tread_type</th>\n",
       "      <th>tyre_season</th>\n",
       "      <th>elevation</th>\n",
       "      <th>month</th>\n",
       "      <th>tread_depth</th>\n",
       "      <th>tyre_quality</th>\n",
       "      <th>perc_exp_comp</th>\n",
       "      <th>add_layers</th>\n",
       "      <th>failure</th>\n",
       "    </tr>\n",
       "  </thead>\n",
       "  <tbody>\n",
       "    <tr>\n",
       "      <th>0</th>\n",
       "      <td>17.990</td>\n",
       "      <td>26</td>\n",
       "      <td>1</td>\n",
       "      <td>0.16</td>\n",
       "      <td>0.01</td>\n",
       "      <td>-8.12</td>\n",
       "      <td>0</td>\n",
       "      <td>1</td>\n",
       "      <td>332.5</td>\n",
       "      <td>8</td>\n",
       "      <td>0</td>\n",
       "      <td>1</td>\n",
       "      <td>5.13</td>\n",
       "      <td>1</td>\n",
       "      <td>0</td>\n",
       "    </tr>\n",
       "    <tr>\n",
       "      <th>1</th>\n",
       "      <td>20.704</td>\n",
       "      <td>36</td>\n",
       "      <td>1</td>\n",
       "      <td>0.30</td>\n",
       "      <td>0.01</td>\n",
       "      <td>-4.52</td>\n",
       "      <td>2</td>\n",
       "      <td>0</td>\n",
       "      <td>328.0</td>\n",
       "      <td>11</td>\n",
       "      <td>1</td>\n",
       "      <td>0</td>\n",
       "      <td>6.15</td>\n",
       "      <td>1</td>\n",
       "      <td>0</td>\n",
       "    </tr>\n",
       "    <tr>\n",
       "      <th>2</th>\n",
       "      <td>19.156</td>\n",
       "      <td>34</td>\n",
       "      <td>1</td>\n",
       "      <td>0.30</td>\n",
       "      <td>0.01</td>\n",
       "      <td>-1.08</td>\n",
       "      <td>0</td>\n",
       "      <td>0</td>\n",
       "      <td>247.0</td>\n",
       "      <td>0</td>\n",
       "      <td>1</td>\n",
       "      <td>0</td>\n",
       "      <td>6.36</td>\n",
       "      <td>1</td>\n",
       "      <td>0</td>\n",
       "    </tr>\n",
       "    <tr>\n",
       "      <th>3</th>\n",
       "      <td>16.802</td>\n",
       "      <td>35</td>\n",
       "      <td>1</td>\n",
       "      <td>0.19</td>\n",
       "      <td>0.02</td>\n",
       "      <td>7.44</td>\n",
       "      <td>1</td>\n",
       "      <td>0</td>\n",
       "      <td>408.0</td>\n",
       "      <td>7</td>\n",
       "      <td>3</td>\n",
       "      <td>1</td>\n",
       "      <td>6.62</td>\n",
       "      <td>1</td>\n",
       "      <td>0</td>\n",
       "    </tr>\n",
       "    <tr>\n",
       "      <th>4</th>\n",
       "      <td>17.140</td>\n",
       "      <td>23</td>\n",
       "      <td>2</td>\n",
       "      <td>0.39</td>\n",
       "      <td>0.01</td>\n",
       "      <td>30.52</td>\n",
       "      <td>0</td>\n",
       "      <td>1</td>\n",
       "      <td>308.0</td>\n",
       "      <td>2</td>\n",
       "      <td>2</td>\n",
       "      <td>0</td>\n",
       "      <td>6.15</td>\n",
       "      <td>1</td>\n",
       "      <td>0</td>\n",
       "    </tr>\n",
       "  </tbody>\n",
       "</table>\n",
       "</div>"
      ],
      "text/plain": [
       "     vulc  perc_nat_rubber  wiring_strength  weather  perc_imp  temperature  \\\n",
       "0  17.990               26                1     0.16      0.01        -8.12   \n",
       "1  20.704               36                1     0.30      0.01        -4.52   \n",
       "2  19.156               34                1     0.30      0.01        -1.08   \n",
       "3  16.802               35                1     0.19      0.02         7.44   \n",
       "4  17.140               23                2     0.39      0.01        30.52   \n",
       "\n",
       "   tread_type  tyre_season  elevation  month  tread_depth  tyre_quality  \\\n",
       "0           0            1      332.5      8            0             1   \n",
       "1           2            0      328.0     11            1             0   \n",
       "2           0            0      247.0      0            1             0   \n",
       "3           1            0      408.0      7            3             1   \n",
       "4           0            1      308.0      2            2             0   \n",
       "\n",
       "   perc_exp_comp  add_layers  failure  \n",
       "0           5.13           1        0  \n",
       "1           6.15           1        0  \n",
       "2           6.36           1        0  \n",
       "3           6.62           1        0  \n",
       "4           6.15           1        0  "
      ]
     },
     "execution_count": 8,
     "metadata": {},
     "output_type": "execute_result"
    }
   ],
   "source": [
    "#dropping all column \"diameter\"\n",
    "d=\"diameter\"\n",
    "data_dropped = data.drop(columns=d)\n",
    "\n",
    "data_dropped.head()"
   ]
  },
  {
   "cell_type": "code",
   "execution_count": 9,
   "metadata": {
    "execution": {
     "iopub.execute_input": "2022-12-19T20:47:35.377876Z",
     "iopub.status.busy": "2022-12-19T20:47:35.377439Z",
     "iopub.status.idle": "2022-12-19T20:47:35.388592Z",
     "shell.execute_reply": "2022-12-19T20:47:35.387193Z",
     "shell.execute_reply.started": "2022-12-19T20:47:35.377835Z"
    }
   },
   "outputs": [
    {
     "data": {
      "text/plain": [
       "vulc               0\n",
       "perc_nat_rubber    0\n",
       "wiring_strength    0\n",
       "weather            0\n",
       "perc_imp           0\n",
       "temperature        0\n",
       "tread_type         0\n",
       "tyre_season        0\n",
       "elevation          0\n",
       "month              0\n",
       "tread_depth        0\n",
       "tyre_quality       0\n",
       "perc_exp_comp      0\n",
       "add_layers         0\n",
       "failure            0\n",
       "dtype: int64"
      ]
     },
     "execution_count": 9,
     "metadata": {},
     "output_type": "execute_result"
    }
   ],
   "source": [
    "data_dropped.isnull().sum()\n",
    "# no more NaN observations"
   ]
  },
  {
   "cell_type": "markdown",
   "metadata": {},
   "source": [
    "The dataset now doesn't contain any NaN values, so we can start to visualize the data and apply the required transformations."
   ]
  },
  {
   "cell_type": "code",
   "execution_count": 10,
   "metadata": {
    "execution": {
     "iopub.execute_input": "2022-12-19T20:47:35.391057Z",
     "iopub.status.busy": "2022-12-19T20:47:35.389908Z",
     "iopub.status.idle": "2022-12-19T20:47:35.620758Z",
     "shell.execute_reply": "2022-12-19T20:47:35.619893Z",
     "shell.execute_reply.started": "2022-12-19T20:47:35.391017Z"
    }
   },
   "outputs": [
    {
     "name": "stdout",
     "output_type": "stream",
     "text": [
      "failure\n",
      "0    1992\n",
      "1    1008\n",
      "dtype: int64\n"
     ]
    },
    {
     "data": {
      "image/png": "[encoded data removed]",
      "text/plain": [
       "<Figure size 432x288 with 1 Axes>"
      ]
     },
     "metadata": {},
     "output_type": "display_data"
    }
   ],
   "source": [
    "print(data_dropped.groupby('failure').size())\n",
    "\n",
    "%matplotlib inline\n",
    "plt.style.use('ggplot')\n",
    "\n",
    "#Visualize Class Counts\n",
    "sns.countplot(y=data_dropped.failure ,data=data_dropped)\n",
    "plt.xlabel(\"count of each class\")\n",
    "plt.ylabel(\"classes\")\n",
    "plt.show()"
   ]
  },
  {
   "cell_type": "markdown",
   "metadata": {},
   "source": [
    "We noticed in this plot that the dataset is unbalanced, so our idea is to try to perform oversampling on the training set in the next phase of identification of the best model."
   ]
  },
  {
   "cell_type": "markdown",
   "metadata": {},
   "source": [
    "## Categorical variables"
   ]
  },
  {
   "cell_type": "markdown",
   "metadata": {},
   "source": [
    "Since the dataset has both numerical and categorical attributes, we select the categorical variables in order to analyze their ditribution."
   ]
  },
  {
   "cell_type": "code",
   "execution_count": 11,
   "metadata": {
    "execution": {
     "iopub.execute_input": "2022-12-19T20:47:35.623445Z",
     "iopub.status.busy": "2022-12-19T20:47:35.622213Z",
     "iopub.status.idle": "2022-12-19T20:47:35.637330Z",
     "shell.execute_reply": "2022-12-19T20:47:35.636028Z",
     "shell.execute_reply.started": "2022-12-19T20:47:35.623400Z"
    }
   },
   "outputs": [
    {
     "data": {
      "text/html": [
       "<div>\n",
       "<style scoped>\n",
       "    .dataframe tbody tr th:only-of-type {\n",
       "        vertical-align: middle;\n",
       "    }\n",
       "\n",
       "    .dataframe tbody tr th {\n",
       "        vertical-align: top;\n",
       "    }\n",
       "\n",
       "    .dataframe thead th {\n",
       "        text-align: right;\n",
       "    }\n",
       "</style>\n",
       "<table border=\"1\" class=\"dataframe\">\n",
       "  <thead>\n",
       "    <tr style=\"text-align: right;\">\n",
       "      <th></th>\n",
       "      <th>tread_type</th>\n",
       "      <th>tyre_season</th>\n",
       "      <th>month</th>\n",
       "      <th>tread_depth</th>\n",
       "      <th>wiring_strength</th>\n",
       "      <th>tyre_quality</th>\n",
       "      <th>add_layers</th>\n",
       "    </tr>\n",
       "  </thead>\n",
       "  <tbody>\n",
       "    <tr>\n",
       "      <th>0</th>\n",
       "      <td>0</td>\n",
       "      <td>1</td>\n",
       "      <td>8</td>\n",
       "      <td>0</td>\n",
       "      <td>1</td>\n",
       "      <td>1</td>\n",
       "      <td>1</td>\n",
       "    </tr>\n",
       "    <tr>\n",
       "      <th>1</th>\n",
       "      <td>2</td>\n",
       "      <td>0</td>\n",
       "      <td>11</td>\n",
       "      <td>1</td>\n",
       "      <td>1</td>\n",
       "      <td>0</td>\n",
       "      <td>1</td>\n",
       "    </tr>\n",
       "    <tr>\n",
       "      <th>2</th>\n",
       "      <td>0</td>\n",
       "      <td>0</td>\n",
       "      <td>0</td>\n",
       "      <td>1</td>\n",
       "      <td>1</td>\n",
       "      <td>0</td>\n",
       "      <td>1</td>\n",
       "    </tr>\n",
       "    <tr>\n",
       "      <th>3</th>\n",
       "      <td>1</td>\n",
       "      <td>0</td>\n",
       "      <td>7</td>\n",
       "      <td>3</td>\n",
       "      <td>1</td>\n",
       "      <td>1</td>\n",
       "      <td>1</td>\n",
       "    </tr>\n",
       "    <tr>\n",
       "      <th>4</th>\n",
       "      <td>0</td>\n",
       "      <td>1</td>\n",
       "      <td>2</td>\n",
       "      <td>2</td>\n",
       "      <td>2</td>\n",
       "      <td>0</td>\n",
       "      <td>1</td>\n",
       "    </tr>\n",
       "  </tbody>\n",
       "</table>\n",
       "</div>"
      ],
      "text/plain": [
       "   tread_type  tyre_season  month  tread_depth  wiring_strength  tyre_quality  \\\n",
       "0           0            1      8            0                1             1   \n",
       "1           2            0     11            1                1             0   \n",
       "2           0            0      0            1                1             0   \n",
       "3           1            0      7            3                1             1   \n",
       "4           0            1      2            2                2             0   \n",
       "\n",
       "   add_layers  \n",
       "0           1  \n",
       "1           1  \n",
       "2           1  \n",
       "3           1  \n",
       "4           1  "
      ]
     },
     "execution_count": 11,
     "metadata": {},
     "output_type": "execute_result"
    }
   ],
   "source": [
    "selection_categorical=['tread_type', 'tyre_season','month', 'tread_depth', 'wiring_strength', 'tyre_quality',\n",
    "       'add_layers']\n",
    "data_categorical=data_dropped[selection_categorical]\n",
    "data_categorical.head()"
   ]
  },
  {
   "cell_type": "code",
   "execution_count": 12,
   "metadata": {
    "execution": {
     "iopub.execute_input": "2022-12-19T20:47:35.639455Z",
     "iopub.status.busy": "2022-12-19T20:47:35.638700Z",
     "iopub.status.idle": "2022-12-19T20:47:37.172674Z",
     "shell.execute_reply": "2022-12-19T20:47:37.171253Z",
     "shell.execute_reply.started": "2022-12-19T20:47:35.639413Z"
    }
   },
   "outputs": [
    {
     "data": {
      "image/png": "[encoded data removed]",
      "text/plain": [
       "<Figure size 1080x504 with 8 Axes>"
      ]
     },
     "metadata": {},
     "output_type": "display_data"
    }
   ],
   "source": [
    "# Visualize categorical variables\n",
    "data_0=data_categorical[data_dropped['failure']==0] # records wih target==0\n",
    "data_1=data_categorical[data_dropped['failure']==1] # records wih target==1\n",
    "\n",
    "cmap = plt.get_cmap('jet')\n",
    "col=[cmap(0.8),cmap(0.25)]\n",
    "fig, axes = plt.subplots(2, 4,figsize=[15,7])\n",
    "axes = axes.flatten()\n",
    "fig.tight_layout(h_pad=10)\n",
    "\n",
    "i=0\n",
    "for x in data_categorical.columns:\n",
    "    plt.sca(axes[i]) # set the current Axes\n",
    "    plt.hist([data_0[x],data_1[x]],density=True,color=col)\n",
    "    plt.xticks(rotation = 90) # Rotates X-Axis Ticks by 45-degrees\n",
    "    plt.title(x)\n",
    "    handles = [Rectangle((0,0),1,1,color=c)for c in col]\n",
    "    labels= [\"0\",\"1\"]\n",
    "    plt.legend(handles, labels)\n",
    "    i+=1\n",
    "plt.show()"
   ]
  },
  {
   "cell_type": "markdown",
   "metadata": {},
   "source": [
    "The dataset is not only composed of numerical attributes but also of categorical ones. Plotting each histogram to analyze their distribution, it is possible to observe that the attribute \"add_layers\" has the same distibution on target 0 and 1. Following this consideration we took the decision to remove that attribute too."
   ]
  },
  {
   "cell_type": "code",
   "execution_count": 13,
   "metadata": {
    "execution": {
     "iopub.execute_input": "2022-12-19T20:47:37.174692Z",
     "iopub.status.busy": "2022-12-19T20:47:37.174239Z",
     "iopub.status.idle": "2022-12-19T20:47:37.182234Z",
     "shell.execute_reply": "2022-12-19T20:47:37.180921Z",
     "shell.execute_reply.started": "2022-12-19T20:47:37.174646Z"
    }
   },
   "outputs": [],
   "source": [
    "ad=\"add_layers\"\n",
    "data_categorical = data_categorical.drop(columns=ad)\n",
    "selection_categorical = ['tread_type', 'tyre_season', 'tread_depth','month', 'wiring_strength', 'tyre_quality']"
   ]
  },
  {
   "cell_type": "markdown",
   "metadata": {},
   "source": [
    "### Create dummies with the OneHotEncoder method"
   ]
  },
  {
   "cell_type": "markdown",
   "metadata": {},
   "source": [
    "Our categorical attributes are represented by numbers, but in order to have them with the same weight we have found reasonable to create dummies and represent everything with the values 0 and 1. We have chosen the OneHotEncoder method since this saves the exploded categories into its object."
   ]
  },
  {
   "cell_type": "code",
   "execution_count": 14,
   "metadata": {
    "execution": {
     "iopub.execute_input": "2022-12-19T20:47:37.186963Z",
     "iopub.status.busy": "2022-12-19T20:47:37.186484Z",
     "iopub.status.idle": "2022-12-19T20:47:37.278555Z",
     "shell.execute_reply": "2022-12-19T20:47:37.277443Z",
     "shell.execute_reply.started": "2022-12-19T20:47:37.186916Z"
    }
   },
   "outputs": [
    {
     "data": {
      "text/html": [
       "<div>\n",
       "<style scoped>\n",
       "    .dataframe tbody tr th:only-of-type {\n",
       "        vertical-align: middle;\n",
       "    }\n",
       "\n",
       "    .dataframe tbody tr th {\n",
       "        vertical-align: top;\n",
       "    }\n",
       "\n",
       "    .dataframe thead th {\n",
       "        text-align: right;\n",
       "    }\n",
       "</style>\n",
       "<table border=\"1\" class=\"dataframe\">\n",
       "  <thead>\n",
       "    <tr style=\"text-align: right;\">\n",
       "      <th></th>\n",
       "      <th>tread_type_0</th>\n",
       "      <th>tread_type_1</th>\n",
       "      <th>tread_type_2</th>\n",
       "      <th>tread_type_3</th>\n",
       "      <th>tread_type_4</th>\n",
       "      <th>tyre_season_0</th>\n",
       "      <th>tyre_season_1</th>\n",
       "      <th>tread_depth_0</th>\n",
       "      <th>tread_depth_1</th>\n",
       "      <th>tread_depth_2</th>\n",
       "      <th>...</th>\n",
       "      <th>month_5</th>\n",
       "      <th>month_6</th>\n",
       "      <th>month_7</th>\n",
       "      <th>month_8</th>\n",
       "      <th>month_9</th>\n",
       "      <th>wiring_strength_0</th>\n",
       "      <th>wiring_strength_1</th>\n",
       "      <th>wiring_strength_2</th>\n",
       "      <th>tyre_quality_0</th>\n",
       "      <th>tyre_quality_1</th>\n",
       "    </tr>\n",
       "  </thead>\n",
       "  <tbody>\n",
       "    <tr>\n",
       "      <th>0</th>\n",
       "      <td>1.0</td>\n",
       "      <td>0.0</td>\n",
       "      <td>0.0</td>\n",
       "      <td>0.0</td>\n",
       "      <td>0.0</td>\n",
       "      <td>0.0</td>\n",
       "      <td>1.0</td>\n",
       "      <td>1.0</td>\n",
       "      <td>0.0</td>\n",
       "      <td>0.0</td>\n",
       "      <td>...</td>\n",
       "      <td>0.0</td>\n",
       "      <td>0.0</td>\n",
       "      <td>0.0</td>\n",
       "      <td>1.0</td>\n",
       "      <td>0.0</td>\n",
       "      <td>0.0</td>\n",
       "      <td>1.0</td>\n",
       "      <td>0.0</td>\n",
       "      <td>0.0</td>\n",
       "      <td>1.0</td>\n",
       "    </tr>\n",
       "    <tr>\n",
       "      <th>1</th>\n",
       "      <td>0.0</td>\n",
       "      <td>0.0</td>\n",
       "      <td>1.0</td>\n",
       "      <td>0.0</td>\n",
       "      <td>0.0</td>\n",
       "      <td>1.0</td>\n",
       "      <td>0.0</td>\n",
       "      <td>0.0</td>\n",
       "      <td>1.0</td>\n",
       "      <td>0.0</td>\n",
       "      <td>...</td>\n",
       "      <td>0.0</td>\n",
       "      <td>0.0</td>\n",
       "      <td>0.0</td>\n",
       "      <td>0.0</td>\n",
       "      <td>0.0</td>\n",
       "      <td>0.0</td>\n",
       "      <td>1.0</td>\n",
       "      <td>0.0</td>\n",
       "      <td>1.0</td>\n",
       "      <td>0.0</td>\n",
       "    </tr>\n",
       "    <tr>\n",
       "      <th>2</th>\n",
       "      <td>1.0</td>\n",
       "      <td>0.0</td>\n",
       "      <td>0.0</td>\n",
       "      <td>0.0</td>\n",
       "      <td>0.0</td>\n",
       "      <td>1.0</td>\n",
       "      <td>0.0</td>\n",
       "      <td>0.0</td>\n",
       "      <td>1.0</td>\n",
       "      <td>0.0</td>\n",
       "      <td>...</td>\n",
       "      <td>0.0</td>\n",
       "      <td>0.0</td>\n",
       "      <td>0.0</td>\n",
       "      <td>0.0</td>\n",
       "      <td>0.0</td>\n",
       "      <td>0.0</td>\n",
       "      <td>1.0</td>\n",
       "      <td>0.0</td>\n",
       "      <td>1.0</td>\n",
       "      <td>0.0</td>\n",
       "    </tr>\n",
       "    <tr>\n",
       "      <th>3</th>\n",
       "      <td>0.0</td>\n",
       "      <td>1.0</td>\n",
       "      <td>0.0</td>\n",
       "      <td>0.0</td>\n",
       "      <td>0.0</td>\n",
       "      <td>1.0</td>\n",
       "      <td>0.0</td>\n",
       "      <td>0.0</td>\n",
       "      <td>0.0</td>\n",
       "      <td>0.0</td>\n",
       "      <td>...</td>\n",
       "      <td>0.0</td>\n",
       "      <td>0.0</td>\n",
       "      <td>1.0</td>\n",
       "      <td>0.0</td>\n",
       "      <td>0.0</td>\n",
       "      <td>0.0</td>\n",
       "      <td>1.0</td>\n",
       "      <td>0.0</td>\n",
       "      <td>0.0</td>\n",
       "      <td>1.0</td>\n",
       "    </tr>\n",
       "    <tr>\n",
       "      <th>4</th>\n",
       "      <td>1.0</td>\n",
       "      <td>0.0</td>\n",
       "      <td>0.0</td>\n",
       "      <td>0.0</td>\n",
       "      <td>0.0</td>\n",
       "      <td>0.0</td>\n",
       "      <td>1.0</td>\n",
       "      <td>0.0</td>\n",
       "      <td>0.0</td>\n",
       "      <td>1.0</td>\n",
       "      <td>...</td>\n",
       "      <td>0.0</td>\n",
       "      <td>0.0</td>\n",
       "      <td>0.0</td>\n",
       "      <td>0.0</td>\n",
       "      <td>0.0</td>\n",
       "      <td>0.0</td>\n",
       "      <td>0.0</td>\n",
       "      <td>1.0</td>\n",
       "      <td>1.0</td>\n",
       "      <td>0.0</td>\n",
       "    </tr>\n",
       "  </tbody>\n",
       "</table>\n",
       "<p>5 rows × 28 columns</p>\n",
       "</div>"
      ],
      "text/plain": [
       "   tread_type_0  tread_type_1  tread_type_2  tread_type_3  tread_type_4  \\\n",
       "0           1.0           0.0           0.0           0.0           0.0   \n",
       "1           0.0           0.0           1.0           0.0           0.0   \n",
       "2           1.0           0.0           0.0           0.0           0.0   \n",
       "3           0.0           1.0           0.0           0.0           0.0   \n",
       "4           1.0           0.0           0.0           0.0           0.0   \n",
       "\n",
       "   tyre_season_0  tyre_season_1  tread_depth_0  tread_depth_1  tread_depth_2  \\\n",
       "0            0.0            1.0            1.0            0.0            0.0   \n",
       "1            1.0            0.0            0.0            1.0            0.0   \n",
       "2            1.0            0.0            0.0            1.0            0.0   \n",
       "3            1.0            0.0            0.0            0.0            0.0   \n",
       "4            0.0            1.0            0.0            0.0            1.0   \n",
       "\n",
       "   ...  month_5  month_6  month_7  month_8  month_9  wiring_strength_0  \\\n",
       "0  ...      0.0      0.0      0.0      1.0      0.0                0.0   \n",
       "1  ...      0.0      0.0      0.0      0.0      0.0                0.0   \n",
       "2  ...      0.0      0.0      0.0      0.0      0.0                0.0   \n",
       "3  ...      0.0      0.0      1.0      0.0      0.0                0.0   \n",
       "4  ...      0.0      0.0      0.0      0.0      0.0                0.0   \n",
       "\n",
       "   wiring_strength_1  wiring_strength_2  tyre_quality_0  tyre_quality_1  \n",
       "0                1.0                0.0             0.0             1.0  \n",
       "1                1.0                0.0             1.0             0.0  \n",
       "2                1.0                0.0             1.0             0.0  \n",
       "3                1.0                0.0             0.0             1.0  \n",
       "4                0.0                1.0             1.0             0.0  \n",
       "\n",
       "[5 rows x 28 columns]"
      ]
     },
     "execution_count": 14,
     "metadata": {},
     "output_type": "execute_result"
    }
   ],
   "source": [
    "from sklearn.preprocessing import OneHotEncoder\n",
    "encod = OneHotEncoder(handle_unknown='ignore')\n",
    "\n",
    "data_dummies=pd.DataFrame()\n",
    "for i in range(len(selection_categorical)):\n",
    "    encod.fit(data_dropped[[selection_categorical[i]]].astype(str))\n",
    "    dummies = encod.transform(data_dropped[[selection_categorical[i]]].astype(str)).toarray()\n",
    "    for k in range(len(encod.categories_[0])):\n",
    "        encod.categories_[0][k]=selection_categorical[i]+\"_\"+str(encod.categories_[0][k])\n",
    "    data_dummies=pd.concat([data_dummies,pd.DataFrame(dummies,columns=encod.categories_[0])],axis=1)\n",
    "    \n",
    "data_dummies.head()"
   ]
  },
  {
   "cell_type": "markdown",
   "metadata": {},
   "source": [
    "## Numerical Variables"
   ]
  },
  {
   "cell_type": "markdown",
   "metadata": {},
   "source": [
    "As well, we analyzed the distribution of numerical attributes, so we selected the numerical variables based on the Dataset description without the variable \"diameter\" that has been previously eliminated."
   ]
  },
  {
   "cell_type": "code",
   "execution_count": 15,
   "metadata": {
    "execution": {
     "iopub.execute_input": "2022-12-19T20:47:37.280981Z",
     "iopub.status.busy": "2022-12-19T20:47:37.280240Z",
     "iopub.status.idle": "2022-12-19T20:47:37.300196Z",
     "shell.execute_reply": "2022-12-19T20:47:37.299038Z",
     "shell.execute_reply.started": "2022-12-19T20:47:37.280907Z"
    }
   },
   "outputs": [
    {
     "data": {
      "text/html": [
       "<div>\n",
       "<style scoped>\n",
       "    .dataframe tbody tr th:only-of-type {\n",
       "        vertical-align: middle;\n",
       "    }\n",
       "\n",
       "    .dataframe tbody tr th {\n",
       "        vertical-align: top;\n",
       "    }\n",
       "\n",
       "    .dataframe thead th {\n",
       "        text-align: right;\n",
       "    }\n",
       "</style>\n",
       "<table border=\"1\" class=\"dataframe\">\n",
       "  <thead>\n",
       "    <tr style=\"text-align: right;\">\n",
       "      <th></th>\n",
       "      <th>vulc</th>\n",
       "      <th>perc_nat_rubber</th>\n",
       "      <th>weather</th>\n",
       "      <th>perc_imp</th>\n",
       "      <th>temperature</th>\n",
       "      <th>elevation</th>\n",
       "      <th>perc_exp_comp</th>\n",
       "      <th>failure</th>\n",
       "    </tr>\n",
       "  </thead>\n",
       "  <tbody>\n",
       "    <tr>\n",
       "      <th>0</th>\n",
       "      <td>17.990</td>\n",
       "      <td>26</td>\n",
       "      <td>0.16</td>\n",
       "      <td>0.01</td>\n",
       "      <td>-8.12</td>\n",
       "      <td>332.5</td>\n",
       "      <td>5.13</td>\n",
       "      <td>0</td>\n",
       "    </tr>\n",
       "    <tr>\n",
       "      <th>1</th>\n",
       "      <td>20.704</td>\n",
       "      <td>36</td>\n",
       "      <td>0.30</td>\n",
       "      <td>0.01</td>\n",
       "      <td>-4.52</td>\n",
       "      <td>328.0</td>\n",
       "      <td>6.15</td>\n",
       "      <td>0</td>\n",
       "    </tr>\n",
       "    <tr>\n",
       "      <th>2</th>\n",
       "      <td>19.156</td>\n",
       "      <td>34</td>\n",
       "      <td>0.30</td>\n",
       "      <td>0.01</td>\n",
       "      <td>-1.08</td>\n",
       "      <td>247.0</td>\n",
       "      <td>6.36</td>\n",
       "      <td>0</td>\n",
       "    </tr>\n",
       "    <tr>\n",
       "      <th>3</th>\n",
       "      <td>16.802</td>\n",
       "      <td>35</td>\n",
       "      <td>0.19</td>\n",
       "      <td>0.02</td>\n",
       "      <td>7.44</td>\n",
       "      <td>408.0</td>\n",
       "      <td>6.62</td>\n",
       "      <td>0</td>\n",
       "    </tr>\n",
       "    <tr>\n",
       "      <th>4</th>\n",
       "      <td>17.140</td>\n",
       "      <td>23</td>\n",
       "      <td>0.39</td>\n",
       "      <td>0.01</td>\n",
       "      <td>30.52</td>\n",
       "      <td>308.0</td>\n",
       "      <td>6.15</td>\n",
       "      <td>0</td>\n",
       "    </tr>\n",
       "  </tbody>\n",
       "</table>\n",
       "</div>"
      ],
      "text/plain": [
       "     vulc  perc_nat_rubber  weather  perc_imp  temperature  elevation  \\\n",
       "0  17.990               26     0.16      0.01        -8.12      332.5   \n",
       "1  20.704               36     0.30      0.01        -4.52      328.0   \n",
       "2  19.156               34     0.30      0.01        -1.08      247.0   \n",
       "3  16.802               35     0.19      0.02         7.44      408.0   \n",
       "4  17.140               23     0.39      0.01        30.52      308.0   \n",
       "\n",
       "   perc_exp_comp  failure  \n",
       "0           5.13        0  \n",
       "1           6.15        0  \n",
       "2           6.36        0  \n",
       "3           6.62        0  \n",
       "4           6.15        0  "
      ]
     },
     "execution_count": 15,
     "metadata": {},
     "output_type": "execute_result"
    }
   ],
   "source": [
    "selection_numerical=['vulc', 'perc_nat_rubber', 'weather', 'perc_imp', 'temperature', 'elevation',\n",
    "       'perc_exp_comp','failure']\n",
    "data_numerical=data_dropped[selection_numerical]\n",
    "data_numerical.head()"
   ]
  },
  {
   "cell_type": "code",
   "execution_count": 16,
   "metadata": {
    "execution": {
     "iopub.execute_input": "2022-12-19T20:47:37.302769Z",
     "iopub.status.busy": "2022-12-19T20:47:37.302040Z",
     "iopub.status.idle": "2022-12-19T20:47:38.731591Z",
     "shell.execute_reply": "2022-12-19T20:47:38.730388Z",
     "shell.execute_reply.started": "2022-12-19T20:47:37.302723Z"
    }
   },
   "outputs": [
    {
     "name": "stdout",
     "output_type": "stream",
     "text": [
      "(1992, 8)\n",
      "(1008, 8)\n"
     ]
    },
    {
     "data": {
      "image/png": "[encoded data removed]",
      "text/plain": [
       "<Figure size 1440x576 with 7 Axes>"
      ]
     },
     "metadata": {},
     "output_type": "display_data"
    }
   ],
   "source": [
    "# Visualize numerical variables\n",
    "X0 = data_numerical[data_numerical['failure']==0]\n",
    "X1 = data_numerical[data_numerical['failure']==1]\n",
    "print(X0.shape)\n",
    "print(X1.shape)\n",
    "fig, axes = plt.subplots(ncols=7, nrows=1, figsize=(20,8))\n",
    "fig.tight_layout()\n",
    "\n",
    "data_num = data_numerical.iloc[:,0:-1]\n",
    "\n",
    "for i, ax in zip(range(data_num.columns.size), axes.flat):\n",
    "    sns.histplot(X0.iloc[:,i], color=\"blue\", ax=ax, stat='density', element=\"step\",  alpha=0.3)\n",
    "    sns.histplot(X1.iloc[:,i], color=\"red\", ax=ax,stat='density', element=\"step\",  alpha=0.3)\n",
    "plt.show()\n"
   ]
  },
  {
   "cell_type": "code",
   "execution_count": null,
   "metadata": {},
   "outputs": [],
   "source": []
  },
  {
   "cell_type": "code",
   "execution_count": 17,
   "metadata": {
    "execution": {
     "iopub.execute_input": "2022-12-19T20:47:38.733668Z",
     "iopub.status.busy": "2022-12-19T20:47:38.733082Z",
     "iopub.status.idle": "2022-12-19T20:47:39.993883Z",
     "shell.execute_reply": "2022-12-19T20:47:39.993038Z",
     "shell.execute_reply.started": "2022-12-19T20:47:38.733634Z"
    }
   },
   "outputs": [
    {
     "data": {
      "image/png": "[encoded data removed]",
      "text/plain": [
       "<Figure size 1080x864 with 16 Axes>"
      ]
     },
     "metadata": {},
     "output_type": "display_data"
    }
   ],
   "source": [
    "data_hist=data_numerical.hist(layout=(4,4), figsize=(15,12))"
   ]
  },
  {
   "cell_type": "markdown",
   "metadata": {},
   "source": [
    "The variables present a quite symmetric distribution; some of them are slightly right skewed but do not present an exponential decrease. For this reason we maintain the original distribution without applying any logaritmic transormation."
   ]
  },
  {
   "cell_type": "code",
   "execution_count": 18,
   "metadata": {
    "execution": {
     "iopub.execute_input": "2022-12-19T20:47:39.996078Z",
     "iopub.status.busy": "2022-12-19T20:47:39.995390Z",
     "iopub.status.idle": "2022-12-19T20:47:40.306569Z",
     "shell.execute_reply": "2022-12-19T20:47:40.305331Z",
     "shell.execute_reply.started": "2022-12-19T20:47:39.996042Z"
    }
   },
   "outputs": [
    {
     "data": {
      "text/plain": [
       "<AxesSubplot:>"
      ]
     },
     "execution_count": 18,
     "metadata": {},
     "output_type": "execute_result"
    },
    {
     "data": {
      "image/png": "[encoded data removed]",
      "text/plain": [
       "<Figure size 432x288 with 1 Axes>"
      ]
     },
     "metadata": {},
     "output_type": "display_data"
    }
   ],
   "source": [
    "data_numerical.boxplot(rot=90)"
   ]
  },
  {
   "cell_type": "markdown",
   "metadata": {},
   "source": [
    "Since the scale of numerical variables is too different, we will scale the train set and apply the same scaler on the test set after the split of the dataset."
   ]
  },
  {
   "cell_type": "markdown",
   "metadata": {},
   "source": [
    "Now that all the transformations on the original Dataset are concluded, we can create the final Dataset with all the modifications and include the target variable."
   ]
  },
  {
   "cell_type": "code",
   "execution_count": 19,
   "metadata": {
    "execution": {
     "iopub.execute_input": "2022-12-19T20:47:40.308641Z",
     "iopub.status.busy": "2022-12-19T20:47:40.308291Z",
     "iopub.status.idle": "2022-12-19T20:47:40.341819Z",
     "shell.execute_reply": "2022-12-19T20:47:40.340791Z",
     "shell.execute_reply.started": "2022-12-19T20:47:40.308609Z"
    }
   },
   "outputs": [
    {
     "data": {
      "text/html": [
       "<div>\n",
       "<style scoped>\n",
       "    .dataframe tbody tr th:only-of-type {\n",
       "        vertical-align: middle;\n",
       "    }\n",
       "\n",
       "    .dataframe tbody tr th {\n",
       "        vertical-align: top;\n",
       "    }\n",
       "\n",
       "    .dataframe thead th {\n",
       "        text-align: right;\n",
       "    }\n",
       "</style>\n",
       "<table border=\"1\" class=\"dataframe\">\n",
       "  <thead>\n",
       "    <tr style=\"text-align: right;\">\n",
       "      <th></th>\n",
       "      <th>tread_type_0</th>\n",
       "      <th>tread_type_1</th>\n",
       "      <th>tread_type_2</th>\n",
       "      <th>tread_type_3</th>\n",
       "      <th>tread_type_4</th>\n",
       "      <th>tyre_season_0</th>\n",
       "      <th>tyre_season_1</th>\n",
       "      <th>tread_depth_0</th>\n",
       "      <th>tread_depth_1</th>\n",
       "      <th>tread_depth_2</th>\n",
       "      <th>...</th>\n",
       "      <th>tyre_quality_0</th>\n",
       "      <th>tyre_quality_1</th>\n",
       "      <th>vulc</th>\n",
       "      <th>perc_nat_rubber</th>\n",
       "      <th>weather</th>\n",
       "      <th>perc_imp</th>\n",
       "      <th>temperature</th>\n",
       "      <th>elevation</th>\n",
       "      <th>perc_exp_comp</th>\n",
       "      <th>failure</th>\n",
       "    </tr>\n",
       "  </thead>\n",
       "  <tbody>\n",
       "    <tr>\n",
       "      <th>2995</th>\n",
       "      <td>0.0</td>\n",
       "      <td>1.0</td>\n",
       "      <td>0.0</td>\n",
       "      <td>0.0</td>\n",
       "      <td>0.0</td>\n",
       "      <td>0.0</td>\n",
       "      <td>1.0</td>\n",
       "      <td>0.0</td>\n",
       "      <td>1.0</td>\n",
       "      <td>0.0</td>\n",
       "      <td>...</td>\n",
       "      <td>0.0</td>\n",
       "      <td>1.0</td>\n",
       "      <td>17.818</td>\n",
       "      <td>29</td>\n",
       "      <td>0.39</td>\n",
       "      <td>0.01</td>\n",
       "      <td>7.28</td>\n",
       "      <td>287.5</td>\n",
       "      <td>5.68</td>\n",
       "      <td>1</td>\n",
       "    </tr>\n",
       "    <tr>\n",
       "      <th>2996</th>\n",
       "      <td>0.0</td>\n",
       "      <td>1.0</td>\n",
       "      <td>0.0</td>\n",
       "      <td>0.0</td>\n",
       "      <td>0.0</td>\n",
       "      <td>0.0</td>\n",
       "      <td>1.0</td>\n",
       "      <td>0.0</td>\n",
       "      <td>1.0</td>\n",
       "      <td>0.0</td>\n",
       "      <td>...</td>\n",
       "      <td>1.0</td>\n",
       "      <td>0.0</td>\n",
       "      <td>17.076</td>\n",
       "      <td>30</td>\n",
       "      <td>0.22</td>\n",
       "      <td>0.00</td>\n",
       "      <td>-1.44</td>\n",
       "      <td>152.5</td>\n",
       "      <td>5.81</td>\n",
       "      <td>1</td>\n",
       "    </tr>\n",
       "    <tr>\n",
       "      <th>2997</th>\n",
       "      <td>0.0</td>\n",
       "      <td>1.0</td>\n",
       "      <td>0.0</td>\n",
       "      <td>0.0</td>\n",
       "      <td>0.0</td>\n",
       "      <td>1.0</td>\n",
       "      <td>0.0</td>\n",
       "      <td>0.0</td>\n",
       "      <td>0.0</td>\n",
       "      <td>0.0</td>\n",
       "      <td>...</td>\n",
       "      <td>0.0</td>\n",
       "      <td>1.0</td>\n",
       "      <td>16.170</td>\n",
       "      <td>33</td>\n",
       "      <td>0.39</td>\n",
       "      <td>0.01</td>\n",
       "      <td>-3.44</td>\n",
       "      <td>235.0</td>\n",
       "      <td>5.57</td>\n",
       "      <td>0</td>\n",
       "    </tr>\n",
       "    <tr>\n",
       "      <th>2998</th>\n",
       "      <td>0.0</td>\n",
       "      <td>0.0</td>\n",
       "      <td>0.0</td>\n",
       "      <td>0.0</td>\n",
       "      <td>1.0</td>\n",
       "      <td>1.0</td>\n",
       "      <td>0.0</td>\n",
       "      <td>1.0</td>\n",
       "      <td>0.0</td>\n",
       "      <td>0.0</td>\n",
       "      <td>...</td>\n",
       "      <td>1.0</td>\n",
       "      <td>0.0</td>\n",
       "      <td>18.872</td>\n",
       "      <td>37</td>\n",
       "      <td>0.03</td>\n",
       "      <td>0.00</td>\n",
       "      <td>-0.76</td>\n",
       "      <td>290.0</td>\n",
       "      <td>5.89</td>\n",
       "      <td>0</td>\n",
       "    </tr>\n",
       "    <tr>\n",
       "      <th>2999</th>\n",
       "      <td>0.0</td>\n",
       "      <td>1.0</td>\n",
       "      <td>0.0</td>\n",
       "      <td>0.0</td>\n",
       "      <td>0.0</td>\n",
       "      <td>1.0</td>\n",
       "      <td>0.0</td>\n",
       "      <td>0.0</td>\n",
       "      <td>1.0</td>\n",
       "      <td>0.0</td>\n",
       "      <td>...</td>\n",
       "      <td>1.0</td>\n",
       "      <td>0.0</td>\n",
       "      <td>20.272</td>\n",
       "      <td>33</td>\n",
       "      <td>0.06</td>\n",
       "      <td>0.00</td>\n",
       "      <td>2.80</td>\n",
       "      <td>405.0</td>\n",
       "      <td>6.00</td>\n",
       "      <td>0</td>\n",
       "    </tr>\n",
       "  </tbody>\n",
       "</table>\n",
       "<p>5 rows × 36 columns</p>\n",
       "</div>"
      ],
      "text/plain": [
       "      tread_type_0  tread_type_1  tread_type_2  tread_type_3  tread_type_4  \\\n",
       "2995           0.0           1.0           0.0           0.0           0.0   \n",
       "2996           0.0           1.0           0.0           0.0           0.0   \n",
       "2997           0.0           1.0           0.0           0.0           0.0   \n",
       "2998           0.0           0.0           0.0           0.0           1.0   \n",
       "2999           0.0           1.0           0.0           0.0           0.0   \n",
       "\n",
       "      tyre_season_0  tyre_season_1  tread_depth_0  tread_depth_1  \\\n",
       "2995            0.0            1.0            0.0            1.0   \n",
       "2996            0.0            1.0            0.0            1.0   \n",
       "2997            1.0            0.0            0.0            0.0   \n",
       "2998            1.0            0.0            1.0            0.0   \n",
       "2999            1.0            0.0            0.0            1.0   \n",
       "\n",
       "      tread_depth_2  ...  tyre_quality_0  tyre_quality_1    vulc  \\\n",
       "2995            0.0  ...             0.0             1.0  17.818   \n",
       "2996            0.0  ...             1.0             0.0  17.076   \n",
       "2997            0.0  ...             0.0             1.0  16.170   \n",
       "2998            0.0  ...             1.0             0.0  18.872   \n",
       "2999            0.0  ...             1.0             0.0  20.272   \n",
       "\n",
       "      perc_nat_rubber  weather  perc_imp  temperature  elevation  \\\n",
       "2995               29     0.39      0.01         7.28      287.5   \n",
       "2996               30     0.22      0.00        -1.44      152.5   \n",
       "2997               33     0.39      0.01        -3.44      235.0   \n",
       "2998               37     0.03      0.00        -0.76      290.0   \n",
       "2999               33     0.06      0.00         2.80      405.0   \n",
       "\n",
       "      perc_exp_comp  failure  \n",
       "2995           5.68        1  \n",
       "2996           5.81        1  \n",
       "2997           5.57        0  \n",
       "2998           5.89        0  \n",
       "2999           6.00        0  \n",
       "\n",
       "[5 rows x 36 columns]"
      ]
     },
     "execution_count": 19,
     "metadata": {},
     "output_type": "execute_result"
    }
   ],
   "source": [
    "df=pd.concat([data_dummies,data_numerical],axis=1)\n",
    "df['failure']=data_dropped['failure']\n",
    "\n",
    "df.tail()"
   ]
  },
  {
   "cell_type": "markdown",
   "metadata": {},
   "source": [
    "# Creation of Train and Test Sets"
   ]
  },
  {
   "cell_type": "code",
   "execution_count": 20,
   "metadata": {
    "execution": {
     "iopub.execute_input": "2022-12-19T20:47:40.346293Z",
     "iopub.status.busy": "2022-12-19T20:47:40.343488Z",
     "iopub.status.idle": "2022-12-19T20:47:40.353090Z",
     "shell.execute_reply": "2022-12-19T20:47:40.351869Z",
     "shell.execute_reply.started": "2022-12-19T20:47:40.346235Z"
    }
   },
   "outputs": [],
   "source": [
    "X = df.iloc[:,0:-1]\n",
    "y = df.iloc[:,-1] #[-1]]"
   ]
  },
  {
   "cell_type": "code",
   "execution_count": 21,
   "metadata": {
    "execution": {
     "iopub.execute_input": "2022-12-19T20:47:40.354720Z",
     "iopub.status.busy": "2022-12-19T20:47:40.354408Z",
     "iopub.status.idle": "2022-12-19T20:47:40.373260Z",
     "shell.execute_reply": "2022-12-19T20:47:40.371910Z",
     "shell.execute_reply.started": "2022-12-19T20:47:40.354693Z"
    }
   },
   "outputs": [
    {
     "name": "stdout",
     "output_type": "stream",
     "text": [
      "(2400, 35) (600, 35)\n"
     ]
    }
   ],
   "source": [
    "#SPLIT DATA INTO TRAIN AND TEST SET\n",
    "X_train1, X_test1, y_train1, y_test1 = train_test_split(X, y, \n",
    "                                                    test_size =0.20, \n",
    "                                                    #shuffle is set True by default,\n",
    "                                                    stratify=y, #preserve target proportions \n",
    "                                                    random_state= 42) \n",
    "\n",
    "print(X_train1.shape, X_test1.shape)"
   ]
  },
  {
   "cell_type": "markdown",
   "metadata": {},
   "source": [
    "Through the \"train_split_test\" function we separated our data. Now we can scale tha numerical data contained in the train set and then apply the same scaler to the test set.\n",
    "\n",
    "Once we have the new data scaled, we drop the previous numerical data and substitute them with the new ones."
   ]
  },
  {
   "cell_type": "code",
   "execution_count": 22,
   "metadata": {
    "execution": {
     "iopub.execute_input": "2022-12-19T20:47:40.374788Z",
     "iopub.status.busy": "2022-12-19T20:47:40.374482Z",
     "iopub.status.idle": "2022-12-19T20:47:40.404606Z",
     "shell.execute_reply": "2022-12-19T20:47:40.403293Z",
     "shell.execute_reply.started": "2022-12-19T20:47:40.374760Z"
    }
   },
   "outputs": [
    {
     "name": "stdout",
     "output_type": "stream",
     "text": [
      "(600, 7) (2400, 7)\n"
     ]
    },
    {
     "data": {
      "text/html": [
       "<div>\n",
       "<style scoped>\n",
       "    .dataframe tbody tr th:only-of-type {\n",
       "        vertical-align: middle;\n",
       "    }\n",
       "\n",
       "    .dataframe tbody tr th {\n",
       "        vertical-align: top;\n",
       "    }\n",
       "\n",
       "    .dataframe thead th {\n",
       "        text-align: right;\n",
       "    }\n",
       "</style>\n",
       "<table border=\"1\" class=\"dataframe\">\n",
       "  <thead>\n",
       "    <tr style=\"text-align: right;\">\n",
       "      <th></th>\n",
       "      <th>vulc</th>\n",
       "      <th>perc_nat_rubber</th>\n",
       "      <th>weather</th>\n",
       "      <th>perc_imp</th>\n",
       "      <th>elevation</th>\n",
       "      <th>temperature</th>\n",
       "      <th>perc_exp_comp</th>\n",
       "    </tr>\n",
       "  </thead>\n",
       "  <tbody>\n",
       "    <tr>\n",
       "      <th>0</th>\n",
       "      <td>-0.299530</td>\n",
       "      <td>-1.644094</td>\n",
       "      <td>-0.656931</td>\n",
       "      <td>-0.316066</td>\n",
       "      <td>-0.627192</td>\n",
       "      <td>-0.877116</td>\n",
       "      <td>-1.436695</td>\n",
       "    </tr>\n",
       "    <tr>\n",
       "      <th>1</th>\n",
       "      <td>-0.266915</td>\n",
       "      <td>-1.241992</td>\n",
       "      <td>1.828084</td>\n",
       "      <td>2.514375</td>\n",
       "      <td>1.044878</td>\n",
       "      <td>1.782521</td>\n",
       "      <td>1.039006</td>\n",
       "    </tr>\n",
       "    <tr>\n",
       "      <th>2</th>\n",
       "      <td>-0.312074</td>\n",
       "      <td>-1.241992</td>\n",
       "      <td>-0.656931</td>\n",
       "      <td>-0.316066</td>\n",
       "      <td>0.239807</td>\n",
       "      <td>-0.945488</td>\n",
       "      <td>-1.703683</td>\n",
       "    </tr>\n",
       "    <tr>\n",
       "      <th>3</th>\n",
       "      <td>-0.818857</td>\n",
       "      <td>0.969568</td>\n",
       "      <td>0.585577</td>\n",
       "      <td>-0.316066</td>\n",
       "      <td>0.044244</td>\n",
       "      <td>0.339890</td>\n",
       "      <td>1.184635</td>\n",
       "    </tr>\n",
       "    <tr>\n",
       "      <th>4</th>\n",
       "      <td>-0.461349</td>\n",
       "      <td>-1.040941</td>\n",
       "      <td>0.585577</td>\n",
       "      <td>-0.316066</td>\n",
       "      <td>-0.529410</td>\n",
       "      <td>0.025383</td>\n",
       "      <td>-0.708548</td>\n",
       "    </tr>\n",
       "    <tr>\n",
       "      <th>5</th>\n",
       "      <td>-0.217993</td>\n",
       "      <td>-1.241992</td>\n",
       "      <td>-0.656931</td>\n",
       "      <td>-0.316066</td>\n",
       "      <td>-0.659786</td>\n",
       "      <td>-1.034370</td>\n",
       "      <td>-0.902721</td>\n",
       "    </tr>\n",
       "    <tr>\n",
       "      <th>6</th>\n",
       "      <td>-1.521328</td>\n",
       "      <td>1.773772</td>\n",
       "      <td>3.502768</td>\n",
       "      <td>1.806765</td>\n",
       "      <td>-0.620673</td>\n",
       "      <td>1.078299</td>\n",
       "      <td>2.252585</td>\n",
       "    </tr>\n",
       "    <tr>\n",
       "      <th>7</th>\n",
       "      <td>-0.151509</td>\n",
       "      <td>-1.443043</td>\n",
       "      <td>-0.656931</td>\n",
       "      <td>-0.316066</td>\n",
       "      <td>-0.236064</td>\n",
       "      <td>-1.061719</td>\n",
       "      <td>-1.752226</td>\n",
       "    </tr>\n",
       "    <tr>\n",
       "      <th>8</th>\n",
       "      <td>0.714036</td>\n",
       "      <td>0.969568</td>\n",
       "      <td>-1.305195</td>\n",
       "      <td>-0.316066</td>\n",
       "      <td>1.729350</td>\n",
       "      <td>0.189474</td>\n",
       "      <td>0.820561</td>\n",
       "    </tr>\n",
       "    <tr>\n",
       "      <th>9</th>\n",
       "      <td>-0.663310</td>\n",
       "      <td>-0.638839</td>\n",
       "      <td>0.477532</td>\n",
       "      <td>0.391544</td>\n",
       "      <td>0.565747</td>\n",
       "      <td>2.103866</td>\n",
       "      <td>2.592387</td>\n",
       "    </tr>\n",
       "  </tbody>\n",
       "</table>\n",
       "</div>"
      ],
      "text/plain": [
       "       vulc  perc_nat_rubber   weather  perc_imp  elevation  temperature  \\\n",
       "0 -0.299530        -1.644094 -0.656931 -0.316066  -0.627192    -0.877116   \n",
       "1 -0.266915        -1.241992  1.828084  2.514375   1.044878     1.782521   \n",
       "2 -0.312074        -1.241992 -0.656931 -0.316066   0.239807    -0.945488   \n",
       "3 -0.818857         0.969568  0.585577 -0.316066   0.044244     0.339890   \n",
       "4 -0.461349        -1.040941  0.585577 -0.316066  -0.529410     0.025383   \n",
       "5 -0.217993        -1.241992 -0.656931 -0.316066  -0.659786    -1.034370   \n",
       "6 -1.521328         1.773772  3.502768  1.806765  -0.620673     1.078299   \n",
       "7 -0.151509        -1.443043 -0.656931 -0.316066  -0.236064    -1.061719   \n",
       "8  0.714036         0.969568 -1.305195 -0.316066   1.729350     0.189474   \n",
       "9 -0.663310        -0.638839  0.477532  0.391544   0.565747     2.103866   \n",
       "\n",
       "   perc_exp_comp  \n",
       "0      -1.436695  \n",
       "1       1.039006  \n",
       "2      -1.703683  \n",
       "3       1.184635  \n",
       "4      -0.708548  \n",
       "5      -0.902721  \n",
       "6       2.252585  \n",
       "7      -1.752226  \n",
       "8       0.820561  \n",
       "9       2.592387  "
      ]
     },
     "execution_count": 22,
     "metadata": {},
     "output_type": "execute_result"
    }
   ],
   "source": [
    "# we have to scale the numerical variables of the train set --> then we apply the same scaler to the numerical variables of the test set\n",
    "numerical=['vulc','perc_nat_rubber', 'weather', 'perc_imp', 'elevation','temperature', 'perc_exp_comp']\n",
    "\n",
    "\n",
    "independent_variablesA=X_train1[numerical] #no target\n",
    "independent_variablesB=X_test1[numerical] #no target\n",
    "\n",
    "scaler_train = StandardScaler().fit(independent_variablesA) \n",
    "scaled_train = pd.DataFrame(scaler_train.transform(independent_variablesA))\n",
    "scaled_train.columns = independent_variablesA.columns\n",
    "\n",
    "scaled_test = pd.DataFrame(scaler_train.transform(independent_variablesB))\n",
    "scaled_test.columns = independent_variablesB.columns\n",
    "print(scaled_test.shape, scaled_train.shape)\n",
    "scaled_test.head(10)"
   ]
  },
  {
   "cell_type": "code",
   "execution_count": 23,
   "metadata": {
    "execution": {
     "iopub.execute_input": "2022-12-19T20:47:40.406688Z",
     "iopub.status.busy": "2022-12-19T20:47:40.406218Z",
     "iopub.status.idle": "2022-12-19T20:47:40.916655Z",
     "shell.execute_reply": "2022-12-19T20:47:40.915467Z",
     "shell.execute_reply.started": "2022-12-19T20:47:40.406644Z"
    }
   },
   "outputs": [
    {
     "data": {
      "text/plain": [
       "<AxesSubplot:>"
      ]
     },
     "execution_count": 23,
     "metadata": {},
     "output_type": "execute_result"
    },
    {
     "data": {
      "image/png": "[encoded data removed]",
      "text/plain": [
       "<Figure size 1080x360 with 2 Axes>"
      ]
     },
     "metadata": {},
     "output_type": "display_data"
    }
   ],
   "source": [
    "f, axes = plt.subplots(1, 2, figsize=(15,5))\n",
    "\n",
    "scaled_train.boxplot(rot=90,ax=axes[0])\n",
    "scaled_test.boxplot(rot=90,ax=axes[1])"
   ]
  },
  {
   "cell_type": "code",
   "execution_count": 24,
   "metadata": {
    "execution": {
     "iopub.execute_input": "2022-12-19T20:47:40.918711Z",
     "iopub.status.busy": "2022-12-19T20:47:40.918269Z",
     "iopub.status.idle": "2022-12-19T20:47:40.925409Z",
     "shell.execute_reply": "2022-12-19T20:47:40.924135Z",
     "shell.execute_reply.started": "2022-12-19T20:47:40.918668Z"
    }
   },
   "outputs": [],
   "source": [
    "# Save the scaler\n",
    "import pickle\n",
    "pickle.dump(scaler_train, open('scaler.pkl', 'wb'))"
   ]
  },
  {
   "cell_type": "markdown",
   "metadata": {},
   "source": [
    "The two sets have been scaled correctly, so we can merge them with the categorical variables."
   ]
  },
  {
   "cell_type": "code",
   "execution_count": 25,
   "metadata": {
    "execution": {
     "iopub.execute_input": "2022-12-19T20:47:40.927558Z",
     "iopub.status.busy": "2022-12-19T20:47:40.927171Z",
     "iopub.status.idle": "2022-12-19T20:47:40.942304Z",
     "shell.execute_reply": "2022-12-19T20:47:40.940881Z",
     "shell.execute_reply.started": "2022-12-19T20:47:40.927527Z"
    }
   },
   "outputs": [
    {
     "name": "stdout",
     "output_type": "stream",
     "text": [
      "(600, 28) (2400, 28)\n"
     ]
    }
   ],
   "source": [
    "# subsitute original numerical variables with scaled numerical variables\n",
    "scaled_train.index= independent_variablesA.index\n",
    "scaled_test.index= independent_variablesB.index\n",
    "\n",
    "train_dropped = X_train1.drop(columns=numerical)\n",
    "test_dropped = X_test1.drop(columns=numerical)\n",
    "print(test_dropped.shape, train_dropped.shape)\n",
    "\n",
    "Xtrain2=pd.concat([train_dropped,scaled_train],axis=1)\n",
    "Xtest2=pd.concat([test_dropped,scaled_test],axis=1)\n"
   ]
  },
  {
   "cell_type": "code",
   "execution_count": 26,
   "metadata": {
    "execution": {
     "iopub.execute_input": "2022-12-19T20:47:40.944532Z",
     "iopub.status.busy": "2022-12-19T20:47:40.943973Z",
     "iopub.status.idle": "2022-12-19T20:47:40.957443Z",
     "shell.execute_reply": "2022-12-19T20:47:40.956111Z",
     "shell.execute_reply.started": "2022-12-19T20:47:40.944492Z"
    }
   },
   "outputs": [
    {
     "name": "stdout",
     "output_type": "stream",
     "text": [
      "tread_type_0         0\n",
      "tread_type_1         0\n",
      "tread_type_2         0\n",
      "tread_type_3         0\n",
      "tread_type_4         0\n",
      "tyre_season_0        0\n",
      "tyre_season_1        0\n",
      "tread_depth_0        0\n",
      "tread_depth_1        0\n",
      "tread_depth_2        0\n",
      "tread_depth_3        0\n",
      "month_0              0\n",
      "month_1              0\n",
      "month_10             0\n",
      "month_11             0\n",
      "month_2              0\n",
      "month_3              0\n",
      "month_4              0\n",
      "month_5              0\n",
      "month_6              0\n",
      "month_7              0\n",
      "month_8              0\n",
      "month_9              0\n",
      "wiring_strength_0    0\n",
      "wiring_strength_1    0\n",
      "wiring_strength_2    0\n",
      "tyre_quality_0       0\n",
      "tyre_quality_1       0\n",
      "vulc                 0\n",
      "perc_nat_rubber      0\n",
      "weather              0\n",
      "perc_imp             0\n",
      "elevation            0\n",
      "temperature          0\n",
      "perc_exp_comp        0\n",
      "dtype: int64 tread_type_0         0\n",
      "tread_type_1         0\n",
      "tread_type_2         0\n",
      "tread_type_3         0\n",
      "tread_type_4         0\n",
      "tyre_season_0        0\n",
      "tyre_season_1        0\n",
      "tread_depth_0        0\n",
      "tread_depth_1        0\n",
      "tread_depth_2        0\n",
      "tread_depth_3        0\n",
      "month_0              0\n",
      "month_1              0\n",
      "month_10             0\n",
      "month_11             0\n",
      "month_2              0\n",
      "month_3              0\n",
      "month_4              0\n",
      "month_5              0\n",
      "month_6              0\n",
      "month_7              0\n",
      "month_8              0\n",
      "month_9              0\n",
      "wiring_strength_0    0\n",
      "wiring_strength_1    0\n",
      "wiring_strength_2    0\n",
      "tyre_quality_0       0\n",
      "tyre_quality_1       0\n",
      "vulc                 0\n",
      "perc_nat_rubber      0\n",
      "weather              0\n",
      "perc_imp             0\n",
      "elevation            0\n",
      "temperature          0\n",
      "perc_exp_comp        0\n",
      "dtype: int64\n"
     ]
    }
   ],
   "source": [
    "# check correct substitution\n",
    "print(Xtest2.isnull().sum(), Xtrain2.isnull().sum())"
   ]
  },
  {
   "cell_type": "markdown",
   "metadata": {},
   "source": [
    "The substitution has been executed correctly so we can create the new scaled train and test sets."
   ]
  },
  {
   "cell_type": "code",
   "execution_count": 27,
   "metadata": {
    "execution": {
     "iopub.execute_input": "2022-12-19T20:47:40.959396Z",
     "iopub.status.busy": "2022-12-19T20:47:40.958960Z",
     "iopub.status.idle": "2022-12-19T20:47:41.001475Z",
     "shell.execute_reply": "2022-12-19T20:47:41.000163Z",
     "shell.execute_reply.started": "2022-12-19T20:47:40.959355Z"
    }
   },
   "outputs": [
    {
     "data": {
      "text/html": [
       "<div>\n",
       "<style scoped>\n",
       "    .dataframe tbody tr th:only-of-type {\n",
       "        vertical-align: middle;\n",
       "    }\n",
       "\n",
       "    .dataframe tbody tr th {\n",
       "        vertical-align: top;\n",
       "    }\n",
       "\n",
       "    .dataframe thead th {\n",
       "        text-align: right;\n",
       "    }\n",
       "</style>\n",
       "<table border=\"1\" class=\"dataframe\">\n",
       "  <thead>\n",
       "    <tr style=\"text-align: right;\">\n",
       "      <th></th>\n",
       "      <th>tread_type_0</th>\n",
       "      <th>tread_type_1</th>\n",
       "      <th>tread_type_2</th>\n",
       "      <th>tread_type_3</th>\n",
       "      <th>tread_type_4</th>\n",
       "      <th>tyre_season_0</th>\n",
       "      <th>tyre_season_1</th>\n",
       "      <th>tread_depth_0</th>\n",
       "      <th>tread_depth_1</th>\n",
       "      <th>tread_depth_2</th>\n",
       "      <th>...</th>\n",
       "      <th>tyre_quality_0</th>\n",
       "      <th>tyre_quality_1</th>\n",
       "      <th>vulc</th>\n",
       "      <th>perc_nat_rubber</th>\n",
       "      <th>weather</th>\n",
       "      <th>perc_imp</th>\n",
       "      <th>elevation</th>\n",
       "      <th>temperature</th>\n",
       "      <th>perc_exp_comp</th>\n",
       "      <th>failure</th>\n",
       "    </tr>\n",
       "  </thead>\n",
       "  <tbody>\n",
       "    <tr>\n",
       "      <th>2448</th>\n",
       "      <td>1.0</td>\n",
       "      <td>0.0</td>\n",
       "      <td>0.0</td>\n",
       "      <td>0.0</td>\n",
       "      <td>0.0</td>\n",
       "      <td>0.0</td>\n",
       "      <td>1.0</td>\n",
       "      <td>1.0</td>\n",
       "      <td>0.0</td>\n",
       "      <td>0.0</td>\n",
       "      <td>...</td>\n",
       "      <td>0.0</td>\n",
       "      <td>1.0</td>\n",
       "      <td>-0.299530</td>\n",
       "      <td>-1.644094</td>\n",
       "      <td>-0.656931</td>\n",
       "      <td>-0.316066</td>\n",
       "      <td>-0.627192</td>\n",
       "      <td>-0.877116</td>\n",
       "      <td>-1.436695</td>\n",
       "      <td>0</td>\n",
       "    </tr>\n",
       "    <tr>\n",
       "      <th>982</th>\n",
       "      <td>0.0</td>\n",
       "      <td>0.0</td>\n",
       "      <td>0.0</td>\n",
       "      <td>0.0</td>\n",
       "      <td>1.0</td>\n",
       "      <td>0.0</td>\n",
       "      <td>1.0</td>\n",
       "      <td>1.0</td>\n",
       "      <td>0.0</td>\n",
       "      <td>0.0</td>\n",
       "      <td>...</td>\n",
       "      <td>1.0</td>\n",
       "      <td>0.0</td>\n",
       "      <td>-0.266915</td>\n",
       "      <td>-1.241992</td>\n",
       "      <td>1.828084</td>\n",
       "      <td>2.514375</td>\n",
       "      <td>1.044878</td>\n",
       "      <td>1.782521</td>\n",
       "      <td>1.039006</td>\n",
       "      <td>1</td>\n",
       "    </tr>\n",
       "    <tr>\n",
       "      <th>773</th>\n",
       "      <td>1.0</td>\n",
       "      <td>0.0</td>\n",
       "      <td>0.0</td>\n",
       "      <td>0.0</td>\n",
       "      <td>0.0</td>\n",
       "      <td>0.0</td>\n",
       "      <td>1.0</td>\n",
       "      <td>1.0</td>\n",
       "      <td>0.0</td>\n",
       "      <td>0.0</td>\n",
       "      <td>...</td>\n",
       "      <td>0.0</td>\n",
       "      <td>1.0</td>\n",
       "      <td>-0.312074</td>\n",
       "      <td>-1.241992</td>\n",
       "      <td>-0.656931</td>\n",
       "      <td>-0.316066</td>\n",
       "      <td>0.239807</td>\n",
       "      <td>-0.945488</td>\n",
       "      <td>-1.703683</td>\n",
       "      <td>0</td>\n",
       "    </tr>\n",
       "    <tr>\n",
       "      <th>901</th>\n",
       "      <td>0.0</td>\n",
       "      <td>0.0</td>\n",
       "      <td>0.0</td>\n",
       "      <td>0.0</td>\n",
       "      <td>1.0</td>\n",
       "      <td>1.0</td>\n",
       "      <td>0.0</td>\n",
       "      <td>0.0</td>\n",
       "      <td>0.0</td>\n",
       "      <td>0.0</td>\n",
       "      <td>...</td>\n",
       "      <td>1.0</td>\n",
       "      <td>0.0</td>\n",
       "      <td>-0.818857</td>\n",
       "      <td>0.969568</td>\n",
       "      <td>0.585577</td>\n",
       "      <td>-0.316066</td>\n",
       "      <td>0.044244</td>\n",
       "      <td>0.339890</td>\n",
       "      <td>1.184635</td>\n",
       "      <td>1</td>\n",
       "    </tr>\n",
       "    <tr>\n",
       "      <th>399</th>\n",
       "      <td>1.0</td>\n",
       "      <td>0.0</td>\n",
       "      <td>0.0</td>\n",
       "      <td>0.0</td>\n",
       "      <td>0.0</td>\n",
       "      <td>0.0</td>\n",
       "      <td>1.0</td>\n",
       "      <td>1.0</td>\n",
       "      <td>0.0</td>\n",
       "      <td>0.0</td>\n",
       "      <td>...</td>\n",
       "      <td>1.0</td>\n",
       "      <td>0.0</td>\n",
       "      <td>-0.461349</td>\n",
       "      <td>-1.040941</td>\n",
       "      <td>0.585577</td>\n",
       "      <td>-0.316066</td>\n",
       "      <td>-0.529410</td>\n",
       "      <td>0.025383</td>\n",
       "      <td>-0.708548</td>\n",
       "      <td>1</td>\n",
       "    </tr>\n",
       "    <tr>\n",
       "      <th>2297</th>\n",
       "      <td>1.0</td>\n",
       "      <td>0.0</td>\n",
       "      <td>0.0</td>\n",
       "      <td>0.0</td>\n",
       "      <td>0.0</td>\n",
       "      <td>0.0</td>\n",
       "      <td>1.0</td>\n",
       "      <td>1.0</td>\n",
       "      <td>0.0</td>\n",
       "      <td>0.0</td>\n",
       "      <td>...</td>\n",
       "      <td>0.0</td>\n",
       "      <td>1.0</td>\n",
       "      <td>-0.217993</td>\n",
       "      <td>-1.241992</td>\n",
       "      <td>-0.656931</td>\n",
       "      <td>-0.316066</td>\n",
       "      <td>-0.659786</td>\n",
       "      <td>-1.034370</td>\n",
       "      <td>-0.902721</td>\n",
       "      <td>0</td>\n",
       "    </tr>\n",
       "    <tr>\n",
       "      <th>1615</th>\n",
       "      <td>0.0</td>\n",
       "      <td>0.0</td>\n",
       "      <td>1.0</td>\n",
       "      <td>0.0</td>\n",
       "      <td>0.0</td>\n",
       "      <td>1.0</td>\n",
       "      <td>0.0</td>\n",
       "      <td>0.0</td>\n",
       "      <td>0.0</td>\n",
       "      <td>0.0</td>\n",
       "      <td>...</td>\n",
       "      <td>1.0</td>\n",
       "      <td>0.0</td>\n",
       "      <td>-1.521328</td>\n",
       "      <td>1.773772</td>\n",
       "      <td>3.502768</td>\n",
       "      <td>1.806765</td>\n",
       "      <td>-0.620673</td>\n",
       "      <td>1.078299</td>\n",
       "      <td>2.252585</td>\n",
       "      <td>1</td>\n",
       "    </tr>\n",
       "    <tr>\n",
       "      <th>2109</th>\n",
       "      <td>1.0</td>\n",
       "      <td>0.0</td>\n",
       "      <td>0.0</td>\n",
       "      <td>0.0</td>\n",
       "      <td>0.0</td>\n",
       "      <td>0.0</td>\n",
       "      <td>1.0</td>\n",
       "      <td>1.0</td>\n",
       "      <td>0.0</td>\n",
       "      <td>0.0</td>\n",
       "      <td>...</td>\n",
       "      <td>0.0</td>\n",
       "      <td>1.0</td>\n",
       "      <td>-0.151509</td>\n",
       "      <td>-1.443043</td>\n",
       "      <td>-0.656931</td>\n",
       "      <td>-0.316066</td>\n",
       "      <td>-0.236064</td>\n",
       "      <td>-1.061719</td>\n",
       "      <td>-1.752226</td>\n",
       "      <td>0</td>\n",
       "    </tr>\n",
       "    <tr>\n",
       "      <th>1042</th>\n",
       "      <td>0.0</td>\n",
       "      <td>1.0</td>\n",
       "      <td>0.0</td>\n",
       "      <td>0.0</td>\n",
       "      <td>0.0</td>\n",
       "      <td>0.0</td>\n",
       "      <td>1.0</td>\n",
       "      <td>0.0</td>\n",
       "      <td>0.0</td>\n",
       "      <td>0.0</td>\n",
       "      <td>...</td>\n",
       "      <td>1.0</td>\n",
       "      <td>0.0</td>\n",
       "      <td>0.714036</td>\n",
       "      <td>0.969568</td>\n",
       "      <td>-1.305195</td>\n",
       "      <td>-0.316066</td>\n",
       "      <td>1.729350</td>\n",
       "      <td>0.189474</td>\n",
       "      <td>0.820561</td>\n",
       "      <td>0</td>\n",
       "    </tr>\n",
       "    <tr>\n",
       "      <th>17</th>\n",
       "      <td>0.0</td>\n",
       "      <td>0.0</td>\n",
       "      <td>1.0</td>\n",
       "      <td>0.0</td>\n",
       "      <td>0.0</td>\n",
       "      <td>0.0</td>\n",
       "      <td>1.0</td>\n",
       "      <td>0.0</td>\n",
       "      <td>0.0</td>\n",
       "      <td>1.0</td>\n",
       "      <td>...</td>\n",
       "      <td>1.0</td>\n",
       "      <td>0.0</td>\n",
       "      <td>-0.663310</td>\n",
       "      <td>-0.638839</td>\n",
       "      <td>0.477532</td>\n",
       "      <td>0.391544</td>\n",
       "      <td>0.565747</td>\n",
       "      <td>2.103866</td>\n",
       "      <td>2.592387</td>\n",
       "      <td>1</td>\n",
       "    </tr>\n",
       "  </tbody>\n",
       "</table>\n",
       "<p>10 rows × 36 columns</p>\n",
       "</div>"
      ],
      "text/plain": [
       "      tread_type_0  tread_type_1  tread_type_2  tread_type_3  tread_type_4  \\\n",
       "2448           1.0           0.0           0.0           0.0           0.0   \n",
       "982            0.0           0.0           0.0           0.0           1.0   \n",
       "773            1.0           0.0           0.0           0.0           0.0   \n",
       "901            0.0           0.0           0.0           0.0           1.0   \n",
       "399            1.0           0.0           0.0           0.0           0.0   \n",
       "2297           1.0           0.0           0.0           0.0           0.0   \n",
       "1615           0.0           0.0           1.0           0.0           0.0   \n",
       "2109           1.0           0.0           0.0           0.0           0.0   \n",
       "1042           0.0           1.0           0.0           0.0           0.0   \n",
       "17             0.0           0.0           1.0           0.0           0.0   \n",
       "\n",
       "      tyre_season_0  tyre_season_1  tread_depth_0  tread_depth_1  \\\n",
       "2448            0.0            1.0            1.0            0.0   \n",
       "982             0.0            1.0            1.0            0.0   \n",
       "773             0.0            1.0            1.0            0.0   \n",
       "901             1.0            0.0            0.0            0.0   \n",
       "399             0.0            1.0            1.0            0.0   \n",
       "2297            0.0            1.0            1.0            0.0   \n",
       "1615            1.0            0.0            0.0            0.0   \n",
       "2109            0.0            1.0            1.0            0.0   \n",
       "1042            0.0            1.0            0.0            0.0   \n",
       "17              0.0            1.0            0.0            0.0   \n",
       "\n",
       "      tread_depth_2  ...  tyre_quality_0  tyre_quality_1      vulc  \\\n",
       "2448            0.0  ...             0.0             1.0 -0.299530   \n",
       "982             0.0  ...             1.0             0.0 -0.266915   \n",
       "773             0.0  ...             0.0             1.0 -0.312074   \n",
       "901             0.0  ...             1.0             0.0 -0.818857   \n",
       "399             0.0  ...             1.0             0.0 -0.461349   \n",
       "2297            0.0  ...             0.0             1.0 -0.217993   \n",
       "1615            0.0  ...             1.0             0.0 -1.521328   \n",
       "2109            0.0  ...             0.0             1.0 -0.151509   \n",
       "1042            0.0  ...             1.0             0.0  0.714036   \n",
       "17              1.0  ...             1.0             0.0 -0.663310   \n",
       "\n",
       "      perc_nat_rubber   weather  perc_imp  elevation  temperature  \\\n",
       "2448        -1.644094 -0.656931 -0.316066  -0.627192    -0.877116   \n",
       "982         -1.241992  1.828084  2.514375   1.044878     1.782521   \n",
       "773         -1.241992 -0.656931 -0.316066   0.239807    -0.945488   \n",
       "901          0.969568  0.585577 -0.316066   0.044244     0.339890   \n",
       "399         -1.040941  0.585577 -0.316066  -0.529410     0.025383   \n",
       "2297        -1.241992 -0.656931 -0.316066  -0.659786    -1.034370   \n",
       "1615         1.773772  3.502768  1.806765  -0.620673     1.078299   \n",
       "2109        -1.443043 -0.656931 -0.316066  -0.236064    -1.061719   \n",
       "1042         0.969568 -1.305195 -0.316066   1.729350     0.189474   \n",
       "17          -0.638839  0.477532  0.391544   0.565747     2.103866   \n",
       "\n",
       "      perc_exp_comp  failure  \n",
       "2448      -1.436695        0  \n",
       "982        1.039006        1  \n",
       "773       -1.703683        0  \n",
       "901        1.184635        1  \n",
       "399       -0.708548        1  \n",
       "2297      -0.902721        0  \n",
       "1615       2.252585        1  \n",
       "2109      -1.752226        0  \n",
       "1042       0.820561        0  \n",
       "17         2.592387        1  \n",
       "\n",
       "[10 rows x 36 columns]"
      ]
     },
     "execution_count": 27,
     "metadata": {},
     "output_type": "execute_result"
    }
   ],
   "source": [
    "# create new scaled datasets\n",
    "df_train=pd.concat([Xtrain2,y_train1],axis=1)\n",
    "df_test=pd.concat([Xtest2,y_test1], axis=1)\n",
    "\n",
    "df_test.head(10)"
   ]
  },
  {
   "cell_type": "code",
   "execution_count": 28,
   "metadata": {
    "execution": {
     "iopub.execute_input": "2022-12-19T20:47:41.003781Z",
     "iopub.status.busy": "2022-12-19T20:47:41.003313Z",
     "iopub.status.idle": "2022-12-19T20:47:41.234121Z",
     "shell.execute_reply": "2022-12-19T20:47:41.232985Z",
     "shell.execute_reply.started": "2022-12-19T20:47:41.003739Z"
    }
   },
   "outputs": [
    {
     "data": {
      "image/png": "[encoded data removed]",
      "text/plain": [
       "<Figure size 432x288 with 1 Axes>"
      ]
     },
     "metadata": {},
     "output_type": "display_data"
    },
    {
     "data": {
      "text/plain": [
       "0    1594\n",
       "1     806\n",
       "Name: failure, dtype: int64"
      ]
     },
     "execution_count": 28,
     "metadata": {},
     "output_type": "execute_result"
    }
   ],
   "source": [
    "plt.hist(y_train1)\n",
    "plt.xlabel(\"count of each class\")\n",
    "plt.ylabel(\"classes\")\n",
    "plt.show()\n",
    "df_train.failure.value_counts()"
   ]
  },
  {
   "cell_type": "markdown",
   "metadata": {},
   "source": [
    "The previous histogram describes perfectly the unbalance of the original Dataset concerning the target classes 1 and 0. Also the train set (randomly generated from the original one) remains that way, so we can try to perform oversampling on target 1 to see if the F1 score gets better during identificaiton of the best model.\n",
    "\n",
    "We thought to apply the oversample to the train set because we have a strong difference between the number of success (1594) and the number of failure (806). "
   ]
  },
  {
   "cell_type": "code",
   "execution_count": 29,
   "metadata": {
    "execution": {
     "iopub.execute_input": "2022-12-19T20:47:41.241018Z",
     "iopub.status.busy": "2022-12-19T20:47:41.240628Z",
     "iopub.status.idle": "2022-12-19T20:47:41.404771Z",
     "shell.execute_reply": "2022-12-19T20:47:41.403628Z",
     "shell.execute_reply.started": "2022-12-19T20:47:41.240985Z"
    }
   },
   "outputs": [
    {
     "name": "stdout",
     "output_type": "stream",
     "text": [
      "1594 806\n"
     ]
    },
    {
     "data": {
      "text/plain": [
       "0    1594\n",
       "1    1300\n",
       "Name: failure, dtype: int64"
      ]
     },
     "execution_count": 29,
     "metadata": {},
     "output_type": "execute_result"
    }
   ],
   "source": [
    "#resample train set\n",
    "df_majority = df_train[df_train.failure==0]\n",
    "df_minority = df_train[df_train.failure==1] \n",
    "print(df_majority.shape[0],df_minority.shape[0])\n",
    "\n",
    "df_minority_overs = resample(df_minority, \n",
    "                                replace=True,\n",
    "                                n_samples=1300, # not complete oversampling\n",
    "                                random_state=42)  \n",
    "\n",
    "df_overs_train = pd.concat([df_minority_overs, df_majority])\n",
    "\n",
    "df_overs_train.failure.value_counts()\n"
   ]
  },
  {
   "cell_type": "code",
   "execution_count": 30,
   "metadata": {
    "execution": {
     "iopub.execute_input": "2022-12-19T20:47:41.406564Z",
     "iopub.status.busy": "2022-12-19T20:47:41.406251Z",
     "iopub.status.idle": "2022-12-19T20:47:41.413357Z",
     "shell.execute_reply": "2022-12-19T20:47:41.412113Z",
     "shell.execute_reply.started": "2022-12-19T20:47:41.406536Z"
    }
   },
   "outputs": [],
   "source": [
    "from sklearn.utils import shuffle\n",
    "df_oversampled_train = shuffle(df_overs_train)"
   ]
  },
  {
   "cell_type": "markdown",
   "metadata": {},
   "source": [
    "We will try to perform the identification of the best model on the oversampled data and the non-oversampled data, to compare the different F1 scores. \n",
    "We idenfify two different DataFrames to be used as train and one single DataFrame to be used as Test set. "
   ]
  },
  {
   "cell_type": "code",
   "execution_count": 31,
   "metadata": {
    "execution": {
     "iopub.execute_input": "2022-12-19T20:47:41.415266Z",
     "iopub.status.busy": "2022-12-19T20:47:41.414893Z",
     "iopub.status.idle": "2022-12-19T20:47:41.426006Z",
     "shell.execute_reply": "2022-12-19T20:47:41.424905Z",
     "shell.execute_reply.started": "2022-12-19T20:47:41.415209Z"
    }
   },
   "outputs": [
    {
     "name": "stdout",
     "output_type": "stream",
     "text": [
      "(2894, 35) (2400, 35) (600, 35)\n"
     ]
    }
   ],
   "source": [
    "#Separate X and y on the new DataFrames\n",
    "# Dataframes with oversample\n",
    "X2_train=df_overs_train.iloc[:,0:-1]\n",
    "y2_train=df_overs_train.iloc[:,-1]\n",
    "\n",
    "#DataFrames without oversample\n",
    "X_train=df_train.iloc[:,0:-1]\n",
    "y_train=df_train.iloc[:,-1]\n",
    "\n",
    "X_test = df_test.iloc[:,0:-1]\n",
    "y_test = df_test.iloc[:,-1]\n",
    "\n",
    "print(X2_train.shape,X_train.shape,X_test.shape)"
   ]
  },
  {
   "cell_type": "markdown",
   "metadata": {},
   "source": [
    "# Models "
   ]
  },
  {
   "cell_type": "markdown",
   "metadata": {},
   "source": [
    "## Needed functions "
   ]
  },
  {
   "cell_type": "markdown",
   "metadata": {},
   "source": [
    "Here we define some functions that will be used in the following analysis to perform the research of the best parameters and the visualization of the ROC curve"
   ]
  },
  {
   "cell_type": "code",
   "execution_count": 32,
   "metadata": {
    "execution": {
     "iopub.execute_input": "2022-12-19T20:47:41.427758Z",
     "iopub.status.busy": "2022-12-19T20:47:41.427346Z",
     "iopub.status.idle": "2022-12-19T20:47:41.436438Z",
     "shell.execute_reply": "2022-12-19T20:47:41.435350Z",
     "shell.execute_reply.started": "2022-12-19T20:47:41.427718Z"
    }
   },
   "outputs": [],
   "source": [
    "from sklearn.model_selection import GridSearchCV\n",
    "from sklearn.metrics import confusion_matrix\n",
    "from sklearn.metrics import classification_report\n",
    "from sklearn import metrics \n",
    "from sklearn.metrics import f1_score\n",
    "from sklearn.metrics import precision_score"
   ]
  },
  {
   "cell_type": "code",
   "execution_count": 33,
   "metadata": {
    "execution": {
     "iopub.execute_input": "2022-12-19T20:47:41.438372Z",
     "iopub.status.busy": "2022-12-19T20:47:41.437904Z",
     "iopub.status.idle": "2022-12-19T20:47:41.452500Z",
     "shell.execute_reply": "2022-12-19T20:47:41.451299Z",
     "shell.execute_reply.started": "2022-12-19T20:47:41.438328Z"
    }
   },
   "outputs": [],
   "source": [
    "def hyperp_search(classifier, parameters):\n",
    "    gs = GridSearchCV(classifier, parameters, cv=3, scoring = 'f1', verbose=0, n_jobs=-1)\n",
    "    gs = gs.fit(X_train, y_train)\n",
    "    print(\"f1_train: %f using %s\" % (gs.best_score_, gs.best_params_))\n",
    "\n",
    "    best_model = gs.best_estimator_\n",
    "    y_pred = best_model.predict(X_test)\n",
    "    y_pred_train = best_model.predict(X_train)\n",
    "\n",
    "    print(\"f1         train %.3f   test %.3f\" % (f1_score(y_train, y_pred_train), f1_score(y_test, y_pred)))\n",
    "    print(\"precision  train %.3f   test %.3f\" % (precision_score(y_train, y_pred_train), precision_score(y_test, y_pred)))\n",
    "    print(\"\")\n",
    "    print(confusion_matrix(y_test, y_pred))\n",
    "    print(classification_report(y_test, y_pred))\n",
    " "
   ]
  },
  {
   "cell_type": "code",
   "execution_count": 34,
   "metadata": {
    "execution": {
     "iopub.execute_input": "2022-12-19T20:47:41.454558Z",
     "iopub.status.busy": "2022-12-19T20:47:41.454118Z",
     "iopub.status.idle": "2022-12-19T20:47:41.464601Z",
     "shell.execute_reply": "2022-12-19T20:47:41.463482Z",
     "shell.execute_reply.started": "2022-12-19T20:47:41.454517Z"
    }
   },
   "outputs": [],
   "source": [
    "def hyperp_search_over(classifier, parameters):\n",
    "    gs = GridSearchCV(classifier, parameters, cv=3, scoring = 'f1', verbose=0, n_jobs=-1)\n",
    "    gs = gs.fit(X2_train, y2_train)\n",
    "    print(\"f1_train: %f using %s\" % (gs.best_score_, gs.best_params_))\n",
    "\n",
    "    best_model = gs.best_estimator_\n",
    "    y_pred = best_model.predict(X_test)\n",
    "    y_pred_train = best_model.predict(X2_train)\n",
    "\n",
    "    print(\"f1         train %.3f   test %.3f\" % (f1_score(y2_train, y_pred_train), f1_score(y_test, y_pred)))\n",
    "    print(\"precision  train %.3f   test %.3f\" % (precision_score(y2_train, y_pred_train), precision_score(y_test, y_pred)))\n",
    "    print(\"\")\n",
    "    print(confusion_matrix(y_test, y_pred))\n",
    "    print(classification_report(y_test, y_pred))\n",
    " "
   ]
  },
  {
   "cell_type": "code",
   "execution_count": 35,
   "metadata": {
    "execution": {
     "iopub.execute_input": "2022-12-19T20:47:41.466802Z",
     "iopub.status.busy": "2022-12-19T20:47:41.466450Z",
     "iopub.status.idle": "2022-12-19T20:47:41.478738Z",
     "shell.execute_reply": "2022-12-19T20:47:41.477716Z",
     "shell.execute_reply.started": "2022-12-19T20:47:41.466748Z"
    }
   },
   "outputs": [],
   "source": [
    "def roc(model,X_train,y_train,X_test,y_test):\n",
    "    model.fit(X_train, y_train)\n",
    "    y_pred = model.predict(X_test)\n",
    "\n",
    "    y_probs = model.predict_proba(X_test)\n",
    "\n",
    "    fpr, tpr, thresholds1=metrics.roc_curve(y_test,  y_probs[:,1])\n",
    "\n",
    "    import matplotlib.pyplot as plt\n",
    "    plt.plot(fpr, tpr, label='ROC')\n",
    "    plt.plot([0, 1], [0, 1], color='darkblue', linestyle='--')\n",
    "    plt.xlabel('False Positive Rate')\n",
    "    plt.ylabel('True Positive Rate')\n",
    "    plt.title('Receiver Operating Characteristic (ROC) Curve')\n",
    "    plt.legend()\n",
    "    plt.show()\n",
    "\n",
    "    auc = metrics.roc_auc_score(y_test, y_probs[:,1])\n",
    "    print('AUC: %.2f' % auc)\n",
    "    return (fpr, tpr)"
   ]
  },
  {
   "cell_type": "markdown",
   "metadata": {},
   "source": [
    "## Research of the best model"
   ]
  },
  {
   "cell_type": "markdown",
   "metadata": {},
   "source": [
    "For every model family, we search for the best model by first using the non-oversampled train set and then the oversampled one, successively compare the F1 score with the same test set.\n",
    "\n",
    "If the values of F1 score obtained with the oversampled train will result better, we will try to fit the best model found here with the non-oversampled data."
   ]
  },
  {
   "cell_type": "markdown",
   "metadata": {},
   "source": [
    "### TREE"
   ]
  },
  {
   "cell_type": "code",
   "execution_count": 36,
   "metadata": {
    "execution": {
     "iopub.execute_input": "2022-12-19T20:47:41.480840Z",
     "iopub.status.busy": "2022-12-19T20:47:41.480447Z",
     "iopub.status.idle": "2022-12-19T20:47:41.492569Z",
     "shell.execute_reply": "2022-12-19T20:47:41.491528Z",
     "shell.execute_reply.started": "2022-12-19T20:47:41.480808Z"
    }
   },
   "outputs": [],
   "source": [
    "from sklearn.tree import DecisionTreeClassifier\n",
    "classifier = DecisionTreeClassifier()\n",
    "parameters = {'criterion': ['gini','entropy'], \n",
    "              'max_depth': [2,3,4],\n",
    "              'min_samples_split': [2,4,6,8,12,16,18,20],\n",
    "              'min_samples_leaf': [4,6,8,12,16,18,20]}"
   ]
  },
  {
   "cell_type": "code",
   "execution_count": 37,
   "metadata": {
    "execution": {
     "iopub.execute_input": "2022-12-19T20:47:41.494550Z",
     "iopub.status.busy": "2022-12-19T20:47:41.494222Z",
     "iopub.status.idle": "2022-12-19T20:47:47.314960Z",
     "shell.execute_reply": "2022-12-19T20:47:47.313682Z",
     "shell.execute_reply.started": "2022-12-19T20:47:41.494522Z"
    }
   },
   "outputs": [
    {
     "name": "stdout",
     "output_type": "stream",
     "text": [
      "f1_train: 0.523424 using {'criterion': 'gini', 'max_depth': 4, 'min_samples_leaf': 4, 'min_samples_split': 2}\n",
      "f1         train 0.635   test 0.592\n",
      "precision  train 0.675   test 0.611\n",
      "\n",
      "[[324  74]\n",
      " [ 86 116]]\n",
      "              precision    recall  f1-score   support\n",
      "\n",
      "           0       0.79      0.81      0.80       398\n",
      "           1       0.61      0.57      0.59       202\n",
      "\n",
      "    accuracy                           0.73       600\n",
      "   macro avg       0.70      0.69      0.70       600\n",
      "weighted avg       0.73      0.73      0.73       600\n",
      "\n"
     ]
    }
   ],
   "source": [
    "hyperp_search(classifier,parameters)"
   ]
  },
  {
   "cell_type": "code",
   "execution_count": 38,
   "metadata": {
    "execution": {
     "iopub.execute_input": "2022-12-19T20:47:47.317817Z",
     "iopub.status.busy": "2022-12-19T20:47:47.317194Z",
     "iopub.status.idle": "2022-12-19T20:47:51.642051Z",
     "shell.execute_reply": "2022-12-19T20:47:51.641119Z",
     "shell.execute_reply.started": "2022-12-19T20:47:47.317778Z"
    }
   },
   "outputs": [
    {
     "name": "stdout",
     "output_type": "stream",
     "text": [
      "f1_train: 0.711945 using {'criterion': 'entropy', 'max_depth': 3, 'min_samples_leaf': 4, 'min_samples_split': 2}\n",
      "f1         train 0.723   test 0.617\n",
      "precision  train 0.643   test 0.497\n",
      "\n",
      "[[232 166]\n",
      " [ 38 164]]\n",
      "              precision    recall  f1-score   support\n",
      "\n",
      "           0       0.86      0.58      0.69       398\n",
      "           1       0.50      0.81      0.62       202\n",
      "\n",
      "    accuracy                           0.66       600\n",
      "   macro avg       0.68      0.70      0.66       600\n",
      "weighted avg       0.74      0.66      0.67       600\n",
      "\n"
     ]
    }
   ],
   "source": [
    "hyperp_search_over(classifier,parameters)"
   ]
  },
  {
   "cell_type": "code",
   "execution_count": 39,
   "metadata": {
    "execution": {
     "iopub.execute_input": "2022-12-19T20:47:51.644388Z",
     "iopub.status.busy": "2022-12-19T20:47:51.643962Z",
     "iopub.status.idle": "2022-12-19T20:47:51.650496Z",
     "shell.execute_reply": "2022-12-19T20:47:51.648794Z",
     "shell.execute_reply.started": "2022-12-19T20:47:51.644346Z"
    }
   },
   "outputs": [],
   "source": [
    "model_Tree= DecisionTreeClassifier(criterion= 'entropy', max_depth= 3, min_samples_leaf= 4, min_samples_split= 2)"
   ]
  },
  {
   "cell_type": "code",
   "execution_count": 40,
   "metadata": {
    "execution": {
     "iopub.execute_input": "2022-12-19T20:47:51.653142Z",
     "iopub.status.busy": "2022-12-19T20:47:51.652205Z",
     "iopub.status.idle": "2022-12-19T20:47:51.677022Z",
     "shell.execute_reply": "2022-12-19T20:47:51.676257Z",
     "shell.execute_reply.started": "2022-12-19T20:47:51.653105Z"
    }
   },
   "outputs": [
    {
     "name": "stdout",
     "output_type": "stream",
     "text": [
      "f1_train:  0.4161434977578475\n",
      "f1_test:  0.40433212996389895\n"
     ]
    }
   ],
   "source": [
    "model_Tree.fit(X_train, y_train)\n",
    "y_pred_train=model_Tree.predict(X_train)\n",
    "y_pred=model_Tree.predict(X_test)\n",
    "\n",
    "print(\"f1_train: \", f1_score(y_train, y_pred_train))\n",
    "print(\"f1_test: \", f1_score(y_test, y_pred))"
   ]
  },
  {
   "cell_type": "markdown",
   "metadata": {},
   "source": [
    "We have decided to fit the second model on the non-oversampled data, but the results are not as good as hoped. So we can discard this model."
   ]
  },
  {
   "cell_type": "code",
   "execution_count": 41,
   "metadata": {
    "execution": {
     "iopub.execute_input": "2022-12-19T20:47:51.678781Z",
     "iopub.status.busy": "2022-12-19T20:47:51.678201Z",
     "iopub.status.idle": "2022-12-19T20:47:51.933797Z",
     "shell.execute_reply": "2022-12-19T20:47:51.932437Z",
     "shell.execute_reply.started": "2022-12-19T20:47:51.678751Z"
    }
   },
   "outputs": [
    {
     "data": {
      "image/png": "[encoded data removed]",
      "text/plain": [
       "<Figure size 432x288 with 1 Axes>"
      ]
     },
     "metadata": {},
     "output_type": "display_data"
    },
    {
     "name": "stdout",
     "output_type": "stream",
     "text": [
      "AUC: 0.75\n"
     ]
    }
   ],
   "source": [
    "#curva ROC\n",
    "fpr1,tpr1=roc(model_Tree,X_train,y_train,X_test,y_test)"
   ]
  },
  {
   "cell_type": "markdown",
   "metadata": {},
   "source": [
    "#### Plotting tree"
   ]
  },
  {
   "cell_type": "code",
   "execution_count": 42,
   "metadata": {
    "execution": {
     "iopub.execute_input": "2022-12-19T20:47:51.936337Z",
     "iopub.status.busy": "2022-12-19T20:47:51.935905Z",
     "iopub.status.idle": "2022-12-19T20:47:51.944528Z",
     "shell.execute_reply": "2022-12-19T20:47:51.943201Z",
     "shell.execute_reply.started": "2022-12-19T20:47:51.936297Z"
    }
   },
   "outputs": [
    {
     "name": "stdout",
     "output_type": "stream",
     "text": [
      "|--- weather <= -0.63\n",
      "|   |--- month_8 <= 0.50\n",
      "|   |   |--- weather <= -1.22\n",
      "|   |   |   |--- class: 0\n",
      "|   |   |--- weather >  -1.22\n",
      "|   |   |   |--- class: 0\n",
      "|   |--- month_8 >  0.50\n",
      "|   |   |--- temperature <= -0.15\n",
      "|   |   |   |--- class: 0\n",
      "|   |   |--- temperature >  -0.15\n",
      "|   |   |   |--- class: 0\n",
      "|--- weather >  -0.63\n",
      "|   |--- temperature <= 0.55\n",
      "|   |   |--- vulc <= 1.18\n",
      "|   |   |   |--- class: 0\n",
      "|   |   |--- vulc >  1.18\n",
      "|   |   |   |--- class: 0\n",
      "|   |--- temperature >  0.55\n",
      "|   |   |--- vulc <= 0.64\n",
      "|   |   |   |--- class: 1\n",
      "|   |   |--- vulc >  0.64\n",
      "|   |   |   |--- class: 0\n",
      "\n"
     ]
    }
   ],
   "source": [
    "from sklearn import tree\n",
    "r = tree.export_text(model_Tree,feature_names=X_test.columns.tolist(),max_depth = 6 )\n",
    "print(r)"
   ]
  },
  {
   "cell_type": "code",
   "execution_count": 43,
   "metadata": {
    "execution": {
     "iopub.execute_input": "2022-12-19T20:47:51.947398Z",
     "iopub.status.busy": "2022-12-19T20:47:51.946918Z",
     "iopub.status.idle": "2022-12-19T20:47:53.099886Z",
     "shell.execute_reply": "2022-12-19T20:47:53.098791Z",
     "shell.execute_reply.started": "2022-12-19T20:47:51.947360Z"
    }
   },
   "outputs": [
    {
     "data": {
      "image/png": "[encoded data removed]",
      "text/plain": [
       "<Figure size 1800x1440 with 1 Axes>"
      ]
     },
     "metadata": {},
     "output_type": "display_data"
    }
   ],
   "source": [
    "fig = plt.figure(figsize=(25,20))\n",
    "_ = tree.plot_tree(model_Tree, \n",
    "                   feature_names=X_test.columns.tolist(),  \n",
    "                   class_names=['0','1'],\n",
    "                   filled=True)"
   ]
  },
  {
   "cell_type": "markdown",
   "metadata": {},
   "source": [
    "### KNN"
   ]
  },
  {
   "cell_type": "code",
   "execution_count": 44,
   "metadata": {
    "execution": {
     "iopub.execute_input": "2022-12-19T20:47:53.101526Z",
     "iopub.status.busy": "2022-12-19T20:47:53.101182Z",
     "iopub.status.idle": "2022-12-19T20:47:53.107348Z",
     "shell.execute_reply": "2022-12-19T20:47:53.106210Z",
     "shell.execute_reply.started": "2022-12-19T20:47:53.101497Z"
    }
   },
   "outputs": [],
   "source": [
    "from sklearn.neighbors import KNeighborsClassifier\n",
    "\n",
    "classifier = KNeighborsClassifier()\n",
    "parameters = {'n_neighbors':np.arange(50,120,2)}\n"
   ]
  },
  {
   "cell_type": "code",
   "execution_count": 45,
   "metadata": {
    "execution": {
     "iopub.execute_input": "2022-12-19T20:47:53.109026Z",
     "iopub.status.busy": "2022-12-19T20:47:53.108685Z",
     "iopub.status.idle": "2022-12-19T20:47:56.215221Z",
     "shell.execute_reply": "2022-12-19T20:47:56.214112Z",
     "shell.execute_reply.started": "2022-12-19T20:47:53.108993Z"
    }
   },
   "outputs": [
    {
     "name": "stdout",
     "output_type": "stream",
     "text": [
      "f1_train: 0.527614 using {'n_neighbors': 52}\n",
      "f1         train 0.557   test 0.537\n",
      "precision  train 0.705   test 0.677\n",
      "\n",
      "[[355  43]\n",
      " [112  90]]\n",
      "              precision    recall  f1-score   support\n",
      "\n",
      "           0       0.76      0.89      0.82       398\n",
      "           1       0.68      0.45      0.54       202\n",
      "\n",
      "    accuracy                           0.74       600\n",
      "   macro avg       0.72      0.67      0.68       600\n",
      "weighted avg       0.73      0.74      0.73       600\n",
      "\n"
     ]
    }
   ],
   "source": [
    "hyperp_search(classifier,parameters)"
   ]
  },
  {
   "cell_type": "code",
   "execution_count": 46,
   "metadata": {
    "execution": {
     "iopub.execute_input": "2022-12-19T20:47:56.217442Z",
     "iopub.status.busy": "2022-12-19T20:47:56.216825Z",
     "iopub.status.idle": "2022-12-19T20:48:00.153222Z",
     "shell.execute_reply": "2022-12-19T20:48:00.152082Z",
     "shell.execute_reply.started": "2022-12-19T20:47:56.217398Z"
    }
   },
   "outputs": [
    {
     "name": "stdout",
     "output_type": "stream",
     "text": [
      "f1_train: 0.689664 using {'n_neighbors': 92}\n",
      "f1         train 0.699   test 0.591\n",
      "precision  train 0.721   test 0.578\n",
      "\n",
      "[[309  89]\n",
      " [ 80 122]]\n",
      "              precision    recall  f1-score   support\n",
      "\n",
      "           0       0.79      0.78      0.79       398\n",
      "           1       0.58      0.60      0.59       202\n",
      "\n",
      "    accuracy                           0.72       600\n",
      "   macro avg       0.69      0.69      0.69       600\n",
      "weighted avg       0.72      0.72      0.72       600\n",
      "\n"
     ]
    }
   ],
   "source": [
    "hyperp_search_over(classifier,parameters)"
   ]
  },
  {
   "cell_type": "code",
   "execution_count": 47,
   "metadata": {
    "execution": {
     "iopub.execute_input": "2022-12-19T20:48:00.155249Z",
     "iopub.status.busy": "2022-12-19T20:48:00.154747Z",
     "iopub.status.idle": "2022-12-19T20:48:00.159275Z",
     "shell.execute_reply": "2022-12-19T20:48:00.158551Z",
     "shell.execute_reply.started": "2022-12-19T20:48:00.155207Z"
    }
   },
   "outputs": [],
   "source": [
    "model_knn = KNeighborsClassifier(n_neighbors=92)"
   ]
  },
  {
   "cell_type": "code",
   "execution_count": 48,
   "metadata": {
    "execution": {
     "iopub.execute_input": "2022-12-19T20:48:00.160850Z",
     "iopub.status.busy": "2022-12-19T20:48:00.160532Z",
     "iopub.status.idle": "2022-12-19T20:48:00.559041Z",
     "shell.execute_reply": "2022-12-19T20:48:00.557814Z",
     "shell.execute_reply.started": "2022-12-19T20:48:00.160821Z"
    }
   },
   "outputs": [
    {
     "name": "stdout",
     "output_type": "stream",
     "text": [
      "f1_train:  0.5241809672386896\n",
      "f1_test:  0.5125000000000001\n"
     ]
    }
   ],
   "source": [
    "model_knn.fit(X_train, y_train)\n",
    "y_pred_train=model_knn.predict(X_train)\n",
    "y_pred=model_knn.predict(X_test)\n",
    "\n",
    "print(\"f1_train: \", f1_score(y_train, y_pred_train))\n",
    "print(\"f1_test: \", f1_score(y_test, y_pred))"
   ]
  },
  {
   "cell_type": "code",
   "execution_count": 49,
   "metadata": {
    "execution": {
     "iopub.execute_input": "2022-12-19T20:48:00.561368Z",
     "iopub.status.busy": "2022-12-19T20:48:00.560671Z",
     "iopub.status.idle": "2022-12-19T20:48:01.014680Z",
     "shell.execute_reply": "2022-12-19T20:48:01.013480Z",
     "shell.execute_reply.started": "2022-12-19T20:48:00.561322Z"
    }
   },
   "outputs": [
    {
     "data": {
      "image/png": "[encoded data removed]",
      "text/plain": [
       "<Figure size 432x288 with 1 Axes>"
      ]
     },
     "metadata": {},
     "output_type": "display_data"
    },
    {
     "name": "stdout",
     "output_type": "stream",
     "text": [
      "AUC: 0.78\n"
     ]
    }
   ],
   "source": [
    "#curva ROC\n",
    "fpr2,tpr2=roc(model_knn,X_train,y_train,X_test,y_test)"
   ]
  },
  {
   "cell_type": "markdown",
   "metadata": {},
   "source": [
    "### NAYVE BAYES"
   ]
  },
  {
   "cell_type": "code",
   "execution_count": 50,
   "metadata": {
    "execution": {
     "iopub.execute_input": "2022-12-19T20:48:01.016635Z",
     "iopub.status.busy": "2022-12-19T20:48:01.016294Z",
     "iopub.status.idle": "2022-12-19T20:48:01.044486Z",
     "shell.execute_reply": "2022-12-19T20:48:01.043383Z",
     "shell.execute_reply.started": "2022-12-19T20:48:01.016603Z"
    }
   },
   "outputs": [
    {
     "name": "stdout",
     "output_type": "stream",
     "text": [
      "f1_train:  0.5921625544267054\n",
      "f1_test:  0.6073500967117988\n",
      "[[240 158]\n",
      " [ 45 157]]\n",
      "              precision    recall  f1-score   support\n",
      "\n",
      "           0       0.84      0.60      0.70       398\n",
      "           1       0.50      0.78      0.61       202\n",
      "\n",
      "    accuracy                           0.66       600\n",
      "   macro avg       0.67      0.69      0.66       600\n",
      "weighted avg       0.73      0.66      0.67       600\n",
      "\n"
     ]
    }
   ],
   "source": [
    "from sklearn.naive_bayes import GaussianNB\n",
    "\n",
    "model_NB = GaussianNB()\n",
    "model_NB.fit(X_train, y_train)\n",
    "y_pred_train=model_NB.predict(X_train)\n",
    "\n",
    "y_pred=model_NB.predict(X_test)\n",
    "\n",
    "from sklearn.metrics import f1_score\n",
    "print(\"f1_train: \", f1_score(y_train, y_pred_train))\n",
    "\n",
    "\n",
    "print(\"f1_test: \", f1_score(y_test, y_pred))\n",
    "\n",
    "\n",
    "print(confusion_matrix(y_test, y_pred))\n",
    "print(classification_report(y_test, y_pred))"
   ]
  },
  {
   "cell_type": "code",
   "execution_count": 51,
   "metadata": {
    "execution": {
     "iopub.execute_input": "2022-12-19T21:29:47.198546Z",
     "iopub.status.busy": "2022-12-19T21:29:47.198110Z",
     "iopub.status.idle": "2022-12-19T21:29:47.224276Z",
     "shell.execute_reply": "2022-12-19T21:29:47.223493Z",
     "shell.execute_reply.started": "2022-12-19T21:29:47.198513Z"
    }
   },
   "outputs": [
    {
     "name": "stdout",
     "output_type": "stream",
     "text": [
      "f1_train:  0.673421141506248\n",
      "f1_test:  0.6142034548944337\n",
      "[[239 159]\n",
      " [ 42 160]]\n",
      "              precision    recall  f1-score   support\n",
      "\n",
      "           0       0.85      0.60      0.70       398\n",
      "           1       0.50      0.79      0.61       202\n",
      "\n",
      "    accuracy                           0.67       600\n",
      "   macro avg       0.68      0.70      0.66       600\n",
      "weighted avg       0.73      0.67      0.67       600\n",
      "\n"
     ]
    }
   ],
   "source": [
    "model_NB.fit(X2_train, y2_train)\n",
    "y_pred_train=model_NB.predict(X2_train)\n",
    "\n",
    "y_pred=model_NB.predict(X_test)\n",
    "\n",
    "from sklearn.metrics import f1_score\n",
    "print(\"f1_train: \", f1_score(y2_train, y_pred_train))\n",
    "\n",
    "\n",
    "print(\"f1_test: \", f1_score(y_test, y_pred))\n",
    "\n",
    "\n",
    "print(confusion_matrix(y_test, y_pred))\n",
    "print(classification_report(y_test, y_pred))"
   ]
  },
  {
   "cell_type": "code",
   "execution_count": 52,
   "metadata": {
    "execution": {
     "iopub.execute_input": "2022-12-19T20:48:01.073387Z",
     "iopub.status.busy": "2022-12-19T20:48:01.072637Z",
     "iopub.status.idle": "2022-12-19T20:48:01.298671Z",
     "shell.execute_reply": "2022-12-19T20:48:01.297928Z",
     "shell.execute_reply.started": "2022-12-19T20:48:01.073353Z"
    }
   },
   "outputs": [
    {
     "data": {
      "image/png": "[encoded data removed]",
      "text/plain": [
       "<Figure size 432x288 with 1 Axes>"
      ]
     },
     "metadata": {},
     "output_type": "display_data"
    },
    {
     "name": "stdout",
     "output_type": "stream",
     "text": [
      "AUC: 0.77\n"
     ]
    }
   ],
   "source": [
    "#curva ROC\n",
    "fpr3,tpr3=roc(model_NB,X_train,y_train,X_test,y_test)"
   ]
  },
  {
   "cell_type": "markdown",
   "metadata": {},
   "source": [
    "### LOGISTIC REGRESSION"
   ]
  },
  {
   "cell_type": "code",
   "execution_count": 53,
   "metadata": {
    "execution": {
     "iopub.execute_input": "2022-12-19T20:48:01.301082Z",
     "iopub.status.busy": "2022-12-19T20:48:01.300014Z",
     "iopub.status.idle": "2022-12-19T20:48:01.307587Z",
     "shell.execute_reply": "2022-12-19T20:48:01.306523Z",
     "shell.execute_reply.started": "2022-12-19T20:48:01.301035Z"
    }
   },
   "outputs": [],
   "source": [
    "from sklearn.linear_model import LogisticRegression\n",
    "\n",
    "classifier = LogisticRegression()\n",
    "parameters = {\"C\":[1e-4,1e-3,1e-2,1e-1,1,10], \"penalty\":['l2'], \"max_iter\":[500,1000,10000] }"
   ]
  },
  {
   "cell_type": "code",
   "execution_count": 54,
   "metadata": {
    "execution": {
     "iopub.execute_input": "2022-12-19T20:48:01.309202Z",
     "iopub.status.busy": "2022-12-19T20:48:01.308791Z",
     "iopub.status.idle": "2022-12-19T20:48:01.925176Z",
     "shell.execute_reply": "2022-12-19T20:48:01.923625Z",
     "shell.execute_reply.started": "2022-12-19T20:48:01.309170Z"
    }
   },
   "outputs": [
    {
     "name": "stdout",
     "output_type": "stream",
     "text": [
      "f1_train: 0.562911 using {'C': 0.1, 'max_iter': 500, 'penalty': 'l2'}\n",
      "f1         train 0.586   test 0.581\n",
      "precision  train 0.688   test 0.712\n",
      "\n",
      "[[358  40]\n",
      " [103  99]]\n",
      "              precision    recall  f1-score   support\n",
      "\n",
      "           0       0.78      0.90      0.83       398\n",
      "           1       0.71      0.49      0.58       202\n",
      "\n",
      "    accuracy                           0.76       600\n",
      "   macro avg       0.74      0.69      0.71       600\n",
      "weighted avg       0.75      0.76      0.75       600\n",
      "\n"
     ]
    }
   ],
   "source": [
    "hyperp_search(classifier,parameters)"
   ]
  },
  {
   "cell_type": "code",
   "execution_count": 55,
   "metadata": {
    "execution": {
     "iopub.execute_input": "2022-12-19T20:48:01.937334Z",
     "iopub.status.busy": "2022-12-19T20:48:01.932396Z",
     "iopub.status.idle": "2022-12-19T20:48:02.525478Z",
     "shell.execute_reply": "2022-12-19T20:48:02.523976Z",
     "shell.execute_reply.started": "2022-12-19T20:48:01.937259Z"
    }
   },
   "outputs": [
    {
     "name": "stdout",
     "output_type": "stream",
     "text": [
      "f1_train: 0.681710 using {'C': 10, 'max_iter': 500, 'penalty': 'l2'}\n",
      "f1         train 0.690   test 0.667\n",
      "precision  train 0.706   test 0.619\n",
      "\n",
      "[[308  90]\n",
      " [ 56 146]]\n",
      "              precision    recall  f1-score   support\n",
      "\n",
      "           0       0.85      0.77      0.81       398\n",
      "           1       0.62      0.72      0.67       202\n",
      "\n",
      "    accuracy                           0.76       600\n",
      "   macro avg       0.73      0.75      0.74       600\n",
      "weighted avg       0.77      0.76      0.76       600\n",
      "\n"
     ]
    }
   ],
   "source": [
    "hyperp_search_over(classifier,parameters)"
   ]
  },
  {
   "cell_type": "code",
   "execution_count": 56,
   "metadata": {
    "execution": {
     "iopub.execute_input": "2022-12-19T21:26:57.348089Z",
     "iopub.status.busy": "2022-12-19T21:26:57.347645Z",
     "iopub.status.idle": "2022-12-19T21:26:57.352814Z",
     "shell.execute_reply": "2022-12-19T21:26:57.352005Z",
     "shell.execute_reply.started": "2022-12-19T21:26:57.348053Z"
    }
   },
   "outputs": [],
   "source": [
    "model_Log = LogisticRegression(C=10, max_iter=500,penalty='l2')"
   ]
  },
  {
   "cell_type": "code",
   "execution_count": 57,
   "metadata": {
    "execution": {
     "iopub.execute_input": "2022-12-19T21:26:59.056063Z",
     "iopub.status.busy": "2022-12-19T21:26:59.054930Z",
     "iopub.status.idle": "2022-12-19T21:26:59.103477Z",
     "shell.execute_reply": "2022-12-19T21:26:59.102210Z",
     "shell.execute_reply.started": "2022-12-19T21:26:59.056024Z"
    }
   },
   "outputs": [
    {
     "name": "stdout",
     "output_type": "stream",
     "text": [
      "f1_train:  0.5890603085553997\n",
      "f1_test:  0.5919540229885059\n"
     ]
    }
   ],
   "source": [
    "model_Log.fit(X_train, y_train)\n",
    "y_pred_train=model_Log.predict(X_train)\n",
    "y_pred=model_Log.predict(X_test)\n",
    "\n",
    "print(\"f1_train: \", f1_score(y_train, y_pred_train))\n",
    "print(\"f1_test: \", f1_score(y_test, y_pred))\n",
    "\n"
   ]
  },
  {
   "cell_type": "markdown",
   "metadata": {},
   "source": [
    "By applyng the model found with the oversampled data on the non-oversampled data, we can see that the F1 score of the training set sliglhy reduce but the F1 score of the test set is increased. Also, the overfitting is not present with this model."
   ]
  },
  {
   "cell_type": "code",
   "execution_count": 238,
   "metadata": {
    "execution": {
     "iopub.execute_input": "2022-12-19T20:48:02.608257Z",
     "iopub.status.busy": "2022-12-19T20:48:02.607158Z",
     "iopub.status.idle": "2022-12-19T20:48:02.898775Z",
     "shell.execute_reply": "2022-12-19T20:48:02.897704Z",
     "shell.execute_reply.started": "2022-12-19T20:48:02.608196Z"
    }
   },
   "outputs": [
    {
     "data": {
      "image/png": "[encoded data removed]",
      "text/plain": [
       "<Figure size 432x288 with 1 Axes>"
      ]
     },
     "metadata": {},
     "output_type": "display_data"
    },
    {
     "name": "stdout",
     "output_type": "stream",
     "text": [
      "AUC: 0.82\n"
     ]
    }
   ],
   "source": [
    "#curva ROC\n",
    "fpr4,tpr4=roc(model_Log,X_train,y_train,X_test,y_test)"
   ]
  },
  {
   "cell_type": "markdown",
   "metadata": {},
   "source": [
    "### SVM"
   ]
  },
  {
   "cell_type": "code",
   "execution_count": 62,
   "metadata": {
    "execution": {
     "iopub.execute_input": "2022-12-19T20:48:02.900361Z",
     "iopub.status.busy": "2022-12-19T20:48:02.900052Z",
     "iopub.status.idle": "2022-12-19T20:48:02.906750Z",
     "shell.execute_reply": "2022-12-19T20:48:02.905630Z",
     "shell.execute_reply.started": "2022-12-19T20:48:02.900332Z"
    }
   },
   "outputs": [],
   "source": [
    "from sklearn.svm import SVC\n",
    "\n",
    "classifier = SVC()\n",
    "parameters = {\"kernel\":['linear','rbf'], \"C\":[0.001,0.005,0.01,0.05,0.1],\"gamma\":[0.01,0.1,1]}\n"
   ]
  },
  {
   "cell_type": "code",
   "execution_count": 63,
   "metadata": {
    "execution": {
     "iopub.execute_input": "2022-12-19T20:48:02.908683Z",
     "iopub.status.busy": "2022-12-19T20:48:02.908108Z",
     "iopub.status.idle": "2022-12-19T20:48:09.689058Z",
     "shell.execute_reply": "2022-12-19T20:48:09.688007Z",
     "shell.execute_reply.started": "2022-12-19T20:48:02.908651Z"
    }
   },
   "outputs": [
    {
     "name": "stdout",
     "output_type": "stream",
     "text": [
      "f1_train: 0.552625 using {'C': 0.1, 'gamma': 0.01, 'kernel': 'linear'}\n",
      "f1         train 0.562   test 0.562\n",
      "precision  train 0.703   test 0.746\n",
      "\n",
      "[[367  31]\n",
      " [111  91]]\n",
      "              precision    recall  f1-score   support\n",
      "\n",
      "           0       0.77      0.92      0.84       398\n",
      "           1       0.75      0.45      0.56       202\n",
      "\n",
      "    accuracy                           0.76       600\n",
      "   macro avg       0.76      0.69      0.70       600\n",
      "weighted avg       0.76      0.76      0.74       600\n",
      "\n"
     ]
    }
   ],
   "source": [
    "hyperp_search(classifier,parameters)"
   ]
  },
  {
   "cell_type": "code",
   "execution_count": 64,
   "metadata": {
    "execution": {
     "iopub.execute_input": "2022-12-19T20:48:09.690411Z",
     "iopub.status.busy": "2022-12-19T20:48:09.690123Z",
     "iopub.status.idle": "2022-12-19T20:48:21.066231Z",
     "shell.execute_reply": "2022-12-19T20:48:21.065091Z",
     "shell.execute_reply.started": "2022-12-19T20:48:09.690383Z"
    }
   },
   "outputs": [
    {
     "name": "stdout",
     "output_type": "stream",
     "text": [
      "f1_train: 0.699338 using {'C': 0.1, 'gamma': 0.1, 'kernel': 'rbf'}\n",
      "f1         train 0.728   test 0.636\n",
      "precision  train 0.752   test 0.602\n",
      "\n",
      "[[308  90]\n",
      " [ 66 136]]\n",
      "              precision    recall  f1-score   support\n",
      "\n",
      "           0       0.82      0.77      0.80       398\n",
      "           1       0.60      0.67      0.64       202\n",
      "\n",
      "    accuracy                           0.74       600\n",
      "   macro avg       0.71      0.72      0.72       600\n",
      "weighted avg       0.75      0.74      0.74       600\n",
      "\n"
     ]
    }
   ],
   "source": [
    "hyperp_search_over(classifier,parameters)"
   ]
  },
  {
   "cell_type": "code",
   "execution_count": 65,
   "metadata": {
    "execution": {
     "iopub.execute_input": "2022-12-19T20:48:21.068535Z",
     "iopub.status.busy": "2022-12-19T20:48:21.067926Z",
     "iopub.status.idle": "2022-12-19T20:48:21.073820Z",
     "shell.execute_reply": "2022-12-19T20:48:21.073018Z",
     "shell.execute_reply.started": "2022-12-19T20:48:21.068503Z"
    }
   },
   "outputs": [],
   "source": [
    "model_SVC = SVC(C=0.1, kernel='rbf',gamma=0.1,probability=True)"
   ]
  },
  {
   "cell_type": "code",
   "execution_count": 66,
   "metadata": {
    "execution": {
     "iopub.execute_input": "2022-12-19T20:48:21.075488Z",
     "iopub.status.busy": "2022-12-19T20:48:21.075154Z",
     "iopub.status.idle": "2022-12-19T20:48:22.633288Z",
     "shell.execute_reply": "2022-12-19T20:48:22.632198Z",
     "shell.execute_reply.started": "2022-12-19T20:48:21.075458Z"
    }
   },
   "outputs": [
    {
     "name": "stdout",
     "output_type": "stream",
     "text": [
      "f1_train:  0.5258141382049245\n",
      "f1_test:  0.4967320261437908\n"
     ]
    }
   ],
   "source": [
    "model_SVC.fit(X_train, y_train)\n",
    "y_pred_train=model_SVC.predict(X_train)\n",
    "y_pred=model_SVC.predict(X_test)\n",
    "\n",
    "print(\"f1_train: \", f1_score(y_train, y_pred_train))\n",
    "print(\"f1_test: \", f1_score(y_test, y_pred))"
   ]
  },
  {
   "cell_type": "markdown",
   "metadata": {},
   "source": [
    "Although the overfitting is acceptable, the F1 scores are both not satisfying."
   ]
  },
  {
   "cell_type": "code",
   "execution_count": 67,
   "metadata": {
    "execution": {
     "iopub.execute_input": "2022-12-19T20:48:22.635183Z",
     "iopub.status.busy": "2022-12-19T20:48:22.634828Z",
     "iopub.status.idle": "2022-12-19T20:48:25.150862Z",
     "shell.execute_reply": "2022-12-19T20:48:25.149882Z",
     "shell.execute_reply.started": "2022-12-19T20:48:22.635152Z"
    }
   },
   "outputs": [
    {
     "data": {
      "image/png": "[encoded data removed]",
      "text/plain": [
       "<Figure size 432x288 with 1 Axes>"
      ]
     },
     "metadata": {},
     "output_type": "display_data"
    },
    {
     "name": "stdout",
     "output_type": "stream",
     "text": [
      "AUC: 0.79\n"
     ]
    }
   ],
   "source": [
    "fpr5,tpr5=roc(model_SVC,X_train,y_train,X_test,y_test)"
   ]
  },
  {
   "cell_type": "markdown",
   "metadata": {},
   "source": [
    "### NEURAL NETWORK"
   ]
  },
  {
   "cell_type": "code",
   "execution_count": 68,
   "metadata": {
    "execution": {
     "iopub.execute_input": "2022-12-19T20:48:25.152833Z",
     "iopub.status.busy": "2022-12-19T20:48:25.152298Z",
     "iopub.status.idle": "2022-12-19T20:48:25.167031Z",
     "shell.execute_reply": "2022-12-19T20:48:25.165459Z",
     "shell.execute_reply.started": "2022-12-19T20:48:25.152789Z"
    }
   },
   "outputs": [],
   "source": [
    "from sklearn.neural_network import MLPClassifier\n",
    "\n",
    "classifier = MLPClassifier()\n",
    "parameters = {\"hidden_layer_sizes\":[(7,5,3,2),(7,5,3),(10, 5),(10, 5,2)],  \"max_iter\": [1000,5000,10000], \"alpha\": [0.001,0.009,0.1,0.9,1]}\n"
   ]
  },
  {
   "cell_type": "code",
   "execution_count": 69,
   "metadata": {
    "execution": {
     "iopub.execute_input": "2022-12-19T20:48:25.169274Z",
     "iopub.status.busy": "2022-12-19T20:48:25.168903Z",
     "iopub.status.idle": "2022-12-19T20:53:25.448711Z",
     "shell.execute_reply": "2022-12-19T20:53:25.447501Z",
     "shell.execute_reply.started": "2022-12-19T20:48:25.169228Z"
    }
   },
   "outputs": [
    {
     "name": "stdout",
     "output_type": "stream",
     "text": [
      "f1_train: 0.601115 using {'alpha': 0.9, 'hidden_layer_sizes': (7, 5, 3, 2), 'max_iter': 10000}\n",
      "f1         train 0.640   test 0.629\n",
      "precision  train 0.677   test 0.661\n",
      "\n",
      "[[336  62]\n",
      " [ 81 121]]\n",
      "              precision    recall  f1-score   support\n",
      "\n",
      "           0       0.81      0.84      0.82       398\n",
      "           1       0.66      0.60      0.63       202\n",
      "\n",
      "    accuracy                           0.76       600\n",
      "   macro avg       0.73      0.72      0.73       600\n",
      "weighted avg       0.76      0.76      0.76       600\n",
      "\n"
     ]
    }
   ],
   "source": [
    "hyperp_search(classifier,parameters)"
   ]
  },
  {
   "cell_type": "code",
   "execution_count": 70,
   "metadata": {
    "execution": {
     "iopub.execute_input": "2022-12-19T20:53:25.451346Z",
     "iopub.status.busy": "2022-12-19T20:53:25.450185Z",
     "iopub.status.idle": "2022-12-19T20:58:54.817854Z",
     "shell.execute_reply": "2022-12-19T20:58:54.816694Z",
     "shell.execute_reply.started": "2022-12-19T20:53:25.451303Z"
    }
   },
   "outputs": [
    {
     "name": "stdout",
     "output_type": "stream",
     "text": [
      "f1_train: 0.768757 using {'alpha': 0.001, 'hidden_layer_sizes': (10, 5, 2), 'max_iter': 10000}\n",
      "f1         train 0.863   test 0.564\n",
      "precision  train 0.852   test 0.574\n",
      "\n",
      "[[315  83]\n",
      " [ 90 112]]\n",
      "              precision    recall  f1-score   support\n",
      "\n",
      "           0       0.78      0.79      0.78       398\n",
      "           1       0.57      0.55      0.56       202\n",
      "\n",
      "    accuracy                           0.71       600\n",
      "   macro avg       0.68      0.67      0.67       600\n",
      "weighted avg       0.71      0.71      0.71       600\n",
      "\n"
     ]
    }
   ],
   "source": [
    "hyperp_search_over(classifier,parameters)"
   ]
  },
  {
   "cell_type": "code",
   "execution_count": 87,
   "metadata": {
    "execution": {
     "iopub.execute_input": "2022-12-19T20:58:54.820314Z",
     "iopub.status.busy": "2022-12-19T20:58:54.819623Z",
     "iopub.status.idle": "2022-12-19T20:58:54.827544Z",
     "shell.execute_reply": "2022-12-19T20:58:54.826313Z",
     "shell.execute_reply.started": "2022-12-19T20:58:54.820272Z"
    }
   },
   "outputs": [],
   "source": [
    "model_MLP = MLPClassifier(hidden_layer_sizes=(10,5,2), alpha=0.001, max_iter=10000)\n"
   ]
  },
  {
   "cell_type": "code",
   "execution_count": 88,
   "metadata": {
    "execution": {
     "iopub.execute_input": "2022-12-19T20:58:54.830076Z",
     "iopub.status.busy": "2022-12-19T20:58:54.829396Z",
     "iopub.status.idle": "2022-12-19T20:59:01.006608Z",
     "shell.execute_reply": "2022-12-19T20:59:01.005079Z",
     "shell.execute_reply.started": "2022-12-19T20:58:54.830032Z"
    }
   },
   "outputs": [
    {
     "name": "stdout",
     "output_type": "stream",
     "text": [
      "f1_train:  0.771483131763208\n",
      "f1_test:  0.5336658354114713\n"
     ]
    }
   ],
   "source": [
    "model_MLP.fit(X_train, y_train)\n",
    "y_pred_train=model_MLP.predict(X_train)\n",
    "y_pred=model_MLP.predict(X_test)\n",
    "\n",
    "print(\"f1_train: \", f1_score(y_train, y_pred_train))\n",
    "print(\"f1_test: \", f1_score(y_test, y_pred))"
   ]
  },
  {
   "cell_type": "markdown",
   "metadata": {},
   "source": [
    "With this family of model we have too much overfitting in any considered case, so we discard the models."
   ]
  },
  {
   "cell_type": "code",
   "execution_count": 89,
   "metadata": {
    "execution": {
     "iopub.execute_input": "2022-12-19T20:59:01.009992Z",
     "iopub.status.busy": "2022-12-19T20:59:01.009016Z",
     "iopub.status.idle": "2022-12-19T20:59:08.619393Z",
     "shell.execute_reply": "2022-12-19T20:59:08.618183Z",
     "shell.execute_reply.started": "2022-12-19T20:59:01.009915Z"
    }
   },
   "outputs": [
    {
     "data": {
      "image/png": "[encoded data removed]",
      "text/plain": [
       "<Figure size 432x288 with 1 Axes>"
      ]
     },
     "metadata": {},
     "output_type": "display_data"
    },
    {
     "name": "stdout",
     "output_type": "stream",
     "text": [
      "AUC: 0.74\n"
     ]
    }
   ],
   "source": [
    "#curva ROC\n",
    "fpr6,tpr6=roc(model_MLP,X_train,y_train,X_test,y_test)"
   ]
  },
  {
   "cell_type": "markdown",
   "metadata": {},
   "source": [
    "### RANDOM FOREST"
   ]
  },
  {
   "cell_type": "code",
   "execution_count": 74,
   "metadata": {
    "execution": {
     "iopub.execute_input": "2022-12-19T20:59:08.621105Z",
     "iopub.status.busy": "2022-12-19T20:59:08.620765Z",
     "iopub.status.idle": "2022-12-19T20:59:08.627964Z",
     "shell.execute_reply": "2022-12-19T20:59:08.626764Z",
     "shell.execute_reply.started": "2022-12-19T20:59:08.621074Z"
    }
   },
   "outputs": [],
   "source": [
    "from sklearn.ensemble import RandomForestClassifier\n",
    "\n",
    "\n",
    "classifier= RandomForestClassifier()\n",
    "parameters = {'n_estimators' :     np.arange(2,8,1),\n",
    "              'criterion' :        ['entropy', 'gini'],\n",
    "              'max_depth' :        np.arange(2,5,1), \n",
    "              'min_samples_split': np.arange(4,18,1),\n",
    "              'min_samples_leaf' : np.arange(4,18,1),\n",
    "              #'class_weight' : [\"balanced\"]\n",
    "             };\n",
    "\n"
   ]
  },
  {
   "cell_type": "code",
   "execution_count": 75,
   "metadata": {
    "execution": {
     "iopub.execute_input": "2022-12-19T20:59:08.629830Z",
     "iopub.status.busy": "2022-12-19T20:59:08.629457Z",
     "iopub.status.idle": "2022-12-19T21:01:30.462737Z",
     "shell.execute_reply": "2022-12-19T21:01:30.461367Z",
     "shell.execute_reply.started": "2022-12-19T20:59:08.629800Z"
    }
   },
   "outputs": [
    {
     "name": "stdout",
     "output_type": "stream",
     "text": [
      "f1_train: 0.584855 using {'criterion': 'entropy', 'max_depth': 4, 'min_samples_leaf': 4, 'min_samples_split': 8, 'n_estimators': 2}\n",
      "f1         train 0.408   test 0.393\n",
      "precision  train 0.709   test 0.675\n",
      "\n",
      "[[371  27]\n",
      " [146  56]]\n",
      "              precision    recall  f1-score   support\n",
      "\n",
      "           0       0.72      0.93      0.81       398\n",
      "           1       0.67      0.28      0.39       202\n",
      "\n",
      "    accuracy                           0.71       600\n",
      "   macro avg       0.70      0.60      0.60       600\n",
      "weighted avg       0.70      0.71      0.67       600\n",
      "\n"
     ]
    }
   ],
   "source": [
    "hyperp_search(classifier,parameters)"
   ]
  },
  {
   "cell_type": "code",
   "execution_count": 76,
   "metadata": {
    "execution": {
     "iopub.execute_input": "2022-12-19T21:01:30.464393Z",
     "iopub.status.busy": "2022-12-19T21:01:30.464065Z",
     "iopub.status.idle": "2022-12-19T21:03:57.903273Z",
     "shell.execute_reply": "2022-12-19T21:03:57.902159Z",
     "shell.execute_reply.started": "2022-12-19T21:01:30.464365Z"
    }
   },
   "outputs": [
    {
     "name": "stdout",
     "output_type": "stream",
     "text": [
      "f1_train: 0.735606 using {'criterion': 'gini', 'max_depth': 4, 'min_samples_leaf': 7, 'min_samples_split': 7, 'n_estimators': 5}\n",
      "f1         train 0.738   test 0.619\n",
      "precision  train 0.688   test 0.530\n",
      "\n",
      "[[265 133]\n",
      " [ 52 150]]\n",
      "              precision    recall  f1-score   support\n",
      "\n",
      "           0       0.84      0.67      0.74       398\n",
      "           1       0.53      0.74      0.62       202\n",
      "\n",
      "    accuracy                           0.69       600\n",
      "   macro avg       0.68      0.70      0.68       600\n",
      "weighted avg       0.73      0.69      0.70       600\n",
      "\n"
     ]
    }
   ],
   "source": [
    "hyperp_search_over(classifier,parameters)"
   ]
  },
  {
   "cell_type": "code",
   "execution_count": 90,
   "metadata": {
    "execution": {
     "iopub.execute_input": "2022-12-19T21:26:04.184037Z",
     "iopub.status.busy": "2022-12-19T21:26:04.183609Z",
     "iopub.status.idle": "2022-12-19T21:26:04.189237Z",
     "shell.execute_reply": "2022-12-19T21:26:04.188443Z",
     "shell.execute_reply.started": "2022-12-19T21:26:04.183998Z"
    }
   },
   "outputs": [],
   "source": [
    "model_RandomForest = RandomForestClassifier(criterion='gini', max_depth=4,min_samples_leaf = 7, min_samples_split= 7, n_estimators= 5)\n"
   ]
  },
  {
   "cell_type": "code",
   "execution_count": 91,
   "metadata": {
    "execution": {
     "iopub.execute_input": "2022-12-19T21:26:06.114985Z",
     "iopub.status.busy": "2022-12-19T21:26:06.114622Z",
     "iopub.status.idle": "2022-12-19T21:26:06.152906Z",
     "shell.execute_reply": "2022-12-19T21:26:06.151874Z",
     "shell.execute_reply.started": "2022-12-19T21:26:06.114956Z"
    }
   },
   "outputs": [
    {
     "name": "stdout",
     "output_type": "stream",
     "text": [
      "f1_train:  0.5438066465256798\n",
      "f1_test:  0.5212121212121212\n"
     ]
    }
   ],
   "source": [
    "model_RandomForest.fit(X_train, y_train)\n",
    "y_pred_train=model_RandomForest.predict(X_train)\n",
    "y_pred=model_RandomForest.predict(X_test)\n",
    "\n",
    "print(\"f1_train: \", f1_score(y_train, y_pred_train))\n",
    "print(\"f1_test: \", f1_score(y_test, y_pred))"
   ]
  },
  {
   "cell_type": "code",
   "execution_count": 92,
   "metadata": {
    "execution": {
     "iopub.execute_input": "2022-12-19T21:03:57.965259Z",
     "iopub.status.busy": "2022-12-19T21:03:57.964923Z",
     "iopub.status.idle": "2022-12-19T21:03:58.209359Z",
     "shell.execute_reply": "2022-12-19T21:03:58.208372Z",
     "shell.execute_reply.started": "2022-12-19T21:03:57.965229Z"
    }
   },
   "outputs": [
    {
     "data": {
      "image/png": "[encoded data removed]",
      "text/plain": [
       "<Figure size 432x288 with 1 Axes>"
      ]
     },
     "metadata": {},
     "output_type": "display_data"
    },
    {
     "name": "stdout",
     "output_type": "stream",
     "text": [
      "AUC: 0.79\n"
     ]
    }
   ],
   "source": [
    "#curva ROC\n",
    "fpr7,tpr7=roc(model_RandomForest,X_train,y_train,X_test,y_test)"
   ]
  },
  {
   "cell_type": "markdown",
   "metadata": {},
   "source": [
    "### ADABOOST"
   ]
  },
  {
   "cell_type": "code",
   "execution_count": 80,
   "metadata": {
    "execution": {
     "iopub.execute_input": "2022-12-19T21:03:58.211100Z",
     "iopub.status.busy": "2022-12-19T21:03:58.210789Z",
     "iopub.status.idle": "2022-12-19T21:03:58.216302Z",
     "shell.execute_reply": "2022-12-19T21:03:58.215322Z",
     "shell.execute_reply.started": "2022-12-19T21:03:58.211073Z"
    }
   },
   "outputs": [],
   "source": [
    "from sklearn.ensemble import AdaBoostClassifier\n",
    "classifier = AdaBoostClassifier()\n",
    "parameters = {'n_estimators' : [1000,2000,5000,8000,10000], 'learning_rate' : [0.001,0.01,0.1]}\n"
   ]
  },
  {
   "cell_type": "code",
   "execution_count": 81,
   "metadata": {
    "execution": {
     "iopub.execute_input": "2022-12-19T21:03:58.218898Z",
     "iopub.status.busy": "2022-12-19T21:03:58.218046Z",
     "iopub.status.idle": "2022-12-19T21:09:30.958201Z",
     "shell.execute_reply": "2022-12-19T21:09:30.957020Z",
     "shell.execute_reply.started": "2022-12-19T21:03:58.218856Z"
    }
   },
   "outputs": [
    {
     "name": "stdout",
     "output_type": "stream",
     "text": [
      "f1_train: 0.573675 using {'learning_rate': 0.01, 'n_estimators': 5000}\n",
      "f1         train 0.620   test 0.553\n",
      "precision  train 0.677   test 0.635\n",
      "\n",
      "[[341  57]\n",
      " [103  99]]\n",
      "              precision    recall  f1-score   support\n",
      "\n",
      "           0       0.77      0.86      0.81       398\n",
      "           1       0.63      0.49      0.55       202\n",
      "\n",
      "    accuracy                           0.73       600\n",
      "   macro avg       0.70      0.67      0.68       600\n",
      "weighted avg       0.72      0.73      0.72       600\n",
      "\n"
     ]
    }
   ],
   "source": [
    "hyperp_search(classifier, parameters)"
   ]
  },
  {
   "cell_type": "code",
   "execution_count": 82,
   "metadata": {
    "execution": {
     "iopub.execute_input": "2022-12-19T21:09:30.960557Z",
     "iopub.status.busy": "2022-12-19T21:09:30.959752Z",
     "iopub.status.idle": "2022-12-19T21:16:09.884117Z",
     "shell.execute_reply": "2022-12-19T21:16:09.883035Z",
     "shell.execute_reply.started": "2022-12-19T21:09:30.960516Z"
    }
   },
   "outputs": [
    {
     "name": "stdout",
     "output_type": "stream",
     "text": [
      "f1_train: 0.728385 using {'learning_rate': 0.1, 'n_estimators': 8000}\n",
      "f1         train 0.787   test 0.597\n",
      "precision  train 0.777   test 0.576\n",
      "\n",
      "[[306  92]\n",
      " [ 77 125]]\n",
      "              precision    recall  f1-score   support\n",
      "\n",
      "           0       0.80      0.77      0.78       398\n",
      "           1       0.58      0.62      0.60       202\n",
      "\n",
      "    accuracy                           0.72       600\n",
      "   macro avg       0.69      0.69      0.69       600\n",
      "weighted avg       0.72      0.72      0.72       600\n",
      "\n"
     ]
    }
   ],
   "source": [
    "hyperp_search_over(classifier, parameters)"
   ]
  },
  {
   "cell_type": "code",
   "execution_count": 83,
   "metadata": {
    "execution": {
     "iopub.execute_input": "2022-12-19T21:16:09.885678Z",
     "iopub.status.busy": "2022-12-19T21:16:09.885368Z",
     "iopub.status.idle": "2022-12-19T21:16:09.891433Z",
     "shell.execute_reply": "2022-12-19T21:16:09.890315Z",
     "shell.execute_reply.started": "2022-12-19T21:16:09.885649Z"
    }
   },
   "outputs": [],
   "source": [
    "model_Ada = AdaBoostClassifier(learning_rate= 0.1, n_estimators= 8000)"
   ]
  },
  {
   "cell_type": "code",
   "execution_count": 84,
   "metadata": {
    "execution": {
     "iopub.execute_input": "2022-12-19T21:16:09.893687Z",
     "iopub.status.busy": "2022-12-19T21:16:09.893351Z",
     "iopub.status.idle": "2022-12-19T21:16:48.750085Z",
     "shell.execute_reply": "2022-12-19T21:16:48.748803Z",
     "shell.execute_reply.started": "2022-12-19T21:16:09.893658Z"
    }
   },
   "outputs": [
    {
     "name": "stdout",
     "output_type": "stream",
     "text": [
      "f1_train:  0.6928104575163399\n",
      "f1_test:  0.5493333333333335\n"
     ]
    }
   ],
   "source": [
    "model_Ada.fit(X_train, y_train)\n",
    "y_pred_train=model_Ada.predict(X_train)\n",
    "y_pred=model_Ada.predict(X_test)\n",
    "\n",
    "print(\"f1_train: \", f1_score(y_train, y_pred_train))\n",
    "print(\"f1_test: \", f1_score(y_test, y_pred))"
   ]
  },
  {
   "cell_type": "markdown",
   "metadata": {},
   "source": [
    "With this family of model we have too much overfitting in any considered case, so we discard this model."
   ]
  },
  {
   "cell_type": "code",
   "execution_count": 85,
   "metadata": {
    "execution": {
     "iopub.execute_input": "2022-12-19T21:16:48.752339Z",
     "iopub.status.busy": "2022-12-19T21:16:48.751764Z",
     "iopub.status.idle": "2022-12-19T21:16:49.013730Z",
     "shell.execute_reply": "2022-12-19T21:16:49.012756Z",
     "shell.execute_reply.started": "2022-12-19T21:16:48.752279Z"
    }
   },
   "outputs": [
    {
     "data": {
      "image/png": "[encoded data removed]",
      "text/plain": [
       "<Figure size 432x288 with 1 Axes>"
      ]
     },
     "metadata": {},
     "output_type": "display_data"
    },
    {
     "name": "stdout",
     "output_type": "stream",
     "text": [
      "AUC: 0.77\n"
     ]
    }
   ],
   "source": [
    "#curva ROC\n",
    "fpr8,tpr8=roc(model_Ada,X_train,y_train,X_test,y_test)"
   ]
  },
  {
   "cell_type": "markdown",
   "metadata": {},
   "source": [
    "# CHOICE OF THE MODEL"
   ]
  },
  {
   "cell_type": "markdown",
   "metadata": {
    "execution": {
     "iopub.execute_input": "2022-12-19T12:23:32.558900Z",
     "iopub.status.busy": "2022-12-19T12:23:32.558461Z",
     "iopub.status.idle": "2022-12-19T12:23:32.564923Z",
     "shell.execute_reply": "2022-12-19T12:23:32.563525Z",
     "shell.execute_reply.started": "2022-12-19T12:23:32.558865Z"
    }
   },
   "source": [
    "After evalutaing every family of models, by analyzing the F1 scores we decided to find acceptable only the models found with SVM, Logistic Regression and RandomForest.\n",
    "Among these models we considered as the best model the one found with Logistic Regression method, beacuse the F1 scores, the precision scores and the accuracy are slightly better than the other models, and also the overfitting is minimum."
   ]
  },
  {
   "cell_type": "code",
   "execution_count": 76,
   "metadata": {
    "execution": {
     "iopub.execute_input": "2022-12-19T21:16:49.015964Z",
     "iopub.status.busy": "2022-12-19T21:16:49.015400Z",
     "iopub.status.idle": "2022-12-19T21:16:49.021064Z",
     "shell.execute_reply": "2022-12-19T21:16:49.020314Z",
     "shell.execute_reply.started": "2022-12-19T21:16:49.015890Z"
    }
   },
   "outputs": [],
   "source": [
    "pickle.dump(model_Log, open('LogisticRegression_model.pkl', 'wb'))"
   ]
  },
  {
   "cell_type": "markdown",
   "metadata": {},
   "source": [
    "# TEST "
   ]
  },
  {
   "cell_type": "code",
   "execution_count": 241,
   "metadata": {
    "execution": {
     "iopub.execute_input": "2022-12-19T21:16:49.022559Z",
     "iopub.status.busy": "2022-12-19T21:16:49.022255Z",
     "iopub.status.idle": "2022-12-19T21:16:49.073389Z",
     "shell.execute_reply": "2022-12-19T21:16:49.072123Z",
     "shell.execute_reply.started": "2022-12-19T21:16:49.022526Z"
    }
   },
   "outputs": [],
   "source": [
    "data_test = pd.read_csv(\"/kaggle/input/tyres-test/tyres_test.csv\", sep = \",\")\n",
    "\n",
    "data_test.head(10)\n",
    "print(data_test.shape)"
   ]
  },
  {
   "cell_type": "code",
   "execution_count": 58,
   "metadata": {},
   "outputs": [
    {
     "name": "stdout",
     "output_type": "stream",
     "text": [
      "(7984, 15)\n"
     ]
    }
   ],
   "source": [
    "data_test = pd.read_csv(\"tyres_test.csv\", sep = \",\")\n",
    "\n",
    "data_test.head(10)\n",
    "print(data_test.shape)"
   ]
  },
  {
   "cell_type": "code",
   "execution_count": 59,
   "metadata": {
    "execution": {
     "iopub.execute_input": "2022-12-19T21:17:20.099208Z",
     "iopub.status.busy": "2022-12-19T21:17:20.097880Z",
     "iopub.status.idle": "2022-12-19T21:17:20.124198Z",
     "shell.execute_reply": "2022-12-19T21:17:20.123055Z",
     "shell.execute_reply.started": "2022-12-19T21:17:20.099157Z"
    }
   },
   "outputs": [
    {
     "name": "stdout",
     "output_type": "stream",
     "text": [
      "(7984, 14)\n"
     ]
    },
    {
     "data": {
      "text/html": [
       "<div>\n",
       "<style scoped>\n",
       "    .dataframe tbody tr th:only-of-type {\n",
       "        vertical-align: middle;\n",
       "    }\n",
       "\n",
       "    .dataframe tbody tr th {\n",
       "        vertical-align: top;\n",
       "    }\n",
       "\n",
       "    .dataframe thead th {\n",
       "        text-align: right;\n",
       "    }\n",
       "</style>\n",
       "<table border=\"1\" class=\"dataframe\">\n",
       "  <thead>\n",
       "    <tr style=\"text-align: right;\">\n",
       "      <th></th>\n",
       "      <th>vulc</th>\n",
       "      <th>perc_nat_rubber</th>\n",
       "      <th>wiring_strength</th>\n",
       "      <th>weather</th>\n",
       "      <th>perc_imp</th>\n",
       "      <th>temperature</th>\n",
       "      <th>tread_type</th>\n",
       "      <th>tyre_season</th>\n",
       "      <th>elevation</th>\n",
       "      <th>month</th>\n",
       "      <th>tread_depth</th>\n",
       "      <th>tyre_quality</th>\n",
       "      <th>perc_exp_comp</th>\n",
       "      <th>add_layers</th>\n",
       "    </tr>\n",
       "  </thead>\n",
       "  <tbody>\n",
       "    <tr>\n",
       "      <th>0</th>\n",
       "      <td>17.180</td>\n",
       "      <td>30</td>\n",
       "      <td>1</td>\n",
       "      <td>0.21</td>\n",
       "      <td>0.00</td>\n",
       "      <td>-9.24</td>\n",
       "      <td>0</td>\n",
       "      <td>1</td>\n",
       "      <td>460.5</td>\n",
       "      <td>4</td>\n",
       "      <td>3</td>\n",
       "      <td>0</td>\n",
       "      <td>5.54</td>\n",
       "      <td>1</td>\n",
       "    </tr>\n",
       "    <tr>\n",
       "      <th>1</th>\n",
       "      <td>17.744</td>\n",
       "      <td>24</td>\n",
       "      <td>1</td>\n",
       "      <td>0.16</td>\n",
       "      <td>0.01</td>\n",
       "      <td>-9.12</td>\n",
       "      <td>0</td>\n",
       "      <td>1</td>\n",
       "      <td>278.5</td>\n",
       "      <td>8</td>\n",
       "      <td>0</td>\n",
       "      <td>1</td>\n",
       "      <td>5.01</td>\n",
       "      <td>1</td>\n",
       "    </tr>\n",
       "    <tr>\n",
       "      <th>2</th>\n",
       "      <td>16.930</td>\n",
       "      <td>34</td>\n",
       "      <td>0</td>\n",
       "      <td>0.27</td>\n",
       "      <td>0.01</td>\n",
       "      <td>3.64</td>\n",
       "      <td>2</td>\n",
       "      <td>0</td>\n",
       "      <td>733.5</td>\n",
       "      <td>11</td>\n",
       "      <td>2</td>\n",
       "      <td>0</td>\n",
       "      <td>6.41</td>\n",
       "      <td>1</td>\n",
       "    </tr>\n",
       "    <tr>\n",
       "      <th>3</th>\n",
       "      <td>22.428</td>\n",
       "      <td>34</td>\n",
       "      <td>1</td>\n",
       "      <td>0.03</td>\n",
       "      <td>0.00</td>\n",
       "      <td>0.56</td>\n",
       "      <td>3</td>\n",
       "      <td>0</td>\n",
       "      <td>235.5</td>\n",
       "      <td>9</td>\n",
       "      <td>3</td>\n",
       "      <td>0</td>\n",
       "      <td>5.95</td>\n",
       "      <td>1</td>\n",
       "    </tr>\n",
       "    <tr>\n",
       "      <th>4</th>\n",
       "      <td>16.818</td>\n",
       "      <td>29</td>\n",
       "      <td>1</td>\n",
       "      <td>0.06</td>\n",
       "      <td>0.00</td>\n",
       "      <td>-0.96</td>\n",
       "      <td>3</td>\n",
       "      <td>0</td>\n",
       "      <td>461.0</td>\n",
       "      <td>9</td>\n",
       "      <td>0</td>\n",
       "      <td>1</td>\n",
       "      <td>5.97</td>\n",
       "      <td>1</td>\n",
       "    </tr>\n",
       "  </tbody>\n",
       "</table>\n",
       "</div>"
      ],
      "text/plain": [
       "     vulc  perc_nat_rubber  wiring_strength  weather  perc_imp  temperature  \\\n",
       "0  17.180               30                1     0.21      0.00        -9.24   \n",
       "1  17.744               24                1     0.16      0.01        -9.12   \n",
       "2  16.930               34                0     0.27      0.01         3.64   \n",
       "3  22.428               34                1     0.03      0.00         0.56   \n",
       "4  16.818               29                1     0.06      0.00        -0.96   \n",
       "\n",
       "   tread_type  tyre_season  elevation  month  tread_depth  tyre_quality  \\\n",
       "0           0            1      460.5      4            3             0   \n",
       "1           0            1      278.5      8            0             1   \n",
       "2           2            0      733.5     11            2             0   \n",
       "3           3            0      235.5      9            3             0   \n",
       "4           3            0      461.0      9            0             1   \n",
       "\n",
       "   perc_exp_comp  add_layers  \n",
       "0           5.54           1  \n",
       "1           5.01           1  \n",
       "2           6.41           1  \n",
       "3           5.95           1  \n",
       "4           5.97           1  "
      ]
     },
     "execution_count": 59,
     "metadata": {},
     "output_type": "execute_result"
    }
   ],
   "source": [
    "#dropping 'diameter' \n",
    "d = [\"diameter\"]\n",
    "data_dropped_test = data_test.drop(columns=d)\n",
    "\n",
    "print(data_dropped_test.shape)\n",
    "data_dropped_test.head()"
   ]
  },
  {
   "cell_type": "code",
   "execution_count": 60,
   "metadata": {
    "execution": {
     "iopub.execute_input": "2022-12-19T21:17:20.126427Z",
     "iopub.status.busy": "2022-12-19T21:17:20.126065Z",
     "iopub.status.idle": "2022-12-19T21:17:20.134240Z",
     "shell.execute_reply": "2022-12-19T21:17:20.133033Z",
     "shell.execute_reply.started": "2022-12-19T21:17:20.126395Z"
    }
   },
   "outputs": [],
   "source": [
    "selection_categorical=['tread_type', 'tyre_season','month', 'tread_depth', 'wiring_strength', 'tyre_quality',\n",
    "       'add_layers']\n",
    "data_categorical2 = data_dropped_test[selection_categorical]"
   ]
  },
  {
   "cell_type": "code",
   "execution_count": 61,
   "metadata": {
    "execution": {
     "iopub.execute_input": "2022-12-19T21:17:20.136363Z",
     "iopub.status.busy": "2022-12-19T21:17:20.135964Z",
     "iopub.status.idle": "2022-12-19T21:17:20.155245Z",
     "shell.execute_reply": "2022-12-19T21:17:20.154230Z",
     "shell.execute_reply.started": "2022-12-19T21:17:20.136315Z"
    }
   },
   "outputs": [
    {
     "name": "stdout",
     "output_type": "stream",
     "text": [
      "(7984, 6)\n"
     ]
    },
    {
     "data": {
      "text/html": [
       "<div>\n",
       "<style scoped>\n",
       "    .dataframe tbody tr th:only-of-type {\n",
       "        vertical-align: middle;\n",
       "    }\n",
       "\n",
       "    .dataframe tbody tr th {\n",
       "        vertical-align: top;\n",
       "    }\n",
       "\n",
       "    .dataframe thead th {\n",
       "        text-align: right;\n",
       "    }\n",
       "</style>\n",
       "<table border=\"1\" class=\"dataframe\">\n",
       "  <thead>\n",
       "    <tr style=\"text-align: right;\">\n",
       "      <th></th>\n",
       "      <th>tread_type</th>\n",
       "      <th>tyre_season</th>\n",
       "      <th>month</th>\n",
       "      <th>tread_depth</th>\n",
       "      <th>wiring_strength</th>\n",
       "      <th>tyre_quality</th>\n",
       "    </tr>\n",
       "  </thead>\n",
       "  <tbody>\n",
       "    <tr>\n",
       "      <th>0</th>\n",
       "      <td>0</td>\n",
       "      <td>1</td>\n",
       "      <td>4</td>\n",
       "      <td>3</td>\n",
       "      <td>1</td>\n",
       "      <td>0</td>\n",
       "    </tr>\n",
       "    <tr>\n",
       "      <th>1</th>\n",
       "      <td>0</td>\n",
       "      <td>1</td>\n",
       "      <td>8</td>\n",
       "      <td>0</td>\n",
       "      <td>1</td>\n",
       "      <td>1</td>\n",
       "    </tr>\n",
       "    <tr>\n",
       "      <th>2</th>\n",
       "      <td>2</td>\n",
       "      <td>0</td>\n",
       "      <td>11</td>\n",
       "      <td>2</td>\n",
       "      <td>0</td>\n",
       "      <td>0</td>\n",
       "    </tr>\n",
       "    <tr>\n",
       "      <th>3</th>\n",
       "      <td>3</td>\n",
       "      <td>0</td>\n",
       "      <td>9</td>\n",
       "      <td>3</td>\n",
       "      <td>1</td>\n",
       "      <td>0</td>\n",
       "    </tr>\n",
       "    <tr>\n",
       "      <th>4</th>\n",
       "      <td>3</td>\n",
       "      <td>0</td>\n",
       "      <td>9</td>\n",
       "      <td>0</td>\n",
       "      <td>1</td>\n",
       "      <td>1</td>\n",
       "    </tr>\n",
       "  </tbody>\n",
       "</table>\n",
       "</div>"
      ],
      "text/plain": [
       "   tread_type  tyre_season  month  tread_depth  wiring_strength  tyre_quality\n",
       "0           0            1      4            3                1             0\n",
       "1           0            1      8            0                1             1\n",
       "2           2            0     11            2                0             0\n",
       "3           3            0      9            3                1             0\n",
       "4           3            0      9            0                1             1"
      ]
     },
     "execution_count": 61,
     "metadata": {},
     "output_type": "execute_result"
    }
   ],
   "source": [
    "#drop of add_layers\n",
    "d = ['add_layers']\n",
    "\n",
    "data_categorical_dropped = data_categorical2.drop(columns = d)\n",
    "selection_categorical = ['tread_type', 'tyre_season', 'tread_depth','month', 'wiring_strength', 'tyre_quality']\n",
    "print(data_categorical_dropped.shape)\n",
    "data_categorical_dropped.head()"
   ]
  },
  {
   "cell_type": "code",
   "execution_count": 62,
   "metadata": {
    "execution": {
     "iopub.execute_input": "2022-12-19T21:17:20.158145Z",
     "iopub.status.busy": "2022-12-19T21:17:20.157454Z",
     "iopub.status.idle": "2022-12-19T21:17:20.290907Z",
     "shell.execute_reply": "2022-12-19T21:17:20.289818Z",
     "shell.execute_reply.started": "2022-12-19T21:17:20.158111Z"
    }
   },
   "outputs": [
    {
     "data": {
      "text/html": [
       "<div>\n",
       "<style scoped>\n",
       "    .dataframe tbody tr th:only-of-type {\n",
       "        vertical-align: middle;\n",
       "    }\n",
       "\n",
       "    .dataframe tbody tr th {\n",
       "        vertical-align: top;\n",
       "    }\n",
       "\n",
       "    .dataframe thead th {\n",
       "        text-align: right;\n",
       "    }\n",
       "</style>\n",
       "<table border=\"1\" class=\"dataframe\">\n",
       "  <thead>\n",
       "    <tr style=\"text-align: right;\">\n",
       "      <th></th>\n",
       "      <th>tread_type_0</th>\n",
       "      <th>tread_type_1</th>\n",
       "      <th>tread_type_2</th>\n",
       "      <th>tread_type_3</th>\n",
       "      <th>tread_type_4</th>\n",
       "      <th>tyre_season_0</th>\n",
       "      <th>tyre_season_1</th>\n",
       "      <th>tread_depth_0</th>\n",
       "      <th>tread_depth_1</th>\n",
       "      <th>tread_depth_2</th>\n",
       "      <th>...</th>\n",
       "      <th>month_5</th>\n",
       "      <th>month_6</th>\n",
       "      <th>month_7</th>\n",
       "      <th>month_8</th>\n",
       "      <th>month_9</th>\n",
       "      <th>wiring_strength_0</th>\n",
       "      <th>wiring_strength_1</th>\n",
       "      <th>wiring_strength_2</th>\n",
       "      <th>tyre_quality_0</th>\n",
       "      <th>tyre_quality_1</th>\n",
       "    </tr>\n",
       "  </thead>\n",
       "  <tbody>\n",
       "    <tr>\n",
       "      <th>0</th>\n",
       "      <td>1.0</td>\n",
       "      <td>0.0</td>\n",
       "      <td>0.0</td>\n",
       "      <td>0.0</td>\n",
       "      <td>0.0</td>\n",
       "      <td>0.0</td>\n",
       "      <td>1.0</td>\n",
       "      <td>0.0</td>\n",
       "      <td>0.0</td>\n",
       "      <td>0.0</td>\n",
       "      <td>...</td>\n",
       "      <td>0.0</td>\n",
       "      <td>0.0</td>\n",
       "      <td>0.0</td>\n",
       "      <td>0.0</td>\n",
       "      <td>0.0</td>\n",
       "      <td>0.0</td>\n",
       "      <td>1.0</td>\n",
       "      <td>0.0</td>\n",
       "      <td>1.0</td>\n",
       "      <td>0.0</td>\n",
       "    </tr>\n",
       "    <tr>\n",
       "      <th>1</th>\n",
       "      <td>1.0</td>\n",
       "      <td>0.0</td>\n",
       "      <td>0.0</td>\n",
       "      <td>0.0</td>\n",
       "      <td>0.0</td>\n",
       "      <td>0.0</td>\n",
       "      <td>1.0</td>\n",
       "      <td>1.0</td>\n",
       "      <td>0.0</td>\n",
       "      <td>0.0</td>\n",
       "      <td>...</td>\n",
       "      <td>0.0</td>\n",
       "      <td>0.0</td>\n",
       "      <td>0.0</td>\n",
       "      <td>1.0</td>\n",
       "      <td>0.0</td>\n",
       "      <td>0.0</td>\n",
       "      <td>1.0</td>\n",
       "      <td>0.0</td>\n",
       "      <td>0.0</td>\n",
       "      <td>1.0</td>\n",
       "    </tr>\n",
       "    <tr>\n",
       "      <th>2</th>\n",
       "      <td>0.0</td>\n",
       "      <td>0.0</td>\n",
       "      <td>1.0</td>\n",
       "      <td>0.0</td>\n",
       "      <td>0.0</td>\n",
       "      <td>1.0</td>\n",
       "      <td>0.0</td>\n",
       "      <td>0.0</td>\n",
       "      <td>0.0</td>\n",
       "      <td>1.0</td>\n",
       "      <td>...</td>\n",
       "      <td>0.0</td>\n",
       "      <td>0.0</td>\n",
       "      <td>0.0</td>\n",
       "      <td>0.0</td>\n",
       "      <td>0.0</td>\n",
       "      <td>1.0</td>\n",
       "      <td>0.0</td>\n",
       "      <td>0.0</td>\n",
       "      <td>1.0</td>\n",
       "      <td>0.0</td>\n",
       "    </tr>\n",
       "    <tr>\n",
       "      <th>3</th>\n",
       "      <td>0.0</td>\n",
       "      <td>0.0</td>\n",
       "      <td>0.0</td>\n",
       "      <td>1.0</td>\n",
       "      <td>0.0</td>\n",
       "      <td>1.0</td>\n",
       "      <td>0.0</td>\n",
       "      <td>0.0</td>\n",
       "      <td>0.0</td>\n",
       "      <td>0.0</td>\n",
       "      <td>...</td>\n",
       "      <td>0.0</td>\n",
       "      <td>0.0</td>\n",
       "      <td>0.0</td>\n",
       "      <td>0.0</td>\n",
       "      <td>1.0</td>\n",
       "      <td>0.0</td>\n",
       "      <td>1.0</td>\n",
       "      <td>0.0</td>\n",
       "      <td>1.0</td>\n",
       "      <td>0.0</td>\n",
       "    </tr>\n",
       "    <tr>\n",
       "      <th>4</th>\n",
       "      <td>0.0</td>\n",
       "      <td>0.0</td>\n",
       "      <td>0.0</td>\n",
       "      <td>1.0</td>\n",
       "      <td>0.0</td>\n",
       "      <td>1.0</td>\n",
       "      <td>0.0</td>\n",
       "      <td>1.0</td>\n",
       "      <td>0.0</td>\n",
       "      <td>0.0</td>\n",
       "      <td>...</td>\n",
       "      <td>0.0</td>\n",
       "      <td>0.0</td>\n",
       "      <td>0.0</td>\n",
       "      <td>0.0</td>\n",
       "      <td>1.0</td>\n",
       "      <td>0.0</td>\n",
       "      <td>1.0</td>\n",
       "      <td>0.0</td>\n",
       "      <td>0.0</td>\n",
       "      <td>1.0</td>\n",
       "    </tr>\n",
       "  </tbody>\n",
       "</table>\n",
       "<p>5 rows × 28 columns</p>\n",
       "</div>"
      ],
      "text/plain": [
       "   tread_type_0  tread_type_1  tread_type_2  tread_type_3  tread_type_4  \\\n",
       "0           1.0           0.0           0.0           0.0           0.0   \n",
       "1           1.0           0.0           0.0           0.0           0.0   \n",
       "2           0.0           0.0           1.0           0.0           0.0   \n",
       "3           0.0           0.0           0.0           1.0           0.0   \n",
       "4           0.0           0.0           0.0           1.0           0.0   \n",
       "\n",
       "   tyre_season_0  tyre_season_1  tread_depth_0  tread_depth_1  tread_depth_2  \\\n",
       "0            0.0            1.0            0.0            0.0            0.0   \n",
       "1            0.0            1.0            1.0            0.0            0.0   \n",
       "2            1.0            0.0            0.0            0.0            1.0   \n",
       "3            1.0            0.0            0.0            0.0            0.0   \n",
       "4            1.0            0.0            1.0            0.0            0.0   \n",
       "\n",
       "   ...  month_5  month_6  month_7  month_8  month_9  wiring_strength_0  \\\n",
       "0  ...      0.0      0.0      0.0      0.0      0.0                0.0   \n",
       "1  ...      0.0      0.0      0.0      1.0      0.0                0.0   \n",
       "2  ...      0.0      0.0      0.0      0.0      0.0                1.0   \n",
       "3  ...      0.0      0.0      0.0      0.0      1.0                0.0   \n",
       "4  ...      0.0      0.0      0.0      0.0      1.0                0.0   \n",
       "\n",
       "   wiring_strength_1  wiring_strength_2  tyre_quality_0  tyre_quality_1  \n",
       "0                1.0                0.0             1.0             0.0  \n",
       "1                1.0                0.0             0.0             1.0  \n",
       "2                0.0                0.0             1.0             0.0  \n",
       "3                1.0                0.0             1.0             0.0  \n",
       "4                1.0                0.0             0.0             1.0  \n",
       "\n",
       "[5 rows x 28 columns]"
      ]
     },
     "execution_count": 62,
     "metadata": {},
     "output_type": "execute_result"
    }
   ],
   "source": [
    "from sklearn.preprocessing import OneHotEncoder\n",
    "encod = OneHotEncoder(handle_unknown='ignore')\n",
    "\n",
    "data_dummies2=pd.DataFrame()\n",
    "for i in range(len(selection_categorical)):\n",
    "    encod.fit(data_dropped_test[[selection_categorical[i]]].astype(str))\n",
    "    dummies = encod.transform(data_dropped_test[[selection_categorical[i]]].astype(str)).toarray()\n",
    "    for k in range(len(encod.categories_[0])):\n",
    "        encod.categories_[0][k]=selection_categorical[i]+\"_\"+str(encod.categories_[0][k])\n",
    "    data_dummies2=pd.concat([data_dummies2,pd.DataFrame(dummies,columns=encod.categories_[0])],axis=1)\n",
    "    \n",
    "data_dummies2.head()"
   ]
  },
  {
   "cell_type": "code",
   "execution_count": 63,
   "metadata": {
    "execution": {
     "iopub.execute_input": "2022-12-19T21:17:20.293284Z",
     "iopub.status.busy": "2022-12-19T21:17:20.292437Z",
     "iopub.status.idle": "2022-12-19T21:17:20.299931Z",
     "shell.execute_reply": "2022-12-19T21:17:20.298748Z",
     "shell.execute_reply.started": "2022-12-19T21:17:20.293250Z"
    }
   },
   "outputs": [],
   "source": [
    "selection_numerical=['vulc', 'perc_nat_rubber', 'weather', 'perc_imp', 'temperature', 'elevation',\n",
    "       'perc_exp_comp']\n",
    "data_numerical2 = data_dropped_test[selection_numerical]"
   ]
  },
  {
   "cell_type": "code",
   "execution_count": 64,
   "metadata": {
    "execution": {
     "iopub.execute_input": "2022-12-19T21:17:20.301988Z",
     "iopub.status.busy": "2022-12-19T21:17:20.301567Z",
     "iopub.status.idle": "2022-12-19T21:17:20.350160Z",
     "shell.execute_reply": "2022-12-19T21:17:20.348914Z",
     "shell.execute_reply.started": "2022-12-19T21:17:20.301921Z"
    }
   },
   "outputs": [
    {
     "name": "stdout",
     "output_type": "stream",
     "text": [
      "(7984, 35)\n"
     ]
    },
    {
     "data": {
      "text/html": [
       "<div>\n",
       "<style scoped>\n",
       "    .dataframe tbody tr th:only-of-type {\n",
       "        vertical-align: middle;\n",
       "    }\n",
       "\n",
       "    .dataframe tbody tr th {\n",
       "        vertical-align: top;\n",
       "    }\n",
       "\n",
       "    .dataframe thead th {\n",
       "        text-align: right;\n",
       "    }\n",
       "</style>\n",
       "<table border=\"1\" class=\"dataframe\">\n",
       "  <thead>\n",
       "    <tr style=\"text-align: right;\">\n",
       "      <th></th>\n",
       "      <th>tread_type_0</th>\n",
       "      <th>tread_type_1</th>\n",
       "      <th>tread_type_2</th>\n",
       "      <th>tread_type_3</th>\n",
       "      <th>tread_type_4</th>\n",
       "      <th>tyre_season_0</th>\n",
       "      <th>tyre_season_1</th>\n",
       "      <th>tread_depth_0</th>\n",
       "      <th>tread_depth_1</th>\n",
       "      <th>tread_depth_2</th>\n",
       "      <th>...</th>\n",
       "      <th>wiring_strength_2</th>\n",
       "      <th>tyre_quality_0</th>\n",
       "      <th>tyre_quality_1</th>\n",
       "      <th>vulc</th>\n",
       "      <th>perc_nat_rubber</th>\n",
       "      <th>weather</th>\n",
       "      <th>perc_imp</th>\n",
       "      <th>temperature</th>\n",
       "      <th>elevation</th>\n",
       "      <th>perc_exp_comp</th>\n",
       "    </tr>\n",
       "  </thead>\n",
       "  <tbody>\n",
       "    <tr>\n",
       "      <th>0</th>\n",
       "      <td>1.0</td>\n",
       "      <td>0.0</td>\n",
       "      <td>0.0</td>\n",
       "      <td>0.0</td>\n",
       "      <td>0.0</td>\n",
       "      <td>0.0</td>\n",
       "      <td>1.0</td>\n",
       "      <td>0.0</td>\n",
       "      <td>0.0</td>\n",
       "      <td>0.0</td>\n",
       "      <td>...</td>\n",
       "      <td>0.0</td>\n",
       "      <td>1.0</td>\n",
       "      <td>0.0</td>\n",
       "      <td>17.180</td>\n",
       "      <td>30</td>\n",
       "      <td>0.21</td>\n",
       "      <td>0.00</td>\n",
       "      <td>-9.24</td>\n",
       "      <td>460.5</td>\n",
       "      <td>5.54</td>\n",
       "    </tr>\n",
       "    <tr>\n",
       "      <th>1</th>\n",
       "      <td>1.0</td>\n",
       "      <td>0.0</td>\n",
       "      <td>0.0</td>\n",
       "      <td>0.0</td>\n",
       "      <td>0.0</td>\n",
       "      <td>0.0</td>\n",
       "      <td>1.0</td>\n",
       "      <td>1.0</td>\n",
       "      <td>0.0</td>\n",
       "      <td>0.0</td>\n",
       "      <td>...</td>\n",
       "      <td>0.0</td>\n",
       "      <td>0.0</td>\n",
       "      <td>1.0</td>\n",
       "      <td>17.744</td>\n",
       "      <td>24</td>\n",
       "      <td>0.16</td>\n",
       "      <td>0.01</td>\n",
       "      <td>-9.12</td>\n",
       "      <td>278.5</td>\n",
       "      <td>5.01</td>\n",
       "    </tr>\n",
       "    <tr>\n",
       "      <th>2</th>\n",
       "      <td>0.0</td>\n",
       "      <td>0.0</td>\n",
       "      <td>1.0</td>\n",
       "      <td>0.0</td>\n",
       "      <td>0.0</td>\n",
       "      <td>1.0</td>\n",
       "      <td>0.0</td>\n",
       "      <td>0.0</td>\n",
       "      <td>0.0</td>\n",
       "      <td>1.0</td>\n",
       "      <td>...</td>\n",
       "      <td>0.0</td>\n",
       "      <td>1.0</td>\n",
       "      <td>0.0</td>\n",
       "      <td>16.930</td>\n",
       "      <td>34</td>\n",
       "      <td>0.27</td>\n",
       "      <td>0.01</td>\n",
       "      <td>3.64</td>\n",
       "      <td>733.5</td>\n",
       "      <td>6.41</td>\n",
       "    </tr>\n",
       "    <tr>\n",
       "      <th>3</th>\n",
       "      <td>0.0</td>\n",
       "      <td>0.0</td>\n",
       "      <td>0.0</td>\n",
       "      <td>1.0</td>\n",
       "      <td>0.0</td>\n",
       "      <td>1.0</td>\n",
       "      <td>0.0</td>\n",
       "      <td>0.0</td>\n",
       "      <td>0.0</td>\n",
       "      <td>0.0</td>\n",
       "      <td>...</td>\n",
       "      <td>0.0</td>\n",
       "      <td>1.0</td>\n",
       "      <td>0.0</td>\n",
       "      <td>22.428</td>\n",
       "      <td>34</td>\n",
       "      <td>0.03</td>\n",
       "      <td>0.00</td>\n",
       "      <td>0.56</td>\n",
       "      <td>235.5</td>\n",
       "      <td>5.95</td>\n",
       "    </tr>\n",
       "    <tr>\n",
       "      <th>4</th>\n",
       "      <td>0.0</td>\n",
       "      <td>0.0</td>\n",
       "      <td>0.0</td>\n",
       "      <td>1.0</td>\n",
       "      <td>0.0</td>\n",
       "      <td>1.0</td>\n",
       "      <td>0.0</td>\n",
       "      <td>1.0</td>\n",
       "      <td>0.0</td>\n",
       "      <td>0.0</td>\n",
       "      <td>...</td>\n",
       "      <td>0.0</td>\n",
       "      <td>0.0</td>\n",
       "      <td>1.0</td>\n",
       "      <td>16.818</td>\n",
       "      <td>29</td>\n",
       "      <td>0.06</td>\n",
       "      <td>0.00</td>\n",
       "      <td>-0.96</td>\n",
       "      <td>461.0</td>\n",
       "      <td>5.97</td>\n",
       "    </tr>\n",
       "    <tr>\n",
       "      <th>5</th>\n",
       "      <td>0.0</td>\n",
       "      <td>0.0</td>\n",
       "      <td>0.0</td>\n",
       "      <td>0.0</td>\n",
       "      <td>1.0</td>\n",
       "      <td>1.0</td>\n",
       "      <td>0.0</td>\n",
       "      <td>1.0</td>\n",
       "      <td>0.0</td>\n",
       "      <td>0.0</td>\n",
       "      <td>...</td>\n",
       "      <td>0.0</td>\n",
       "      <td>0.0</td>\n",
       "      <td>1.0</td>\n",
       "      <td>17.284</td>\n",
       "      <td>27</td>\n",
       "      <td>0.16</td>\n",
       "      <td>0.01</td>\n",
       "      <td>-11.76</td>\n",
       "      <td>251.5</td>\n",
       "      <td>5.30</td>\n",
       "    </tr>\n",
       "    <tr>\n",
       "      <th>6</th>\n",
       "      <td>1.0</td>\n",
       "      <td>0.0</td>\n",
       "      <td>0.0</td>\n",
       "      <td>0.0</td>\n",
       "      <td>0.0</td>\n",
       "      <td>1.0</td>\n",
       "      <td>0.0</td>\n",
       "      <td>0.0</td>\n",
       "      <td>0.0</td>\n",
       "      <td>0.0</td>\n",
       "      <td>...</td>\n",
       "      <td>0.0</td>\n",
       "      <td>1.0</td>\n",
       "      <td>0.0</td>\n",
       "      <td>20.050</td>\n",
       "      <td>32</td>\n",
       "      <td>0.30</td>\n",
       "      <td>0.01</td>\n",
       "      <td>-4.24</td>\n",
       "      <td>552.5</td>\n",
       "      <td>5.58</td>\n",
       "    </tr>\n",
       "    <tr>\n",
       "      <th>7</th>\n",
       "      <td>1.0</td>\n",
       "      <td>0.0</td>\n",
       "      <td>0.0</td>\n",
       "      <td>0.0</td>\n",
       "      <td>0.0</td>\n",
       "      <td>0.0</td>\n",
       "      <td>1.0</td>\n",
       "      <td>1.0</td>\n",
       "      <td>0.0</td>\n",
       "      <td>0.0</td>\n",
       "      <td>...</td>\n",
       "      <td>0.0</td>\n",
       "      <td>0.0</td>\n",
       "      <td>1.0</td>\n",
       "      <td>17.932</td>\n",
       "      <td>24</td>\n",
       "      <td>0.16</td>\n",
       "      <td>0.01</td>\n",
       "      <td>-7.48</td>\n",
       "      <td>283.5</td>\n",
       "      <td>5.23</td>\n",
       "    </tr>\n",
       "    <tr>\n",
       "      <th>8</th>\n",
       "      <td>0.0</td>\n",
       "      <td>0.0</td>\n",
       "      <td>1.0</td>\n",
       "      <td>0.0</td>\n",
       "      <td>0.0</td>\n",
       "      <td>0.0</td>\n",
       "      <td>1.0</td>\n",
       "      <td>0.0</td>\n",
       "      <td>1.0</td>\n",
       "      <td>0.0</td>\n",
       "      <td>...</td>\n",
       "      <td>0.0</td>\n",
       "      <td>0.0</td>\n",
       "      <td>1.0</td>\n",
       "      <td>16.486</td>\n",
       "      <td>33</td>\n",
       "      <td>0.62</td>\n",
       "      <td>0.05</td>\n",
       "      <td>-1.84</td>\n",
       "      <td>305.0</td>\n",
       "      <td>6.14</td>\n",
       "    </tr>\n",
       "    <tr>\n",
       "      <th>9</th>\n",
       "      <td>1.0</td>\n",
       "      <td>0.0</td>\n",
       "      <td>0.0</td>\n",
       "      <td>0.0</td>\n",
       "      <td>0.0</td>\n",
       "      <td>0.0</td>\n",
       "      <td>1.0</td>\n",
       "      <td>1.0</td>\n",
       "      <td>0.0</td>\n",
       "      <td>0.0</td>\n",
       "      <td>...</td>\n",
       "      <td>0.0</td>\n",
       "      <td>0.0</td>\n",
       "      <td>1.0</td>\n",
       "      <td>17.690</td>\n",
       "      <td>25</td>\n",
       "      <td>0.16</td>\n",
       "      <td>0.01</td>\n",
       "      <td>-8.56</td>\n",
       "      <td>385.5</td>\n",
       "      <td>5.96</td>\n",
       "    </tr>\n",
       "  </tbody>\n",
       "</table>\n",
       "<p>10 rows × 35 columns</p>\n",
       "</div>"
      ],
      "text/plain": [
       "   tread_type_0  tread_type_1  tread_type_2  tread_type_3  tread_type_4  \\\n",
       "0           1.0           0.0           0.0           0.0           0.0   \n",
       "1           1.0           0.0           0.0           0.0           0.0   \n",
       "2           0.0           0.0           1.0           0.0           0.0   \n",
       "3           0.0           0.0           0.0           1.0           0.0   \n",
       "4           0.0           0.0           0.0           1.0           0.0   \n",
       "5           0.0           0.0           0.0           0.0           1.0   \n",
       "6           1.0           0.0           0.0           0.0           0.0   \n",
       "7           1.0           0.0           0.0           0.0           0.0   \n",
       "8           0.0           0.0           1.0           0.0           0.0   \n",
       "9           1.0           0.0           0.0           0.0           0.0   \n",
       "\n",
       "   tyre_season_0  tyre_season_1  tread_depth_0  tread_depth_1  tread_depth_2  \\\n",
       "0            0.0            1.0            0.0            0.0            0.0   \n",
       "1            0.0            1.0            1.0            0.0            0.0   \n",
       "2            1.0            0.0            0.0            0.0            1.0   \n",
       "3            1.0            0.0            0.0            0.0            0.0   \n",
       "4            1.0            0.0            1.0            0.0            0.0   \n",
       "5            1.0            0.0            1.0            0.0            0.0   \n",
       "6            1.0            0.0            0.0            0.0            0.0   \n",
       "7            0.0            1.0            1.0            0.0            0.0   \n",
       "8            0.0            1.0            0.0            1.0            0.0   \n",
       "9            0.0            1.0            1.0            0.0            0.0   \n",
       "\n",
       "   ...  wiring_strength_2  tyre_quality_0  tyre_quality_1    vulc  \\\n",
       "0  ...                0.0             1.0             0.0  17.180   \n",
       "1  ...                0.0             0.0             1.0  17.744   \n",
       "2  ...                0.0             1.0             0.0  16.930   \n",
       "3  ...                0.0             1.0             0.0  22.428   \n",
       "4  ...                0.0             0.0             1.0  16.818   \n",
       "5  ...                0.0             0.0             1.0  17.284   \n",
       "6  ...                0.0             1.0             0.0  20.050   \n",
       "7  ...                0.0             0.0             1.0  17.932   \n",
       "8  ...                0.0             0.0             1.0  16.486   \n",
       "9  ...                0.0             0.0             1.0  17.690   \n",
       "\n",
       "   perc_nat_rubber  weather  perc_imp  temperature  elevation  perc_exp_comp  \n",
       "0               30     0.21      0.00        -9.24      460.5           5.54  \n",
       "1               24     0.16      0.01        -9.12      278.5           5.01  \n",
       "2               34     0.27      0.01         3.64      733.5           6.41  \n",
       "3               34     0.03      0.00         0.56      235.5           5.95  \n",
       "4               29     0.06      0.00        -0.96      461.0           5.97  \n",
       "5               27     0.16      0.01       -11.76      251.5           5.30  \n",
       "6               32     0.30      0.01        -4.24      552.5           5.58  \n",
       "7               24     0.16      0.01        -7.48      283.5           5.23  \n",
       "8               33     0.62      0.05        -1.84      305.0           6.14  \n",
       "9               25     0.16      0.01        -8.56      385.5           5.96  \n",
       "\n",
       "[10 rows x 35 columns]"
      ]
     },
     "execution_count": 64,
     "metadata": {},
     "output_type": "execute_result"
    }
   ],
   "source": [
    "#total dataset test\n",
    "df_test = pd.concat([data_dummies2, data_numerical2],axis=1)\n",
    "\n",
    "print(df_test.shape)\n",
    "df_test.head(10)"
   ]
  },
  {
   "cell_type": "code",
   "execution_count": 65,
   "metadata": {
    "execution": {
     "iopub.execute_input": "2022-12-19T21:17:20.352275Z",
     "iopub.status.busy": "2022-12-19T21:17:20.351798Z",
     "iopub.status.idle": "2022-12-19T21:17:20.358980Z",
     "shell.execute_reply": "2022-12-19T21:17:20.357781Z",
     "shell.execute_reply.started": "2022-12-19T21:17:20.352232Z"
    }
   },
   "outputs": [],
   "source": [
    "import pickle\n",
    "import pandas as pd\n",
    "import numpy as np\n",
    "import math\n",
    "from sklearn.metrics import f1_score, classification_report, confusion_matrix"
   ]
  },
  {
   "cell_type": "code",
   "execution_count": 66,
   "metadata": {
    "execution": {
     "iopub.execute_input": "2022-12-19T21:17:20.361532Z",
     "iopub.status.busy": "2022-12-19T21:17:20.360793Z",
     "iopub.status.idle": "2022-12-19T21:17:20.368984Z",
     "shell.execute_reply": "2022-12-19T21:17:20.367750Z",
     "shell.execute_reply.started": "2022-12-19T21:17:20.361497Z"
    }
   },
   "outputs": [],
   "source": [
    "# load scaler and the model\n",
    "loaded_scaler = pickle.load(open('scaler.pkl', 'rb'))"
   ]
  },
  {
   "cell_type": "code",
   "execution_count": 67,
   "metadata": {
    "execution": {
     "iopub.execute_input": "2022-12-19T21:17:20.371132Z",
     "iopub.status.busy": "2022-12-19T21:17:20.370670Z",
     "iopub.status.idle": "2022-12-19T21:17:20.396081Z",
     "shell.execute_reply": "2022-12-19T21:17:20.395007Z",
     "shell.execute_reply.started": "2022-12-19T21:17:20.371090Z"
    }
   },
   "outputs": [
    {
     "data": {
      "text/html": [
       "<div>\n",
       "<style scoped>\n",
       "    .dataframe tbody tr th:only-of-type {\n",
       "        vertical-align: middle;\n",
       "    }\n",
       "\n",
       "    .dataframe tbody tr th {\n",
       "        vertical-align: top;\n",
       "    }\n",
       "\n",
       "    .dataframe thead th {\n",
       "        text-align: right;\n",
       "    }\n",
       "</style>\n",
       "<table border=\"1\" class=\"dataframe\">\n",
       "  <thead>\n",
       "    <tr style=\"text-align: right;\">\n",
       "      <th></th>\n",
       "      <th>vulc</th>\n",
       "      <th>perc_nat_rubber</th>\n",
       "      <th>weather</th>\n",
       "      <th>perc_imp</th>\n",
       "      <th>elevation</th>\n",
       "      <th>temperature</th>\n",
       "      <th>perc_exp_comp</th>\n",
       "    </tr>\n",
       "  </thead>\n",
       "  <tbody>\n",
       "    <tr>\n",
       "      <th>0</th>\n",
       "      <td>-0.628186</td>\n",
       "      <td>-0.236737</td>\n",
       "      <td>-0.386820</td>\n",
       "      <td>-1.023676</td>\n",
       "      <td>0.539671</td>\n",
       "      <td>-1.184787</td>\n",
       "      <td>-0.611462</td>\n",
       "    </tr>\n",
       "    <tr>\n",
       "      <th>1</th>\n",
       "      <td>-0.274442</td>\n",
       "      <td>-1.443043</td>\n",
       "      <td>-0.656931</td>\n",
       "      <td>-0.316066</td>\n",
       "      <td>-0.646748</td>\n",
       "      <td>-1.164275</td>\n",
       "      <td>-1.897855</td>\n",
       "    </tr>\n",
       "    <tr>\n",
       "      <th>2</th>\n",
       "      <td>-0.784988</td>\n",
       "      <td>0.567466</td>\n",
       "      <td>-0.062688</td>\n",
       "      <td>-0.316066</td>\n",
       "      <td>2.319301</td>\n",
       "      <td>1.016765</td>\n",
       "      <td>1.500166</td>\n",
       "    </tr>\n",
       "    <tr>\n",
       "      <th>3</th>\n",
       "      <td>2.663394</td>\n",
       "      <td>0.567466</td>\n",
       "      <td>-1.359218</td>\n",
       "      <td>-1.023676</td>\n",
       "      <td>-0.927056</td>\n",
       "      <td>0.490307</td>\n",
       "      <td>0.383673</td>\n",
       "    </tr>\n",
       "    <tr>\n",
       "      <th>4</th>\n",
       "      <td>-0.855235</td>\n",
       "      <td>-0.437788</td>\n",
       "      <td>-1.197151</td>\n",
       "      <td>-1.023676</td>\n",
       "      <td>0.542931</td>\n",
       "      <td>0.230496</td>\n",
       "      <td>0.432216</td>\n",
       "    </tr>\n",
       "    <tr>\n",
       "      <th>...</th>\n",
       "      <td>...</td>\n",
       "      <td>...</td>\n",
       "      <td>...</td>\n",
       "      <td>...</td>\n",
       "      <td>...</td>\n",
       "      <td>...</td>\n",
       "      <td>...</td>\n",
       "    </tr>\n",
       "    <tr>\n",
       "      <th>7979</th>\n",
       "      <td>1.178169</td>\n",
       "      <td>-0.035687</td>\n",
       "      <td>0.045356</td>\n",
       "      <td>-0.316066</td>\n",
       "      <td>-0.105689</td>\n",
       "      <td>0.462958</td>\n",
       "      <td>0.238044</td>\n",
       "    </tr>\n",
       "    <tr>\n",
       "      <th>7980</th>\n",
       "      <td>-0.290749</td>\n",
       "      <td>-2.046196</td>\n",
       "      <td>-0.656931</td>\n",
       "      <td>-0.316066</td>\n",
       "      <td>0.207213</td>\n",
       "      <td>-1.089067</td>\n",
       "      <td>-0.562919</td>\n",
       "    </tr>\n",
       "    <tr>\n",
       "      <th>7981</th>\n",
       "      <td>-0.171580</td>\n",
       "      <td>-1.644094</td>\n",
       "      <td>-0.656931</td>\n",
       "      <td>-0.316066</td>\n",
       "      <td>-0.728233</td>\n",
       "      <td>-0.788234</td>\n",
       "      <td>-1.436695</td>\n",
       "    </tr>\n",
       "    <tr>\n",
       "      <th>7982</th>\n",
       "      <td>-0.166562</td>\n",
       "      <td>-0.638839</td>\n",
       "      <td>-0.656931</td>\n",
       "      <td>-0.316066</td>\n",
       "      <td>-0.500075</td>\n",
       "      <td>-0.959162</td>\n",
       "      <td>-0.077487</td>\n",
       "    </tr>\n",
       "    <tr>\n",
       "      <th>7983</th>\n",
       "      <td>2.273272</td>\n",
       "      <td>0.165364</td>\n",
       "      <td>-0.656931</td>\n",
       "      <td>-0.316066</td>\n",
       "      <td>-0.421850</td>\n",
       "      <td>-0.713026</td>\n",
       "      <td>-1.291066</td>\n",
       "    </tr>\n",
       "  </tbody>\n",
       "</table>\n",
       "<p>7984 rows × 7 columns</p>\n",
       "</div>"
      ],
      "text/plain": [
       "          vulc  perc_nat_rubber   weather  perc_imp  elevation  temperature  \\\n",
       "0    -0.628186        -0.236737 -0.386820 -1.023676   0.539671    -1.184787   \n",
       "1    -0.274442        -1.443043 -0.656931 -0.316066  -0.646748    -1.164275   \n",
       "2    -0.784988         0.567466 -0.062688 -0.316066   2.319301     1.016765   \n",
       "3     2.663394         0.567466 -1.359218 -1.023676  -0.927056     0.490307   \n",
       "4    -0.855235        -0.437788 -1.197151 -1.023676   0.542931     0.230496   \n",
       "...        ...              ...       ...       ...        ...          ...   \n",
       "7979  1.178169        -0.035687  0.045356 -0.316066  -0.105689     0.462958   \n",
       "7980 -0.290749        -2.046196 -0.656931 -0.316066   0.207213    -1.089067   \n",
       "7981 -0.171580        -1.644094 -0.656931 -0.316066  -0.728233    -0.788234   \n",
       "7982 -0.166562        -0.638839 -0.656931 -0.316066  -0.500075    -0.959162   \n",
       "7983  2.273272         0.165364 -0.656931 -0.316066  -0.421850    -0.713026   \n",
       "\n",
       "      perc_exp_comp  \n",
       "0         -0.611462  \n",
       "1         -1.897855  \n",
       "2          1.500166  \n",
       "3          0.383673  \n",
       "4          0.432216  \n",
       "...             ...  \n",
       "7979       0.238044  \n",
       "7980      -0.562919  \n",
       "7981      -1.436695  \n",
       "7982      -0.077487  \n",
       "7983      -1.291066  \n",
       "\n",
       "[7984 rows x 7 columns]"
      ]
     },
     "execution_count": 67,
     "metadata": {},
     "output_type": "execute_result"
    }
   ],
   "source": [
    "#scaling of numerical variables with same scaler used in the train\n",
    "\n",
    "selection_numerical=['vulc', 'perc_nat_rubber', 'weather', 'perc_imp', 'elevation','temperature',\n",
    "       'perc_exp_comp']\n",
    "data_numerical2 = df_test[selection_numerical]\n",
    "scaled_df = pd.DataFrame(loaded_scaler.transform(data_numerical2))\n",
    "scaled_df.columns = data_numerical2.columns\n",
    "\n",
    "scaled_df"
   ]
  },
  {
   "cell_type": "code",
   "execution_count": 68,
   "metadata": {
    "execution": {
     "iopub.execute_input": "2022-12-19T21:17:20.400304Z",
     "iopub.status.busy": "2022-12-19T21:17:20.399985Z",
     "iopub.status.idle": "2022-12-19T21:17:20.434229Z",
     "shell.execute_reply": "2022-12-19T21:17:20.433155Z",
     "shell.execute_reply.started": "2022-12-19T21:17:20.400276Z"
    }
   },
   "outputs": [
    {
     "name": "stdout",
     "output_type": "stream",
     "text": [
      "(7984, 35)\n"
     ]
    },
    {
     "data": {
      "text/html": [
       "<div>\n",
       "<style scoped>\n",
       "    .dataframe tbody tr th:only-of-type {\n",
       "        vertical-align: middle;\n",
       "    }\n",
       "\n",
       "    .dataframe tbody tr th {\n",
       "        vertical-align: top;\n",
       "    }\n",
       "\n",
       "    .dataframe thead th {\n",
       "        text-align: right;\n",
       "    }\n",
       "</style>\n",
       "<table border=\"1\" class=\"dataframe\">\n",
       "  <thead>\n",
       "    <tr style=\"text-align: right;\">\n",
       "      <th></th>\n",
       "      <th>tread_type_0</th>\n",
       "      <th>tread_type_1</th>\n",
       "      <th>tread_type_2</th>\n",
       "      <th>tread_type_3</th>\n",
       "      <th>tread_type_4</th>\n",
       "      <th>tyre_season_0</th>\n",
       "      <th>tyre_season_1</th>\n",
       "      <th>tread_depth_0</th>\n",
       "      <th>tread_depth_1</th>\n",
       "      <th>tread_depth_2</th>\n",
       "      <th>...</th>\n",
       "      <th>wiring_strength_2</th>\n",
       "      <th>tyre_quality_0</th>\n",
       "      <th>tyre_quality_1</th>\n",
       "      <th>vulc</th>\n",
       "      <th>perc_nat_rubber</th>\n",
       "      <th>weather</th>\n",
       "      <th>perc_imp</th>\n",
       "      <th>elevation</th>\n",
       "      <th>temperature</th>\n",
       "      <th>perc_exp_comp</th>\n",
       "    </tr>\n",
       "  </thead>\n",
       "  <tbody>\n",
       "    <tr>\n",
       "      <th>0</th>\n",
       "      <td>1.0</td>\n",
       "      <td>0.0</td>\n",
       "      <td>0.0</td>\n",
       "      <td>0.0</td>\n",
       "      <td>0.0</td>\n",
       "      <td>0.0</td>\n",
       "      <td>1.0</td>\n",
       "      <td>0.0</td>\n",
       "      <td>0.0</td>\n",
       "      <td>0.0</td>\n",
       "      <td>...</td>\n",
       "      <td>0.0</td>\n",
       "      <td>1.0</td>\n",
       "      <td>0.0</td>\n",
       "      <td>-0.628186</td>\n",
       "      <td>-0.236737</td>\n",
       "      <td>-0.386820</td>\n",
       "      <td>-1.023676</td>\n",
       "      <td>0.539671</td>\n",
       "      <td>-1.184787</td>\n",
       "      <td>-0.611462</td>\n",
       "    </tr>\n",
       "    <tr>\n",
       "      <th>1</th>\n",
       "      <td>1.0</td>\n",
       "      <td>0.0</td>\n",
       "      <td>0.0</td>\n",
       "      <td>0.0</td>\n",
       "      <td>0.0</td>\n",
       "      <td>0.0</td>\n",
       "      <td>1.0</td>\n",
       "      <td>1.0</td>\n",
       "      <td>0.0</td>\n",
       "      <td>0.0</td>\n",
       "      <td>...</td>\n",
       "      <td>0.0</td>\n",
       "      <td>0.0</td>\n",
       "      <td>1.0</td>\n",
       "      <td>-0.274442</td>\n",
       "      <td>-1.443043</td>\n",
       "      <td>-0.656931</td>\n",
       "      <td>-0.316066</td>\n",
       "      <td>-0.646748</td>\n",
       "      <td>-1.164275</td>\n",
       "      <td>-1.897855</td>\n",
       "    </tr>\n",
       "    <tr>\n",
       "      <th>2</th>\n",
       "      <td>0.0</td>\n",
       "      <td>0.0</td>\n",
       "      <td>1.0</td>\n",
       "      <td>0.0</td>\n",
       "      <td>0.0</td>\n",
       "      <td>1.0</td>\n",
       "      <td>0.0</td>\n",
       "      <td>0.0</td>\n",
       "      <td>0.0</td>\n",
       "      <td>1.0</td>\n",
       "      <td>...</td>\n",
       "      <td>0.0</td>\n",
       "      <td>1.0</td>\n",
       "      <td>0.0</td>\n",
       "      <td>-0.784988</td>\n",
       "      <td>0.567466</td>\n",
       "      <td>-0.062688</td>\n",
       "      <td>-0.316066</td>\n",
       "      <td>2.319301</td>\n",
       "      <td>1.016765</td>\n",
       "      <td>1.500166</td>\n",
       "    </tr>\n",
       "    <tr>\n",
       "      <th>3</th>\n",
       "      <td>0.0</td>\n",
       "      <td>0.0</td>\n",
       "      <td>0.0</td>\n",
       "      <td>1.0</td>\n",
       "      <td>0.0</td>\n",
       "      <td>1.0</td>\n",
       "      <td>0.0</td>\n",
       "      <td>0.0</td>\n",
       "      <td>0.0</td>\n",
       "      <td>0.0</td>\n",
       "      <td>...</td>\n",
       "      <td>0.0</td>\n",
       "      <td>1.0</td>\n",
       "      <td>0.0</td>\n",
       "      <td>2.663394</td>\n",
       "      <td>0.567466</td>\n",
       "      <td>-1.359218</td>\n",
       "      <td>-1.023676</td>\n",
       "      <td>-0.927056</td>\n",
       "      <td>0.490307</td>\n",
       "      <td>0.383673</td>\n",
       "    </tr>\n",
       "    <tr>\n",
       "      <th>4</th>\n",
       "      <td>0.0</td>\n",
       "      <td>0.0</td>\n",
       "      <td>0.0</td>\n",
       "      <td>1.0</td>\n",
       "      <td>0.0</td>\n",
       "      <td>1.0</td>\n",
       "      <td>0.0</td>\n",
       "      <td>1.0</td>\n",
       "      <td>0.0</td>\n",
       "      <td>0.0</td>\n",
       "      <td>...</td>\n",
       "      <td>0.0</td>\n",
       "      <td>0.0</td>\n",
       "      <td>1.0</td>\n",
       "      <td>-0.855235</td>\n",
       "      <td>-0.437788</td>\n",
       "      <td>-1.197151</td>\n",
       "      <td>-1.023676</td>\n",
       "      <td>0.542931</td>\n",
       "      <td>0.230496</td>\n",
       "      <td>0.432216</td>\n",
       "    </tr>\n",
       "  </tbody>\n",
       "</table>\n",
       "<p>5 rows × 35 columns</p>\n",
       "</div>"
      ],
      "text/plain": [
       "   tread_type_0  tread_type_1  tread_type_2  tread_type_3  tread_type_4  \\\n",
       "0           1.0           0.0           0.0           0.0           0.0   \n",
       "1           1.0           0.0           0.0           0.0           0.0   \n",
       "2           0.0           0.0           1.0           0.0           0.0   \n",
       "3           0.0           0.0           0.0           1.0           0.0   \n",
       "4           0.0           0.0           0.0           1.0           0.0   \n",
       "\n",
       "   tyre_season_0  tyre_season_1  tread_depth_0  tread_depth_1  tread_depth_2  \\\n",
       "0            0.0            1.0            0.0            0.0            0.0   \n",
       "1            0.0            1.0            1.0            0.0            0.0   \n",
       "2            1.0            0.0            0.0            0.0            1.0   \n",
       "3            1.0            0.0            0.0            0.0            0.0   \n",
       "4            1.0            0.0            1.0            0.0            0.0   \n",
       "\n",
       "   ...  wiring_strength_2  tyre_quality_0  tyre_quality_1      vulc  \\\n",
       "0  ...                0.0             1.0             0.0 -0.628186   \n",
       "1  ...                0.0             0.0             1.0 -0.274442   \n",
       "2  ...                0.0             1.0             0.0 -0.784988   \n",
       "3  ...                0.0             1.0             0.0  2.663394   \n",
       "4  ...                0.0             0.0             1.0 -0.855235   \n",
       "\n",
       "   perc_nat_rubber   weather  perc_imp  elevation  temperature  perc_exp_comp  \n",
       "0        -0.236737 -0.386820 -1.023676   0.539671    -1.184787      -0.611462  \n",
       "1        -1.443043 -0.656931 -0.316066  -0.646748    -1.164275      -1.897855  \n",
       "2         0.567466 -0.062688 -0.316066   2.319301     1.016765       1.500166  \n",
       "3         0.567466 -1.359218 -1.023676  -0.927056     0.490307       0.383673  \n",
       "4        -0.437788 -1.197151 -1.023676   0.542931     0.230496       0.432216  \n",
       "\n",
       "[5 rows x 35 columns]"
      ]
     },
     "execution_count": 68,
     "metadata": {},
     "output_type": "execute_result"
    }
   ],
   "source": [
    "# Feature selection\n",
    "X2 = pd.concat([data_dummies2, scaled_df], axis = 1)\n",
    "\n",
    "print(X2.shape)\n",
    "X2.head()"
   ]
  },
  {
   "cell_type": "code",
   "execution_count": 77,
   "metadata": {
    "execution": {
     "iopub.execute_input": "2022-12-19T21:17:20.435920Z",
     "iopub.status.busy": "2022-12-19T21:17:20.435588Z",
     "iopub.status.idle": "2022-12-19T21:17:20.441953Z",
     "shell.execute_reply": "2022-12-19T21:17:20.440482Z",
     "shell.execute_reply.started": "2022-12-19T21:17:20.435890Z"
    }
   },
   "outputs": [],
   "source": [
    "loaded_model=pickle.load(open('LogisticRegression_model.pkl', 'rb'))"
   ]
  },
  {
   "cell_type": "code",
   "execution_count": 79,
   "metadata": {
    "execution": {
     "iopub.execute_input": "2022-12-19T21:18:28.432313Z",
     "iopub.status.busy": "2022-12-19T21:18:28.431871Z",
     "iopub.status.idle": "2022-12-19T21:18:28.450550Z",
     "shell.execute_reply": "2022-12-19T21:18:28.448683Z",
     "shell.execute_reply.started": "2022-12-19T21:18:28.432280Z"
    }
   },
   "outputs": [
    {
     "data": {
      "text/plain": [
       "7984"
      ]
     },
     "execution_count": 79,
     "metadata": {},
     "output_type": "execute_result"
    }
   ],
   "source": [
    "y_test_predictions = loaded_model.predict(X2)\n",
    "y_test_predictions.size"
   ]
  },
  {
   "cell_type": "code",
   "execution_count": 80,
   "metadata": {
    "execution": {
     "iopub.execute_input": "2022-12-19T21:23:23.435475Z",
     "iopub.status.busy": "2022-12-19T21:23:23.434916Z",
     "iopub.status.idle": "2022-12-19T21:23:23.660119Z",
     "shell.execute_reply": "2022-12-19T21:23:23.658977Z",
     "shell.execute_reply.started": "2022-12-19T21:23:23.435430Z"
    }
   },
   "outputs": [
    {
     "data": {
      "text/plain": [
       "(array([6015.,    0.,    0.,    0.,    0.,    0.,    0.,    0.,    0.,\n",
       "        1969.]),\n",
       " array([0. , 0.1, 0.2, 0.3, 0.4, 0.5, 0.6, 0.7, 0.8, 0.9, 1. ]),\n",
       " <BarContainer object of 10 artists>)"
      ]
     },
     "execution_count": 80,
     "metadata": {},
     "output_type": "execute_result"
    },
    {
     "data": {
      "image/png": "[encoded data removed]",
      "text/plain": [
       "<Figure size 432x288 with 1 Axes>"
      ]
     },
     "metadata": {},
     "output_type": "display_data"
    }
   ],
   "source": [
    "plt.hist(y_test_predictions)"
   ]
  },
  {
   "cell_type": "code",
   "execution_count": 72,
   "metadata": {
    "execution": {
     "iopub.execute_input": "2022-12-19T21:17:20.469191Z",
     "iopub.status.busy": "2022-12-19T21:17:20.467459Z",
     "iopub.status.idle": "2022-12-19T21:17:20.523647Z",
     "shell.execute_reply": "2022-12-19T21:17:20.522044Z",
     "shell.execute_reply.started": "2022-12-19T21:17:20.469123Z"
    }
   },
   "outputs": [],
   "source": [
    "np.savetxt(\"Predictions.txt\", y_test_predictions, fmt='%d')"
   ]
  }
 ],
 "metadata": {
  "kernelspec": {
   "display_name": "Python 3 (ipykernel)",
   "language": "python",
   "name": "python3"
  },
  "language_info": {
   "codemirror_mode": {
    "name": "ipython",
    "version": 3
   },
   "file_extension": ".py",
   "mimetype": "text/x-python",
   "name": "python",
   "nbconvert_exporter": "python",
   "pygments_lexer": "ipython3",
   "version": "3.9.12"
  }
 },
 "nbformat": 4,
 "nbformat_minor": 4
}
