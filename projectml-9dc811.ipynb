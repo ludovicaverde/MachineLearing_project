{
 "cells": [
  {
   "cell_type": "code",
   "execution_count": 1,
   "metadata": {
    "_cell_guid": "b1076dfc-b9ad-4769-8c92-a6c4dae69d19",
    "_uuid": "8f2839f25d086af736a60e9eeb907d3b93b6e0e5",
    "execution": {
     "iopub.execute_input": "2022-12-09T11:20:35.510167Z",
     "iopub.status.busy": "2022-12-09T11:20:35.509714Z",
     "iopub.status.idle": "2022-12-09T11:20:35.547033Z",
     "shell.execute_reply": "2022-12-09T11:20:35.545944Z",
     "shell.execute_reply.started": "2022-12-09T11:20:35.510079Z"
    }
   },
   "outputs": [
    {
     "name": "stdout",
     "output_type": "stream",
     "text": [
      "/kaggle/input/d/ludovicaverde/tyres-train/tyres_train.csv\n"
     ]
    }
   ],
   "source": [
    "# This Python 3 environment comes with many helpful analytics libraries installed\n",
    "# It is defined by the kaggle/python Docker image: https://github.com/kaggle/docker-python\n",
    "# For example, here's several helpful packages to load\n",
    "\n",
    "import numpy as np # linear algebra\n",
    "import pandas as pd # data processing, CSV file I/O (e.g. pd.read_csv)\n",
    "\n",
    "# Input data files are available in the read-only \"../input/\" directory\n",
    "# For example, running this (by clicking run or pressing Shift+Enter) will list all files under the input directory\n",
    "\n",
    "import os\n",
    "for dirname, _, filenames in os.walk('/kaggle/input/'):\n",
    "    for filename in filenames:\n",
    "        print(os.path.join(dirname, filename))\n",
    "\n",
    "# You can write up to 20GB to the current directory (/kaggle/working/) that gets preserved as output when you create a version using \"Save & Run All\" \n",
    "# You can also write temporary files to /kaggle/temp/, but they won't be saved outside of the current session"
   ]
  },
  {
   "cell_type": "code",
   "execution_count": 286,
   "metadata": {
    "execution": {
     "iopub.execute_input": "2022-12-09T11:30:45.899422Z",
     "iopub.status.busy": "2022-12-09T11:30:45.898975Z",
     "iopub.status.idle": "2022-12-09T11:30:45.904813Z",
     "shell.execute_reply": "2022-12-09T11:30:45.903776Z",
     "shell.execute_reply.started": "2022-12-09T11:30:45.899389Z"
    }
   },
   "outputs": [],
   "source": [
    "import pandas as pd\n",
    "import numpy as np\n",
    "import matplotlib.pyplot as plt\n",
    "\n",
    "from sklearn.neighbors import LocalOutlierFactor\n",
    "from sklearn.ensemble import IsolationForest"
   ]
  },
  {
   "cell_type": "markdown",
   "metadata": {},
   "source": [
    "# UPLOAD DATASET"
   ]
  },
  {
   "cell_type": "code",
   "execution_count": null,
   "metadata": {
    "execution": {
     "iopub.execute_input": "2022-12-08T11:00:14.810257Z",
     "iopub.status.busy": "2022-12-08T11:00:14.809829Z",
     "iopub.status.idle": "2022-12-08T11:00:14.815164Z",
     "shell.execute_reply": "2022-12-08T11:00:14.813969Z",
     "shell.execute_reply.started": "2022-12-08T11:00:14.810221Z"
    }
   },
   "outputs": [],
   "source": [
    "# RUN FEDE\n",
    "data = pd.read_csv(\"/kaggle/input/d/federico25/tyres-train/tyres_train.csv\", sep = \",\")\n",
    "\n",
    "data.head(30)"
   ]
  },
  {
   "cell_type": "code",
   "execution_count": 287,
   "metadata": {
    "execution": {
     "iopub.execute_input": "2022-12-08T12:18:11.757783Z",
     "iopub.status.busy": "2022-12-08T12:18:11.757359Z",
     "iopub.status.idle": "2022-12-08T12:18:11.82761Z",
     "shell.execute_reply": "2022-12-08T12:18:11.826489Z",
     "shell.execute_reply.started": "2022-12-08T12:18:11.757751Z"
    }
   },
   "outputs": [
    {
     "data": {
      "text/html": [
       "<div>\n",
       "<style scoped>\n",
       "    .dataframe tbody tr th:only-of-type {\n",
       "        vertical-align: middle;\n",
       "    }\n",
       "\n",
       "    .dataframe tbody tr th {\n",
       "        vertical-align: top;\n",
       "    }\n",
       "\n",
       "    .dataframe thead th {\n",
       "        text-align: right;\n",
       "    }\n",
       "</style>\n",
       "<table border=\"1\" class=\"dataframe\">\n",
       "  <thead>\n",
       "    <tr style=\"text-align: right;\">\n",
       "      <th></th>\n",
       "      <th>vulc</th>\n",
       "      <th>perc_nat_rubber</th>\n",
       "      <th>wiring_strength</th>\n",
       "      <th>weather</th>\n",
       "      <th>perc_imp</th>\n",
       "      <th>temperature</th>\n",
       "      <th>tread_type</th>\n",
       "      <th>tyre_season</th>\n",
       "      <th>elevation</th>\n",
       "      <th>month</th>\n",
       "      <th>tread_depth</th>\n",
       "      <th>tyre_quality</th>\n",
       "      <th>perc_exp_comp</th>\n",
       "      <th>diameter</th>\n",
       "      <th>add_layers</th>\n",
       "      <th>failure</th>\n",
       "    </tr>\n",
       "  </thead>\n",
       "  <tbody>\n",
       "    <tr>\n",
       "      <th>0</th>\n",
       "      <td>17.990</td>\n",
       "      <td>26</td>\n",
       "      <td>1</td>\n",
       "      <td>0.16</td>\n",
       "      <td>0.01</td>\n",
       "      <td>-8.12</td>\n",
       "      <td>0</td>\n",
       "      <td>1</td>\n",
       "      <td>332.5</td>\n",
       "      <td>8</td>\n",
       "      <td>0</td>\n",
       "      <td>1</td>\n",
       "      <td>5.13</td>\n",
       "      <td>55.0</td>\n",
       "      <td>1</td>\n",
       "      <td>0</td>\n",
       "    </tr>\n",
       "    <tr>\n",
       "      <th>1</th>\n",
       "      <td>20.704</td>\n",
       "      <td>36</td>\n",
       "      <td>1</td>\n",
       "      <td>0.30</td>\n",
       "      <td>0.01</td>\n",
       "      <td>-4.52</td>\n",
       "      <td>2</td>\n",
       "      <td>0</td>\n",
       "      <td>328.0</td>\n",
       "      <td>11</td>\n",
       "      <td>1</td>\n",
       "      <td>0</td>\n",
       "      <td>6.15</td>\n",
       "      <td>NaN</td>\n",
       "      <td>1</td>\n",
       "      <td>0</td>\n",
       "    </tr>\n",
       "    <tr>\n",
       "      <th>2</th>\n",
       "      <td>19.156</td>\n",
       "      <td>34</td>\n",
       "      <td>1</td>\n",
       "      <td>0.30</td>\n",
       "      <td>0.01</td>\n",
       "      <td>-1.08</td>\n",
       "      <td>0</td>\n",
       "      <td>0</td>\n",
       "      <td>247.0</td>\n",
       "      <td>0</td>\n",
       "      <td>1</td>\n",
       "      <td>0</td>\n",
       "      <td>6.36</td>\n",
       "      <td>NaN</td>\n",
       "      <td>1</td>\n",
       "      <td>0</td>\n",
       "    </tr>\n",
       "    <tr>\n",
       "      <th>3</th>\n",
       "      <td>16.802</td>\n",
       "      <td>35</td>\n",
       "      <td>1</td>\n",
       "      <td>0.19</td>\n",
       "      <td>0.02</td>\n",
       "      <td>7.44</td>\n",
       "      <td>1</td>\n",
       "      <td>0</td>\n",
       "      <td>408.0</td>\n",
       "      <td>7</td>\n",
       "      <td>3</td>\n",
       "      <td>1</td>\n",
       "      <td>6.62</td>\n",
       "      <td>54.5</td>\n",
       "      <td>1</td>\n",
       "      <td>0</td>\n",
       "    </tr>\n",
       "    <tr>\n",
       "      <th>4</th>\n",
       "      <td>17.140</td>\n",
       "      <td>23</td>\n",
       "      <td>2</td>\n",
       "      <td>0.39</td>\n",
       "      <td>0.01</td>\n",
       "      <td>30.52</td>\n",
       "      <td>0</td>\n",
       "      <td>1</td>\n",
       "      <td>308.0</td>\n",
       "      <td>2</td>\n",
       "      <td>2</td>\n",
       "      <td>0</td>\n",
       "      <td>6.15</td>\n",
       "      <td>76.3</td>\n",
       "      <td>1</td>\n",
       "      <td>0</td>\n",
       "    </tr>\n",
       "    <tr>\n",
       "      <th>5</th>\n",
       "      <td>20.042</td>\n",
       "      <td>38</td>\n",
       "      <td>0</td>\n",
       "      <td>0.04</td>\n",
       "      <td>0.01</td>\n",
       "      <td>-0.20</td>\n",
       "      <td>2</td>\n",
       "      <td>1</td>\n",
       "      <td>160.5</td>\n",
       "      <td>0</td>\n",
       "      <td>0</td>\n",
       "      <td>0</td>\n",
       "      <td>5.96</td>\n",
       "      <td>NaN</td>\n",
       "      <td>1</td>\n",
       "      <td>0</td>\n",
       "    </tr>\n",
       "    <tr>\n",
       "      <th>6</th>\n",
       "      <td>21.172</td>\n",
       "      <td>33</td>\n",
       "      <td>1</td>\n",
       "      <td>0.39</td>\n",
       "      <td>0.01</td>\n",
       "      <td>-2.28</td>\n",
       "      <td>0</td>\n",
       "      <td>0</td>\n",
       "      <td>470.0</td>\n",
       "      <td>3</td>\n",
       "      <td>0</td>\n",
       "      <td>0</td>\n",
       "      <td>6.47</td>\n",
       "      <td>NaN</td>\n",
       "      <td>1</td>\n",
       "      <td>0</td>\n",
       "    </tr>\n",
       "    <tr>\n",
       "      <th>7</th>\n",
       "      <td>16.706</td>\n",
       "      <td>32</td>\n",
       "      <td>0</td>\n",
       "      <td>0.62</td>\n",
       "      <td>0.05</td>\n",
       "      <td>-3.96</td>\n",
       "      <td>3</td>\n",
       "      <td>1</td>\n",
       "      <td>148.5</td>\n",
       "      <td>7</td>\n",
       "      <td>2</td>\n",
       "      <td>0</td>\n",
       "      <td>5.39</td>\n",
       "      <td>NaN</td>\n",
       "      <td>1</td>\n",
       "      <td>0</td>\n",
       "    </tr>\n",
       "    <tr>\n",
       "      <th>8</th>\n",
       "      <td>17.616</td>\n",
       "      <td>25</td>\n",
       "      <td>1</td>\n",
       "      <td>0.16</td>\n",
       "      <td>0.01</td>\n",
       "      <td>-6.88</td>\n",
       "      <td>0</td>\n",
       "      <td>1</td>\n",
       "      <td>103.5</td>\n",
       "      <td>8</td>\n",
       "      <td>0</td>\n",
       "      <td>1</td>\n",
       "      <td>5.32</td>\n",
       "      <td>63.6</td>\n",
       "      <td>1</td>\n",
       "      <td>0</td>\n",
       "    </tr>\n",
       "    <tr>\n",
       "      <th>9</th>\n",
       "      <td>17.370</td>\n",
       "      <td>34</td>\n",
       "      <td>0</td>\n",
       "      <td>0.27</td>\n",
       "      <td>0.01</td>\n",
       "      <td>-1.28</td>\n",
       "      <td>2</td>\n",
       "      <td>0</td>\n",
       "      <td>345.5</td>\n",
       "      <td>5</td>\n",
       "      <td>2</td>\n",
       "      <td>0</td>\n",
       "      <td>6.31</td>\n",
       "      <td>NaN</td>\n",
       "      <td>0</td>\n",
       "      <td>0</td>\n",
       "    </tr>\n",
       "    <tr>\n",
       "      <th>10</th>\n",
       "      <td>18.792</td>\n",
       "      <td>36</td>\n",
       "      <td>1</td>\n",
       "      <td>0.39</td>\n",
       "      <td>0.01</td>\n",
       "      <td>-3.20</td>\n",
       "      <td>2</td>\n",
       "      <td>0</td>\n",
       "      <td>296.5</td>\n",
       "      <td>1</td>\n",
       "      <td>2</td>\n",
       "      <td>0</td>\n",
       "      <td>5.82</td>\n",
       "      <td>NaN</td>\n",
       "      <td>1</td>\n",
       "      <td>1</td>\n",
       "    </tr>\n",
       "    <tr>\n",
       "      <th>11</th>\n",
       "      <td>20.708</td>\n",
       "      <td>32</td>\n",
       "      <td>1</td>\n",
       "      <td>0.16</td>\n",
       "      <td>0.01</td>\n",
       "      <td>-13.60</td>\n",
       "      <td>1</td>\n",
       "      <td>0</td>\n",
       "      <td>699.0</td>\n",
       "      <td>0</td>\n",
       "      <td>1</td>\n",
       "      <td>1</td>\n",
       "      <td>4.80</td>\n",
       "      <td>NaN</td>\n",
       "      <td>0</td>\n",
       "      <td>0</td>\n",
       "    </tr>\n",
       "    <tr>\n",
       "      <th>12</th>\n",
       "      <td>17.722</td>\n",
       "      <td>24</td>\n",
       "      <td>1</td>\n",
       "      <td>0.16</td>\n",
       "      <td>0.01</td>\n",
       "      <td>-7.16</td>\n",
       "      <td>0</td>\n",
       "      <td>1</td>\n",
       "      <td>290.5</td>\n",
       "      <td>8</td>\n",
       "      <td>0</td>\n",
       "      <td>1</td>\n",
       "      <td>5.56</td>\n",
       "      <td>NaN</td>\n",
       "      <td>1</td>\n",
       "      <td>0</td>\n",
       "    </tr>\n",
       "    <tr>\n",
       "      <th>13</th>\n",
       "      <td>18.222</td>\n",
       "      <td>36</td>\n",
       "      <td>0</td>\n",
       "      <td>0.30</td>\n",
       "      <td>0.01</td>\n",
       "      <td>0.08</td>\n",
       "      <td>4</td>\n",
       "      <td>0</td>\n",
       "      <td>296.0</td>\n",
       "      <td>4</td>\n",
       "      <td>2</td>\n",
       "      <td>0</td>\n",
       "      <td>6.15</td>\n",
       "      <td>NaN</td>\n",
       "      <td>1</td>\n",
       "      <td>0</td>\n",
       "    </tr>\n",
       "    <tr>\n",
       "      <th>14</th>\n",
       "      <td>18.762</td>\n",
       "      <td>30</td>\n",
       "      <td>0</td>\n",
       "      <td>0.39</td>\n",
       "      <td>0.01</td>\n",
       "      <td>-4.08</td>\n",
       "      <td>1</td>\n",
       "      <td>0</td>\n",
       "      <td>218.0</td>\n",
       "      <td>4</td>\n",
       "      <td>1</td>\n",
       "      <td>1</td>\n",
       "      <td>5.50</td>\n",
       "      <td>NaN</td>\n",
       "      <td>1</td>\n",
       "      <td>1</td>\n",
       "    </tr>\n",
       "    <tr>\n",
       "      <th>15</th>\n",
       "      <td>17.922</td>\n",
       "      <td>37</td>\n",
       "      <td>0</td>\n",
       "      <td>0.30</td>\n",
       "      <td>0.01</td>\n",
       "      <td>1.72</td>\n",
       "      <td>4</td>\n",
       "      <td>0</td>\n",
       "      <td>213.5</td>\n",
       "      <td>4</td>\n",
       "      <td>2</td>\n",
       "      <td>0</td>\n",
       "      <td>6.06</td>\n",
       "      <td>79.3</td>\n",
       "      <td>2</td>\n",
       "      <td>0</td>\n",
       "    </tr>\n",
       "    <tr>\n",
       "      <th>16</th>\n",
       "      <td>18.484</td>\n",
       "      <td>29</td>\n",
       "      <td>1</td>\n",
       "      <td>0.22</td>\n",
       "      <td>0.00</td>\n",
       "      <td>-3.20</td>\n",
       "      <td>3</td>\n",
       "      <td>1</td>\n",
       "      <td>264.0</td>\n",
       "      <td>10</td>\n",
       "      <td>2</td>\n",
       "      <td>0</td>\n",
       "      <td>5.57</td>\n",
       "      <td>47.3</td>\n",
       "      <td>1</td>\n",
       "      <td>0</td>\n",
       "    </tr>\n",
       "    <tr>\n",
       "      <th>17</th>\n",
       "      <td>17.124</td>\n",
       "      <td>28</td>\n",
       "      <td>1</td>\n",
       "      <td>0.37</td>\n",
       "      <td>0.02</td>\n",
       "      <td>10.00</td>\n",
       "      <td>2</td>\n",
       "      <td>1</td>\n",
       "      <td>464.5</td>\n",
       "      <td>1</td>\n",
       "      <td>2</td>\n",
       "      <td>0</td>\n",
       "      <td>6.86</td>\n",
       "      <td>72.3</td>\n",
       "      <td>1</td>\n",
       "      <td>1</td>\n",
       "    </tr>\n",
       "    <tr>\n",
       "      <th>18</th>\n",
       "      <td>19.032</td>\n",
       "      <td>29</td>\n",
       "      <td>1</td>\n",
       "      <td>0.16</td>\n",
       "      <td>0.01</td>\n",
       "      <td>-6.28</td>\n",
       "      <td>1</td>\n",
       "      <td>1</td>\n",
       "      <td>510.5</td>\n",
       "      <td>9</td>\n",
       "      <td>1</td>\n",
       "      <td>1</td>\n",
       "      <td>5.49</td>\n",
       "      <td>60.0</td>\n",
       "      <td>0</td>\n",
       "      <td>1</td>\n",
       "    </tr>\n",
       "    <tr>\n",
       "      <th>19</th>\n",
       "      <td>19.008</td>\n",
       "      <td>39</td>\n",
       "      <td>1</td>\n",
       "      <td>0.39</td>\n",
       "      <td>0.01</td>\n",
       "      <td>9.36</td>\n",
       "      <td>4</td>\n",
       "      <td>1</td>\n",
       "      <td>572.5</td>\n",
       "      <td>10</td>\n",
       "      <td>1</td>\n",
       "      <td>0</td>\n",
       "      <td>6.04</td>\n",
       "      <td>84.2</td>\n",
       "      <td>1</td>\n",
       "      <td>1</td>\n",
       "    </tr>\n",
       "    <tr>\n",
       "      <th>20</th>\n",
       "      <td>20.250</td>\n",
       "      <td>31</td>\n",
       "      <td>1</td>\n",
       "      <td>0.39</td>\n",
       "      <td>0.01</td>\n",
       "      <td>-2.04</td>\n",
       "      <td>0</td>\n",
       "      <td>0</td>\n",
       "      <td>156.0</td>\n",
       "      <td>0</td>\n",
       "      <td>0</td>\n",
       "      <td>0</td>\n",
       "      <td>6.09</td>\n",
       "      <td>NaN</td>\n",
       "      <td>1</td>\n",
       "      <td>0</td>\n",
       "    </tr>\n",
       "    <tr>\n",
       "      <th>21</th>\n",
       "      <td>18.114</td>\n",
       "      <td>34</td>\n",
       "      <td>0</td>\n",
       "      <td>0.21</td>\n",
       "      <td>0.00</td>\n",
       "      <td>-3.80</td>\n",
       "      <td>4</td>\n",
       "      <td>1</td>\n",
       "      <td>247.0</td>\n",
       "      <td>7</td>\n",
       "      <td>2</td>\n",
       "      <td>0</td>\n",
       "      <td>5.85</td>\n",
       "      <td>60.4</td>\n",
       "      <td>1</td>\n",
       "      <td>0</td>\n",
       "    </tr>\n",
       "    <tr>\n",
       "      <th>22</th>\n",
       "      <td>18.480</td>\n",
       "      <td>41</td>\n",
       "      <td>0</td>\n",
       "      <td>0.21</td>\n",
       "      <td>0.00</td>\n",
       "      <td>-2.56</td>\n",
       "      <td>3</td>\n",
       "      <td>1</td>\n",
       "      <td>458.0</td>\n",
       "      <td>6</td>\n",
       "      <td>0</td>\n",
       "      <td>0</td>\n",
       "      <td>5.28</td>\n",
       "      <td>NaN</td>\n",
       "      <td>1</td>\n",
       "      <td>0</td>\n",
       "    </tr>\n",
       "    <tr>\n",
       "      <th>23</th>\n",
       "      <td>17.444</td>\n",
       "      <td>40</td>\n",
       "      <td>0</td>\n",
       "      <td>0.39</td>\n",
       "      <td>0.01</td>\n",
       "      <td>-0.44</td>\n",
       "      <td>0</td>\n",
       "      <td>0</td>\n",
       "      <td>243.5</td>\n",
       "      <td>2</td>\n",
       "      <td>3</td>\n",
       "      <td>0</td>\n",
       "      <td>5.58</td>\n",
       "      <td>NaN</td>\n",
       "      <td>0</td>\n",
       "      <td>1</td>\n",
       "    </tr>\n",
       "    <tr>\n",
       "      <th>24</th>\n",
       "      <td>20.058</td>\n",
       "      <td>33</td>\n",
       "      <td>1</td>\n",
       "      <td>0.39</td>\n",
       "      <td>0.01</td>\n",
       "      <td>11.28</td>\n",
       "      <td>1</td>\n",
       "      <td>0</td>\n",
       "      <td>193.5</td>\n",
       "      <td>5</td>\n",
       "      <td>0</td>\n",
       "      <td>0</td>\n",
       "      <td>6.59</td>\n",
       "      <td>88.9</td>\n",
       "      <td>1</td>\n",
       "      <td>0</td>\n",
       "    </tr>\n",
       "    <tr>\n",
       "      <th>25</th>\n",
       "      <td>17.524</td>\n",
       "      <td>42</td>\n",
       "      <td>0</td>\n",
       "      <td>0.14</td>\n",
       "      <td>0.00</td>\n",
       "      <td>-0.32</td>\n",
       "      <td>0</td>\n",
       "      <td>0</td>\n",
       "      <td>279.0</td>\n",
       "      <td>4</td>\n",
       "      <td>2</td>\n",
       "      <td>0</td>\n",
       "      <td>5.97</td>\n",
       "      <td>NaN</td>\n",
       "      <td>0</td>\n",
       "      <td>1</td>\n",
       "    </tr>\n",
       "    <tr>\n",
       "      <th>26</th>\n",
       "      <td>18.040</td>\n",
       "      <td>40</td>\n",
       "      <td>0</td>\n",
       "      <td>0.27</td>\n",
       "      <td>0.01</td>\n",
       "      <td>-2.20</td>\n",
       "      <td>1</td>\n",
       "      <td>0</td>\n",
       "      <td>432.0</td>\n",
       "      <td>1</td>\n",
       "      <td>2</td>\n",
       "      <td>0</td>\n",
       "      <td>5.80</td>\n",
       "      <td>66.7</td>\n",
       "      <td>1</td>\n",
       "      <td>0</td>\n",
       "    </tr>\n",
       "    <tr>\n",
       "      <th>27</th>\n",
       "      <td>17.824</td>\n",
       "      <td>33</td>\n",
       "      <td>1</td>\n",
       "      <td>0.30</td>\n",
       "      <td>0.01</td>\n",
       "      <td>7.88</td>\n",
       "      <td>4</td>\n",
       "      <td>0</td>\n",
       "      <td>487.0</td>\n",
       "      <td>0</td>\n",
       "      <td>0</td>\n",
       "      <td>0</td>\n",
       "      <td>6.45</td>\n",
       "      <td>70.3</td>\n",
       "      <td>1</td>\n",
       "      <td>1</td>\n",
       "    </tr>\n",
       "    <tr>\n",
       "      <th>28</th>\n",
       "      <td>17.062</td>\n",
       "      <td>36</td>\n",
       "      <td>0</td>\n",
       "      <td>0.30</td>\n",
       "      <td>0.01</td>\n",
       "      <td>-2.60</td>\n",
       "      <td>4</td>\n",
       "      <td>0</td>\n",
       "      <td>299.0</td>\n",
       "      <td>10</td>\n",
       "      <td>1</td>\n",
       "      <td>0</td>\n",
       "      <td>6.04</td>\n",
       "      <td>NaN</td>\n",
       "      <td>1</td>\n",
       "      <td>1</td>\n",
       "    </tr>\n",
       "    <tr>\n",
       "      <th>29</th>\n",
       "      <td>17.846</td>\n",
       "      <td>26</td>\n",
       "      <td>1</td>\n",
       "      <td>0.16</td>\n",
       "      <td>0.01</td>\n",
       "      <td>-8.36</td>\n",
       "      <td>0</td>\n",
       "      <td>1</td>\n",
       "      <td>322.5</td>\n",
       "      <td>8</td>\n",
       "      <td>0</td>\n",
       "      <td>1</td>\n",
       "      <td>5.62</td>\n",
       "      <td>NaN</td>\n",
       "      <td>1</td>\n",
       "      <td>0</td>\n",
       "    </tr>\n",
       "  </tbody>\n",
       "</table>\n",
       "</div>"
      ],
      "text/plain": [
       "      vulc  perc_nat_rubber  wiring_strength  weather  perc_imp  temperature  \\\n",
       "0   17.990               26                1     0.16      0.01        -8.12   \n",
       "1   20.704               36                1     0.30      0.01        -4.52   \n",
       "2   19.156               34                1     0.30      0.01        -1.08   \n",
       "3   16.802               35                1     0.19      0.02         7.44   \n",
       "4   17.140               23                2     0.39      0.01        30.52   \n",
       "5   20.042               38                0     0.04      0.01        -0.20   \n",
       "6   21.172               33                1     0.39      0.01        -2.28   \n",
       "7   16.706               32                0     0.62      0.05        -3.96   \n",
       "8   17.616               25                1     0.16      0.01        -6.88   \n",
       "9   17.370               34                0     0.27      0.01        -1.28   \n",
       "10  18.792               36                1     0.39      0.01        -3.20   \n",
       "11  20.708               32                1     0.16      0.01       -13.60   \n",
       "12  17.722               24                1     0.16      0.01        -7.16   \n",
       "13  18.222               36                0     0.30      0.01         0.08   \n",
       "14  18.762               30                0     0.39      0.01        -4.08   \n",
       "15  17.922               37                0     0.30      0.01         1.72   \n",
       "16  18.484               29                1     0.22      0.00        -3.20   \n",
       "17  17.124               28                1     0.37      0.02        10.00   \n",
       "18  19.032               29                1     0.16      0.01        -6.28   \n",
       "19  19.008               39                1     0.39      0.01         9.36   \n",
       "20  20.250               31                1     0.39      0.01        -2.04   \n",
       "21  18.114               34                0     0.21      0.00        -3.80   \n",
       "22  18.480               41                0     0.21      0.00        -2.56   \n",
       "23  17.444               40                0     0.39      0.01        -0.44   \n",
       "24  20.058               33                1     0.39      0.01        11.28   \n",
       "25  17.524               42                0     0.14      0.00        -0.32   \n",
       "26  18.040               40                0     0.27      0.01        -2.20   \n",
       "27  17.824               33                1     0.30      0.01         7.88   \n",
       "28  17.062               36                0     0.30      0.01        -2.60   \n",
       "29  17.846               26                1     0.16      0.01        -8.36   \n",
       "\n",
       "    tread_type  tyre_season  elevation  month  tread_depth  tyre_quality  \\\n",
       "0            0            1      332.5      8            0             1   \n",
       "1            2            0      328.0     11            1             0   \n",
       "2            0            0      247.0      0            1             0   \n",
       "3            1            0      408.0      7            3             1   \n",
       "4            0            1      308.0      2            2             0   \n",
       "5            2            1      160.5      0            0             0   \n",
       "6            0            0      470.0      3            0             0   \n",
       "7            3            1      148.5      7            2             0   \n",
       "8            0            1      103.5      8            0             1   \n",
       "9            2            0      345.5      5            2             0   \n",
       "10           2            0      296.5      1            2             0   \n",
       "11           1            0      699.0      0            1             1   \n",
       "12           0            1      290.5      8            0             1   \n",
       "13           4            0      296.0      4            2             0   \n",
       "14           1            0      218.0      4            1             1   \n",
       "15           4            0      213.5      4            2             0   \n",
       "16           3            1      264.0     10            2             0   \n",
       "17           2            1      464.5      1            2             0   \n",
       "18           1            1      510.5      9            1             1   \n",
       "19           4            1      572.5     10            1             0   \n",
       "20           0            0      156.0      0            0             0   \n",
       "21           4            1      247.0      7            2             0   \n",
       "22           3            1      458.0      6            0             0   \n",
       "23           0            0      243.5      2            3             0   \n",
       "24           1            0      193.5      5            0             0   \n",
       "25           0            0      279.0      4            2             0   \n",
       "26           1            0      432.0      1            2             0   \n",
       "27           4            0      487.0      0            0             0   \n",
       "28           4            0      299.0     10            1             0   \n",
       "29           0            1      322.5      8            0             1   \n",
       "\n",
       "    perc_exp_comp  diameter  add_layers  failure  \n",
       "0            5.13      55.0           1        0  \n",
       "1            6.15       NaN           1        0  \n",
       "2            6.36       NaN           1        0  \n",
       "3            6.62      54.5           1        0  \n",
       "4            6.15      76.3           1        0  \n",
       "5            5.96       NaN           1        0  \n",
       "6            6.47       NaN           1        0  \n",
       "7            5.39       NaN           1        0  \n",
       "8            5.32      63.6           1        0  \n",
       "9            6.31       NaN           0        0  \n",
       "10           5.82       NaN           1        1  \n",
       "11           4.80       NaN           0        0  \n",
       "12           5.56       NaN           1        0  \n",
       "13           6.15       NaN           1        0  \n",
       "14           5.50       NaN           1        1  \n",
       "15           6.06      79.3           2        0  \n",
       "16           5.57      47.3           1        0  \n",
       "17           6.86      72.3           1        1  \n",
       "18           5.49      60.0           0        1  \n",
       "19           6.04      84.2           1        1  \n",
       "20           6.09       NaN           1        0  \n",
       "21           5.85      60.4           1        0  \n",
       "22           5.28       NaN           1        0  \n",
       "23           5.58       NaN           0        1  \n",
       "24           6.59      88.9           1        0  \n",
       "25           5.97       NaN           0        1  \n",
       "26           5.80      66.7           1        0  \n",
       "27           6.45      70.3           1        1  \n",
       "28           6.04       NaN           1        1  \n",
       "29           5.62       NaN           1        0  "
      ]
     },
     "execution_count": 287,
     "metadata": {},
     "output_type": "execute_result"
    }
   ],
   "source": [
    "# RUN ELE\n",
    "data = pd.read_csv(\"tyres_train.csv\", sep = \",\")\n",
    "\n",
    "data.head(30)"
   ]
  },
  {
   "cell_type": "code",
   "execution_count": 6,
   "metadata": {
    "execution": {
     "iopub.execute_input": "2022-12-09T11:30:50.171002Z",
     "iopub.status.busy": "2022-12-09T11:30:50.170535Z",
     "iopub.status.idle": "2022-12-09T11:30:50.223175Z",
     "shell.execute_reply": "2022-12-09T11:30:50.221793Z",
     "shell.execute_reply.started": "2022-12-09T11:30:50.170965Z"
    }
   },
   "outputs": [
    {
     "data": {
      "text/html": [
       "<div>\n",
       "<style scoped>\n",
       "    .dataframe tbody tr th:only-of-type {\n",
       "        vertical-align: middle;\n",
       "    }\n",
       "\n",
       "    .dataframe tbody tr th {\n",
       "        vertical-align: top;\n",
       "    }\n",
       "\n",
       "    .dataframe thead th {\n",
       "        text-align: right;\n",
       "    }\n",
       "</style>\n",
       "<table border=\"1\" class=\"dataframe\">\n",
       "  <thead>\n",
       "    <tr style=\"text-align: right;\">\n",
       "      <th></th>\n",
       "      <th>vulc</th>\n",
       "      <th>perc_nat_rubber</th>\n",
       "      <th>wiring_strength</th>\n",
       "      <th>weather</th>\n",
       "      <th>perc_imp</th>\n",
       "      <th>temperature</th>\n",
       "      <th>tread_type</th>\n",
       "      <th>tyre_season</th>\n",
       "      <th>elevation</th>\n",
       "      <th>month</th>\n",
       "      <th>tread_depth</th>\n",
       "      <th>tyre_quality</th>\n",
       "      <th>perc_exp_comp</th>\n",
       "      <th>diameter</th>\n",
       "      <th>add_layers</th>\n",
       "      <th>failure</th>\n",
       "    </tr>\n",
       "  </thead>\n",
       "  <tbody>\n",
       "    <tr>\n",
       "      <th>0</th>\n",
       "      <td>17.990</td>\n",
       "      <td>26</td>\n",
       "      <td>1</td>\n",
       "      <td>0.16</td>\n",
       "      <td>0.01</td>\n",
       "      <td>-8.12</td>\n",
       "      <td>0</td>\n",
       "      <td>1</td>\n",
       "      <td>332.5</td>\n",
       "      <td>8</td>\n",
       "      <td>0</td>\n",
       "      <td>1</td>\n",
       "      <td>5.13</td>\n",
       "      <td>55.0</td>\n",
       "      <td>1</td>\n",
       "      <td>0</td>\n",
       "    </tr>\n",
       "    <tr>\n",
       "      <th>1</th>\n",
       "      <td>20.704</td>\n",
       "      <td>36</td>\n",
       "      <td>1</td>\n",
       "      <td>0.30</td>\n",
       "      <td>0.01</td>\n",
       "      <td>-4.52</td>\n",
       "      <td>2</td>\n",
       "      <td>0</td>\n",
       "      <td>328.0</td>\n",
       "      <td>11</td>\n",
       "      <td>1</td>\n",
       "      <td>0</td>\n",
       "      <td>6.15</td>\n",
       "      <td>NaN</td>\n",
       "      <td>1</td>\n",
       "      <td>0</td>\n",
       "    </tr>\n",
       "    <tr>\n",
       "      <th>2</th>\n",
       "      <td>19.156</td>\n",
       "      <td>34</td>\n",
       "      <td>1</td>\n",
       "      <td>0.30</td>\n",
       "      <td>0.01</td>\n",
       "      <td>-1.08</td>\n",
       "      <td>0</td>\n",
       "      <td>0</td>\n",
       "      <td>247.0</td>\n",
       "      <td>0</td>\n",
       "      <td>1</td>\n",
       "      <td>0</td>\n",
       "      <td>6.36</td>\n",
       "      <td>NaN</td>\n",
       "      <td>1</td>\n",
       "      <td>0</td>\n",
       "    </tr>\n",
       "    <tr>\n",
       "      <th>3</th>\n",
       "      <td>16.802</td>\n",
       "      <td>35</td>\n",
       "      <td>1</td>\n",
       "      <td>0.19</td>\n",
       "      <td>0.02</td>\n",
       "      <td>7.44</td>\n",
       "      <td>1</td>\n",
       "      <td>0</td>\n",
       "      <td>408.0</td>\n",
       "      <td>7</td>\n",
       "      <td>3</td>\n",
       "      <td>1</td>\n",
       "      <td>6.62</td>\n",
       "      <td>54.5</td>\n",
       "      <td>1</td>\n",
       "      <td>0</td>\n",
       "    </tr>\n",
       "    <tr>\n",
       "      <th>4</th>\n",
       "      <td>17.140</td>\n",
       "      <td>23</td>\n",
       "      <td>2</td>\n",
       "      <td>0.39</td>\n",
       "      <td>0.01</td>\n",
       "      <td>30.52</td>\n",
       "      <td>0</td>\n",
       "      <td>1</td>\n",
       "      <td>308.0</td>\n",
       "      <td>2</td>\n",
       "      <td>2</td>\n",
       "      <td>0</td>\n",
       "      <td>6.15</td>\n",
       "      <td>76.3</td>\n",
       "      <td>1</td>\n",
       "      <td>0</td>\n",
       "    </tr>\n",
       "    <tr>\n",
       "      <th>5</th>\n",
       "      <td>20.042</td>\n",
       "      <td>38</td>\n",
       "      <td>0</td>\n",
       "      <td>0.04</td>\n",
       "      <td>0.01</td>\n",
       "      <td>-0.20</td>\n",
       "      <td>2</td>\n",
       "      <td>1</td>\n",
       "      <td>160.5</td>\n",
       "      <td>0</td>\n",
       "      <td>0</td>\n",
       "      <td>0</td>\n",
       "      <td>5.96</td>\n",
       "      <td>NaN</td>\n",
       "      <td>1</td>\n",
       "      <td>0</td>\n",
       "    </tr>\n",
       "    <tr>\n",
       "      <th>6</th>\n",
       "      <td>21.172</td>\n",
       "      <td>33</td>\n",
       "      <td>1</td>\n",
       "      <td>0.39</td>\n",
       "      <td>0.01</td>\n",
       "      <td>-2.28</td>\n",
       "      <td>0</td>\n",
       "      <td>0</td>\n",
       "      <td>470.0</td>\n",
       "      <td>3</td>\n",
       "      <td>0</td>\n",
       "      <td>0</td>\n",
       "      <td>6.47</td>\n",
       "      <td>NaN</td>\n",
       "      <td>1</td>\n",
       "      <td>0</td>\n",
       "    </tr>\n",
       "    <tr>\n",
       "      <th>7</th>\n",
       "      <td>16.706</td>\n",
       "      <td>32</td>\n",
       "      <td>0</td>\n",
       "      <td>0.62</td>\n",
       "      <td>0.05</td>\n",
       "      <td>-3.96</td>\n",
       "      <td>3</td>\n",
       "      <td>1</td>\n",
       "      <td>148.5</td>\n",
       "      <td>7</td>\n",
       "      <td>2</td>\n",
       "      <td>0</td>\n",
       "      <td>5.39</td>\n",
       "      <td>NaN</td>\n",
       "      <td>1</td>\n",
       "      <td>0</td>\n",
       "    </tr>\n",
       "    <tr>\n",
       "      <th>8</th>\n",
       "      <td>17.616</td>\n",
       "      <td>25</td>\n",
       "      <td>1</td>\n",
       "      <td>0.16</td>\n",
       "      <td>0.01</td>\n",
       "      <td>-6.88</td>\n",
       "      <td>0</td>\n",
       "      <td>1</td>\n",
       "      <td>103.5</td>\n",
       "      <td>8</td>\n",
       "      <td>0</td>\n",
       "      <td>1</td>\n",
       "      <td>5.32</td>\n",
       "      <td>63.6</td>\n",
       "      <td>1</td>\n",
       "      <td>0</td>\n",
       "    </tr>\n",
       "    <tr>\n",
       "      <th>9</th>\n",
       "      <td>17.370</td>\n",
       "      <td>34</td>\n",
       "      <td>0</td>\n",
       "      <td>0.27</td>\n",
       "      <td>0.01</td>\n",
       "      <td>-1.28</td>\n",
       "      <td>2</td>\n",
       "      <td>0</td>\n",
       "      <td>345.5</td>\n",
       "      <td>5</td>\n",
       "      <td>2</td>\n",
       "      <td>0</td>\n",
       "      <td>6.31</td>\n",
       "      <td>NaN</td>\n",
       "      <td>0</td>\n",
       "      <td>0</td>\n",
       "    </tr>\n",
       "    <tr>\n",
       "      <th>10</th>\n",
       "      <td>18.792</td>\n",
       "      <td>36</td>\n",
       "      <td>1</td>\n",
       "      <td>0.39</td>\n",
       "      <td>0.01</td>\n",
       "      <td>-3.20</td>\n",
       "      <td>2</td>\n",
       "      <td>0</td>\n",
       "      <td>296.5</td>\n",
       "      <td>1</td>\n",
       "      <td>2</td>\n",
       "      <td>0</td>\n",
       "      <td>5.82</td>\n",
       "      <td>NaN</td>\n",
       "      <td>1</td>\n",
       "      <td>1</td>\n",
       "    </tr>\n",
       "    <tr>\n",
       "      <th>11</th>\n",
       "      <td>20.708</td>\n",
       "      <td>32</td>\n",
       "      <td>1</td>\n",
       "      <td>0.16</td>\n",
       "      <td>0.01</td>\n",
       "      <td>-13.60</td>\n",
       "      <td>1</td>\n",
       "      <td>0</td>\n",
       "      <td>699.0</td>\n",
       "      <td>0</td>\n",
       "      <td>1</td>\n",
       "      <td>1</td>\n",
       "      <td>4.80</td>\n",
       "      <td>NaN</td>\n",
       "      <td>0</td>\n",
       "      <td>0</td>\n",
       "    </tr>\n",
       "    <tr>\n",
       "      <th>12</th>\n",
       "      <td>17.722</td>\n",
       "      <td>24</td>\n",
       "      <td>1</td>\n",
       "      <td>0.16</td>\n",
       "      <td>0.01</td>\n",
       "      <td>-7.16</td>\n",
       "      <td>0</td>\n",
       "      <td>1</td>\n",
       "      <td>290.5</td>\n",
       "      <td>8</td>\n",
       "      <td>0</td>\n",
       "      <td>1</td>\n",
       "      <td>5.56</td>\n",
       "      <td>NaN</td>\n",
       "      <td>1</td>\n",
       "      <td>0</td>\n",
       "    </tr>\n",
       "    <tr>\n",
       "      <th>13</th>\n",
       "      <td>18.222</td>\n",
       "      <td>36</td>\n",
       "      <td>0</td>\n",
       "      <td>0.30</td>\n",
       "      <td>0.01</td>\n",
       "      <td>0.08</td>\n",
       "      <td>4</td>\n",
       "      <td>0</td>\n",
       "      <td>296.0</td>\n",
       "      <td>4</td>\n",
       "      <td>2</td>\n",
       "      <td>0</td>\n",
       "      <td>6.15</td>\n",
       "      <td>NaN</td>\n",
       "      <td>1</td>\n",
       "      <td>0</td>\n",
       "    </tr>\n",
       "    <tr>\n",
       "      <th>14</th>\n",
       "      <td>18.762</td>\n",
       "      <td>30</td>\n",
       "      <td>0</td>\n",
       "      <td>0.39</td>\n",
       "      <td>0.01</td>\n",
       "      <td>-4.08</td>\n",
       "      <td>1</td>\n",
       "      <td>0</td>\n",
       "      <td>218.0</td>\n",
       "      <td>4</td>\n",
       "      <td>1</td>\n",
       "      <td>1</td>\n",
       "      <td>5.50</td>\n",
       "      <td>NaN</td>\n",
       "      <td>1</td>\n",
       "      <td>1</td>\n",
       "    </tr>\n",
       "    <tr>\n",
       "      <th>15</th>\n",
       "      <td>17.922</td>\n",
       "      <td>37</td>\n",
       "      <td>0</td>\n",
       "      <td>0.30</td>\n",
       "      <td>0.01</td>\n",
       "      <td>1.72</td>\n",
       "      <td>4</td>\n",
       "      <td>0</td>\n",
       "      <td>213.5</td>\n",
       "      <td>4</td>\n",
       "      <td>2</td>\n",
       "      <td>0</td>\n",
       "      <td>6.06</td>\n",
       "      <td>79.3</td>\n",
       "      <td>2</td>\n",
       "      <td>0</td>\n",
       "    </tr>\n",
       "    <tr>\n",
       "      <th>16</th>\n",
       "      <td>18.484</td>\n",
       "      <td>29</td>\n",
       "      <td>1</td>\n",
       "      <td>0.22</td>\n",
       "      <td>0.00</td>\n",
       "      <td>-3.20</td>\n",
       "      <td>3</td>\n",
       "      <td>1</td>\n",
       "      <td>264.0</td>\n",
       "      <td>10</td>\n",
       "      <td>2</td>\n",
       "      <td>0</td>\n",
       "      <td>5.57</td>\n",
       "      <td>47.3</td>\n",
       "      <td>1</td>\n",
       "      <td>0</td>\n",
       "    </tr>\n",
       "    <tr>\n",
       "      <th>17</th>\n",
       "      <td>17.124</td>\n",
       "      <td>28</td>\n",
       "      <td>1</td>\n",
       "      <td>0.37</td>\n",
       "      <td>0.02</td>\n",
       "      <td>10.00</td>\n",
       "      <td>2</td>\n",
       "      <td>1</td>\n",
       "      <td>464.5</td>\n",
       "      <td>1</td>\n",
       "      <td>2</td>\n",
       "      <td>0</td>\n",
       "      <td>6.86</td>\n",
       "      <td>72.3</td>\n",
       "      <td>1</td>\n",
       "      <td>1</td>\n",
       "    </tr>\n",
       "    <tr>\n",
       "      <th>18</th>\n",
       "      <td>19.032</td>\n",
       "      <td>29</td>\n",
       "      <td>1</td>\n",
       "      <td>0.16</td>\n",
       "      <td>0.01</td>\n",
       "      <td>-6.28</td>\n",
       "      <td>1</td>\n",
       "      <td>1</td>\n",
       "      <td>510.5</td>\n",
       "      <td>9</td>\n",
       "      <td>1</td>\n",
       "      <td>1</td>\n",
       "      <td>5.49</td>\n",
       "      <td>60.0</td>\n",
       "      <td>0</td>\n",
       "      <td>1</td>\n",
       "    </tr>\n",
       "    <tr>\n",
       "      <th>19</th>\n",
       "      <td>19.008</td>\n",
       "      <td>39</td>\n",
       "      <td>1</td>\n",
       "      <td>0.39</td>\n",
       "      <td>0.01</td>\n",
       "      <td>9.36</td>\n",
       "      <td>4</td>\n",
       "      <td>1</td>\n",
       "      <td>572.5</td>\n",
       "      <td>10</td>\n",
       "      <td>1</td>\n",
       "      <td>0</td>\n",
       "      <td>6.04</td>\n",
       "      <td>84.2</td>\n",
       "      <td>1</td>\n",
       "      <td>1</td>\n",
       "    </tr>\n",
       "    <tr>\n",
       "      <th>20</th>\n",
       "      <td>20.250</td>\n",
       "      <td>31</td>\n",
       "      <td>1</td>\n",
       "      <td>0.39</td>\n",
       "      <td>0.01</td>\n",
       "      <td>-2.04</td>\n",
       "      <td>0</td>\n",
       "      <td>0</td>\n",
       "      <td>156.0</td>\n",
       "      <td>0</td>\n",
       "      <td>0</td>\n",
       "      <td>0</td>\n",
       "      <td>6.09</td>\n",
       "      <td>NaN</td>\n",
       "      <td>1</td>\n",
       "      <td>0</td>\n",
       "    </tr>\n",
       "    <tr>\n",
       "      <th>21</th>\n",
       "      <td>18.114</td>\n",
       "      <td>34</td>\n",
       "      <td>0</td>\n",
       "      <td>0.21</td>\n",
       "      <td>0.00</td>\n",
       "      <td>-3.80</td>\n",
       "      <td>4</td>\n",
       "      <td>1</td>\n",
       "      <td>247.0</td>\n",
       "      <td>7</td>\n",
       "      <td>2</td>\n",
       "      <td>0</td>\n",
       "      <td>5.85</td>\n",
       "      <td>60.4</td>\n",
       "      <td>1</td>\n",
       "      <td>0</td>\n",
       "    </tr>\n",
       "    <tr>\n",
       "      <th>22</th>\n",
       "      <td>18.480</td>\n",
       "      <td>41</td>\n",
       "      <td>0</td>\n",
       "      <td>0.21</td>\n",
       "      <td>0.00</td>\n",
       "      <td>-2.56</td>\n",
       "      <td>3</td>\n",
       "      <td>1</td>\n",
       "      <td>458.0</td>\n",
       "      <td>6</td>\n",
       "      <td>0</td>\n",
       "      <td>0</td>\n",
       "      <td>5.28</td>\n",
       "      <td>NaN</td>\n",
       "      <td>1</td>\n",
       "      <td>0</td>\n",
       "    </tr>\n",
       "    <tr>\n",
       "      <th>23</th>\n",
       "      <td>17.444</td>\n",
       "      <td>40</td>\n",
       "      <td>0</td>\n",
       "      <td>0.39</td>\n",
       "      <td>0.01</td>\n",
       "      <td>-0.44</td>\n",
       "      <td>0</td>\n",
       "      <td>0</td>\n",
       "      <td>243.5</td>\n",
       "      <td>2</td>\n",
       "      <td>3</td>\n",
       "      <td>0</td>\n",
       "      <td>5.58</td>\n",
       "      <td>NaN</td>\n",
       "      <td>0</td>\n",
       "      <td>1</td>\n",
       "    </tr>\n",
       "    <tr>\n",
       "      <th>24</th>\n",
       "      <td>20.058</td>\n",
       "      <td>33</td>\n",
       "      <td>1</td>\n",
       "      <td>0.39</td>\n",
       "      <td>0.01</td>\n",
       "      <td>11.28</td>\n",
       "      <td>1</td>\n",
       "      <td>0</td>\n",
       "      <td>193.5</td>\n",
       "      <td>5</td>\n",
       "      <td>0</td>\n",
       "      <td>0</td>\n",
       "      <td>6.59</td>\n",
       "      <td>88.9</td>\n",
       "      <td>1</td>\n",
       "      <td>0</td>\n",
       "    </tr>\n",
       "    <tr>\n",
       "      <th>25</th>\n",
       "      <td>17.524</td>\n",
       "      <td>42</td>\n",
       "      <td>0</td>\n",
       "      <td>0.14</td>\n",
       "      <td>0.00</td>\n",
       "      <td>-0.32</td>\n",
       "      <td>0</td>\n",
       "      <td>0</td>\n",
       "      <td>279.0</td>\n",
       "      <td>4</td>\n",
       "      <td>2</td>\n",
       "      <td>0</td>\n",
       "      <td>5.97</td>\n",
       "      <td>NaN</td>\n",
       "      <td>0</td>\n",
       "      <td>1</td>\n",
       "    </tr>\n",
       "    <tr>\n",
       "      <th>26</th>\n",
       "      <td>18.040</td>\n",
       "      <td>40</td>\n",
       "      <td>0</td>\n",
       "      <td>0.27</td>\n",
       "      <td>0.01</td>\n",
       "      <td>-2.20</td>\n",
       "      <td>1</td>\n",
       "      <td>0</td>\n",
       "      <td>432.0</td>\n",
       "      <td>1</td>\n",
       "      <td>2</td>\n",
       "      <td>0</td>\n",
       "      <td>5.80</td>\n",
       "      <td>66.7</td>\n",
       "      <td>1</td>\n",
       "      <td>0</td>\n",
       "    </tr>\n",
       "    <tr>\n",
       "      <th>27</th>\n",
       "      <td>17.824</td>\n",
       "      <td>33</td>\n",
       "      <td>1</td>\n",
       "      <td>0.30</td>\n",
       "      <td>0.01</td>\n",
       "      <td>7.88</td>\n",
       "      <td>4</td>\n",
       "      <td>0</td>\n",
       "      <td>487.0</td>\n",
       "      <td>0</td>\n",
       "      <td>0</td>\n",
       "      <td>0</td>\n",
       "      <td>6.45</td>\n",
       "      <td>70.3</td>\n",
       "      <td>1</td>\n",
       "      <td>1</td>\n",
       "    </tr>\n",
       "    <tr>\n",
       "      <th>28</th>\n",
       "      <td>17.062</td>\n",
       "      <td>36</td>\n",
       "      <td>0</td>\n",
       "      <td>0.30</td>\n",
       "      <td>0.01</td>\n",
       "      <td>-2.60</td>\n",
       "      <td>4</td>\n",
       "      <td>0</td>\n",
       "      <td>299.0</td>\n",
       "      <td>10</td>\n",
       "      <td>1</td>\n",
       "      <td>0</td>\n",
       "      <td>6.04</td>\n",
       "      <td>NaN</td>\n",
       "      <td>1</td>\n",
       "      <td>1</td>\n",
       "    </tr>\n",
       "    <tr>\n",
       "      <th>29</th>\n",
       "      <td>17.846</td>\n",
       "      <td>26</td>\n",
       "      <td>1</td>\n",
       "      <td>0.16</td>\n",
       "      <td>0.01</td>\n",
       "      <td>-8.36</td>\n",
       "      <td>0</td>\n",
       "      <td>1</td>\n",
       "      <td>322.5</td>\n",
       "      <td>8</td>\n",
       "      <td>0</td>\n",
       "      <td>1</td>\n",
       "      <td>5.62</td>\n",
       "      <td>NaN</td>\n",
       "      <td>1</td>\n",
       "      <td>0</td>\n",
       "    </tr>\n",
       "  </tbody>\n",
       "</table>\n",
       "</div>"
      ],
      "text/plain": [
       "      vulc  perc_nat_rubber  wiring_strength  weather  perc_imp  temperature  \\\n",
       "0   17.990               26                1     0.16      0.01        -8.12   \n",
       "1   20.704               36                1     0.30      0.01        -4.52   \n",
       "2   19.156               34                1     0.30      0.01        -1.08   \n",
       "3   16.802               35                1     0.19      0.02         7.44   \n",
       "4   17.140               23                2     0.39      0.01        30.52   \n",
       "5   20.042               38                0     0.04      0.01        -0.20   \n",
       "6   21.172               33                1     0.39      0.01        -2.28   \n",
       "7   16.706               32                0     0.62      0.05        -3.96   \n",
       "8   17.616               25                1     0.16      0.01        -6.88   \n",
       "9   17.370               34                0     0.27      0.01        -1.28   \n",
       "10  18.792               36                1     0.39      0.01        -3.20   \n",
       "11  20.708               32                1     0.16      0.01       -13.60   \n",
       "12  17.722               24                1     0.16      0.01        -7.16   \n",
       "13  18.222               36                0     0.30      0.01         0.08   \n",
       "14  18.762               30                0     0.39      0.01        -4.08   \n",
       "15  17.922               37                0     0.30      0.01         1.72   \n",
       "16  18.484               29                1     0.22      0.00        -3.20   \n",
       "17  17.124               28                1     0.37      0.02        10.00   \n",
       "18  19.032               29                1     0.16      0.01        -6.28   \n",
       "19  19.008               39                1     0.39      0.01         9.36   \n",
       "20  20.250               31                1     0.39      0.01        -2.04   \n",
       "21  18.114               34                0     0.21      0.00        -3.80   \n",
       "22  18.480               41                0     0.21      0.00        -2.56   \n",
       "23  17.444               40                0     0.39      0.01        -0.44   \n",
       "24  20.058               33                1     0.39      0.01        11.28   \n",
       "25  17.524               42                0     0.14      0.00        -0.32   \n",
       "26  18.040               40                0     0.27      0.01        -2.20   \n",
       "27  17.824               33                1     0.30      0.01         7.88   \n",
       "28  17.062               36                0     0.30      0.01        -2.60   \n",
       "29  17.846               26                1     0.16      0.01        -8.36   \n",
       "\n",
       "    tread_type  tyre_season  elevation  month  tread_depth  tyre_quality  \\\n",
       "0            0            1      332.5      8            0             1   \n",
       "1            2            0      328.0     11            1             0   \n",
       "2            0            0      247.0      0            1             0   \n",
       "3            1            0      408.0      7            3             1   \n",
       "4            0            1      308.0      2            2             0   \n",
       "5            2            1      160.5      0            0             0   \n",
       "6            0            0      470.0      3            0             0   \n",
       "7            3            1      148.5      7            2             0   \n",
       "8            0            1      103.5      8            0             1   \n",
       "9            2            0      345.5      5            2             0   \n",
       "10           2            0      296.5      1            2             0   \n",
       "11           1            0      699.0      0            1             1   \n",
       "12           0            1      290.5      8            0             1   \n",
       "13           4            0      296.0      4            2             0   \n",
       "14           1            0      218.0      4            1             1   \n",
       "15           4            0      213.5      4            2             0   \n",
       "16           3            1      264.0     10            2             0   \n",
       "17           2            1      464.5      1            2             0   \n",
       "18           1            1      510.5      9            1             1   \n",
       "19           4            1      572.5     10            1             0   \n",
       "20           0            0      156.0      0            0             0   \n",
       "21           4            1      247.0      7            2             0   \n",
       "22           3            1      458.0      6            0             0   \n",
       "23           0            0      243.5      2            3             0   \n",
       "24           1            0      193.5      5            0             0   \n",
       "25           0            0      279.0      4            2             0   \n",
       "26           1            0      432.0      1            2             0   \n",
       "27           4            0      487.0      0            0             0   \n",
       "28           4            0      299.0     10            1             0   \n",
       "29           0            1      322.5      8            0             1   \n",
       "\n",
       "    perc_exp_comp  diameter  add_layers  failure  \n",
       "0            5.13      55.0           1        0  \n",
       "1            6.15       NaN           1        0  \n",
       "2            6.36       NaN           1        0  \n",
       "3            6.62      54.5           1        0  \n",
       "4            6.15      76.3           1        0  \n",
       "5            5.96       NaN           1        0  \n",
       "6            6.47       NaN           1        0  \n",
       "7            5.39       NaN           1        0  \n",
       "8            5.32      63.6           1        0  \n",
       "9            6.31       NaN           0        0  \n",
       "10           5.82       NaN           1        1  \n",
       "11           4.80       NaN           0        0  \n",
       "12           5.56       NaN           1        0  \n",
       "13           6.15       NaN           1        0  \n",
       "14           5.50       NaN           1        1  \n",
       "15           6.06      79.3           2        0  \n",
       "16           5.57      47.3           1        0  \n",
       "17           6.86      72.3           1        1  \n",
       "18           5.49      60.0           0        1  \n",
       "19           6.04      84.2           1        1  \n",
       "20           6.09       NaN           1        0  \n",
       "21           5.85      60.4           1        0  \n",
       "22           5.28       NaN           1        0  \n",
       "23           5.58       NaN           0        1  \n",
       "24           6.59      88.9           1        0  \n",
       "25           5.97       NaN           0        1  \n",
       "26           5.80      66.7           1        0  \n",
       "27           6.45      70.3           1        1  \n",
       "28           6.04       NaN           1        1  \n",
       "29           5.62       NaN           1        0  "
      ]
     },
     "execution_count": 6,
     "metadata": {},
     "output_type": "execute_result"
    }
   ],
   "source": [
    "# RUN LUDO\n",
    "data = pd.read_csv(\"/kaggle/input/d/ludovicaverde/tyres-train/tyres_train.csv\", sep = \",\")\n",
    "\n",
    "data.head(30)"
   ]
  },
  {
   "cell_type": "markdown",
   "metadata": {},
   "source": [
    "# DATA OBSERVATION E PREPARATION"
   ]
  },
  {
   "cell_type": "code",
   "execution_count": 288,
   "metadata": {
    "execution": {
     "iopub.execute_input": "2022-12-09T11:31:03.603108Z",
     "iopub.status.busy": "2022-12-09T11:31:03.602658Z",
     "iopub.status.idle": "2022-12-09T11:31:03.611838Z",
     "shell.execute_reply": "2022-12-09T11:31:03.610548Z",
     "shell.execute_reply.started": "2022-12-09T11:31:03.603071Z"
    }
   },
   "outputs": [
    {
     "data": {
      "text/plain": [
       "vulc               float64\n",
       "perc_nat_rubber      int64\n",
       "wiring_strength      int64\n",
       "weather            float64\n",
       "perc_imp           float64\n",
       "temperature        float64\n",
       "tread_type           int64\n",
       "tyre_season          int64\n",
       "elevation          float64\n",
       "month                int64\n",
       "tread_depth          int64\n",
       "tyre_quality         int64\n",
       "perc_exp_comp      float64\n",
       "diameter           float64\n",
       "add_layers           int64\n",
       "failure              int64\n",
       "dtype: object"
      ]
     },
     "execution_count": 288,
     "metadata": {},
     "output_type": "execute_result"
    }
   ],
   "source": [
    "data.dtypes"
   ]
  },
  {
   "cell_type": "code",
   "execution_count": 289,
   "metadata": {
    "execution": {
     "iopub.execute_input": "2022-12-09T11:31:07.069980Z",
     "iopub.status.busy": "2022-12-09T11:31:07.069533Z",
     "iopub.status.idle": "2022-12-09T11:31:07.080468Z",
     "shell.execute_reply": "2022-12-09T11:31:07.079159Z",
     "shell.execute_reply.started": "2022-12-09T11:31:07.069944Z"
    }
   },
   "outputs": [
    {
     "data": {
      "text/plain": [
       "vulc                  0\n",
       "perc_nat_rubber       0\n",
       "wiring_strength       0\n",
       "weather               0\n",
       "perc_imp              0\n",
       "temperature           0\n",
       "tread_type            0\n",
       "tyre_season           0\n",
       "elevation             0\n",
       "month                 0\n",
       "tread_depth           0\n",
       "tyre_quality          0\n",
       "perc_exp_comp         0\n",
       "diameter           2110\n",
       "add_layers            0\n",
       "failure               0\n",
       "dtype: int64"
      ]
     },
     "execution_count": 289,
     "metadata": {},
     "output_type": "execute_result"
    }
   ],
   "source": [
    "data.isnull().sum()\n",
    "# the variable \"diameter\" is almost void --> impossible to proceed with substitution"
   ]
  },
  {
   "cell_type": "code",
   "execution_count": 290,
   "metadata": {
    "execution": {
     "iopub.execute_input": "2022-12-09T11:31:20.666054Z",
     "iopub.status.busy": "2022-12-09T11:31:20.665404Z",
     "iopub.status.idle": "2022-12-09T11:31:20.686445Z",
     "shell.execute_reply": "2022-12-09T11:31:20.685271Z",
     "shell.execute_reply.started": "2022-12-09T11:31:20.666018Z"
    }
   },
   "outputs": [
    {
     "data": {
      "text/html": [
       "<div>\n",
       "<style scoped>\n",
       "    .dataframe tbody tr th:only-of-type {\n",
       "        vertical-align: middle;\n",
       "    }\n",
       "\n",
       "    .dataframe tbody tr th {\n",
       "        vertical-align: top;\n",
       "    }\n",
       "\n",
       "    .dataframe thead th {\n",
       "        text-align: right;\n",
       "    }\n",
       "</style>\n",
       "<table border=\"1\" class=\"dataframe\">\n",
       "  <thead>\n",
       "    <tr style=\"text-align: right;\">\n",
       "      <th></th>\n",
       "      <th>vulc</th>\n",
       "      <th>perc_nat_rubber</th>\n",
       "      <th>wiring_strength</th>\n",
       "      <th>weather</th>\n",
       "      <th>perc_imp</th>\n",
       "      <th>temperature</th>\n",
       "      <th>tread_type</th>\n",
       "      <th>tyre_season</th>\n",
       "      <th>elevation</th>\n",
       "      <th>month</th>\n",
       "      <th>tread_depth</th>\n",
       "      <th>tyre_quality</th>\n",
       "      <th>perc_exp_comp</th>\n",
       "      <th>add_layers</th>\n",
       "      <th>failure</th>\n",
       "    </tr>\n",
       "  </thead>\n",
       "  <tbody>\n",
       "    <tr>\n",
       "      <th>0</th>\n",
       "      <td>17.990</td>\n",
       "      <td>26</td>\n",
       "      <td>1</td>\n",
       "      <td>0.16</td>\n",
       "      <td>0.01</td>\n",
       "      <td>-8.12</td>\n",
       "      <td>0</td>\n",
       "      <td>1</td>\n",
       "      <td>332.5</td>\n",
       "      <td>8</td>\n",
       "      <td>0</td>\n",
       "      <td>1</td>\n",
       "      <td>5.13</td>\n",
       "      <td>1</td>\n",
       "      <td>0</td>\n",
       "    </tr>\n",
       "    <tr>\n",
       "      <th>1</th>\n",
       "      <td>20.704</td>\n",
       "      <td>36</td>\n",
       "      <td>1</td>\n",
       "      <td>0.30</td>\n",
       "      <td>0.01</td>\n",
       "      <td>-4.52</td>\n",
       "      <td>2</td>\n",
       "      <td>0</td>\n",
       "      <td>328.0</td>\n",
       "      <td>11</td>\n",
       "      <td>1</td>\n",
       "      <td>0</td>\n",
       "      <td>6.15</td>\n",
       "      <td>1</td>\n",
       "      <td>0</td>\n",
       "    </tr>\n",
       "    <tr>\n",
       "      <th>2</th>\n",
       "      <td>19.156</td>\n",
       "      <td>34</td>\n",
       "      <td>1</td>\n",
       "      <td>0.30</td>\n",
       "      <td>0.01</td>\n",
       "      <td>-1.08</td>\n",
       "      <td>0</td>\n",
       "      <td>0</td>\n",
       "      <td>247.0</td>\n",
       "      <td>0</td>\n",
       "      <td>1</td>\n",
       "      <td>0</td>\n",
       "      <td>6.36</td>\n",
       "      <td>1</td>\n",
       "      <td>0</td>\n",
       "    </tr>\n",
       "    <tr>\n",
       "      <th>3</th>\n",
       "      <td>16.802</td>\n",
       "      <td>35</td>\n",
       "      <td>1</td>\n",
       "      <td>0.19</td>\n",
       "      <td>0.02</td>\n",
       "      <td>7.44</td>\n",
       "      <td>1</td>\n",
       "      <td>0</td>\n",
       "      <td>408.0</td>\n",
       "      <td>7</td>\n",
       "      <td>3</td>\n",
       "      <td>1</td>\n",
       "      <td>6.62</td>\n",
       "      <td>1</td>\n",
       "      <td>0</td>\n",
       "    </tr>\n",
       "    <tr>\n",
       "      <th>4</th>\n",
       "      <td>17.140</td>\n",
       "      <td>23</td>\n",
       "      <td>2</td>\n",
       "      <td>0.39</td>\n",
       "      <td>0.01</td>\n",
       "      <td>30.52</td>\n",
       "      <td>0</td>\n",
       "      <td>1</td>\n",
       "      <td>308.0</td>\n",
       "      <td>2</td>\n",
       "      <td>2</td>\n",
       "      <td>0</td>\n",
       "      <td>6.15</td>\n",
       "      <td>1</td>\n",
       "      <td>0</td>\n",
       "    </tr>\n",
       "  </tbody>\n",
       "</table>\n",
       "</div>"
      ],
      "text/plain": [
       "     vulc  perc_nat_rubber  wiring_strength  weather  perc_imp  temperature  \\\n",
       "0  17.990               26                1     0.16      0.01        -8.12   \n",
       "1  20.704               36                1     0.30      0.01        -4.52   \n",
       "2  19.156               34                1     0.30      0.01        -1.08   \n",
       "3  16.802               35                1     0.19      0.02         7.44   \n",
       "4  17.140               23                2     0.39      0.01        30.52   \n",
       "\n",
       "   tread_type  tyre_season  elevation  month  tread_depth  tyre_quality  \\\n",
       "0           0            1      332.5      8            0             1   \n",
       "1           2            0      328.0     11            1             0   \n",
       "2           0            0      247.0      0            1             0   \n",
       "3           1            0      408.0      7            3             1   \n",
       "4           0            1      308.0      2            2             0   \n",
       "\n",
       "   perc_exp_comp  add_layers  failure  \n",
       "0           5.13           1        0  \n",
       "1           6.15           1        0  \n",
       "2           6.36           1        0  \n",
       "3           6.62           1        0  \n",
       "4           6.15           1        0  "
      ]
     },
     "execution_count": 290,
     "metadata": {},
     "output_type": "execute_result"
    }
   ],
   "source": [
    "#dropping all column \"diameter\"\n",
    "d=\"diameter\"\n",
    "data_dropped = data.drop(columns=d)\n",
    "\n",
    "data_dropped.head()"
   ]
  },
  {
   "cell_type": "code",
   "execution_count": 292,
   "metadata": {},
   "outputs": [
    {
     "data": {
      "text/plain": [
       "vulc               0\n",
       "perc_nat_rubber    0\n",
       "wiring_strength    0\n",
       "weather            0\n",
       "perc_imp           0\n",
       "temperature        0\n",
       "tread_type         0\n",
       "tyre_season        0\n",
       "elevation          0\n",
       "month              0\n",
       "tread_depth        0\n",
       "tyre_quality       0\n",
       "perc_exp_comp      0\n",
       "add_layers         0\n",
       "failure            0\n",
       "dtype: int64"
      ]
     },
     "execution_count": 292,
     "metadata": {},
     "output_type": "execute_result"
    }
   ],
   "source": [
    "data_dropped.isnull().sum()"
   ]
  },
  {
   "cell_type": "code",
   "execution_count": 293,
   "metadata": {
    "execution": {
     "iopub.execute_input": "2022-12-09T11:31:22.775965Z",
     "iopub.status.busy": "2022-12-09T11:31:22.775538Z",
     "iopub.status.idle": "2022-12-09T11:31:22.791286Z",
     "shell.execute_reply": "2022-12-09T11:31:22.790168Z",
     "shell.execute_reply.started": "2022-12-09T11:31:22.775928Z"
    }
   },
   "outputs": [
    {
     "data": {
      "text/html": [
       "<div>\n",
       "<style scoped>\n",
       "    .dataframe tbody tr th:only-of-type {\n",
       "        vertical-align: middle;\n",
       "    }\n",
       "\n",
       "    .dataframe tbody tr th {\n",
       "        vertical-align: top;\n",
       "    }\n",
       "\n",
       "    .dataframe thead th {\n",
       "        text-align: right;\n",
       "    }\n",
       "</style>\n",
       "<table border=\"1\" class=\"dataframe\">\n",
       "  <thead>\n",
       "    <tr style=\"text-align: right;\">\n",
       "      <th></th>\n",
       "      <th>tread_type</th>\n",
       "      <th>tyre_season</th>\n",
       "      <th>month</th>\n",
       "      <th>tread_depth</th>\n",
       "      <th>wiring_strength</th>\n",
       "      <th>tyre_quality</th>\n",
       "      <th>add_layers</th>\n",
       "    </tr>\n",
       "  </thead>\n",
       "  <tbody>\n",
       "    <tr>\n",
       "      <th>0</th>\n",
       "      <td>0</td>\n",
       "      <td>1</td>\n",
       "      <td>8</td>\n",
       "      <td>0</td>\n",
       "      <td>1</td>\n",
       "      <td>1</td>\n",
       "      <td>1</td>\n",
       "    </tr>\n",
       "    <tr>\n",
       "      <th>1</th>\n",
       "      <td>2</td>\n",
       "      <td>0</td>\n",
       "      <td>11</td>\n",
       "      <td>1</td>\n",
       "      <td>1</td>\n",
       "      <td>0</td>\n",
       "      <td>1</td>\n",
       "    </tr>\n",
       "    <tr>\n",
       "      <th>2</th>\n",
       "      <td>0</td>\n",
       "      <td>0</td>\n",
       "      <td>0</td>\n",
       "      <td>1</td>\n",
       "      <td>1</td>\n",
       "      <td>0</td>\n",
       "      <td>1</td>\n",
       "    </tr>\n",
       "    <tr>\n",
       "      <th>3</th>\n",
       "      <td>1</td>\n",
       "      <td>0</td>\n",
       "      <td>7</td>\n",
       "      <td>3</td>\n",
       "      <td>1</td>\n",
       "      <td>1</td>\n",
       "      <td>1</td>\n",
       "    </tr>\n",
       "    <tr>\n",
       "      <th>4</th>\n",
       "      <td>0</td>\n",
       "      <td>1</td>\n",
       "      <td>2</td>\n",
       "      <td>2</td>\n",
       "      <td>2</td>\n",
       "      <td>0</td>\n",
       "      <td>1</td>\n",
       "    </tr>\n",
       "  </tbody>\n",
       "</table>\n",
       "</div>"
      ],
      "text/plain": [
       "   tread_type  tyre_season  month  tread_depth  wiring_strength  tyre_quality  \\\n",
       "0           0            1      8            0                1             1   \n",
       "1           2            0     11            1                1             0   \n",
       "2           0            0      0            1                1             0   \n",
       "3           1            0      7            3                1             1   \n",
       "4           0            1      2            2                2             0   \n",
       "\n",
       "   add_layers  \n",
       "0           1  \n",
       "1           1  \n",
       "2           1  \n",
       "3           1  \n",
       "4           1  "
      ]
     },
     "execution_count": 293,
     "metadata": {},
     "output_type": "execute_result"
    }
   ],
   "source": [
    "selection_categorical=['tread_type', 'tyre_season', 'month', 'tread_depth', 'wiring_strength', 'tyre_quality',\n",
    "       'add_layers']\n",
    "data_categorical=data_dropped[selection_categorical]\n",
    "data_categorical.head()"
   ]
  },
  {
   "cell_type": "code",
   "execution_count": 294,
   "metadata": {
    "execution": {
     "iopub.execute_input": "2022-12-09T11:31:35.010954Z",
     "iopub.status.busy": "2022-12-09T11:31:35.010507Z",
     "iopub.status.idle": "2022-12-09T11:31:36.384034Z",
     "shell.execute_reply": "2022-12-09T11:31:36.382804Z",
     "shell.execute_reply.started": "2022-12-09T11:31:35.010920Z"
    }
   },
   "outputs": [
    {
     "data": {
      "image/png": "[encoded data removed]",
      "text/plain": [
       "<Figure size 1080x504 with 8 Axes>"
      ]
     },
     "metadata": {
      "needs_background": "light"
     },
     "output_type": "display_data"
    }
   ],
   "source": [
    "from matplotlib.patches import Rectangle\n",
    "import numpy as np\n",
    "\n",
    "data_0=data_categorical[data_dropped['failure']==0] # records wih target==0\n",
    "data_1=data_categorical[data_dropped['failure']==1] # records wih target==1\n",
    "\n",
    "cmap = plt.get_cmap('jet')\n",
    "col=[cmap(0.5),cmap(0.25)]\n",
    "fig, axes = plt.subplots(2, 4,figsize=[15,7])\n",
    "axes = axes.flatten()\n",
    "fig.tight_layout(h_pad=10)\n",
    "\n",
    "i=0\n",
    "for x in data_categorical.columns:\n",
    "    plt.sca(axes[i]) # set the current Axes\n",
    "    plt.hist([data_0[x],data_1[x]],density=True,color=col)\n",
    "    plt.xticks(rotation = 90) # Rotates X-Axis Ticks by 45-degrees\n",
    "    plt.title(x)\n",
    "    handles = [Rectangle((0,0),1,1,color=c)for c in col]\n",
    "    labels= [\"0\",\"1\"]\n",
    "    plt.legend(handles, labels)\n",
    "    i+=1\n",
    "plt.show()"
   ]
  },
  {
   "cell_type": "code",
   "execution_count": 181,
   "metadata": {},
   "outputs": [],
   "source": [
    "# create dummies with the OneHotEncoder method"
   ]
  },
  {
   "cell_type": "code",
   "execution_count": 297,
   "metadata": {},
   "outputs": [
    {
     "data": {
      "text/html": [
       "<div>\n",
       "<style scoped>\n",
       "    .dataframe tbody tr th:only-of-type {\n",
       "        vertical-align: middle;\n",
       "    }\n",
       "\n",
       "    .dataframe tbody tr th {\n",
       "        vertical-align: top;\n",
       "    }\n",
       "\n",
       "    .dataframe thead th {\n",
       "        text-align: right;\n",
       "    }\n",
       "</style>\n",
       "<table border=\"1\" class=\"dataframe\">\n",
       "  <thead>\n",
       "    <tr style=\"text-align: right;\">\n",
       "      <th></th>\n",
       "      <th>tread_type_0</th>\n",
       "      <th>tread_type_1</th>\n",
       "      <th>tread_type_2</th>\n",
       "      <th>tread_type_3</th>\n",
       "      <th>tread_type_4</th>\n",
       "      <th>tyre_season_0</th>\n",
       "      <th>tyre_season_1</th>\n",
       "      <th>month_0</th>\n",
       "      <th>month_1</th>\n",
       "      <th>month_10</th>\n",
       "      <th>...</th>\n",
       "      <th>tread_depth_2</th>\n",
       "      <th>tread_depth_3</th>\n",
       "      <th>wiring_strength_0</th>\n",
       "      <th>wiring_strength_1</th>\n",
       "      <th>wiring_strength_2</th>\n",
       "      <th>tyre_quality_0</th>\n",
       "      <th>tyre_quality_1</th>\n",
       "      <th>add_layers_0</th>\n",
       "      <th>add_layers_1</th>\n",
       "      <th>add_layers_2</th>\n",
       "    </tr>\n",
       "  </thead>\n",
       "  <tbody>\n",
       "    <tr>\n",
       "      <th>0</th>\n",
       "      <td>1.0</td>\n",
       "      <td>0.0</td>\n",
       "      <td>0.0</td>\n",
       "      <td>0.0</td>\n",
       "      <td>0.0</td>\n",
       "      <td>0.0</td>\n",
       "      <td>1.0</td>\n",
       "      <td>0.0</td>\n",
       "      <td>0.0</td>\n",
       "      <td>0.0</td>\n",
       "      <td>...</td>\n",
       "      <td>0.0</td>\n",
       "      <td>0.0</td>\n",
       "      <td>0.0</td>\n",
       "      <td>1.0</td>\n",
       "      <td>0.0</td>\n",
       "      <td>0.0</td>\n",
       "      <td>1.0</td>\n",
       "      <td>0.0</td>\n",
       "      <td>1.0</td>\n",
       "      <td>0.0</td>\n",
       "    </tr>\n",
       "    <tr>\n",
       "      <th>1</th>\n",
       "      <td>0.0</td>\n",
       "      <td>0.0</td>\n",
       "      <td>1.0</td>\n",
       "      <td>0.0</td>\n",
       "      <td>0.0</td>\n",
       "      <td>1.0</td>\n",
       "      <td>0.0</td>\n",
       "      <td>0.0</td>\n",
       "      <td>0.0</td>\n",
       "      <td>0.0</td>\n",
       "      <td>...</td>\n",
       "      <td>0.0</td>\n",
       "      <td>0.0</td>\n",
       "      <td>0.0</td>\n",
       "      <td>1.0</td>\n",
       "      <td>0.0</td>\n",
       "      <td>1.0</td>\n",
       "      <td>0.0</td>\n",
       "      <td>0.0</td>\n",
       "      <td>1.0</td>\n",
       "      <td>0.0</td>\n",
       "    </tr>\n",
       "    <tr>\n",
       "      <th>2</th>\n",
       "      <td>1.0</td>\n",
       "      <td>0.0</td>\n",
       "      <td>0.0</td>\n",
       "      <td>0.0</td>\n",
       "      <td>0.0</td>\n",
       "      <td>1.0</td>\n",
       "      <td>0.0</td>\n",
       "      <td>1.0</td>\n",
       "      <td>0.0</td>\n",
       "      <td>0.0</td>\n",
       "      <td>...</td>\n",
       "      <td>0.0</td>\n",
       "      <td>0.0</td>\n",
       "      <td>0.0</td>\n",
       "      <td>1.0</td>\n",
       "      <td>0.0</td>\n",
       "      <td>1.0</td>\n",
       "      <td>0.0</td>\n",
       "      <td>0.0</td>\n",
       "      <td>1.0</td>\n",
       "      <td>0.0</td>\n",
       "    </tr>\n",
       "    <tr>\n",
       "      <th>3</th>\n",
       "      <td>0.0</td>\n",
       "      <td>1.0</td>\n",
       "      <td>0.0</td>\n",
       "      <td>0.0</td>\n",
       "      <td>0.0</td>\n",
       "      <td>1.0</td>\n",
       "      <td>0.0</td>\n",
       "      <td>0.0</td>\n",
       "      <td>0.0</td>\n",
       "      <td>0.0</td>\n",
       "      <td>...</td>\n",
       "      <td>0.0</td>\n",
       "      <td>1.0</td>\n",
       "      <td>0.0</td>\n",
       "      <td>1.0</td>\n",
       "      <td>0.0</td>\n",
       "      <td>0.0</td>\n",
       "      <td>1.0</td>\n",
       "      <td>0.0</td>\n",
       "      <td>1.0</td>\n",
       "      <td>0.0</td>\n",
       "    </tr>\n",
       "    <tr>\n",
       "      <th>4</th>\n",
       "      <td>1.0</td>\n",
       "      <td>0.0</td>\n",
       "      <td>0.0</td>\n",
       "      <td>0.0</td>\n",
       "      <td>0.0</td>\n",
       "      <td>0.0</td>\n",
       "      <td>1.0</td>\n",
       "      <td>0.0</td>\n",
       "      <td>0.0</td>\n",
       "      <td>0.0</td>\n",
       "      <td>...</td>\n",
       "      <td>1.0</td>\n",
       "      <td>0.0</td>\n",
       "      <td>0.0</td>\n",
       "      <td>0.0</td>\n",
       "      <td>1.0</td>\n",
       "      <td>1.0</td>\n",
       "      <td>0.0</td>\n",
       "      <td>0.0</td>\n",
       "      <td>1.0</td>\n",
       "      <td>0.0</td>\n",
       "    </tr>\n",
       "  </tbody>\n",
       "</table>\n",
       "<p>5 rows × 31 columns</p>\n",
       "</div>"
      ],
      "text/plain": [
       "   tread_type_0  tread_type_1  tread_type_2  tread_type_3  tread_type_4  \\\n",
       "0           1.0           0.0           0.0           0.0           0.0   \n",
       "1           0.0           0.0           1.0           0.0           0.0   \n",
       "2           1.0           0.0           0.0           0.0           0.0   \n",
       "3           0.0           1.0           0.0           0.0           0.0   \n",
       "4           1.0           0.0           0.0           0.0           0.0   \n",
       "\n",
       "   tyre_season_0  tyre_season_1  month_0  month_1  month_10  ...  \\\n",
       "0            0.0            1.0      0.0      0.0       0.0  ...   \n",
       "1            1.0            0.0      0.0      0.0       0.0  ...   \n",
       "2            1.0            0.0      1.0      0.0       0.0  ...   \n",
       "3            1.0            0.0      0.0      0.0       0.0  ...   \n",
       "4            0.0            1.0      0.0      0.0       0.0  ...   \n",
       "\n",
       "   tread_depth_2  tread_depth_3  wiring_strength_0  wiring_strength_1  \\\n",
       "0            0.0            0.0                0.0                1.0   \n",
       "1            0.0            0.0                0.0                1.0   \n",
       "2            0.0            0.0                0.0                1.0   \n",
       "3            0.0            1.0                0.0                1.0   \n",
       "4            1.0            0.0                0.0                0.0   \n",
       "\n",
       "   wiring_strength_2  tyre_quality_0  tyre_quality_1  add_layers_0  \\\n",
       "0                0.0             0.0             1.0           0.0   \n",
       "1                0.0             1.0             0.0           0.0   \n",
       "2                0.0             1.0             0.0           0.0   \n",
       "3                0.0             0.0             1.0           0.0   \n",
       "4                1.0             1.0             0.0           0.0   \n",
       "\n",
       "   add_layers_1  add_layers_2  \n",
       "0           1.0           0.0  \n",
       "1           1.0           0.0  \n",
       "2           1.0           0.0  \n",
       "3           1.0           0.0  \n",
       "4           1.0           0.0  \n",
       "\n",
       "[5 rows x 31 columns]"
      ]
     },
     "execution_count": 297,
     "metadata": {},
     "output_type": "execute_result"
    }
   ],
   "source": [
    "from sklearn.preprocessing import OneHotEncoder\n",
    "encod = OneHotEncoder(handle_unknown='ignore')\n",
    "\n",
    "data_dummies=pd.DataFrame()\n",
    "for i in range(len(selection_categorical)):\n",
    "    encod.fit(data_dropped[[selection_categorical[i]]].astype(str))\n",
    "    dummies = encod.transform(data_dropped[[selection_categorical[i]]].astype(str)).toarray()\n",
    "    for k in range(len(encod.categories_[0])):\n",
    "        encod.categories_[0][k]=selection_categorical[i]+\"_\"+str(encod.categories_[0][k])\n",
    "    data_dummies=pd.concat([data_dummies,pd.DataFrame(dummies,columns=encod.categories_[0])],axis=1)\n",
    "    \n",
    "data_dummies.head()"
   ]
  },
  {
   "cell_type": "code",
   "execution_count": 299,
   "metadata": {
    "execution": {
     "iopub.execute_input": "2022-12-09T11:31:36.386965Z",
     "iopub.status.busy": "2022-12-09T11:31:36.386501Z",
     "iopub.status.idle": "2022-12-09T11:31:36.405133Z",
     "shell.execute_reply": "2022-12-09T11:31:36.403961Z",
     "shell.execute_reply.started": "2022-12-09T11:31:36.386923Z"
    }
   },
   "outputs": [
    {
     "data": {
      "text/html": [
       "<div>\n",
       "<style scoped>\n",
       "    .dataframe tbody tr th:only-of-type {\n",
       "        vertical-align: middle;\n",
       "    }\n",
       "\n",
       "    .dataframe tbody tr th {\n",
       "        vertical-align: top;\n",
       "    }\n",
       "\n",
       "    .dataframe thead th {\n",
       "        text-align: right;\n",
       "    }\n",
       "</style>\n",
       "<table border=\"1\" class=\"dataframe\">\n",
       "  <thead>\n",
       "    <tr style=\"text-align: right;\">\n",
       "      <th></th>\n",
       "      <th>vulc</th>\n",
       "      <th>perc_nat_rubber</th>\n",
       "      <th>weather</th>\n",
       "      <th>perc_imp</th>\n",
       "      <th>temperature</th>\n",
       "      <th>elevation</th>\n",
       "      <th>perc_exp_comp</th>\n",
       "      <th>failure</th>\n",
       "    </tr>\n",
       "  </thead>\n",
       "  <tbody>\n",
       "    <tr>\n",
       "      <th>0</th>\n",
       "      <td>17.990</td>\n",
       "      <td>26</td>\n",
       "      <td>0.16</td>\n",
       "      <td>0.01</td>\n",
       "      <td>-8.12</td>\n",
       "      <td>332.5</td>\n",
       "      <td>5.13</td>\n",
       "      <td>0</td>\n",
       "    </tr>\n",
       "    <tr>\n",
       "      <th>1</th>\n",
       "      <td>20.704</td>\n",
       "      <td>36</td>\n",
       "      <td>0.30</td>\n",
       "      <td>0.01</td>\n",
       "      <td>-4.52</td>\n",
       "      <td>328.0</td>\n",
       "      <td>6.15</td>\n",
       "      <td>0</td>\n",
       "    </tr>\n",
       "    <tr>\n",
       "      <th>2</th>\n",
       "      <td>19.156</td>\n",
       "      <td>34</td>\n",
       "      <td>0.30</td>\n",
       "      <td>0.01</td>\n",
       "      <td>-1.08</td>\n",
       "      <td>247.0</td>\n",
       "      <td>6.36</td>\n",
       "      <td>0</td>\n",
       "    </tr>\n",
       "    <tr>\n",
       "      <th>3</th>\n",
       "      <td>16.802</td>\n",
       "      <td>35</td>\n",
       "      <td>0.19</td>\n",
       "      <td>0.02</td>\n",
       "      <td>7.44</td>\n",
       "      <td>408.0</td>\n",
       "      <td>6.62</td>\n",
       "      <td>0</td>\n",
       "    </tr>\n",
       "    <tr>\n",
       "      <th>4</th>\n",
       "      <td>17.140</td>\n",
       "      <td>23</td>\n",
       "      <td>0.39</td>\n",
       "      <td>0.01</td>\n",
       "      <td>30.52</td>\n",
       "      <td>308.0</td>\n",
       "      <td>6.15</td>\n",
       "      <td>0</td>\n",
       "    </tr>\n",
       "  </tbody>\n",
       "</table>\n",
       "</div>"
      ],
      "text/plain": [
       "     vulc  perc_nat_rubber  weather  perc_imp  temperature  elevation  \\\n",
       "0  17.990               26     0.16      0.01        -8.12      332.5   \n",
       "1  20.704               36     0.30      0.01        -4.52      328.0   \n",
       "2  19.156               34     0.30      0.01        -1.08      247.0   \n",
       "3  16.802               35     0.19      0.02         7.44      408.0   \n",
       "4  17.140               23     0.39      0.01        30.52      308.0   \n",
       "\n",
       "   perc_exp_comp  failure  \n",
       "0           5.13        0  \n",
       "1           6.15        0  \n",
       "2           6.36        0  \n",
       "3           6.62        0  \n",
       "4           6.15        0  "
      ]
     },
     "execution_count": 299,
     "metadata": {},
     "output_type": "execute_result"
    }
   ],
   "source": [
    "selection_numerical=['vulc', 'perc_nat_rubber', 'weather', 'perc_imp', 'temperature', 'elevation',\n",
    "       'perc_exp_comp','failure']\n",
    "data_numerical=data_dropped[selection_numerical]\n",
    "data_numerical.head()"
   ]
  },
  {
   "cell_type": "code",
   "execution_count": 300,
   "metadata": {
    "execution": {
     "iopub.execute_input": "2022-12-09T11:31:36.409045Z",
     "iopub.status.busy": "2022-12-09T11:31:36.408679Z",
     "iopub.status.idle": "2022-12-09T11:31:37.755980Z",
     "shell.execute_reply": "2022-12-09T11:31:37.754691Z",
     "shell.execute_reply.started": "2022-12-09T11:31:36.409012Z"
    }
   },
   "outputs": [
    {
     "data": {
      "image/png": "[encoded data removed]",
      "text/plain": [
       "<Figure size 1080x864 with 16 Axes>"
      ]
     },
     "metadata": {
      "needs_background": "light"
     },
     "output_type": "display_data"
    }
   ],
   "source": [
    "data_hist=data_numerical.hist(layout=(4,4), figsize=(15,12))\n",
    "# we can try to normalize vulc, temperature and elevation"
   ]
  },
  {
   "cell_type": "code",
   "execution_count": 301,
   "metadata": {
    "execution": {
     "iopub.execute_input": "2022-12-09T11:32:32.115205Z",
     "iopub.status.busy": "2022-12-09T11:32:32.114765Z",
     "iopub.status.idle": "2022-12-09T11:32:32.135023Z",
     "shell.execute_reply": "2022-12-09T11:32:32.134055Z",
     "shell.execute_reply.started": "2022-12-09T11:32:32.115168Z"
    }
   },
   "outputs": [],
   "source": [
    "import math\n",
    "pd.options.mode.chained_assignment = None # no warning on creating a new column\n",
    "\n",
    "data_numerical['logvulc']=data_numerical['vulc'].apply(lambda x: math.log(x+1))\n",
    "data_numerical['logtemp']=data_numerical['temperature'].apply(lambda x: math.log(x+20)) #translate negative values\n",
    "data_numerical['logelev']=data_numerical['elevation'].apply(lambda x: math.log(x+1))\n",
    "\n",
    "selection_numerical_log=[\"logvulc\", \"perc_nat_rubber\", \"weather\", \"perc_imp\", \"logtemp\", \"logelev\",\n",
    "       \"perc_exp_comp\",\"failure\"]\n",
    "data_numerical_log=data_numerical[selection_numerical_log]\n",
    "data_numerical=data_numerical[selection_numerical]\n"
   ]
  },
  {
   "cell_type": "code",
   "execution_count": 302,
   "metadata": {
    "execution": {
     "iopub.execute_input": "2022-12-09T11:31:37.781665Z",
     "iopub.status.busy": "2022-12-09T11:31:37.780605Z",
     "iopub.status.idle": "2022-12-09T11:31:39.011223Z",
     "shell.execute_reply": "2022-12-09T11:31:39.010254Z",
     "shell.execute_reply.started": "2022-12-09T11:31:37.781619Z"
    }
   },
   "outputs": [
    {
     "data": {
      "image/png": "[encoded data removed]",
      "text/plain": [
       "<Figure size 1080x864 with 16 Axes>"
      ]
     },
     "metadata": {
      "needs_background": "light"
     },
     "output_type": "display_data"
    }
   ],
   "source": [
    "data_hist=data_numerical_log.hist(layout=(4,4), figsize=(15,12))"
   ]
  },
  {
   "cell_type": "code",
   "execution_count": 303,
   "metadata": {
    "execution": {
     "iopub.execute_input": "2022-12-09T11:31:39.013606Z",
     "iopub.status.busy": "2022-12-09T11:31:39.012818Z",
     "iopub.status.idle": "2022-12-09T11:31:40.375679Z",
     "shell.execute_reply": "2022-12-09T11:31:40.374454Z",
     "shell.execute_reply.started": "2022-12-09T11:31:39.013561Z"
    }
   },
   "outputs": [
    {
     "data": {
      "image/png": "[encoded data removed]",
      "text/plain": [
       "<Figure size 1080x864 with 16 Axes>"
      ]
     },
     "metadata": {
      "needs_background": "light"
     },
     "output_type": "display_data"
    }
   ],
   "source": [
    "data_hist=data_numerical.hist(layout=(4,4), figsize=(15,12))"
   ]
  },
  {
   "cell_type": "markdown",
   "metadata": {},
   "source": [
    "we can chose what kind of data we prefer to use --> better log version beacuse in more symmetric (vulc doesn't change a lot)"
   ]
  },
  {
   "cell_type": "code",
   "execution_count": 304,
   "metadata": {
    "execution": {
     "iopub.execute_input": "2022-12-09T11:31:40.378007Z",
     "iopub.status.busy": "2022-12-09T11:31:40.377494Z",
     "iopub.status.idle": "2022-12-09T11:31:40.615167Z",
     "shell.execute_reply": "2022-12-09T11:31:40.614052Z",
     "shell.execute_reply.started": "2022-12-09T11:31:40.377960Z"
    }
   },
   "outputs": [
    {
     "data": {
      "text/plain": [
       "<AxesSubplot:>"
      ]
     },
     "execution_count": 304,
     "metadata": {},
     "output_type": "execute_result"
    },
    {
     "data": {
      "image/png": "[encoded data removed]",
      "text/plain": [
       "<Figure size 432x288 with 1 Axes>"
      ]
     },
     "metadata": {
      "needs_background": "light"
     },
     "output_type": "display_data"
    }
   ],
   "source": [
    "data_numerical.boxplot(rot=90)\n",
    "# the scale of numerical variables is too different"
   ]
  },
  {
   "cell_type": "code",
   "execution_count": 305,
   "metadata": {
    "execution": {
     "iopub.execute_input": "2022-12-09T11:31:40.616762Z",
     "iopub.status.busy": "2022-12-09T11:31:40.616443Z",
     "iopub.status.idle": "2022-12-09T11:31:40.862052Z",
     "shell.execute_reply": "2022-12-09T11:31:40.860939Z",
     "shell.execute_reply.started": "2022-12-09T11:31:40.616733Z"
    }
   },
   "outputs": [
    {
     "data": {
      "text/plain": [
       "<AxesSubplot:>"
      ]
     },
     "execution_count": 305,
     "metadata": {},
     "output_type": "execute_result"
    },
    {
     "data": {
      "image/png": "[encoded data removed]",
      "text/plain": [
       "<Figure size 432x288 with 1 Axes>"
      ]
     },
     "metadata": {
      "needs_background": "light"
     },
     "output_type": "display_data"
    }
   ],
   "source": [
    "data_numerical_log.boxplot(rot=90)\n",
    "# the scale of numerical variables is too different"
   ]
  },
  {
   "cell_type": "code",
   "execution_count": 306,
   "metadata": {
    "execution": {
     "iopub.execute_input": "2022-12-09T11:31:40.864069Z",
     "iopub.status.busy": "2022-12-09T11:31:40.863712Z",
     "iopub.status.idle": "2022-12-09T11:31:40.882086Z",
     "shell.execute_reply": "2022-12-09T11:31:40.880929Z",
     "shell.execute_reply.started": "2022-12-09T11:31:40.864038Z"
    }
   },
   "outputs": [],
   "source": [
    "from sklearn.preprocessing import StandardScaler\n",
    "\n",
    "independent_variables=data_numerical.iloc[:,:-1] #no target\n",
    "independent_variables_log=data_numerical_log.iloc[:,:-1] #no target\n",
    "\n",
    "scaler = StandardScaler().fit(independent_variables) # No target\n",
    "scaled_data = pd.DataFrame(scaler.transform(independent_variables))\n",
    "scaled_data.columns = independent_variables.columns\n",
    "\n",
    "scaler_log = StandardScaler().fit(independent_variables_log)\n",
    "scaled_data_log = pd.DataFrame(scaler_log.transform(independent_variables_log))\n",
    "scaled_data_log.columns = independent_variables_log.columns\n"
   ]
  },
  {
   "cell_type": "code",
   "execution_count": 307,
   "metadata": {
    "execution": {
     "iopub.execute_input": "2022-12-09T11:31:40.885746Z",
     "iopub.status.busy": "2022-12-09T11:31:40.885412Z",
     "iopub.status.idle": "2022-12-09T11:31:41.114259Z",
     "shell.execute_reply": "2022-12-09T11:31:41.113164Z",
     "shell.execute_reply.started": "2022-12-09T11:31:40.885717Z"
    }
   },
   "outputs": [
    {
     "data": {
      "text/plain": [
       "<AxesSubplot:>"
      ]
     },
     "execution_count": 307,
     "metadata": {},
     "output_type": "execute_result"
    },
    {
     "data": {
      "image/png": "[encoded data removed]",
      "text/plain": [
       "<Figure size 432x288 with 1 Axes>"
      ]
     },
     "metadata": {
      "needs_background": "light"
     },
     "output_type": "display_data"
    }
   ],
   "source": [
    "scaled_data.boxplot(rot=90)"
   ]
  },
  {
   "cell_type": "code",
   "execution_count": 308,
   "metadata": {
    "execution": {
     "iopub.execute_input": "2022-12-09T11:31:41.115711Z",
     "iopub.status.busy": "2022-12-09T11:31:41.115397Z",
     "iopub.status.idle": "2022-12-09T11:31:41.367567Z",
     "shell.execute_reply": "2022-12-09T11:31:41.366344Z",
     "shell.execute_reply.started": "2022-12-09T11:31:41.115683Z"
    }
   },
   "outputs": [
    {
     "data": {
      "text/plain": [
       "<AxesSubplot:>"
      ]
     },
     "execution_count": 308,
     "metadata": {},
     "output_type": "execute_result"
    },
    {
     "data": {
      "image/png": "[encoded data removed]",
      "text/plain": [
       "<Figure size 432x288 with 1 Axes>"
      ]
     },
     "metadata": {
      "needs_background": "light"
     },
     "output_type": "display_data"
    }
   ],
   "source": [
    "scaled_data_log.boxplot(rot=90)"
   ]
  },
  {
   "cell_type": "code",
   "execution_count": 309,
   "metadata": {
    "execution": {
     "iopub.execute_input": "2022-12-09T11:31:41.369481Z",
     "iopub.status.busy": "2022-12-09T11:31:41.369066Z",
     "iopub.status.idle": "2022-12-09T11:31:41.557119Z",
     "shell.execute_reply": "2022-12-09T11:31:41.556019Z",
     "shell.execute_reply.started": "2022-12-09T11:31:41.369448Z"
    }
   },
   "outputs": [
    {
     "data": {
      "text/plain": [
       "<matplotlib.collections.PathCollection at 0x2de2b995ee0>"
      ]
     },
     "execution_count": 309,
     "metadata": {},
     "output_type": "execute_result"
    },
    {
     "data": {
      "image/png": "[encoded data removed]",
      "text/plain": [
       "<Figure size 432x288 with 1 Axes>"
      ]
     },
     "metadata": {
      "needs_background": "light"
     },
     "output_type": "display_data"
    }
   ],
   "source": [
    "plt.scatter(range(3000),data_dropped[\"temperature\"],alpha=.3,c='blue')"
   ]
  },
  {
   "cell_type": "code",
   "execution_count": 313,
   "metadata": {
    "execution": {
     "iopub.execute_input": "2022-12-09T11:31:41.559164Z",
     "iopub.status.busy": "2022-12-09T11:31:41.558647Z",
     "iopub.status.idle": "2022-12-09T11:31:41.582346Z",
     "shell.execute_reply": "2022-12-09T11:31:41.581235Z",
     "shell.execute_reply.started": "2022-12-09T11:31:41.559121Z"
    }
   },
   "outputs": [
    {
     "data": {
      "text/html": [
       "<div>\n",
       "<style scoped>\n",
       "    .dataframe tbody tr th:only-of-type {\n",
       "        vertical-align: middle;\n",
       "    }\n",
       "\n",
       "    .dataframe tbody tr th {\n",
       "        vertical-align: top;\n",
       "    }\n",
       "\n",
       "    .dataframe thead th {\n",
       "        text-align: right;\n",
       "    }\n",
       "</style>\n",
       "<table border=\"1\" class=\"dataframe\">\n",
       "  <thead>\n",
       "    <tr style=\"text-align: right;\">\n",
       "      <th></th>\n",
       "      <th>tread_type_0</th>\n",
       "      <th>tread_type_1</th>\n",
       "      <th>tread_type_2</th>\n",
       "      <th>tread_type_3</th>\n",
       "      <th>tread_type_4</th>\n",
       "      <th>tyre_season_0</th>\n",
       "      <th>tyre_season_1</th>\n",
       "      <th>month_0</th>\n",
       "      <th>month_1</th>\n",
       "      <th>month_10</th>\n",
       "      <th>...</th>\n",
       "      <th>add_layers_1</th>\n",
       "      <th>add_layers_2</th>\n",
       "      <th>logvulc</th>\n",
       "      <th>perc_nat_rubber</th>\n",
       "      <th>weather</th>\n",
       "      <th>perc_imp</th>\n",
       "      <th>logtemp</th>\n",
       "      <th>logelev</th>\n",
       "      <th>perc_exp_comp</th>\n",
       "      <th>failure</th>\n",
       "    </tr>\n",
       "  </thead>\n",
       "  <tbody>\n",
       "    <tr>\n",
       "      <th>2995</th>\n",
       "      <td>0.0</td>\n",
       "      <td>1.0</td>\n",
       "      <td>0.0</td>\n",
       "      <td>0.0</td>\n",
       "      <td>0.0</td>\n",
       "      <td>0.0</td>\n",
       "      <td>1.0</td>\n",
       "      <td>0.0</td>\n",
       "      <td>0.0</td>\n",
       "      <td>1.0</td>\n",
       "      <td>...</td>\n",
       "      <td>1.0</td>\n",
       "      <td>0.0</td>\n",
       "      <td>-0.203448</td>\n",
       "      <td>-0.456093</td>\n",
       "      <td>0.584065</td>\n",
       "      <td>-0.319087</td>\n",
       "      <td>1.536932</td>\n",
       "      <td>-0.462821</td>\n",
       "      <td>-0.271809</td>\n",
       "      <td>1</td>\n",
       "    </tr>\n",
       "    <tr>\n",
       "      <th>2996</th>\n",
       "      <td>0.0</td>\n",
       "      <td>1.0</td>\n",
       "      <td>0.0</td>\n",
       "      <td>0.0</td>\n",
       "      <td>0.0</td>\n",
       "      <td>0.0</td>\n",
       "      <td>1.0</td>\n",
       "      <td>0.0</td>\n",
       "      <td>0.0</td>\n",
       "      <td>0.0</td>\n",
       "      <td>...</td>\n",
       "      <td>1.0</td>\n",
       "      <td>0.0</td>\n",
       "      <td>-0.712259</td>\n",
       "      <td>-0.253355</td>\n",
       "      <td>-0.343773</td>\n",
       "      <td>-1.020379</td>\n",
       "      <td>0.317454</td>\n",
       "      <td>-2.016652</td>\n",
       "      <td>0.045070</td>\n",
       "      <td>1</td>\n",
       "    </tr>\n",
       "    <tr>\n",
       "      <th>2997</th>\n",
       "      <td>0.0</td>\n",
       "      <td>1.0</td>\n",
       "      <td>0.0</td>\n",
       "      <td>0.0</td>\n",
       "      <td>0.0</td>\n",
       "      <td>1.0</td>\n",
       "      <td>0.0</td>\n",
       "      <td>0.0</td>\n",
       "      <td>0.0</td>\n",
       "      <td>0.0</td>\n",
       "      <td>...</td>\n",
       "      <td>0.0</td>\n",
       "      <td>0.0</td>\n",
       "      <td>-1.362635</td>\n",
       "      <td>0.354859</td>\n",
       "      <td>0.584065</td>\n",
       "      <td>-0.319087</td>\n",
       "      <td>-0.043561</td>\n",
       "      <td>-0.957449</td>\n",
       "      <td>-0.539937</td>\n",
       "      <td>0</td>\n",
       "    </tr>\n",
       "    <tr>\n",
       "      <th>2998</th>\n",
       "      <td>0.0</td>\n",
       "      <td>0.0</td>\n",
       "      <td>0.0</td>\n",
       "      <td>0.0</td>\n",
       "      <td>1.0</td>\n",
       "      <td>1.0</td>\n",
       "      <td>0.0</td>\n",
       "      <td>0.0</td>\n",
       "      <td>0.0</td>\n",
       "      <td>0.0</td>\n",
       "      <td>...</td>\n",
       "      <td>0.0</td>\n",
       "      <td>0.0</td>\n",
       "      <td>0.485838</td>\n",
       "      <td>1.165810</td>\n",
       "      <td>-1.380768</td>\n",
       "      <td>-1.020379</td>\n",
       "      <td>0.431385</td>\n",
       "      <td>-0.441574</td>\n",
       "      <td>0.240072</td>\n",
       "      <td>0</td>\n",
       "    </tr>\n",
       "    <tr>\n",
       "      <th>2999</th>\n",
       "      <td>0.0</td>\n",
       "      <td>1.0</td>\n",
       "      <td>0.0</td>\n",
       "      <td>0.0</td>\n",
       "      <td>0.0</td>\n",
       "      <td>1.0</td>\n",
       "      <td>0.0</td>\n",
       "      <td>0.0</td>\n",
       "      <td>0.0</td>\n",
       "      <td>0.0</td>\n",
       "      <td>...</td>\n",
       "      <td>0.0</td>\n",
       "      <td>0.0</td>\n",
       "      <td>1.346910</td>\n",
       "      <td>0.354859</td>\n",
       "      <td>-1.217032</td>\n",
       "      <td>-1.020379</td>\n",
       "      <td>0.968922</td>\n",
       "      <td>0.378516</td>\n",
       "      <td>0.508200</td>\n",
       "      <td>0</td>\n",
       "    </tr>\n",
       "  </tbody>\n",
       "</table>\n",
       "<p>5 rows × 39 columns</p>\n",
       "</div>"
      ],
      "text/plain": [
       "      tread_type_0  tread_type_1  tread_type_2  tread_type_3  tread_type_4  \\\n",
       "2995           0.0           1.0           0.0           0.0           0.0   \n",
       "2996           0.0           1.0           0.0           0.0           0.0   \n",
       "2997           0.0           1.0           0.0           0.0           0.0   \n",
       "2998           0.0           0.0           0.0           0.0           1.0   \n",
       "2999           0.0           1.0           0.0           0.0           0.0   \n",
       "\n",
       "      tyre_season_0  tyre_season_1  month_0  month_1  month_10  ...  \\\n",
       "2995            0.0            1.0      0.0      0.0       1.0  ...   \n",
       "2996            0.0            1.0      0.0      0.0       0.0  ...   \n",
       "2997            1.0            0.0      0.0      0.0       0.0  ...   \n",
       "2998            1.0            0.0      0.0      0.0       0.0  ...   \n",
       "2999            1.0            0.0      0.0      0.0       0.0  ...   \n",
       "\n",
       "      add_layers_1  add_layers_2   logvulc  perc_nat_rubber   weather  \\\n",
       "2995           1.0           0.0 -0.203448        -0.456093  0.584065   \n",
       "2996           1.0           0.0 -0.712259        -0.253355 -0.343773   \n",
       "2997           0.0           0.0 -1.362635         0.354859  0.584065   \n",
       "2998           0.0           0.0  0.485838         1.165810 -1.380768   \n",
       "2999           0.0           0.0  1.346910         0.354859 -1.217032   \n",
       "\n",
       "      perc_imp   logtemp   logelev  perc_exp_comp  failure  \n",
       "2995 -0.319087  1.536932 -0.462821      -0.271809        1  \n",
       "2996 -1.020379  0.317454 -2.016652       0.045070        1  \n",
       "2997 -0.319087 -0.043561 -0.957449      -0.539937        0  \n",
       "2998 -1.020379  0.431385 -0.441574       0.240072        0  \n",
       "2999 -1.020379  0.968922  0.378516       0.508200        0  \n",
       "\n",
       "[5 rows x 39 columns]"
      ]
     },
     "execution_count": 313,
     "metadata": {},
     "output_type": "execute_result"
    }
   ],
   "source": [
    "# Create final dataset with all modifications and target variable included\n",
    "\n",
    "\n",
    "df=pd.concat([data_dummies,scaled_data_log],axis=1)\n",
    "\n",
    "df['failure']=data_dropped['failure']\n",
    "\n",
    "df.tail()\n"
   ]
  },
  {
   "cell_type": "markdown",
   "metadata": {},
   "source": [
    "# MODELS"
   ]
  },
  {
   "cell_type": "markdown",
   "metadata": {},
   "source": [
    "## Separate train/test set"
   ]
  },
  {
   "cell_type": "code",
   "execution_count": 343,
   "metadata": {},
   "outputs": [
    {
     "data": {
      "image/png": "[encoded data removed]",
      "text/plain": [
       "<Figure size 432x288 with 1 Axes>"
      ]
     },
     "metadata": {
      "needs_background": "light"
     },
     "output_type": "display_data"
    },
    {
     "data": {
      "text/plain": [
       "0    1992\n",
       "1    1008\n",
       "Name: failure, dtype: int64"
      ]
     },
     "execution_count": 343,
     "metadata": {},
     "output_type": "execute_result"
    }
   ],
   "source": [
    "#Visualize Class Counts\n",
    "plt.hist(y)\n",
    "plt.xlabel(\"count of each class\")\n",
    "plt.ylabel(\"classes\")\n",
    "plt.show()\n",
    "df.failure.value_counts()"
   ]
  },
  {
   "cell_type": "code",
   "execution_count": 344,
   "metadata": {},
   "outputs": [
    {
     "data": {
      "text/plain": [
       "1    1992\n",
       "0    1992\n",
       "Name: failure, dtype: int64"
      ]
     },
     "execution_count": 344,
     "metadata": {},
     "output_type": "execute_result"
    }
   ],
   "source": [
    "from sklearn.utils import resample\n",
    "\n",
    "df_majority = df[df.failure==0]\n",
    "df_minority = df[df.failure==1] \n",
    " \n",
    "df_minority_oversampled = resample(df_minority, \n",
    "                                   replace=True,\n",
    "                                   n_samples=1992,     \n",
    "                                   random_state=123)  \n",
    "\n",
    "df_oversampled = pd.concat([df_minority_oversampled, df_majority])\n",
    "\n",
    "df_oversampled.failure.value_counts()"
   ]
  },
  {
   "cell_type": "code",
   "execution_count": 369,
   "metadata": {
    "execution": {
     "iopub.execute_input": "2022-12-09T11:32:46.150860Z",
     "iopub.status.busy": "2022-12-09T11:32:46.150408Z",
     "iopub.status.idle": "2022-12-09T11:32:46.157666Z",
     "shell.execute_reply": "2022-12-09T11:32:46.156115Z",
     "shell.execute_reply.started": "2022-12-09T11:32:46.150821Z"
    }
   },
   "outputs": [],
   "source": [
    "#Separate X and y (explanatory variables and target variable)\n",
    "X = df_oversampled.iloc[:,0:-1]\n",
    "y = df_oversampled.iloc[:,-1] #[-1]]\n",
    "\n",
    "#X.head()\n",
    "#y.head()"
   ]
  },
  {
   "cell_type": "code",
   "execution_count": 370,
   "metadata": {
    "execution": {
     "iopub.execute_input": "2022-12-09T11:32:51.706648Z",
     "iopub.status.busy": "2022-12-09T11:32:51.706221Z",
     "iopub.status.idle": "2022-12-09T11:32:51.716222Z",
     "shell.execute_reply": "2022-12-09T11:32:51.715263Z",
     "shell.execute_reply.started": "2022-12-09T11:32:51.706611Z"
    }
   },
   "outputs": [
    {
     "name": "stdout",
     "output_type": "stream",
     "text": [
      "(2788, 38) (1196, 38)\n"
     ]
    }
   ],
   "source": [
    "from sklearn.model_selection import train_test_split\n",
    "\n",
    "#SPLIT DATA INTO TRAIN AND TEST SET\n",
    "X_train, X_test, y_train, y_test = train_test_split(X, y, \n",
    "                                                    test_size =0.30, #by default is 75%-25%\n",
    "                                                    #shuffle is set True by default,\n",
    "                                                    stratify=y, #preserve target proportions \n",
    "                                                    random_state= 123) #fix random seed for replicability\n",
    "\n",
    "print(X_train.shape, X_test.shape)"
   ]
  },
  {
   "cell_type": "code",
   "execution_count": 371,
   "metadata": {
    "execution": {
     "iopub.execute_input": "2022-12-09T11:31:41.607653Z",
     "iopub.status.busy": "2022-12-09T11:31:41.607325Z",
     "iopub.status.idle": "2022-12-09T11:31:41.764268Z",
     "shell.execute_reply": "2022-12-09T11:31:41.762374Z",
     "shell.execute_reply.started": "2022-12-09T11:31:41.607624Z"
    }
   },
   "outputs": [
    {
     "data": {
      "image/png": "[encoded data removed]",
      "text/plain": [
       "<Figure size 432x288 with 1 Axes>"
      ]
     },
     "metadata": {
      "needs_background": "light"
     },
     "output_type": "display_data"
    },
    {
     "data": {
      "text/plain": [
       "0    1992\n",
       "1    1008\n",
       "Name: failure, dtype: int64"
      ]
     },
     "execution_count": 371,
     "metadata": {},
     "output_type": "execute_result"
    }
   ],
   "source": [
    "#Visualize Class Counts\n",
    "plt.hist(y_train)\n",
    "plt.xlabel(\"count of each class\")\n",
    "plt.ylabel(\"classes\")\n",
    "plt.show()\n",
    "df.failure.value_counts()"
   ]
  },
  {
   "cell_type": "code",
   "execution_count": 372,
   "metadata": {},
   "outputs": [
    {
     "data": {
      "image/png": "[encoded data removed]",
      "text/plain": [
       "<Figure size 432x288 with 1 Axes>"
      ]
     },
     "metadata": {
      "needs_background": "light"
     },
     "output_type": "display_data"
    },
    {
     "data": {
      "text/plain": [
       "0    1992\n",
       "1    1008\n",
       "Name: failure, dtype: int64"
      ]
     },
     "execution_count": 372,
     "metadata": {},
     "output_type": "execute_result"
    }
   ],
   "source": [
    "#Visualize Class Counts\n",
    "plt.hist(y_test)\n",
    "plt.xlabel(\"count of each class\")\n",
    "plt.ylabel(\"classes\")\n",
    "plt.show()\n",
    "df.failure.value_counts()"
   ]
  },
  {
   "cell_type": "markdown",
   "metadata": {},
   "source": [
    "## Funzione per iperparametri\n"
   ]
  },
  {
   "cell_type": "code",
   "execution_count": 348,
   "metadata": {
    "execution": {
     "iopub.execute_input": "2022-12-09T11:39:28.986607Z",
     "iopub.status.busy": "2022-12-09T11:39:28.986177Z",
     "iopub.status.idle": "2022-12-09T11:39:28.992408Z",
     "shell.execute_reply": "2022-12-09T11:39:28.991259Z",
     "shell.execute_reply.started": "2022-12-09T11:39:28.986571Z"
    }
   },
   "outputs": [],
   "source": [
    "from sklearn.model_selection import GridSearchCV\n",
    "from sklearn.metrics import confusion_matrix\n",
    "from sklearn.metrics import classification_report\n",
    "from sklearn import metrics \n",
    "from sklearn.metrics import f1_score\n",
    "from sklearn.metrics import precision_score"
   ]
  },
  {
   "cell_type": "code",
   "execution_count": 349,
   "metadata": {
    "execution": {
     "iopub.execute_input": "2022-12-09T11:36:38.694825Z",
     "iopub.status.busy": "2022-12-09T11:36:38.694416Z",
     "iopub.status.idle": "2022-12-09T11:36:38.703392Z",
     "shell.execute_reply": "2022-12-09T11:36:38.702161Z",
     "shell.execute_reply.started": "2022-12-09T11:36:38.694794Z"
    }
   },
   "outputs": [],
   "source": [
    "def hyperp_search(classifier, parameters):\n",
    "    gs = GridSearchCV(classifier, parameters, cv=3, scoring = 'f1', verbose=0, n_jobs=-1)\n",
    "    gs = gs.fit(X_train, y_train)\n",
    "    print(\"f1_train: %f using %s\" % (gs.best_score_, gs.best_params_))\n",
    "\n",
    "    best_model = gs.best_estimator_\n",
    "    y_pred = best_model.predict(X_test)\n",
    "    y_pred_train = best_model.predict(X_train)\n",
    "\n",
    "    print(\"f1         train %.3f   test %.3f\" % (f1_score(y_train, y_pred_train), f1_score(y_test, y_pred)))\n",
    "    print(\"precision  train %.3f   test %.3f\" % (precision_score(y_train, y_pred_train), precision_score(y_test, y_pred) )) \n",
    "    print(\"\")\n",
    "    print(confusion_matrix(y_test, y_pred))\n",
    "    print(classification_report(y_test, y_pred))"
   ]
  },
  {
   "cell_type": "markdown",
   "metadata": {},
   "source": [
    "## Curva ROC"
   ]
  },
  {
   "cell_type": "code",
   "execution_count": 350,
   "metadata": {
    "execution": {
     "iopub.execute_input": "2022-12-09T11:42:21.493293Z",
     "iopub.status.busy": "2022-12-09T11:42:21.492856Z",
     "iopub.status.idle": "2022-12-09T11:42:21.502207Z",
     "shell.execute_reply": "2022-12-09T11:42:21.501087Z",
     "shell.execute_reply.started": "2022-12-09T11:42:21.493260Z"
    }
   },
   "outputs": [],
   "source": [
    "def roc(model,X_train,y_train,X_test,y_test):\n",
    "    model.fit(X_train, y_train)\n",
    "    y_pred = model.predict(X_test)\n",
    "\n",
    "    y_probs = model.predict_proba(X_test) #predict_proba gives the probabilities for the target (0 and 1 in your case) \n",
    "\n",
    "    fpr, tpr, thresholds1=metrics.roc_curve(y_test,  y_probs[:,1])\n",
    "\n",
    "    import matplotlib.pyplot as plt\n",
    "    plt.plot(fpr, tpr, label='ROC')\n",
    "    plt.plot([0, 1], [0, 1], color='darkblue', linestyle='--')\n",
    "    plt.xlabel('False Positive Rate')\n",
    "    plt.ylabel('True Positive Rate')\n",
    "    plt.title('Receiver Operating Characteristic (ROC) Curve')\n",
    "    plt.legend()\n",
    "    plt.show()\n",
    "\n",
    "    auc = metrics.roc_auc_score(y_test, y_probs[:,1])\n",
    "    print('AUC: %.2f' % auc)\n",
    "    return (fpr, tpr)"
   ]
  },
  {
   "cell_type": "markdown",
   "metadata": {},
   "source": [
    "## TREE"
   ]
  },
  {
   "cell_type": "code",
   "execution_count": 373,
   "metadata": {
    "execution": {
     "iopub.execute_input": "2022-12-09T11:39:36.393657Z",
     "iopub.status.busy": "2022-12-09T11:39:36.393275Z",
     "iopub.status.idle": "2022-12-09T11:39:37.074645Z",
     "shell.execute_reply": "2022-12-09T11:39:37.073752Z",
     "shell.execute_reply.started": "2022-12-09T11:39:36.393627Z"
    }
   },
   "outputs": [
    {
     "name": "stdout",
     "output_type": "stream",
     "text": [
      "f1_train: 0.746311 using {'criterion': 'gini', 'max_depth': 4, 'min_samples_leaf': 20, 'min_samples_split': 5}\n",
      "f1         train 0.743   test 0.716\n",
      "precision  train 0.727   test 0.699\n",
      "\n",
      "[[409 189]\n",
      " [159 439]]\n",
      "              precision    recall  f1-score   support\n",
      "\n",
      "           0       0.72      0.68      0.70       598\n",
      "           1       0.70      0.73      0.72       598\n",
      "\n",
      "    accuracy                           0.71      1196\n",
      "   macro avg       0.71      0.71      0.71      1196\n",
      "weighted avg       0.71      0.71      0.71      1196\n",
      "\n"
     ]
    }
   ],
   "source": [
    "from sklearn.tree import DecisionTreeClassifier\n",
    "classifier = DecisionTreeClassifier()\n",
    "parameters = {'criterion': ['gini','entropy'], \n",
    "              'max_depth': [4,5,6,8,10,20],\n",
    "              'min_samples_split': [5,10,20],\n",
    "              'min_samples_leaf': [5,10,20]}\n",
    "\n",
    "hyperp_search(classifier,parameters)"
   ]
  },
  {
   "cell_type": "code",
   "execution_count": 374,
   "metadata": {
    "execution": {
     "iopub.execute_input": "2022-12-09T11:39:36.393657Z",
     "iopub.status.busy": "2022-12-09T11:39:36.393275Z",
     "iopub.status.idle": "2022-12-09T11:39:37.074645Z",
     "shell.execute_reply": "2022-12-09T11:39:37.073752Z",
     "shell.execute_reply.started": "2022-12-09T11:39:36.393627Z"
    }
   },
   "outputs": [],
   "source": [
    "model_Tree= DecisionTreeClassifier(criterion= 'gini', max_depth= 4, min_samples_leaf= 20, min_samples_split= 5)"
   ]
  },
  {
   "cell_type": "code",
   "execution_count": 375,
   "metadata": {
    "execution": {
     "iopub.execute_input": "2022-12-09T11:42:30.735576Z",
     "iopub.status.busy": "2022-12-09T11:42:30.735188Z",
     "iopub.status.idle": "2022-12-09T11:42:30.981287Z",
     "shell.execute_reply": "2022-12-09T11:42:30.980196Z",
     "shell.execute_reply.started": "2022-12-09T11:42:30.735546Z"
    }
   },
   "outputs": [
    {
     "data": {
      "image/png": "[encoded data removed]",
      "text/plain": [
       "<Figure size 432x288 with 1 Axes>"
      ]
     },
     "metadata": {
      "needs_background": "light"
     },
     "output_type": "display_data"
    },
    {
     "name": "stdout",
     "output_type": "stream",
     "text": [
      "AUC: 0.79\n"
     ]
    }
   ],
   "source": [
    "#curva ROC\n",
    "fpr1,tpr1=roc(model_Tree,X_train,y_train,X_test,y_test)"
   ]
  },
  {
   "cell_type": "markdown",
   "metadata": {
    "execution": {
     "iopub.execute_input": "2022-12-08T12:41:45.127176Z",
     "iopub.status.busy": "2022-12-08T12:41:45.126669Z",
     "iopub.status.idle": "2022-12-08T12:41:45.175253Z",
     "shell.execute_reply": "2022-12-08T12:41:45.173423Z",
     "shell.execute_reply.started": "2022-12-08T12:41:45.127135Z"
    }
   },
   "source": [
    "## KNN"
   ]
  },
  {
   "cell_type": "code",
   "execution_count": 380,
   "metadata": {
    "execution": {
     "iopub.execute_input": "2022-12-09T11:44:52.565110Z",
     "iopub.status.busy": "2022-12-09T11:44:52.564683Z",
     "iopub.status.idle": "2022-12-09T11:44:52.571204Z",
     "shell.execute_reply": "2022-12-09T11:44:52.569818Z",
     "shell.execute_reply.started": "2022-12-09T11:44:52.565075Z"
    }
   },
   "outputs": [],
   "source": [
    "from sklearn.neighbors import KNeighborsClassifier\n",
    "\n",
    "classifier = KNeighborsClassifier()\n",
    "parameters = {'n_neighbors':np.arange(10,500,20)}"
   ]
  },
  {
   "cell_type": "code",
   "execution_count": 381,
   "metadata": {
    "execution": {
     "iopub.execute_input": "2022-12-09T11:45:10.535809Z",
     "iopub.status.busy": "2022-12-09T11:45:10.535383Z",
     "iopub.status.idle": "2022-12-09T11:45:13.370205Z",
     "shell.execute_reply": "2022-12-09T11:45:13.368979Z",
     "shell.execute_reply.started": "2022-12-09T11:45:10.535774Z"
    }
   },
   "outputs": [
    {
     "name": "stdout",
     "output_type": "stream",
     "text": [
      "f1_train: 0.718901 using {'n_neighbors': 190}\n",
      "f1         train 0.723   test 0.723\n",
      "precision  train 0.692   test 0.688\n",
      "\n",
      "[[392 206]\n",
      " [143 455]]\n",
      "              precision    recall  f1-score   support\n",
      "\n",
      "           0       0.73      0.66      0.69       598\n",
      "           1       0.69      0.76      0.72       598\n",
      "\n",
      "    accuracy                           0.71      1196\n",
      "   macro avg       0.71      0.71      0.71      1196\n",
      "weighted avg       0.71      0.71      0.71      1196\n",
      "\n"
     ]
    }
   ],
   "source": [
    "hyperp_search(classifier,parameters)"
   ]
  },
  {
   "cell_type": "code",
   "execution_count": 382,
   "metadata": {
    "execution": {
     "iopub.execute_input": "2022-12-09T11:45:31.933411Z",
     "iopub.status.busy": "2022-12-09T11:45:31.933003Z",
     "iopub.status.idle": "2022-12-09T11:45:32.275406Z",
     "shell.execute_reply": "2022-12-09T11:45:32.274164Z",
     "shell.execute_reply.started": "2022-12-09T11:45:31.933380Z"
    }
   },
   "outputs": [
    {
     "data": {
      "image/png": "[encoded data removed]",
      "text/plain": [
       "<Figure size 432x288 with 1 Axes>"
      ]
     },
     "metadata": {
      "needs_background": "light"
     },
     "output_type": "display_data"
    },
    {
     "name": "stdout",
     "output_type": "stream",
     "text": [
      "AUC: 0.79\n"
     ]
    }
   ],
   "source": [
    "model_knn = KNeighborsClassifier(n_neighbors=190)\n",
    "\n",
    "#curva ROC\n",
    "fpr2,tpr2=roc(model_knn,X_train,y_train,X_test,y_test)"
   ]
  },
  {
   "cell_type": "markdown",
   "metadata": {},
   "source": [
    "## NAYVE BAYES"
   ]
  },
  {
   "cell_type": "code",
   "execution_count": 383,
   "metadata": {},
   "outputs": [
    {
     "name": "stdout",
     "output_type": "stream",
     "text": [
      "f1_score:  0.7025036818851252\n",
      "f1_test:  0.7025036818851252\n",
      "[[315 283]\n",
      " [121 477]]\n",
      "              precision    recall  f1-score   support\n",
      "\n",
      "           0       0.72      0.53      0.61       598\n",
      "           1       0.63      0.80      0.70       598\n",
      "\n",
      "    accuracy                           0.66      1196\n",
      "   macro avg       0.68      0.66      0.66      1196\n",
      "weighted avg       0.68      0.66      0.66      1196\n",
      "\n"
     ]
    }
   ],
   "source": [
    "from sklearn.naive_bayes import GaussianNB #or alternative NB implementations\n",
    "\n",
    "model = GaussianNB()\n",
    "model.fit(X_train, y_train)\n",
    "y_pred=model.predict(X_test)\n",
    "\n",
    "from sklearn.metrics import f1_score\n",
    "print(\"f1_score: \", f1_score(y_test, y_pred))\n",
    "\n",
    "print(\"f1_test: \", f1_score(y_test, y_pred))\n",
    "\n",
    "\n",
    "print(confusion_matrix(y_test, y_pred))\n",
    "print(classification_report(y_test, y_pred))"
   ]
  },
  {
   "cell_type": "code",
   "execution_count": 384,
   "metadata": {},
   "outputs": [
    {
     "data": {
      "image/png": "[encoded data removed]",
      "text/plain": [
       "<Figure size 432x288 with 1 Axes>"
      ]
     },
     "metadata": {
      "needs_background": "light"
     },
     "output_type": "display_data"
    },
    {
     "name": "stdout",
     "output_type": "stream",
     "text": [
      "AUC: 0.75\n"
     ]
    }
   ],
   "source": [
    "fpr3,tpr3=roc(model,X_train,y_train,X_test,y_test)"
   ]
  },
  {
   "cell_type": "markdown",
   "metadata": {},
   "source": [
    "## LOGISTIC REGRESSION"
   ]
  },
  {
   "cell_type": "code",
   "execution_count": 385,
   "metadata": {},
   "outputs": [
    {
     "name": "stdout",
     "output_type": "stream",
     "text": [
      "f1_train: 0.730371 using {'C': 0.1, 'max_iter': 500}\n",
      "f1         train 0.737   test 0.727\n",
      "precision  train 0.716   test 0.708\n",
      "\n",
      "[[414 184]\n",
      " [151 447]]\n",
      "              precision    recall  f1-score   support\n",
      "\n",
      "           0       0.73      0.69      0.71       598\n",
      "           1       0.71      0.75      0.73       598\n",
      "\n",
      "    accuracy                           0.72      1196\n",
      "   macro avg       0.72      0.72      0.72      1196\n",
      "weighted avg       0.72      0.72      0.72      1196\n",
      "\n"
     ]
    }
   ],
   "source": [
    "from sklearn.linear_model import LogisticRegression\n",
    "\n",
    "classifier = LogisticRegression()\n",
    "parameters = {\"C\":[1e-4,1e-3,1e-2,1e-1,1,10], \"max_iter\":[500,1000] }\n",
    "\n",
    "\n",
    "hyperp_search(classifier,parameters)"
   ]
  },
  {
   "cell_type": "code",
   "execution_count": 386,
   "metadata": {},
   "outputs": [
    {
     "data": {
      "image/png": "[encoded data removed]",
      "text/plain": [
       "<Figure size 432x288 with 1 Axes>"
      ]
     },
     "metadata": {
      "needs_background": "light"
     },
     "output_type": "display_data"
    },
    {
     "name": "stdout",
     "output_type": "stream",
     "text": [
      "AUC: 0.81\n"
     ]
    }
   ],
   "source": [
    "model_Log = LogisticRegression(C=0.1, max_iter=500)\n",
    "\n",
    "fpr4,tpr4=roc(model_Log,X_train,y_train,X_test,y_test)"
   ]
  },
  {
   "cell_type": "markdown",
   "metadata": {},
   "source": [
    "## SVM\n",
    "--> pay attention: it takes a long time to run"
   ]
  },
  {
   "cell_type": "code",
   "execution_count": null,
   "metadata": {},
   "outputs": [],
   "source": [
    "from sklearn.svm import SVC\n",
    "\n",
    "classifier = SVC()\n",
    "parameters = {\"kernel\":['linear','rbf'], \"C\":[0.1,100]}\n",
    "\n",
    "hyperp_search(classifier,parameters)"
   ]
  },
  {
   "cell_type": "code",
   "execution_count": null,
   "metadata": {},
   "outputs": [],
   "source": [
    "model = SVC(C=100, kernel='linear',probability=True)\n",
    "\n",
    "fpr5,tpr5=roc(model,X_train,y_train,X_test,y_test)"
   ]
  },
  {
   "cell_type": "markdown",
   "metadata": {},
   "source": [
    "## NEURAL NETWORK"
   ]
  },
  {
   "cell_type": "code",
   "execution_count": 362,
   "metadata": {},
   "outputs": [
    {
     "name": "stdout",
     "output_type": "stream",
     "text": [
      "f1_train: 0.789709 using {'alpha': 0.001, 'hidden_layer_sizes': (100, 20, 5), 'max_iter': 2000}\n",
      "f1         train 1.000   test 0.823\n",
      "precision  train 1.000   test 0.785\n",
      "\n",
      "[[456 142]\n",
      " [ 81 517]]\n",
      "              precision    recall  f1-score   support\n",
      "\n",
      "           0       0.85      0.76      0.80       598\n",
      "           1       0.78      0.86      0.82       598\n",
      "\n",
      "    accuracy                           0.81      1196\n",
      "   macro avg       0.82      0.81      0.81      1196\n",
      "weighted avg       0.82      0.81      0.81      1196\n",
      "\n"
     ]
    }
   ],
   "source": [
    "from sklearn.neural_network import MLPClassifier\n",
    "\n",
    "classifier = MLPClassifier()\n",
    "parameters = {\"hidden_layer_sizes\":[(10, 5),(100,20,5)],  \"max_iter\": [2000], \"alpha\": [0.001,0.1]}\n",
    "\n",
    "hyperp_search(classifier,parameters)"
   ]
  },
  {
   "cell_type": "code",
   "execution_count": 365,
   "metadata": {},
   "outputs": [
    {
     "data": {
      "image/png": "[encoded data removed]",
      "text/plain": [
       "<Figure size 432x288 with 1 Axes>"
      ]
     },
     "metadata": {
      "needs_background": "light"
     },
     "output_type": "display_data"
    },
    {
     "name": "stdout",
     "output_type": "stream",
     "text": [
      "AUC: 0.89\n"
     ]
    }
   ],
   "source": [
    "model_MLP=MLPClassifier(hidden_layer_sizes=(100,20,5), alpha=0.001, max_iter=2000)\n",
    "\n",
    "fpr6,tpr6=roc(model_MLP,X_train,y_train,X_test,y_test)"
   ]
  },
  {
   "cell_type": "markdown",
   "metadata": {},
   "source": [
    "# CHOICE OF THE MODEL"
   ]
  },
  {
   "cell_type": "code",
   "execution_count": 366,
   "metadata": {},
   "outputs": [
    {
     "data": {
      "image/png": "[encoded data removed]",
      "text/plain": [
       "<Figure size 432x288 with 1 Axes>"
      ]
     },
     "metadata": {
      "needs_background": "light"
     },
     "output_type": "display_data"
    }
   ],
   "source": [
    "plt.plot(fpr1, tpr1, label= \"KNN\")\n",
    "plt.plot(fpr2, tpr2, label= \"Tree\")\n",
    "plt.plot(fpr3, tpr3, label= \"NB\")\n",
    "plt.plot(fpr4, tpr4, label= \"Logistic\")    \n",
    "#plt.plot(fpr5, tpr5, label= \"SVM\")\n",
    "plt.plot(fpr6, tpr6, label= \"NeuralNet\")\n",
    "plt.plot([0, 1], [0, 1], color='darkblue', linestyle='--')\n",
    "plt.xlabel('False Positive Rate')\n",
    "plt.ylabel('True Positive Rate')\n",
    "plt.title('Receiver Operating Characteristic (ROC) Curve')\n",
    "plt.legend()\n",
    "plt.show()"
   ]
  },
  {
   "cell_type": "markdown",
   "metadata": {},
   "source": [
    "# PREDICTIONS"
   ]
  },
  {
   "cell_type": "code",
   "execution_count": null,
   "metadata": {},
   "outputs": [],
   "source": []
  },
  {
   "cell_type": "code",
   "execution_count": null,
   "metadata": {},
   "outputs": [],
   "source": [
    "from sklearn.metrics import confusion_matrix, ConfusionMatrixDisplay\n",
    "\n",
    "cm = confusion_matrix(y_test, y_pred)\n",
    "print(cm)\n",
    "disp = ConfusionMatrixDisplay(confusion_matrix=cm, display_labels=model.classes_)\n",
    "disp.plot()\n",
    "plt.show()"
   ]
  },
  {
   "cell_type": "markdown",
   "metadata": {},
   "source": []
  }
 ],
 "metadata": {
  "kernelspec": {
   "display_name": "Python 3 (ipykernel)",
   "language": "python",
   "name": "python3"
  },
  "language_info": {
   "codemirror_mode": {
    "name": "ipython",
    "version": 3
   },
   "file_extension": ".py",
   "mimetype": "text/x-python",
   "name": "python",
   "nbconvert_exporter": "python",
   "pygments_lexer": "ipython3",
   "version": "3.9.12"
  }
 },
 "nbformat": 4,
 "nbformat_minor": 4
}
